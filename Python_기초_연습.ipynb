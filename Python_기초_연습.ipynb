{
  "nbformat": 4,
  "nbformat_minor": 0,
  "metadata": {
    "colab": {
      "name": "Python 기초 연습.ipynb",
      "provenance": [],
      "collapsed_sections": [
        "a4quNkqmXxAu",
        "vXU-HmNeX8N3",
        "2Tu9k94jYH9q",
        "lB5OzTrFYjKd",
        "PRu6nH61Yq7Z",
        "blyX7nxdZprI",
        "fYMkgxxdvE4o",
        "az9Idak2jvsz",
        "rrJnmZnYl3Jh",
        "CuE2eO56lwlk",
        "kTvxjqd6mMgY",
        "HPuT1GJd9WFh",
        "rQ6IVkyJUHL_",
        "Qb_ADGEOMLxb",
        "saTNzkPFghOB",
        "xJ7gatYMbiuW",
        "70gVCjId05S0",
        "YhH2yb_XwrgN",
        "hexDxQE8Kt4f",
        "rKy5ZvUdL7lu",
        "uOk-ptWChi78",
        "qxrI3_VY4b8_",
        "B-9DRF73Bnk5",
        "tTAe--jyMv3c",
        "sySfi32pgYSa",
        "R4egrF43_Z0s",
        "8pdxS4e5qTPv",
        "TMx3vmORsWah",
        "LJXrR_ktONS4",
        "Lgs6rrGs_4wk",
        "cf8u-4gOL2Qe",
        "0YAVKmFSgtUr",
        "sqpSGzpqFkMy",
        "eJJHE_gegoZC"
      ],
      "toc_visible": true,
      "include_colab_link": true
    },
    "kernelspec": {
      "name": "python3",
      "display_name": "Python 3"
    },
    "language_info": {
      "name": "python"
    }
  },
  "cells": [
    {
      "cell_type": "markdown",
      "metadata": {
        "id": "view-in-github",
        "colab_type": "text"
      },
      "source": [
        "<a href=\"https://colab.research.google.com/github/winter1223/TIL/blob/master/Python_%EA%B8%B0%EC%B4%88_%EC%97%B0%EC%8A%B5.ipynb\" target=\"_parent\"><img src=\"https://colab.research.google.com/assets/colab-badge.svg\" alt=\"Open In Colab\"/></a>"
      ]
    },
    {
      "cell_type": "markdown",
      "source": [
        "# 20211216\n",
        "- 파이썬 기초\n",
        "\n",
        "### 1. 화면에 Hello World 문자열을 출력하세요."
      ],
      "metadata": {
        "id": "a4quNkqmXxAu"
      }
    },
    {
      "cell_type": "code",
      "source": [
        "print('Hello World')"
      ],
      "metadata": {
        "id": "NB4dx9aIX7uZ",
        "colab": {
          "base_uri": "https://localhost:8080/"
        },
        "outputId": "f7c34ce3-c5ec-49aa-bca0-442f6fc7ec4c"
      },
      "execution_count": null,
      "outputs": [
        {
          "output_type": "stream",
          "name": "stdout",
          "text": [
            "Hello World\n"
          ]
        }
      ]
    },
    {
      "cell_type": "markdown",
      "source": [
        "### 2. 화면에 Yeonji's Home을 출력하세요."
      ],
      "metadata": {
        "id": "vXU-HmNeX8N3"
      }
    },
    {
      "cell_type": "code",
      "source": [
        "print('Yeonji\\'s Home')"
      ],
      "metadata": {
        "id": "Mb2K5AG3YHVw",
        "colab": {
          "base_uri": "https://localhost:8080/"
        },
        "outputId": "6e93ee9c-7653-4f04-c8f9-6c15c5df178e"
      },
      "execution_count": null,
      "outputs": [
        {
          "output_type": "stream",
          "name": "stdout",
          "text": [
            "Yeonji's Home\n"
          ]
        }
      ]
    },
    {
      "cell_type": "markdown",
      "source": [
        "### 3. 화면에 아래 문장을 출력하세요. \n",
        "\n",
        "연지가 말했다. \"저녁 맛있게 드세요\"."
      ],
      "metadata": {
        "id": "2Tu9k94jYH9q"
      }
    },
    {
      "cell_type": "code",
      "source": [
        "print('연지가 말했다. \"저녁 맛있게 드세요\".')"
      ],
      "metadata": {
        "id": "cOYiAhd6YRoM",
        "colab": {
          "base_uri": "https://localhost:8080/"
        },
        "outputId": "bfb490f0-cdc0-48df-deb3-35dc384a8520"
      },
      "execution_count": null,
      "outputs": [
        {
          "output_type": "stream",
          "name": "stdout",
          "text": [
            "연지가 말했다. \"저녁 맛있게 드세요\".\n"
          ]
        }
      ]
    },
    {
      "cell_type": "markdown",
      "source": [
        "### 4. 다음 코드를 실행해보고 \\t와 \\n의 역할을 설명해보세요. (내일 소회의실서 설명해주세요!)\n",
        "\n",
        "\n",
        "\n",
        "print(\"안녕하세요.\\n만나서\\t\\t반갑습니다.\")"
      ],
      "metadata": {
        "id": "lB5OzTrFYjKd"
      }
    },
    {
      "cell_type": "code",
      "source": [
        "print(\"안녕하세요.\\n만나서\\t\\t반갑습니다.\") # \\n은 뉴라인 엔터같은의미 \\t는 tab의 의미"
      ],
      "metadata": {
        "id": "aCIjWhbBYoww",
        "colab": {
          "base_uri": "https://localhost:8080/"
        },
        "outputId": "6d381712-3393-4d24-dc1e-e1602e4780c7"
      },
      "execution_count": null,
      "outputs": [
        {
          "output_type": "stream",
          "name": "stdout",
          "text": [
            "안녕하세요.\n",
            "만나서\t\t반갑습니다.\n"
          ]
        }
      ]
    },
    {
      "cell_type": "markdown",
      "source": [
        "### 5. print() 함수 sep='/'파라메터를 이용해 다음을 출력해보세요.\n",
        "\n",
        "링딩동링딩동/링디기딩디기딩딩딩/링딩동링딩동\n"
      ],
      "metadata": {
        "id": "PRu6nH61Yq7Z"
      }
    },
    {
      "cell_type": "code",
      "source": [
        "print ('링딩동링딩동' ,'링디기딩디기딩딩딩' ,'링딩동링딩동', sep = '/')"
      ],
      "metadata": {
        "id": "QYmsDXHJZjU5",
        "colab": {
          "base_uri": "https://localhost:8080/"
        },
        "outputId": "137b3a31-3e8b-4d05-d7c4-421b8ac49f44"
      },
      "execution_count": null,
      "outputs": [
        {
          "output_type": "stream",
          "name": "stdout",
          "text": [
            "링딩동링딩동/링디기딩디기딩딩딩/링딩동링딩동\n"
          ]
        }
      ]
    },
    {
      "cell_type": "markdown",
      "source": [
        "### 6. 5/10의 결과를 화면에 출력하세요."
      ],
      "metadata": {
        "id": "blyX7nxdZprI"
      }
    },
    {
      "cell_type": "code",
      "source": [
        "a =(5/10)\n",
        "print (a)"
      ],
      "metadata": {
        "id": "Wb0ItaYVZsB_",
        "colab": {
          "base_uri": "https://localhost:8080/"
        },
        "outputId": "634c386d-84ab-4d4d-bda7-ee0dd6b68309"
      },
      "execution_count": null,
      "outputs": [
        {
          "output_type": "stream",
          "name": "stdout",
          "text": [
            "0.5\n"
          ]
        }
      ]
    },
    {
      "cell_type": "markdown",
      "source": [
        "# 2021217\n",
        "\n",
        "1. 변수 a에는 'Life is'라는 문자열, b에는 42라는 숫자를 바인딩하시고, 아래처럼 출력해주세요.\n",
        "```\n",
        "Life is 42 ! \n",
        "```"
      ],
      "metadata": {
        "id": "fYMkgxxdvE4o"
      }
    },
    {
      "cell_type": "code",
      "source": [
        "a = 'Life is'\n",
        "b = int(42)\n",
        "print(a , str(b),'!')"
      ],
      "metadata": {
        "colab": {
          "base_uri": "https://localhost:8080/"
        },
        "id": "Q-gzzmlXtkh-",
        "outputId": "91b51a6e-f265-4971-ff7b-6ee166bfc1e5"
      },
      "execution_count": null,
      "outputs": [
        {
          "output_type": "stream",
          "name": "stdout",
          "text": [
            "Life is 42 !\n"
          ]
        }
      ]
    },
    {
      "cell_type": "markdown",
      "source": [
        "2. 위에서 만든 변수 a, b의 타입을 확인하는 함수를 이용하여 각각의 타입을 확인해주세요."
      ],
      "metadata": {
        "id": "E6HMLAmRNOXc"
      }
    },
    {
      "cell_type": "code",
      "source": [
        "type(a)"
      ],
      "metadata": {
        "id": "liJPqWw0MAYF",
        "colab": {
          "base_uri": "https://localhost:8080/"
        },
        "outputId": "316d7c49-e9fb-4f01-a158-582f37086505"
      },
      "execution_count": null,
      "outputs": [
        {
          "output_type": "execute_result",
          "data": {
            "text/plain": [
              "str"
            ]
          },
          "metadata": {},
          "execution_count": 9
        }
      ]
    },
    {
      "cell_type": "code",
      "source": [
        "type(b)"
      ],
      "metadata": {
        "colab": {
          "base_uri": "https://localhost:8080/"
        },
        "id": "vYL6ujwvujou",
        "outputId": "bbb6d483-8b99-46ac-8669-890936e547eb"
      },
      "execution_count": null,
      "outputs": [
        {
          "output_type": "execute_result",
          "data": {
            "text/plain": [
              "int"
            ]
          },
          "metadata": {},
          "execution_count": 10
        }
      ]
    },
    {
      "cell_type": "markdown",
      "source": [
        "3. 변수 b를 str타입으로 변경하시고, 다시 한 번 b의 타입을 확인해주세요."
      ],
      "metadata": {
        "id": "RQYJz8dLNaJ4"
      }
    },
    {
      "cell_type": "code",
      "source": [
        "b = str(42)"
      ],
      "metadata": {
        "id": "DFta-YVA1gRR"
      },
      "execution_count": null,
      "outputs": []
    },
    {
      "cell_type": "code",
      "source": [
        "type(b)"
      ],
      "metadata": {
        "id": "YwoXJH6kNiK5",
        "colab": {
          "base_uri": "https://localhost:8080/"
        },
        "outputId": "ca1937cd-2ae4-4c6f-920c-402a6aa65212"
      },
      "execution_count": null,
      "outputs": [
        {
          "output_type": "execute_result",
          "data": {
            "text/plain": [
              "str"
            ]
          },
          "metadata": {},
          "execution_count": 12
        }
      ]
    },
    {
      "cell_type": "markdown",
      "source": [
        "4. month라는 변수에 문자열 \"2021.12\"를 바인딩하신 후 실수(float)타입으로 변환해보세요."
      ],
      "metadata": {
        "id": "Py63kOJoNwIE"
      }
    },
    {
      "cell_type": "code",
      "source": [
        "month = '2021.12'"
      ],
      "metadata": {
        "id": "mBDOHV9BN6Bx"
      },
      "execution_count": null,
      "outputs": []
    },
    {
      "cell_type": "code",
      "source": [
        "type(month)"
      ],
      "metadata": {
        "colab": {
          "base_uri": "https://localhost:8080/"
        },
        "id": "dpTSq5x7c9mx",
        "outputId": "21787259-4864-4bc4-dfec-da8aceda0351"
      },
      "execution_count": null,
      "outputs": [
        {
          "output_type": "execute_result",
          "data": {
            "text/plain": [
              "str"
            ]
          },
          "metadata": {},
          "execution_count": 14
        }
      ]
    },
    {
      "cell_type": "code",
      "source": [
        "month = float('2021.12')"
      ],
      "metadata": {
        "id": "LCp0DPPMuyFU"
      },
      "execution_count": null,
      "outputs": []
    },
    {
      "cell_type": "code",
      "source": [
        "type(month)"
      ],
      "metadata": {
        "colab": {
          "base_uri": "https://localhost:8080/"
        },
        "id": "qAS2GtXBu5kw",
        "outputId": "7531dc7b-d0ce-4aca-a363-f897525fba19"
      },
      "execution_count": null,
      "outputs": [
        {
          "output_type": "execute_result",
          "data": {
            "text/plain": [
              "float"
            ]
          },
          "metadata": {},
          "execution_count": 16
        }
      ]
    },
    {
      "cell_type": "markdown",
      "source": [
        "5. 동네 슈퍼에서 한 개에 1200원짜리 하리보젤리를 10개 사면 20%씩 할인해주고 있습니다. haribo라는 변수에 젤리 1개 가격을 넣어 10개를 샀을 때 지불해야 할 최종 금액을 계산해주세요."
      ],
      "metadata": {
        "id": "SrIrfGd6jO-q"
      }
    },
    {
      "cell_type": "code",
      "source": [
        "haribo = int(1200)\n",
        "if haribo * 10 :\n",
        "  haribo = 960 * 10\n",
        "print (haribo)\n",
        "\n",
        "  "
      ],
      "metadata": {
        "id": "tOA01fTqjuHU",
        "colab": {
          "base_uri": "https://localhost:8080/"
        },
        "outputId": "d699cbd1-caa3-479e-9951-0f93ce142340"
      },
      "execution_count": null,
      "outputs": [
        {
          "output_type": "stream",
          "name": "stdout",
          "text": [
            "9600\n"
          ]
        }
      ]
    },
    {
      "cell_type": "markdown",
      "source": [
        "# 20211218"
      ],
      "metadata": {
        "id": "az9Idak2jvsz"
      }
    },
    {
      "cell_type": "markdown",
      "source": [
        "1. word라는 변수에 'Happy Christmas!'라는 문장을 넣으시고 H, p, mas, !를 각각 출력해보세요."
      ],
      "metadata": {
        "id": "eQ8YLXU4kvMU"
      }
    },
    {
      "cell_type": "code",
      "source": [
        "word = 'Happy Christmas!'\n",
        "print (word[0])"
      ],
      "metadata": {
        "id": "V8oJsLSIlXdb",
        "colab": {
          "base_uri": "https://localhost:8080/"
        },
        "outputId": "c845cd84-a572-4474-9070-843f0b7c183a"
      },
      "execution_count": null,
      "outputs": [
        {
          "output_type": "stream",
          "name": "stdout",
          "text": [
            "H\n"
          ]
        }
      ]
    },
    {
      "cell_type": "code",
      "source": [
        "print(word[2])"
      ],
      "metadata": {
        "id": "ubv5cp80lXQG",
        "colab": {
          "base_uri": "https://localhost:8080/"
        },
        "outputId": "cb748c11-4903-44c4-d38d-017ccaf79cc5"
      },
      "execution_count": null,
      "outputs": [
        {
          "output_type": "stream",
          "name": "stdout",
          "text": [
            "p\n"
          ]
        }
      ]
    },
    {
      "cell_type": "code",
      "source": [
        "print(word [-4:-1])"
      ],
      "metadata": {
        "id": "-M11QzzplXBU",
        "colab": {
          "base_uri": "https://localhost:8080/"
        },
        "outputId": "5055679a-43eb-422c-e9ae-0c8c05cd8a6f"
      },
      "execution_count": null,
      "outputs": [
        {
          "output_type": "stream",
          "name": "stdout",
          "text": [
            "mas\n"
          ]
        }
      ]
    },
    {
      "cell_type": "code",
      "source": [
        "print(word [15])"
      ],
      "metadata": {
        "id": "HBgYwkBVlWva",
        "colab": {
          "base_uri": "https://localhost:8080/"
        },
        "outputId": "5c71859f-aa88-4bd7-b3b0-5945e976b5ce"
      },
      "execution_count": null,
      "outputs": [
        {
          "output_type": "stream",
          "name": "stdout",
          "text": [
            "!\n"
          ]
        }
      ]
    },
    {
      "cell_type": "markdown",
      "source": [
        "2. word라는 변수에 'Happy Christmas!'라는 문장을 넣으시고 split 함수를 사용하여 Christmas!만 출력하세요."
      ],
      "metadata": {
        "id": "IkS7ZfLWkJmF"
      }
    },
    {
      "cell_type": "code",
      "source": [
        "word = 'Happy Christmas!'\n",
        "print(word.split())"
      ],
      "metadata": {
        "id": "Lz7U6whGj0bR",
        "colab": {
          "base_uri": "https://localhost:8080/"
        },
        "outputId": "d3fa83a0-7b6b-479d-fa4a-12e9b1e5ba7d"
      },
      "execution_count": null,
      "outputs": [
        {
          "output_type": "stream",
          "name": "stdout",
          "text": [
            "['Happy', 'Christmas!']\n"
          ]
        }
      ]
    },
    {
      "cell_type": "code",
      "source": [
        "word = 'Happy Christmas!'\n",
        "(' ').join(word.split())\n",
        "print(word.split())  #모르겠어요..."
      ],
      "metadata": {
        "id": "TeVnu4JKHWl_",
        "colab": {
          "base_uri": "https://localhost:8080/"
        },
        "outputId": "b44037af-5e1c-4669-e582-0600a069dab3"
      },
      "execution_count": null,
      "outputs": [
        {
          "output_type": "stream",
          "name": "stdout",
          "text": [
            "['Happy', 'Christmas!']\n"
          ]
        }
      ]
    },
    {
      "cell_type": "code",
      "source": [
        "word = 'Happy Christmas!'\n",
        "word1, word2 = word.split(' ')\n",
        "print (word2)\n"
      ],
      "metadata": {
        "colab": {
          "base_uri": "https://localhost:8080/"
        },
        "id": "a2FlO3MgKVqW",
        "outputId": "f21dcd0b-080b-4515-9cd9-c6ab18a874ae"
      },
      "execution_count": null,
      "outputs": [
        {
          "output_type": "stream",
          "name": "stdout",
          "text": [
            "Christmas!\n"
          ]
        }
      ]
    },
    {
      "cell_type": "markdown",
      "source": [
        "## 확인!"
      ],
      "metadata": {
        "id": "rrJnmZnYl3Jh"
      }
    },
    {
      "cell_type": "code",
      "source": [
        "print(word.split()[1])  "
      ],
      "metadata": {
        "colab": {
          "base_uri": "https://localhost:8080/"
        },
        "id": "UthoZGdGLvPG",
        "outputId": "3604a0b4-cb08-424f-c253-1d9f90e23b7a"
      },
      "execution_count": null,
      "outputs": [
        {
          "output_type": "stream",
          "name": "stdout",
          "text": [
            "Christmas!\n"
          ]
        }
      ]
    },
    {
      "cell_type": "markdown",
      "source": [
        "3. 위의 word 변수에 담긴 문자열을 거꾸로 뒤집은 순서로 출력하세요."
      ],
      "metadata": {
        "id": "O0-7bgz0lcKl"
      }
    },
    {
      "cell_type": "code",
      "source": [
        "print(word[15:0:])"
      ],
      "metadata": {
        "id": "OhTrPNY8luGN",
        "colab": {
          "base_uri": "https://localhost:8080/"
        },
        "outputId": "a542aa61-9036-41c0-f26c-2c26cbabd605"
      },
      "execution_count": null,
      "outputs": [
        {
          "output_type": "stream",
          "name": "stdout",
          "text": [
            "\n"
          ]
        }
      ]
    },
    {
      "cell_type": "markdown",
      "source": [
        "## 확인!"
      ],
      "metadata": {
        "id": "CuE2eO56lwlk"
      }
    },
    {
      "cell_type": "code",
      "source": [
        "print(word[15::-1])"
      ],
      "metadata": {
        "colab": {
          "base_uri": "https://localhost:8080/"
        },
        "id": "MvtEG3bmlDsm",
        "outputId": "beaf58e8-d09b-4d29-cbe0-95476c1368e3"
      },
      "execution_count": null,
      "outputs": [
        {
          "output_type": "stream",
          "name": "stdout",
          "text": [
            "!samtsirhC yppaH\n"
          ]
        }
      ]
    },
    {
      "cell_type": "markdown",
      "source": [
        "4. word 변수의 공백 부분을 '-'로 치환해 출력해주세요.\n",
        "\n",
        "예시 : Happy-Christmas!"
      ],
      "metadata": {
        "id": "eKU0UA1clv-z"
      }
    },
    {
      "cell_type": "code",
      "source": [
        "print(word.replace(' ','-'))"
      ],
      "metadata": {
        "id": "Ox6OYnQnlu3x",
        "colab": {
          "base_uri": "https://localhost:8080/"
        },
        "outputId": "55536f69-d7bd-4287-e5cb-8a3b06508d6e"
      },
      "execution_count": null,
      "outputs": [
        {
          "output_type": "stream",
          "name": "stdout",
          "text": [
            "Happy-Christmas!\n"
          ]
        }
      ]
    },
    {
      "cell_type": "markdown",
      "source": [
        "5. replace 메서드를 활용하여 word 변수의 Christmas를 Birthday로 변경해주세요."
      ],
      "metadata": {
        "id": "90o7_RXlmclJ"
      }
    },
    {
      "cell_type": "code",
      "source": [
        "print (word.replace('Christmas', 'Birthday'))"
      ],
      "metadata": {
        "colab": {
          "base_uri": "https://localhost:8080/"
        },
        "id": "OIZfq_RGIan2",
        "outputId": "383af91b-8dd0-453f-e973-1bc66646ea5a"
      },
      "execution_count": null,
      "outputs": [
        {
          "output_type": "stream",
          "name": "stdout",
          "text": [
            "Happy Birthday!\n"
          ]
        }
      ]
    },
    {
      "cell_type": "markdown",
      "source": [
        "# 20211219"
      ],
      "metadata": {
        "id": "kTvxjqd6mMgY"
      }
    },
    {
      "cell_type": "markdown",
      "source": [
        "1. 아래의 코드 실행결과를 예상해보시고, 그대로 출력해보세요. \n",
        "\n",
        "~~~\n",
        "a = \"15\"\n",
        "b = \"20\"\n",
        "print(a + b)\n",
        "~~~\n"
      ],
      "metadata": {
        "id": "GA7BLFNYpJFl"
      }
    },
    {
      "cell_type": "code",
      "source": [
        "a = \"15\"\n",
        "b = \"20\"\n",
        "print(a + b)"
      ],
      "metadata": {
        "id": "MIE5wvaGmOET",
        "colab": {
          "base_uri": "https://localhost:8080/"
        },
        "outputId": "d24dd5c6-5508-491c-c99c-81568415e5b8"
      },
      "execution_count": null,
      "outputs": [
        {
          "output_type": "stream",
          "name": "stdout",
          "text": [
            "1520\n"
          ]
        }
      ]
    },
    {
      "cell_type": "markdown",
      "source": [
        "2. 아래 코드의 실행 결과를 예상해보시고, 출력 후 결과를 확인해주세요.\n",
        "\n",
        "~~~\n",
        " print(\"Hello\" * 3)\n",
        " ~~~"
      ],
      "metadata": {
        "id": "MxGbYMh6qOg-"
      }
    },
    {
      "cell_type": "code",
      "source": [
        "print(\"Hello\" * 3)"
      ],
      "metadata": {
        "id": "Zm_l_15HqZa-",
        "colab": {
          "base_uri": "https://localhost:8080/"
        },
        "outputId": "24454ac5-1a0a-4ac1-e122-055552d2fafd"
      },
      "execution_count": null,
      "outputs": [
        {
          "output_type": "stream",
          "name": "stdout",
          "text": [
            "HelloHelloHello\n"
          ]
        }
      ]
    },
    {
      "cell_type": "markdown",
      "source": [
        "3.변수에 다음과 같이 문자열과 정수가 바인딩되어 있을 때 format( ) 메서드를 사용해서 각각 이름과 번호가 함께 출력되게 출력해주세요.\n",
        "- 힌트 : 문자열의 포맷 메서드는 타입과 상관없이 값이 출력될 위치에 { }를 적어주면 됩니다.\n",
        "\n",
        "\n",
        "Input:\n",
        "~~~\n",
        "name1 = \"홍성희\" \n",
        "num1 = 1\n",
        "name2 = \"김연지\"\n",
        "num2 = 2\n",
        "~~~"
      ],
      "metadata": {
        "id": "5DE4R1QXuj6K"
      }
    },
    {
      "cell_type": "markdown",
      "source": [
        "Output:\n",
        "```\n",
        "이름: 홍성희 번호: 1\n",
        "이름: 김연지 번호: 2\n",
        "```"
      ],
      "metadata": {
        "id": "iivcF3BYvfc7"
      }
    },
    {
      "cell_type": "code",
      "source": [
        "\n",
        "a = \"이름 : {name1} 번호 : {num1}\".format(name1 = \"홍성희\",num1 = 1)\n",
        "b = \"이름 : {name2} 번호 : {num2}\".format(name2 = \"김연지\",num2 = 2)"
      ],
      "metadata": {
        "id": "2Flg-M6ELJRL"
      },
      "execution_count": null,
      "outputs": []
    },
    {
      "cell_type": "code",
      "source": [
        "print(a)\n",
        "print(b)"
      ],
      "metadata": {
        "colab": {
          "base_uri": "https://localhost:8080/"
        },
        "id": "9Za-6QieXlSR",
        "outputId": "2b2e2efb-8f82-4c49-b2a3-6e605003499e"
      },
      "execution_count": null,
      "outputs": [
        {
          "output_type": "stream",
          "name": "stdout",
          "text": [
            "이름 : 홍성희 번호 : 1\n",
            "이름 : 김연지 번호 : 2\n"
          ]
        }
      ]
    },
    {
      "cell_type": "markdown",
      "source": [
        "4. % formatting을 사용해서 같은 결과를 출력해보세요.\n",
        "- 힌트: https://docs.python.org/ko/3/tutorial/inputoutput.html?highlight=formatting#fancier-output-formatting\n",
        "- 숫자는 %d, 문자는 %s를 사용합니다.\n"
      ],
      "metadata": {
        "id": "3PAdWY4cv57c"
      }
    },
    {
      "cell_type": "code",
      "source": [
        "name1 = \"홍성희\" \n",
        "num1 = 1\n",
        "name2 = \"김연지\"\n",
        "num2 = 2\n",
        "print(\"이름 : %s 번호 : %d\"%(\"홍성희\", 1))\n",
        "print(\"이름 : %s 번호 : %d\"%(\"김연지\", 2))"
      ],
      "metadata": {
        "id": "JOO8FGlxwFKU",
        "colab": {
          "base_uri": "https://localhost:8080/"
        },
        "outputId": "caffc474-f55e-4427-fb40-7a14990ebded"
      },
      "execution_count": null,
      "outputs": [
        {
          "output_type": "stream",
          "name": "stdout",
          "text": [
            "이름 : 홍성희 번호 : 1\n",
            "이름 : 김연지 번호 : 2\n"
          ]
        }
      ]
    },
    {
      "cell_type": "markdown",
      "source": [
        "5. f-string을 활용하여 위의 결과와 같게 출력해주세요.\n",
        "- 힌트 : https://docs.python.org/ko/3/tutorial/inputoutput.html?highlight=formatting#fancier-output-formatting"
      ],
      "metadata": {
        "id": "zpTTGYaEwGT2"
      }
    },
    {
      "cell_type": "code",
      "source": [
        "name1 = \"홍성희\" \n",
        "num1 = 1\n",
        "name2 = \"김연지\"\n",
        "num2 = 2\n",
        "f\"이름 : {name1} 번호 : {num1}\".format(name1 = \"홍성희\",num1 = 1)\n",
        "f\"이름 : {name2} 번호 : {num2}\".format(name2 = \"김연지\",num2 = 2)\n",
        "table = {\"홍성희\": name1, 1 : num1, \"김연지\": name2, 2 : num2}\n",
        "print('\"이름 : 홍성희 번호 : 1\"\\n\"이름 : 김연지 번호 : 2\"')\n"
      ],
      "metadata": {
        "id": "uX6zQXa7wvyX",
        "colab": {
          "base_uri": "https://localhost:8080/"
        },
        "outputId": "f51c23c0-bffb-4f7b-906d-7e1c3d2c1f6e"
      },
      "execution_count": null,
      "outputs": [
        {
          "output_type": "stream",
          "name": "stdout",
          "text": [
            "\"이름 : 홍성희 번호 : 1\"\n",
            "\"이름 : 김연지 번호 : 2\"\n"
          ]
        }
      ]
    },
    {
      "cell_type": "markdown",
      "source": [
        "# 20211220\n",
        "\n",
        "1. 변수 answer에 'life is 42'를 바인딩하시고, 해당 변수를 전부 대문자로 출력하세요."
      ],
      "metadata": {
        "id": "HPuT1GJd9WFh"
      }
    },
    {
      "cell_type": "code",
      "source": [
        "answer = 'life is 42'\n",
        "answer.upper()\n"
      ],
      "metadata": {
        "id": "3NEMG1XSKcuX",
        "colab": {
          "base_uri": "https://localhost:8080/",
          "height": 35
        },
        "outputId": "227f69aa-0fd7-4559-fba8-ee70f3359cf7"
      },
      "execution_count": null,
      "outputs": [
        {
          "output_type": "execute_result",
          "data": {
            "application/vnd.google.colaboratory.intrinsic+json": {
              "type": "string"
            },
            "text/plain": [
              "'LIFE IS 42'"
            ]
          },
          "metadata": {},
          "execution_count": 1
        }
      ]
    },
    {
      "cell_type": "markdown",
      "source": [
        "2. 위의 변수를 전부 소문자로 출력해보세요."
      ],
      "metadata": {
        "id": "M3MS-3ZrKe4s"
      }
    },
    {
      "cell_type": "code",
      "source": [
        "answer = 'life is 42'\n",
        "answer.lower()"
      ],
      "metadata": {
        "id": "JelyDpObQaPW",
        "colab": {
          "base_uri": "https://localhost:8080/",
          "height": 35
        },
        "outputId": "2f6704af-6e70-47bd-fa89-c5a00e9c79fd"
      },
      "execution_count": null,
      "outputs": [
        {
          "output_type": "execute_result",
          "data": {
            "application/vnd.google.colaboratory.intrinsic+json": {
              "type": "string"
            },
            "text/plain": [
              "'life is 42'"
            ]
          },
          "metadata": {},
          "execution_count": 2
        }
      ]
    },
    {
      "cell_type": "markdown",
      "source": [
        "3. 이번에는 capitalize 메소드를 사용하여 answer 변수에 들어있는 문장 앞 글자만 대문자가 되게 출력해보세요."
      ],
      "metadata": {
        "id": "EURA4o6cQbP_"
      }
    },
    {
      "cell_type": "code",
      "source": [
        "answer = 'life is 42'\n",
        "answer.capitalize()"
      ],
      "metadata": {
        "id": "E9ulYKM3RPbr",
        "colab": {
          "base_uri": "https://localhost:8080/",
          "height": 35
        },
        "outputId": "e027f9b4-37db-4a67-a449-ef82ecf203e5"
      },
      "execution_count": null,
      "outputs": [
        {
          "output_type": "execute_result",
          "data": {
            "application/vnd.google.colaboratory.intrinsic+json": {
              "type": "string"
            },
            "text/plain": [
              "'Life is 42'"
            ]
          },
          "metadata": {},
          "execution_count": 3
        }
      ]
    },
    {
      "cell_type": "markdown",
      "source": [
        "4. startswith, endswith 메소드를 사용하여 answer 변수의 첫 글자, 혹은 끝글자가 42로 시작하는지 확인해주세요."
      ],
      "metadata": {
        "id": "gucU43J4Ro30"
      }
    },
    {
      "cell_type": "code",
      "source": [
        "answer = 'life is 42'\n",
        "i = answer.startswith ('42')\n",
        "r = answer.endswith('42')\n",
        "if i is answer:\n",
        "  startswith = '42'\n",
        "  print(bool)\n",
        "if r is answer:\n",
        "  endswith = '42'\n",
        "  print(bool)\n",
        "print (i)\n",
        "print (r)\n"
      ],
      "metadata": {
        "id": "noIXGQdWRw38",
        "colab": {
          "base_uri": "https://localhost:8080/"
        },
        "outputId": "ce5290ab-24d0-4e87-e08a-e51d10d42d09"
      },
      "execution_count": null,
      "outputs": [
        {
          "output_type": "stream",
          "name": "stdout",
          "text": [
            "False\n",
            "True\n"
          ]
        }
      ]
    },
    {
      "cell_type": "markdown",
      "source": [
        "## 확인!\n",
        "조건문을 만들지 않아도 startswith, endswith의 결과값은 bool로 출력됩니다."
      ],
      "metadata": {
        "id": "rQ6IVkyJUHL_"
      }
    },
    {
      "cell_type": "code",
      "source": [
        "answer.startswith ('42')"
      ],
      "metadata": {
        "id": "CDTkrGXaRy7l",
        "colab": {
          "base_uri": "https://localhost:8080/"
        },
        "outputId": "f789de68-973e-4f46-aaec-3078714add72"
      },
      "execution_count": null,
      "outputs": [
        {
          "output_type": "execute_result",
          "data": {
            "text/plain": [
              "False"
            ]
          },
          "metadata": {},
          "execution_count": 7
        }
      ]
    },
    {
      "cell_type": "code",
      "source": [
        "answer.endswith('42')"
      ],
      "metadata": {
        "colab": {
          "base_uri": "https://localhost:8080/"
        },
        "id": "Xt-kwkJMUEt7",
        "outputId": "5c4f4bf2-923a-4664-b628-fe79774b7f7f"
      },
      "execution_count": null,
      "outputs": [
        {
          "output_type": "execute_result",
          "data": {
            "text/plain": [
              "True"
            ]
          },
          "metadata": {},
          "execution_count": 8
        }
      ]
    },
    {
      "cell_type": "markdown",
      "source": [
        "5. split 메소드를 사용하여 date 변수를 연도, 월, 일로 구분해 dates라는 리스트에 저장해주세요.\n",
        "~~~\n",
        "date = \"2021-12-21\"\n",
        "~~~"
      ],
      "metadata": {
        "id": "tZnTvzicSJN0"
      }
    },
    {
      "cell_type": "code",
      "source": [
        "date = \"2021-12-21\"\n",
        "\n",
        "dates = date.split('-', maxsplit=4)\n",
        "print (dates)"
      ],
      "metadata": {
        "id": "M7ZJv8uDST22",
        "colab": {
          "base_uri": "https://localhost:8080/"
        },
        "outputId": "db787aeb-ddfa-466f-8160-9f663b17f272"
      },
      "execution_count": null,
      "outputs": [
        {
          "output_type": "stream",
          "name": "stdout",
          "text": [
            "['2021', '12', '21']\n"
          ]
        }
      ]
    },
    {
      "cell_type": "markdown",
      "source": [
        "6. strip 메소드를 사용하여 date 변수의 공백을 제거해주세요.\n",
        "~~~\n",
        "date = \"      2021-12-21     \"\n",
        "~~~"
      ],
      "metadata": {
        "id": "XzL9tS50SlDL"
      }
    },
    {
      "cell_type": "code",
      "source": [
        "date = \"      2021-12-21     \"\n",
        "date.strip()"
      ],
      "metadata": {
        "colab": {
          "base_uri": "https://localhost:8080/",
          "height": 35
        },
        "id": "x0ujCXC3DlZb",
        "outputId": "c811d8d3-6134-49d6-916e-1c6330887110"
      },
      "execution_count": null,
      "outputs": [
        {
          "output_type": "execute_result",
          "data": {
            "application/vnd.google.colaboratory.intrinsic+json": {
              "type": "string"
            },
            "text/plain": [
              "'2021-12-21'"
            ]
          },
          "metadata": {},
          "execution_count": 23
        }
      ]
    },
    {
      "cell_type": "markdown",
      "source": [
        "7. date변수의 오른쪽 공백만 제거해보세요."
      ],
      "metadata": {
        "id": "8CW9MObQaAES"
      }
    },
    {
      "cell_type": "code",
      "source": [
        "date = \"      2021-12-21     \"\n",
        "date.rstrip()"
      ],
      "metadata": {
        "id": "QrqdUXcLSyNj",
        "colab": {
          "base_uri": "https://localhost:8080/",
          "height": 35
        },
        "outputId": "29cc9bc9-4202-4172-9426-3511f4cdbded"
      },
      "execution_count": null,
      "outputs": [
        {
          "output_type": "execute_result",
          "data": {
            "application/vnd.google.colaboratory.intrinsic+json": {
              "type": "string"
            },
            "text/plain": [
              "'      2021-12-21'"
            ]
          },
          "metadata": {},
          "execution_count": 35
        }
      ]
    },
    {
      "cell_type": "markdown",
      "source": [
        "8. date변수의 왼쪽 공백만 제거해보세요."
      ],
      "metadata": {
        "id": "BFRW3gT1aEG2"
      }
    },
    {
      "cell_type": "code",
      "source": [
        "date = \"      2021-12-21     \"\n",
        "date.lstrip()"
      ],
      "metadata": {
        "id": "aCS81eyIaHhP"
      },
      "execution_count": null,
      "outputs": []
    },
    {
      "cell_type": "markdown",
      "source": [
        "# 20211221"
      ],
      "metadata": {
        "id": "Qb_ADGEOMLxb"
      }
    },
    {
      "cell_type": "markdown",
      "source": [
        "- 리스트\n",
        "\n",
        "1. 아래의 뮤지션 5명(팀)을 myPlaylist라는 변수에 리스트로 저장후 출력해보세요.\n",
        "\n",
        "~~~\n",
        "'나플라', '이센스', '제이콜', '나스', '찬스더래퍼'\n",
        "~~~"
      ],
      "metadata": {
        "id": "7I6k2iFoYHbg"
      }
    },
    {
      "cell_type": "code",
      "source": [
        "myPlaylist= ['나플라', '이센스', '제이콜', '나스', '찬스더래퍼']\n",
        "\n",
        "print(type(myPlaylist))"
      ],
      "metadata": {
        "id": "WWHCB78taWxO",
        "colab": {
          "base_uri": "https://localhost:8080/"
        },
        "outputId": "be73b040-35f0-4549-f291-83cac276dc61"
      },
      "execution_count": null,
      "outputs": [
        {
          "output_type": "stream",
          "name": "stdout",
          "text": [
            "<class 'list'>\n"
          ]
        }
      ]
    },
    {
      "cell_type": "code",
      "source": [
        "isinstance(myPlaylist,list) # 우와 성희님 대단쓰!!!! "
      ],
      "metadata": {
        "id": "vdZ64YPAdIzW",
        "outputId": "967288cc-c73a-4008-c566-100def58babe",
        "colab": {
          "base_uri": "https://localhost:8080/"
        }
      },
      "execution_count": null,
      "outputs": [
        {
          "output_type": "execute_result",
          "data": {
            "text/plain": [
              "True"
            ]
          },
          "metadata": {},
          "execution_count": 71
        }
      ]
    },
    {
      "cell_type": "markdown",
      "source": [
        "2. myPlaylist에 '블랙핑크'를 추가한 후 출력해주세요."
      ],
      "metadata": {
        "id": "DeZtifn2Y6Df"
      }
    },
    {
      "cell_type": "code",
      "source": [
        "myPlaylist = ['나플라', '이센스', '제이콜', '나스', '찬스더래퍼']\n",
        "myPlaylist.append('블랙핑크')\n",
        "myPlaylist"
      ],
      "metadata": {
        "id": "RoBgsEAtY3tV",
        "colab": {
          "base_uri": "https://localhost:8080/"
        },
        "outputId": "cadb5b22-6c03-486e-830a-3290e5cc48d2"
      },
      "execution_count": null,
      "outputs": [
        {
          "output_type": "execute_result",
          "data": {
            "text/plain": [
              "['나플라', '이센스', '제이콜', '나스', '찬스더래퍼', '블랙핑크']"
            ]
          },
          "metadata": {},
          "execution_count": 45
        }
      ]
    },
    {
      "cell_type": "markdown",
      "source": [
        "3. myPlaylist의 '이센스'와 '제이콜' 사이에 '더콰이엇'을 추가한 후 출력해주세요. (insert 메소드 사용)"
      ],
      "metadata": {
        "id": "NuQqmbO1ZO-j"
      }
    },
    {
      "cell_type": "code",
      "source": [
        "myPlaylist = ['나플라', '이센스', '제이콜', '나스', '찬스더래퍼']\n",
        "myPlaylist.insert(2,str('더콰이엇'))\n",
        "print(myPlaylist)"
      ],
      "metadata": {
        "colab": {
          "base_uri": "https://localhost:8080/"
        },
        "id": "uvGoU9PaX9IM",
        "outputId": "22c8990b-00a6-4c90-f039-528b2444f57f"
      },
      "execution_count": null,
      "outputs": [
        {
          "output_type": "stream",
          "name": "stdout",
          "text": [
            "['나플라', '이센스', '더콰이엇', '제이콜', '나스', '찬스더래퍼']\n"
          ]
        }
      ]
    },
    {
      "cell_type": "markdown",
      "source": [
        "4. myPlaylist애서 '찬스더래퍼'의 위치를 찾아 삭제한 후 출력해주세요."
      ],
      "metadata": {
        "id": "B-1_C24faBg7"
      }
    },
    {
      "cell_type": "code",
      "source": [
        "myPlaylist= ['나플라', '이센스', '제이콜', '나스', '찬스더래퍼']\n",
        "index = myPlaylist.index('찬스더래퍼')\n",
        "print(index)\n",
        "\n",
        "del myPlaylist[4]\n",
        "print(myPlaylist)"
      ],
      "metadata": {
        "id": "8XcfMmxIZqX5",
        "colab": {
          "base_uri": "https://localhost:8080/"
        },
        "outputId": "125414e3-652b-4604-c7e0-ea37111215cc"
      },
      "execution_count": null,
      "outputs": [
        {
          "output_type": "stream",
          "name": "stdout",
          "text": [
            "4\n",
            "['나플라', '이센스', '제이콜', '나스']\n"
          ]
        }
      ]
    },
    {
      "cell_type": "markdown",
      "source": [
        "5. myPlaylist애서 '제이콜', '나스'의 위치를 찾아 삭제한 후 출력해주세요."
      ],
      "metadata": {
        "id": "a8Y8m1_BavST"
      }
    },
    {
      "cell_type": "code",
      "source": [
        "myPlaylist= ['나플라', '이센스', '제이콜', '나스', '찬스더래퍼']\n",
        "index = myPlaylist.index('제이콜')\n",
        "index1 = myPlaylist.index('나스')\n",
        "print(index,index1)\n",
        "\n",
        "del myPlaylist [2:3]\n",
        "print(myPlaylist)"
      ],
      "metadata": {
        "id": "JFVYr2MGaJrY",
        "colab": {
          "base_uri": "https://localhost:8080/"
        },
        "outputId": "cb07a916-150e-449b-e3bf-250afdf6c344"
      },
      "execution_count": null,
      "outputs": [
        {
          "output_type": "stream",
          "name": "stdout",
          "text": [
            "2 3\n",
            "['나플라', '이센스', '나스', '찬스더래퍼']\n"
          ]
        }
      ]
    },
    {
      "cell_type": "markdown",
      "source": [
        "### 확인!\n",
        "- '나스'가 남아있어요!\n",
        "- 슬라이싱을 하실 때는 [시작점:끝점+1] 지점을 선택해주셔 합니다."
      ],
      "metadata": {
        "id": "saTNzkPFghOB"
      }
    },
    {
      "cell_type": "code",
      "source": [
        "myPlaylist= ['나플라', '이센스', '제이콜', '나스', '찬스더래퍼']\n",
        "del myPlaylist [2:4]\n",
        "print(myPlaylist)"
      ],
      "metadata": {
        "colab": {
          "base_uri": "https://localhost:8080/"
        },
        "id": "ScAKVgFDgkV6",
        "outputId": "0cd0077f-8950-45f8-c7ef-10f0616762d5"
      },
      "execution_count": null,
      "outputs": [
        {
          "output_type": "stream",
          "name": "stdout",
          "text": [
            "['나플라', '이센스', '찬스더래퍼']\n"
          ]
        }
      ]
    },
    {
      "cell_type": "markdown",
      "source": [
        "6. myPlaylist에 아래의 리스트를 합한 Favorites 라는 리스트를 만들어 출력하세요.\n",
        "\n",
        "~~~\n",
        "myPlaylist1 = ['세븐틴', 'EXO', 'NCT']\n",
        "~~~"
      ],
      "metadata": {
        "id": "rx06LoBxdMxx"
      }
    },
    {
      "cell_type": "code",
      "source": [
        "myPlaylist= ['나플라', '이센스', '제이콜', '나스', '찬스더래퍼']\n",
        "myPlaylist1 = ['세븐틴', 'EXO', 'NCT']\n",
        "Favorites = myPlaylist + myPlaylist1\n",
        "print(Favorites)"
      ],
      "metadata": {
        "id": "ZmjI9icCa4ns",
        "colab": {
          "base_uri": "https://localhost:8080/"
        },
        "outputId": "1df1e1ef-aa04-4db6-f594-153b13cae9c8"
      },
      "execution_count": null,
      "outputs": [
        {
          "output_type": "stream",
          "name": "stdout",
          "text": [
            "['나플라', '이센스', '제이콜', '나스', '찬스더래퍼', '세븐틴', 'EXO', 'NCT']\n"
          ]
        }
      ]
    },
    {
      "cell_type": "markdown",
      "source": [
        "# 20211222"
      ],
      "metadata": {
        "id": "xJ7gatYMbiuW"
      }
    },
    {
      "cell_type": "markdown",
      "source": [
        "1. 아래의 numbers 리스트에서 최소값과 최대값을 찾아 출력해주세요.\n",
        "```\n",
        "numbers = [13, 12, 23, 54, 115, 56, 17]\n",
        "```"
      ],
      "metadata": {
        "id": "AAOGxmBxbQK8"
      }
    },
    {
      "cell_type": "code",
      "source": [
        "numbers =[13, 12, 23, 54, 115, 56, 17]\n",
        "print(min(numbers))"
      ],
      "metadata": {
        "id": "xezYHjBYbcEo",
        "colab": {
          "base_uri": "https://localhost:8080/"
        },
        "outputId": "41a9216f-9c99-4edb-e228-b18c7a0ffa88"
      },
      "execution_count": null,
      "outputs": [
        {
          "output_type": "stream",
          "name": "stdout",
          "text": [
            "12\n"
          ]
        }
      ]
    },
    {
      "cell_type": "code",
      "source": [
        "numbers =[13, 12, 23, 54, 115, 56, 17]\n",
        "print(max(numbers))"
      ],
      "metadata": {
        "id": "LF2jR8ijbmYD",
        "colab": {
          "base_uri": "https://localhost:8080/"
        },
        "outputId": "149ec807-2294-40d1-c906-7117bc8d4ca7"
      },
      "execution_count": null,
      "outputs": [
        {
          "output_type": "stream",
          "name": "stdout",
          "text": [
            "115\n"
          ]
        }
      ]
    },
    {
      "cell_type": "markdown",
      "source": [
        "2. numbers 리스트를 오름차순으로 정렬한 새 리스트를 만들어 numAscending 라는 변수명으로 저장해주세요."
      ],
      "metadata": {
        "id": "7rl1SwT2b8m5"
      }
    },
    {
      "cell_type": "code",
      "source": [
        "numbers =[13, 12, 23, 54, 115, 56, 17]\n",
        "numbers.sort()\n",
        "print(numbers)\n",
        "numAscending = numbers\n",
        "print(numAscending)"
      ],
      "metadata": {
        "id": "5swa6k6ebpWU",
        "colab": {
          "base_uri": "https://localhost:8080/"
        },
        "outputId": "2b1d4974-4cc0-4250-e534-6e04bdf57471"
      },
      "execution_count": null,
      "outputs": [
        {
          "output_type": "stream",
          "name": "stdout",
          "text": [
            "[12, 13, 17, 23, 54, 56, 115]\n",
            "[12, 13, 17, 23, 54, 56, 115]\n"
          ]
        }
      ]
    },
    {
      "cell_type": "markdown",
      "source": [
        "3. numbers의 전체 원소 개수를 찾아 출력하세요."
      ],
      "metadata": {
        "id": "5eqrFK7Gcny2"
      }
    },
    {
      "cell_type": "code",
      "source": [
        "len(numbers)"
      ],
      "metadata": {
        "id": "1BVY3diGcKa6",
        "colab": {
          "base_uri": "https://localhost:8080/"
        },
        "outputId": "a57bce61-b1f6-42a4-dc73-ec5c1e9b5f6c"
      },
      "execution_count": null,
      "outputs": [
        {
          "output_type": "execute_result",
          "data": {
            "text/plain": [
              "7"
            ]
          },
          "metadata": {},
          "execution_count": 20
        }
      ]
    },
    {
      "cell_type": "markdown",
      "source": [
        "4. numbers에 있는 원소 전체의 평균값을 구하여 소수점 둘째자리까지 출력하세요."
      ],
      "metadata": {
        "id": "sWoCxuADctEW"
      }
    },
    {
      "cell_type": "code",
      "source": [
        "numbers =[13, 12, 23, 54, 115, 56, 17]\n",
        "mean = sum(numbers)/len(numbers)\n",
        "print(mean)\n",
        "round(mean, 2)"
      ],
      "metadata": {
        "id": "eWluWW4bcPMZ",
        "colab": {
          "base_uri": "https://localhost:8080/"
        },
        "outputId": "742ab3fd-6279-4ab5-ad0c-644d9664442f"
      },
      "execution_count": null,
      "outputs": [
        {
          "output_type": "stream",
          "name": "stdout",
          "text": [
            "41.42857142857143\n"
          ]
        },
        {
          "output_type": "execute_result",
          "data": {
            "text/plain": [
              "41.43"
            ]
          },
          "metadata": {},
          "execution_count": 48
        }
      ]
    },
    {
      "cell_type": "code",
      "source": [
        ""
      ],
      "metadata": {
        "id": "qViNTnz2K2ob"
      },
      "execution_count": null,
      "outputs": []
    },
    {
      "cell_type": "markdown",
      "source": [
        "# 20211223"
      ],
      "metadata": {
        "id": "70gVCjId05S0"
      }
    },
    {
      "cell_type": "markdown",
      "source": [
        "1. 아래의 리스트 a에서 리스트 슬라이싱을 활용하여 짝수만 출력해보세요. \n",
        "~~~\n",
        "a = [1, 2, 3, 4, 5, 6, 7, 8, 9, 10]\n",
        "~~~"
      ],
      "metadata": {
        "id": "URFt7TvX1Idf"
      }
    },
    {
      "cell_type": "code",
      "source": [
        "a = [1, 2, 3, 4, 5, 6, 7, 8, 9, 10]\n",
        "a[ 1 : 10 : 2 ]"
      ],
      "metadata": {
        "id": "6zlLpY2m1YOf",
        "colab": {
          "base_uri": "https://localhost:8080/"
        },
        "outputId": "a664c2b8-ba25-4c38-d062-5716cc094290"
      },
      "execution_count": null,
      "outputs": [
        {
          "output_type": "execute_result",
          "data": {
            "text/plain": [
              "[2, 4, 6, 8, 10]"
            ]
          },
          "metadata": {},
          "execution_count": 6
        }
      ]
    },
    {
      "cell_type": "code",
      "source": [
        ""
      ],
      "metadata": {
        "id": "X5DcC10Wcy1F"
      },
      "execution_count": null,
      "outputs": []
    },
    {
      "cell_type": "markdown",
      "source": [
        "2. 리스트 a에서 리스트 슬라이싱을 활용하여 홀수만 출력해보세요"
      ],
      "metadata": {
        "id": "BxiGgGlR1eeB"
      }
    },
    {
      "cell_type": "code",
      "source": [
        "a = [1, 2, 3, 4, 5, 6, 7, 8, 9, 10]\n",
        "a[ 0 : 10 : 2 ]"
      ],
      "metadata": {
        "id": "4fOMfjuM1We1"
      },
      "execution_count": null,
      "outputs": []
    },
    {
      "cell_type": "markdown",
      "source": [
        "3. 슬라이싱을 사용해서 리스트 a의 숫자를 역순으로 출력해보세요."
      ],
      "metadata": {
        "id": "BeAY2oVc1yLh"
      }
    },
    {
      "cell_type": "code",
      "source": [
        "a = [1, 2, 3, 4, 5, 6, 7, 8, 9, 10]\n",
        "a[::-1]"
      ],
      "metadata": {
        "id": "fcNSAS-U1hdE",
        "colab": {
          "base_uri": "https://localhost:8080/"
        },
        "outputId": "44df2b91-5fc0-43c1-bf34-76c5996c4eb4"
      },
      "execution_count": null,
      "outputs": [
        {
          "output_type": "execute_result",
          "data": {
            "text/plain": [
              "[10, 9, 8, 7, 6, 5, 4, 3, 2, 1]"
            ]
          },
          "metadata": {},
          "execution_count": 7
        }
      ]
    },
    {
      "cell_type": "markdown",
      "source": [
        "4. join 메서드를 활용하여 아래의 리스트 str_list를 아래와 같이 출력하세요."
      ],
      "metadata": {
        "id": "g4Rfa4AG2DSU"
      }
    },
    {
      "cell_type": "markdown",
      "source": [
        "Input: \n",
        "\n",
        "~~~\n",
        "str_list = ['We', 'are', 'learning', 'python']\n",
        "~~~"
      ],
      "metadata": {
        "id": "cXuhF7B128wc"
      }
    },
    {
      "cell_type": "markdown",
      "source": [
        "Output:\n",
        "~~~\n",
        "We are learning python\n",
        "~~~"
      ],
      "metadata": {
        "id": "B3nObUO23Ksx"
      }
    },
    {
      "cell_type": "code",
      "source": [
        "str_list = ['We', 'are', 'learning', 'python']\n",
        "join_str = \" \".join(str_list) \n",
        "print(join_str)"
      ],
      "metadata": {
        "id": "3M1dli1F15wk",
        "colab": {
          "base_uri": "https://localhost:8080/"
        },
        "outputId": "4b247144-0298-4060-a01d-682a7298673c"
      },
      "execution_count": null,
      "outputs": [
        {
          "output_type": "stream",
          "name": "stdout",
          "text": [
            "We are learning python\n"
          ]
        }
      ]
    },
    {
      "cell_type": "markdown",
      "source": [
        "5. 리스트 a에 있는 숫자들을 아래와 같이 출력하세요.\n",
        "~~~\n",
        "1 2 3 4 5 6 7 8 9 10\n",
        "~~~"
      ],
      "metadata": {
        "id": "OtpOgJYd6AM3"
      }
    },
    {
      "cell_type": "code",
      "source": [
        "a = [1, 2, 3, 4, 5, 6, 7, 8, 9, 10]\n",
        "print(\" \".join(map(str, a)))"
      ],
      "metadata": {
        "id": "gypb7-Rg2Jhh",
        "colab": {
          "base_uri": "https://localhost:8080/"
        },
        "outputId": "a6c377ca-1860-47e8-89b1-21ea6ec1a712"
      },
      "execution_count": null,
      "outputs": [
        {
          "output_type": "stream",
          "name": "stdout",
          "text": [
            "1 2 3 4 5 6 7 8 9 10\n"
          ]
        }
      ]
    },
    {
      "cell_type": "markdown",
      "source": [
        "6. 아래의 내용을 '/'로 분리하여 fruits라는 리스트에 저장해주세요."
      ],
      "metadata": {
        "id": "E2Ues_JC3iGF"
      }
    },
    {
      "cell_type": "markdown",
      "source": [
        "\"사과/딸기/포도/배/바나나\""
      ],
      "metadata": {
        "id": "LVG6PsxU3xpM"
      }
    },
    {
      "cell_type": "code",
      "source": [
        "fruits = \"사과/딸기/포도/배/바나나\"\n",
        "print(list(fruits.split('/')))"
      ],
      "metadata": {
        "id": "FZL3FwVy2ekN",
        "colab": {
          "base_uri": "https://localhost:8080/"
        },
        "outputId": "2c2f693e-7050-44d6-f316-cff9f7bfb5b2"
      },
      "execution_count": null,
      "outputs": [
        {
          "output_type": "stream",
          "name": "stdout",
          "text": [
            "['사과', '딸기', '포도', '배', '바나나']\n"
          ]
        }
      ]
    },
    {
      "cell_type": "markdown",
      "source": [
        "# 20211224"
      ],
      "metadata": {
        "id": "YhH2yb_XwrgN"
      }
    },
    {
      "cell_type": "markdown",
      "source": [
        "- 아래 내용은 한번씩 따라치며 이해해두시면 좋은 표현입니다!"
      ],
      "metadata": {
        "id": "EgjuPul4xAUH"
      }
    },
    {
      "cell_type": "markdown",
      "source": [
        "- 참고 : 전개연산자 \n",
        "- 함수를 실행하는 위치가 아닌 다른 위치에서도 가능"
      ],
      "metadata": {
        "id": "Z2aEaOQz3_f7"
      }
    },
    {
      "cell_type": "code",
      "source": [
        "# 전개연산자\n",
        "c = [10, 20]\n",
        "d = [1, 2]"
      ],
      "metadata": {
        "id": "4t2xN6HZ3_f7"
      },
      "execution_count": null,
      "outputs": []
    },
    {
      "cell_type": "code",
      "source": [
        "e = [*c, *d]\n",
        "e"
      ],
      "metadata": {
        "colab": {
          "base_uri": "https://localhost:8080/"
        },
        "id": "IXlsF8iIwzVV",
        "outputId": "6b9905e4-afe9-4d75-e6bf-a88b5fce2d69"
      },
      "execution_count": null,
      "outputs": [
        {
          "output_type": "execute_result",
          "data": {
            "text/plain": [
              "[10, 20, 1, 2]"
            ]
          },
          "metadata": {},
          "execution_count": 4
        }
      ]
    },
    {
      "cell_type": "code",
      "source": [
        "print(\"{} {}\".format(c[0], c[1]))"
      ],
      "metadata": {
        "colab": {
          "base_uri": "https://localhost:8080/"
        },
        "id": "FQ0XLp3ow1i2",
        "outputId": "ed16870d-8786-4d63-cbec-da5bb973f412"
      },
      "execution_count": null,
      "outputs": [
        {
          "output_type": "stream",
          "name": "stdout",
          "text": [
            "10 20\n"
          ]
        }
      ]
    },
    {
      "cell_type": "code",
      "source": [
        "print(\"{} {}\".format(*c))\n",
        "print(\"{} {} {} {}\".format(*e))\n",
        "print(\"{} {} {} {}\".format(*c, *d))"
      ],
      "metadata": {
        "colab": {
          "base_uri": "https://localhost:8080/"
        },
        "id": "j-prcQFTw9F2",
        "outputId": "df302be8-a82f-4179-fcd3-4c629870c6b1"
      },
      "execution_count": null,
      "outputs": [
        {
          "output_type": "stream",
          "name": "stdout",
          "text": [
            "10 20\n",
            "10 20 1 2\n",
            "10 20 1 2\n"
          ]
        }
      ]
    },
    {
      "cell_type": "markdown",
      "source": [
        "...."
      ],
      "metadata": {
        "id": "r0dm0CT76nhH"
      }
    },
    {
      "cell_type": "code",
      "source": [
        "a = [10,20]\n",
        "b = [1,2]\n",
        "e = [*a,*b]\n",
        "e"
      ],
      "metadata": {
        "colab": {
          "base_uri": "https://localhost:8080/"
        },
        "id": "_P_8Q1si6EjR",
        "outputId": "764e8161-22ea-4e05-dccc-6a1eaa931d09"
      },
      "execution_count": null,
      "outputs": [
        {
          "output_type": "execute_result",
          "data": {
            "text/plain": [
              "[10, 20, 1, 2]"
            ]
          },
          "metadata": {},
          "execution_count": 46
        }
      ]
    },
    {
      "cell_type": "code",
      "source": [
        "print('{} {}'.format(a[0],a[1]))"
      ],
      "metadata": {
        "colab": {
          "base_uri": "https://localhost:8080/"
        },
        "id": "otF6vPxo6Qrk",
        "outputId": "7b64a0c2-dd17-475b-9f08-fb5740ff9d7e"
      },
      "execution_count": null,
      "outputs": [
        {
          "output_type": "stream",
          "name": "stdout",
          "text": [
            "10 20\n"
          ]
        }
      ]
    },
    {
      "cell_type": "code",
      "source": [
        "print(\"{} {}\".format(*a))\n",
        "print(\"{} {} {} {}\".format(*e))\n",
        "print(\"{} {} {} {}\".format(*a, *b))"
      ],
      "metadata": {
        "colab": {
          "base_uri": "https://localhost:8080/"
        },
        "id": "LxN557V06fMB",
        "outputId": "e9e5f737-1443-42c9-c813-11a723256b81"
      },
      "execution_count": null,
      "outputs": [
        {
          "output_type": "stream",
          "name": "stdout",
          "text": [
            "10 20\n",
            "10 20 1 2\n",
            "10 20 1 2\n"
          ]
        }
      ]
    },
    {
      "cell_type": "markdown",
      "source": [
        "1. 다음과 같이 8개의 값이 저장된 myPlaylist 리스트가 있을 때, 전개식을 사용하여 처음 2개를 제외한 나머지 값을 christmas 변수에 바인딩해주세요."
      ],
      "metadata": {
        "id": "8BaqR7if17d6"
      }
    },
    {
      "cell_type": "markdown",
      "source": [
        "~~~\n",
        "myPlaylist = ['나플라', '이센스', '제이콜', '나스', '찬스더래퍼', '세븐틴', 'EXO', 'NCT']\n",
        "~~~"
      ],
      "metadata": {
        "id": "ez9Xh8hY3Uh5"
      }
    },
    {
      "cell_type": "code",
      "source": [
        "myPlaylist = ['나플라', '이센스', '제이콜', '나스', '찬스더래퍼', '세븐틴', 'EXO', 'NCT']\n",
        "christmas = myPlaylist[2:8]\n",
        "print(christmas)"
      ],
      "metadata": {
        "id": "96Nm8KXSw_qD",
        "colab": {
          "base_uri": "https://localhost:8080/"
        },
        "outputId": "f2a435be-8071-4647-a0bd-7f08d214ec3e"
      },
      "execution_count": null,
      "outputs": [
        {
          "output_type": "stream",
          "name": "stdout",
          "text": [
            "['제이콜', '나스', '찬스더래퍼', '세븐틴', 'EXO', 'NCT']\n"
          ]
        }
      ]
    },
    {
      "cell_type": "markdown",
      "source": [
        "## 확인!\n",
        "- 전개연산자를 활용하여 아래처럼 바인딩할 수도 있습니다"
      ],
      "metadata": {
        "id": "hexDxQE8Kt4f"
      }
    },
    {
      "cell_type": "code",
      "source": [
        "myPlaylist = ['나플라', '이센스', '제이콜', '나스', '찬스더래퍼', '세븐틴', 'EXO', 'NCT']\n",
        "_, _, *christmas = myPlaylist\n",
        "christmas"
      ],
      "metadata": {
        "colab": {
          "base_uri": "https://localhost:8080/"
        },
        "id": "9jQu3ky6KsRh",
        "outputId": "b4045292-c50e-4478-a9cb-3649710551fa"
      },
      "execution_count": null,
      "outputs": [
        {
          "output_type": "execute_result",
          "data": {
            "text/plain": [
              "['제이콜', '나스', '찬스더래퍼', '세븐틴', 'EXO', 'NCT']"
            ]
          },
          "metadata": {},
          "execution_count": 2
        }
      ]
    },
    {
      "cell_type": "markdown",
      "source": [
        "2. 이번에는 myPlaylist에서 맨 처음과 끝 값을 제외한 나머지 값들을 christmas1 변수에 바인딩해주세요."
      ],
      "metadata": {
        "id": "jx6AmHus4PKz"
      }
    },
    {
      "cell_type": "code",
      "source": [
        "myPlaylist = ['나플라', '이센스', '제이콜', '나스', '찬스더래퍼', '세븐틴', 'EXO', 'NCT']\n",
        "christmas1 = myPlaylist[1:7]\n",
        "print(christmas1)"
      ],
      "metadata": {
        "id": "u2KisxJN4faG",
        "colab": {
          "base_uri": "https://localhost:8080/"
        },
        "outputId": "4ded5527-fbcb-4883-91e5-3378e3062366"
      },
      "execution_count": null,
      "outputs": [
        {
          "output_type": "stream",
          "name": "stdout",
          "text": [
            "['이센스', '제이콜', '나스', '찬스더래퍼', '세븐틴', 'EXO']\n"
          ]
        }
      ]
    },
    {
      "cell_type": "markdown",
      "source": [
        "## 확인!"
      ],
      "metadata": {
        "id": "rKy5ZvUdL7lu"
      }
    },
    {
      "cell_type": "code",
      "source": [
        "_, *christmas1, _ = myPlaylist\n",
        "christmas1"
      ],
      "metadata": {
        "colab": {
          "base_uri": "https://localhost:8080/"
        },
        "id": "jHtKPaTQMKve",
        "outputId": "52ae3990-4691-4d09-ebae-0f6ac1bd80c6"
      },
      "execution_count": null,
      "outputs": [
        {
          "output_type": "execute_result",
          "data": {
            "text/plain": [
              "['이센스', '제이콜', '나스', '찬스더래퍼', '세븐틴', 'EXO']"
            ]
          },
          "metadata": {},
          "execution_count": 3
        }
      ]
    },
    {
      "cell_type": "markdown",
      "source": [
        "# 20211225"
      ],
      "metadata": {
        "id": "uOk-ptWChi78"
      }
    },
    {
      "cell_type": "markdown",
      "source": [
        "- 튜플\n",
        "1. tuples라는 이름의 비어있는 튜플을 만들고 타입을 출력해보세요."
      ],
      "metadata": {
        "id": "BTaLFPwJh0Yj"
      }
    },
    {
      "cell_type": "code",
      "source": [
        "tuples = ()\n",
        "type(tuples)\n"
      ],
      "metadata": {
        "id": "MLqn6LK337QD",
        "colab": {
          "base_uri": "https://localhost:8080/"
        },
        "outputId": "79a11ca0-1c1c-4ea3-9e1d-d340029252cc"
      },
      "execution_count": null,
      "outputs": [
        {
          "output_type": "execute_result",
          "data": {
            "text/plain": [
              "tuple"
            ]
          },
          "metadata": {},
          "execution_count": 64
        }
      ]
    },
    {
      "cell_type": "markdown",
      "source": [
        "2. 1이라는 숫자 하나가 들어있는 튜플을 alpha를 만든 후 타입을 함께 출력해주세요."
      ],
      "metadata": {
        "id": "jF7e7vC5maD2"
      }
    },
    {
      "cell_type": "code",
      "source": [
        "alpha = (1,)\n",
        "print(alpha)\n",
        "type(alpha)"
      ],
      "metadata": {
        "id": "2tatEcjLm6XT",
        "colab": {
          "base_uri": "https://localhost:8080/"
        },
        "outputId": "5dc26b40-9b99-43ad-d02f-a6567f2d5529"
      },
      "execution_count": null,
      "outputs": [
        {
          "output_type": "stream",
          "name": "stdout",
          "text": [
            "(1,)\n"
          ]
        },
        {
          "output_type": "execute_result",
          "data": {
            "text/plain": [
              "tuple"
            ]
          },
          "metadata": {},
          "execution_count": 57
        }
      ]
    },
    {
      "cell_type": "markdown",
      "source": [
        "하나의 데이터가 저장되는 경우, 값 뒤에 쉼표를 입력해만 합니다.\n",
        "- 아래는 잘못 만든 튜플의 예제입니다. type이 tuple이 아닌 int로 출력되는 것을 보실 수 있습니다."
      ],
      "metadata": {
        "id": "NJaq1IiombdP"
      }
    },
    {
      "cell_type": "code",
      "source": [
        "alpha = (1)\n",
        "alpha, type(alpha)"
      ],
      "metadata": {
        "colab": {
          "base_uri": "https://localhost:8080/"
        },
        "id": "2lMjGgbgh-y5",
        "outputId": "1fa83923-2ac1-466d-e2fd-66ec1d16c51a"
      },
      "execution_count": null,
      "outputs": [
        {
          "output_type": "execute_result",
          "data": {
            "text/plain": [
              "(1, int)"
            ]
          },
          "metadata": {},
          "execution_count": 5
        }
      ]
    },
    {
      "cell_type": "markdown",
      "source": [
        "3. 아래의 명령어를 실행해보시고 실행 가능하거나 안되는 이유를 적어주세요.\n",
        "\n",
        "~~~\n",
        "tuples = (1, 2, 3)\n",
        "tuples[0] = 'a'\n",
        "~~~\n",
        "\n",
        "참고.\n",
        "튜플은 () 없이도 만들어집니다. 아래 내용도 함께 확인해보시고 타입을 출력해보세요.\n",
        "~~~\n",
        "tuples = 1, 2, 3\n",
        "~~~\n"
      ],
      "metadata": {
        "id": "c31IBwbSyu3O"
      }
    },
    {
      "cell_type": "code",
      "source": [
        "tuples = 1, 2, 3\n",
        "type(tuples)"
      ],
      "metadata": {
        "id": "78uYqMp51lRl",
        "colab": {
          "base_uri": "https://localhost:8080/"
        },
        "outputId": "32355872-43c5-46de-ee9b-25b87cbd0991"
      },
      "execution_count": null,
      "outputs": [
        {
          "output_type": "execute_result",
          "data": {
            "text/plain": [
              "tuple"
            ]
          },
          "metadata": {},
          "execution_count": 82
        }
      ]
    },
    {
      "cell_type": "markdown",
      "source": [
        "- 아래 내용은 확인만 해 주세요!"
      ],
      "metadata": {
        "id": "cG-iMRXevnW3"
      }
    },
    {
      "cell_type": "code",
      "source": [
        "# 튜플은 한번 정해진 원소의 값을 변경할 수 없다.\n",
        "tuples = (1, 2, 3)\n",
        "tuples[0] = 'a'"
      ],
      "metadata": {
        "colab": {
          "base_uri": "https://localhost:8080/",
          "height": 184
        },
        "id": "ZUcGqRdHmeH6",
        "outputId": "808e1ddd-100a-4f9d-e01b-18ee90225d95"
      },
      "execution_count": null,
      "outputs": [
        {
          "output_type": "error",
          "ename": "TypeError",
          "evalue": "ignored",
          "traceback": [
            "\u001b[0;31m---------------------------------------------------------------------------\u001b[0m",
            "\u001b[0;31mTypeError\u001b[0m                                 Traceback (most recent call last)",
            "\u001b[0;32m<ipython-input-8-f59177cc2dec>\u001b[0m in \u001b[0;36m<module>\u001b[0;34m()\u001b[0m\n\u001b[1;32m      1\u001b[0m \u001b[0mtuples\u001b[0m \u001b[0;34m=\u001b[0m \u001b[0;34m(\u001b[0m\u001b[0;36m1\u001b[0m\u001b[0;34m,\u001b[0m \u001b[0;36m2\u001b[0m\u001b[0;34m,\u001b[0m \u001b[0;36m3\u001b[0m\u001b[0;34m)\u001b[0m\u001b[0;34m\u001b[0m\u001b[0;34m\u001b[0m\u001b[0m\n\u001b[0;32m----> 2\u001b[0;31m \u001b[0mtuples\u001b[0m\u001b[0;34m[\u001b[0m\u001b[0;36m0\u001b[0m\u001b[0;34m]\u001b[0m \u001b[0;34m=\u001b[0m \u001b[0;34m'a'\u001b[0m\u001b[0;34m\u001b[0m\u001b[0;34m\u001b[0m\u001b[0m\n\u001b[0m",
            "\u001b[0;31mTypeError\u001b[0m: 'tuple' object does not support item assignment"
          ]
        }
      ]
    },
    {
      "cell_type": "code",
      "source": [
        "# 튜플은 한번 정해진 원소의 값을 변경할 수 없다.\n",
        "tuples[4] = 'a'"
      ],
      "metadata": {
        "colab": {
          "base_uri": "https://localhost:8080/",
          "height": 184
        },
        "id": "L5O-a_zby89z",
        "outputId": "164daa51-0ea8-4ff6-ad35-a71bcf4cf217"
      },
      "execution_count": null,
      "outputs": [
        {
          "output_type": "error",
          "ename": "TypeError",
          "evalue": "ignored",
          "traceback": [
            "\u001b[0;31m---------------------------------------------------------------------------\u001b[0m",
            "\u001b[0;31mTypeError\u001b[0m                                 Traceback (most recent call last)",
            "\u001b[0;32m<ipython-input-9-9131c2b015d4>\u001b[0m in \u001b[0;36m<module>\u001b[0;34m()\u001b[0m\n\u001b[1;32m      1\u001b[0m \u001b[0;31m# 튜플은 한번 정해진 원소의 값을 변경할 수 없다.\u001b[0m\u001b[0;34m\u001b[0m\u001b[0;34m\u001b[0m\u001b[0;34m\u001b[0m\u001b[0m\n\u001b[0;32m----> 2\u001b[0;31m \u001b[0mtuples\u001b[0m\u001b[0;34m[\u001b[0m\u001b[0;36m4\u001b[0m\u001b[0;34m]\u001b[0m \u001b[0;34m=\u001b[0m \u001b[0;34m'a'\u001b[0m\u001b[0;34m\u001b[0m\u001b[0;34m\u001b[0m\u001b[0m\n\u001b[0m",
            "\u001b[0;31mTypeError\u001b[0m: 'tuple' object does not support item assignment"
          ]
        }
      ]
    },
    {
      "cell_type": "markdown",
      "source": [
        "3. 위와 같은 에러에도 불구하고 tuples의 0번째 자리에 'a'를 넣어야 한다면 어떻게 해결해야 할까요? "
      ],
      "metadata": {
        "id": "YBM9BFVIznFA"
      }
    },
    {
      "cell_type": "code",
      "source": [
        "tuples[0] = 'a'"
      ],
      "metadata": {
        "id": "DWzR0bADzC5y",
        "colab": {
          "base_uri": "https://localhost:8080/",
          "height": 172
        },
        "outputId": "3c814a6c-aab2-476e-c2ad-1125cf5bf770"
      },
      "execution_count": null,
      "outputs": [
        {
          "output_type": "error",
          "ename": "TypeError",
          "evalue": "ignored",
          "traceback": [
            "\u001b[0;31m---------------------------------------------------------------------------\u001b[0m",
            "\u001b[0;31mTypeError\u001b[0m                                 Traceback (most recent call last)",
            "\u001b[0;32m<ipython-input-39-e9704d58f01d>\u001b[0m in \u001b[0;36m<module>\u001b[0;34m()\u001b[0m\n\u001b[0;32m----> 1\u001b[0;31m \u001b[0mtuples\u001b[0m\u001b[0;34m[\u001b[0m\u001b[0;36m0\u001b[0m\u001b[0;34m]\u001b[0m \u001b[0;34m+=\u001b[0m \u001b[0;34m'a'\u001b[0m\u001b[0;34m\u001b[0m\u001b[0;34m\u001b[0m\u001b[0m\n\u001b[0m",
            "\u001b[0;31mTypeError\u001b[0m: unsupported operand type(s) for +=: 'int' and 'str'"
          ]
        }
      ]
    },
    {
      "cell_type": "markdown",
      "source": [
        "4. tuples의 타입을 리스트로 변경하여 tuples의 전체 원소와 타입을 출력해주세요. "
      ],
      "metadata": {
        "id": "MVghP0bL09q3"
      }
    },
    {
      "cell_type": "code",
      "source": [
        "list(tuples)\n",
        "print(tuples)\n",
        "type(tuples)"
      ],
      "metadata": {
        "id": "cZOHDv1lzzsu",
        "colab": {
          "base_uri": "https://localhost:8080/"
        },
        "outputId": "c67e902c-edff-4413-fe85-d38e047ac4c4"
      },
      "execution_count": null,
      "outputs": [
        {
          "output_type": "stream",
          "name": "stdout",
          "text": [
            "(1, 2, 3)\n"
          ]
        },
        {
          "output_type": "execute_result",
          "data": {
            "text/plain": [
              "tuple"
            ]
          },
          "metadata": {},
          "execution_count": 54
        }
      ]
    },
    {
      "cell_type": "markdown",
      "source": [
        "5. tuples에 있는 각각의 원소를 a, b, c라는 변수명에 각각 바인딩하시고 a, b, c의 타입을 확인해주세요. (언팩킹)"
      ],
      "metadata": {
        "id": "Co7_yWjM22r7"
      }
    },
    {
      "cell_type": "markdown",
      "source": [
        "~~~\n",
        "tuples = ('a', 2, 3)\n",
        "~~~"
      ],
      "metadata": {
        "id": "J2LArysA3Lrz"
      }
    },
    {
      "cell_type": "code",
      "source": [
        "tuples = ('a', 2, 3)\n",
        "a = tuples[:1]\n",
        "print(a)\n",
        "type(a)"
      ],
      "metadata": {
        "id": "eFk9o5Fq3O9S",
        "colab": {
          "base_uri": "https://localhost:8080/"
        },
        "outputId": "a5b2016a-c0f0-4f44-fd14-8c2439fc16d3"
      },
      "execution_count": null,
      "outputs": [
        {
          "output_type": "stream",
          "name": "stdout",
          "text": [
            "('a',)\n"
          ]
        },
        {
          "output_type": "execute_result",
          "data": {
            "text/plain": [
              "tuple"
            ]
          },
          "metadata": {},
          "execution_count": 60
        }
      ]
    },
    {
      "cell_type": "code",
      "source": [
        "b = tuples[1:2]\n",
        "print(b)\n",
        "type(b)"
      ],
      "metadata": {
        "id": "LFe1kzwi1MTi",
        "colab": {
          "base_uri": "https://localhost:8080/"
        },
        "outputId": "564bdba2-12f0-4cbe-f719-d98decf7fd98"
      },
      "execution_count": null,
      "outputs": [
        {
          "output_type": "stream",
          "name": "stdout",
          "text": [
            "(2,)\n"
          ]
        },
        {
          "output_type": "execute_result",
          "data": {
            "text/plain": [
              "tuple"
            ]
          },
          "metadata": {},
          "execution_count": 63
        }
      ]
    },
    {
      "cell_type": "code",
      "source": [
        "c = tuples[2:3]\n",
        "print(c)\n",
        "type(c)"
      ],
      "metadata": {
        "id": "RiP9ogTC3FSN",
        "colab": {
          "base_uri": "https://localhost:8080/"
        },
        "outputId": "194d57e4-36dd-40db-f77a-789f5b5ef6d2"
      },
      "execution_count": null,
      "outputs": [
        {
          "output_type": "stream",
          "name": "stdout",
          "text": [
            "(3,)\n"
          ]
        },
        {
          "output_type": "execute_result",
          "data": {
            "text/plain": [
              "tuple"
            ]
          },
          "metadata": {},
          "execution_count": 64
        }
      ]
    },
    {
      "cell_type": "markdown",
      "source": [
        "6. range메소드를 활용하여 101부터 201까지의 정수 중 짝수만 저장된 튜플 evens를 생성해주세요.\n"
      ],
      "metadata": {
        "id": "hdQU_HMK3vXg"
      }
    },
    {
      "cell_type": "code",
      "source": [
        "e = tuple(range(101,201))\n",
        "evens = e[1::2]\n",
        "print(evens)"
      ],
      "metadata": {
        "id": "1FHJ6C6I3XvY",
        "colab": {
          "base_uri": "https://localhost:8080/"
        },
        "outputId": "ad7912e4-4cb6-4d47-b52a-d0c0dabe0ef8"
      },
      "execution_count": null,
      "outputs": [
        {
          "output_type": "stream",
          "name": "stdout",
          "text": [
            "(102, 104, 106, 108, 110, 112, 114, 116, 118, 120, 122, 124, 126, 128, 130, 132, 134, 136, 138, 140, 142, 144, 146, 148, 150, 152, 154, 156, 158, 160, 162, 164, 166, 168, 170, 172, 174, 176, 178, 180, 182, 184, 186, 188, 190, 192, 194, 196, 198, 200)\n"
          ]
        }
      ]
    },
    {
      "cell_type": "markdown",
      "source": [
        "# 20211226"
      ],
      "metadata": {
        "id": "qxrI3_VY4b8_"
      }
    },
    {
      "cell_type": "markdown",
      "metadata": {
        "id": "d757e092"
      },
      "source": [
        "딕셔너리 Dictionary\n",
        "\n",
        "- 키 Key와 값 Value를 한 쌍으로 갖는 자료형\n",
        "- 키를 통해 값을 반환 받을 수 있음"
      ]
    },
    {
      "cell_type": "markdown",
      "source": [
        "1. scores라는 이름의 빈 딕셔너리를 만들고 출력 후 타입을 확인주세요."
      ],
      "metadata": {
        "id": "gKKYgampuoTO"
      }
    },
    {
      "cell_type": "code",
      "source": [
        "scores = {}\n",
        "type(scores)"
      ],
      "metadata": {
        "id": "w2bG7YWj3b-C",
        "colab": {
          "base_uri": "https://localhost:8080/"
        },
        "outputId": "4a272666-983b-4dc6-fde9-b836442e7819"
      },
      "execution_count": null,
      "outputs": [
        {
          "output_type": "execute_result",
          "data": {
            "text/plain": [
              "dict"
            ]
          },
          "metadata": {},
          "execution_count": 84
        }
      ]
    },
    {
      "cell_type": "markdown",
      "source": [
        "2. scores 딕셔너리 안에 아래와 같이 과목과 점수가 대응되도록 값을 넣고 출력해주세요.\n",
        "``` \n",
        "영어 | 95\n",
        "수학 | 100\n",
        "국어 | 90\n",
        "과학 | 97\n",
        "사회 | 99\n",
        "```   \n"
      ],
      "metadata": {
        "id": "_oeX70t65xXe"
      }
    },
    {
      "cell_type": "code",
      "source": [
        "scores = {'영어' : 95,\n",
        "'수학' : 100,\n",
        "'국어' : 90,\n",
        "'과학' : 97,\n",
        "'사회' : 99}"
      ],
      "metadata": {
        "id": "qeA8ExEN5vpd"
      },
      "execution_count": null,
      "outputs": []
    },
    {
      "cell_type": "code",
      "source": [
        "scores"
      ],
      "metadata": {
        "colab": {
          "base_uri": "https://localhost:8080/"
        },
        "id": "6wen2WU2CTKI",
        "outputId": "51e898ac-95ca-4c4f-be22-12b6e632b942"
      },
      "execution_count": null,
      "outputs": [
        {
          "output_type": "execute_result",
          "data": {
            "text/plain": [
              "{'과학': 97, '국어': 90, '사회': 99, '수학': 100, '영어': 95}"
            ]
          },
          "metadata": {},
          "execution_count": 2
        }
      ]
    },
    {
      "cell_type": "markdown",
      "source": [
        "3. scores 변수 안에 들어있는 과학 점수와 사회 점수만 따로 확인해보세요."
      ],
      "metadata": {
        "id": "ueZwpAS-66FF"
      }
    },
    {
      "cell_type": "code",
      "source": [
        "print(scores.get('사회'))"
      ],
      "metadata": {
        "id": "mL-M0BlT6uok",
        "colab": {
          "base_uri": "https://localhost:8080/"
        },
        "outputId": "37ec2c92-054e-4153-8284-3521eb76bafa"
      },
      "execution_count": null,
      "outputs": [
        {
          "output_type": "stream",
          "name": "stdout",
          "text": [
            "99\n"
          ]
        }
      ]
    },
    {
      "cell_type": "code",
      "source": [
        "print(scores.get('과학'))"
      ],
      "metadata": {
        "id": "cMLuS5GY7ENB"
      },
      "execution_count": null,
      "outputs": []
    },
    {
      "cell_type": "markdown",
      "source": [
        "4. scores 변수 안에서 과학 점수를 삭제 후 scores 변수를 출력해주세요."
      ],
      "metadata": {
        "id": "yDHUlV737NU9"
      }
    },
    {
      "cell_type": "code",
      "source": [
        "del scores['과학']"
      ],
      "metadata": {
        "id": "bH0c3i8s7HC7"
      },
      "execution_count": null,
      "outputs": []
    },
    {
      "cell_type": "code",
      "source": [
        "scores"
      ],
      "metadata": {
        "id": "nLSAwJkL7Wzt",
        "colab": {
          "base_uri": "https://localhost:8080/"
        },
        "outputId": "ff9bd917-6079-4224-b7f0-7795d80602eb"
      },
      "execution_count": null,
      "outputs": [
        {
          "output_type": "execute_result",
          "data": {
            "text/plain": [
              "{'국어': 90, '사회': 99, '수학': 100, '영어': 95}"
            ]
          },
          "metadata": {},
          "execution_count": 11
        }
      ]
    },
    {
      "cell_type": "markdown",
      "source": [
        "5. scores 변수 안에 물리 점수 90점을 추가 후 확인해주세요."
      ],
      "metadata": {
        "id": "gfj8y2rC-gSd"
      }
    },
    {
      "cell_type": "code",
      "source": [
        "scores = {'영어' : 95,\n",
        "'수학' : 100,\n",
        "'국어' : 90,\n",
        "'과학' : 97,\n",
        "'사회' : 99}\n",
        "scores.update({'물리':90})\n",
        "print(scores)"
      ],
      "metadata": {
        "id": "vkV10-307hdu",
        "colab": {
          "base_uri": "https://localhost:8080/"
        },
        "outputId": "79cc1705-bfba-46f9-ad77-073f323e6495"
      },
      "execution_count": null,
      "outputs": [
        {
          "output_type": "stream",
          "name": "stdout",
          "text": [
            "{'영어': 95, '수학': 100, '국어': 90, '과학': 97, '사회': 99, '물리': 90}\n"
          ]
        }
      ]
    },
    {
      "cell_type": "markdown",
      "source": [
        "6. scores 변수의 국어 과목 점수를 98점으로 변경해주세요."
      ],
      "metadata": {
        "id": "yxb35ram-vyx"
      }
    },
    {
      "cell_type": "code",
      "source": [
        "\n",
        "scores.update({'국어' :98})\n",
        "print(scores)"
      ],
      "metadata": {
        "id": "-KIJZjcB-2Ex",
        "colab": {
          "base_uri": "https://localhost:8080/"
        },
        "outputId": "4bedc22f-fc62-4a5d-d9e4-5674acb12409"
      },
      "execution_count": null,
      "outputs": [
        {
          "output_type": "stream",
          "name": "stdout",
          "text": [
            "{'영어': 95, '수학': 100, '국어': 98, '과학': 97, '사회': 99, '물리': 90}\n"
          ]
        }
      ]
    },
    {
      "cell_type": "markdown",
      "source": [
        "# 20211227"
      ],
      "metadata": {
        "id": "B-9DRF73Bnk5"
      }
    },
    {
      "cell_type": "markdown",
      "source": [
        "1. 아래의 표에서, 이름을 키값으로, (수학, 영어) 점수 리스트를 딕셔너리의 값으로 저장해주세요. 딕셔너리의 이름은 scores로 합니다.\n",
        "```\n",
        "이름\t수학\t영어\n",
        "김연지\t90\t100\n",
        "홍성희\t95\t97\n",
        "유정호\t98\t93\n",
        "```\n"
      ],
      "metadata": {
        "id": "hIUO6EQHBsl7"
      }
    },
    {
      "cell_type": "code",
      "source": [
        "\n",
        "scores = {'김연지': {\n",
        "    '수학': 90, \n",
        "    '영어' : 100},\n",
        "          '홍성희': {\n",
        "    '수학': 95, \n",
        "    '영어' : 97},\n",
        "          '유정호': {\n",
        "    '수학': 98, \n",
        "    '영어' : 93}\n",
        "    }\n",
        "print(scores)"
      ],
      "metadata": {
        "id": "O3v4H73tCyY6",
        "colab": {
          "base_uri": "https://localhost:8080/"
        },
        "outputId": "d1e3be34-2648-4688-c2c4-4575626310a4"
      },
      "execution_count": null,
      "outputs": [
        {
          "output_type": "stream",
          "name": "stdout",
          "text": [
            "{'김연지': {'수학': 90, '영어': 100}, '홍성희': {'수학': 95, '영어': 97}, '유정호': {'수학': 98, '영어': 93}}\n"
          ]
        }
      ]
    },
    {
      "cell_type": "markdown",
      "source": [
        "2. 아래 내용을 참조하셔서 scores 딕셔너리의 키값(이름)만, values값(수학, 영어점수들)만, 키:값 쌍을 각각 출력해보세요. "
      ],
      "metadata": {
        "id": "JCgYws5RDwlW"
      }
    },
    {
      "cell_type": "markdown",
      "metadata": {
        "id": "b5711c8d"
      },
      "source": [
        "- 키 Key 혹은 값 Value 모두 반환하기\n",
        "    - keys() : 딕셔녀리의 키만 dict_keys 객체로 반환\n",
        "    - values() : 딕셔녀리의 값만 dict_values 객체로 반환\n",
        "    - items() : 딕셔너리의 키, 값 쌍으로 dict_items 객체로 반환"
      ]
    },
    {
      "cell_type": "code",
      "source": [
        "print (scores['김연지'])"
      ],
      "metadata": {
        "id": "CsP4PogbD-ZL",
        "colab": {
          "base_uri": "https://localhost:8080/"
        },
        "outputId": "43ff71b6-264f-440a-c73d-fd758daa9a8b"
      },
      "execution_count": null,
      "outputs": [
        {
          "output_type": "stream",
          "name": "stdout",
          "text": [
            "{'수학': 90, '영어': 100}\n"
          ]
        }
      ]
    },
    {
      "cell_type": "code",
      "source": [
        "print (scores['홍성희'])"
      ],
      "metadata": {
        "id": "vNjwdahLEBa9",
        "colab": {
          "base_uri": "https://localhost:8080/"
        },
        "outputId": "58c4fff1-7b83-4c1d-dea8-92350dd2d024"
      },
      "execution_count": null,
      "outputs": [
        {
          "output_type": "stream",
          "name": "stdout",
          "text": [
            "{'수학': 95, '영어': 97}\n"
          ]
        }
      ]
    },
    {
      "cell_type": "code",
      "source": [
        "print(scores['유정호'])"
      ],
      "metadata": {
        "id": "Xz3dGVfDEDmG",
        "colab": {
          "base_uri": "https://localhost:8080/"
        },
        "outputId": "b59cdef8-ce2f-4ee7-818e-a31fad264f22"
      },
      "execution_count": null,
      "outputs": [
        {
          "output_type": "stream",
          "name": "stdout",
          "text": [
            "{'수학': 98, '영어': 93}\n"
          ]
        }
      ]
    },
    {
      "cell_type": "markdown",
      "source": [
        "3. 김연지의 수학점수, 홍성희의 영어점수를 찾아서 출력해주세요."
      ],
      "metadata": {
        "id": "BPoM9DNsDicX"
      }
    },
    {
      "cell_type": "code",
      "source": [
        "print (scores['김연지']['수학'])"
      ],
      "metadata": {
        "id": "sKEictdMDHvM",
        "colab": {
          "base_uri": "https://localhost:8080/"
        },
        "outputId": "87f5d3aa-7e8d-4a2e-b5ab-0c8a6169b7d7"
      },
      "execution_count": null,
      "outputs": [
        {
          "output_type": "stream",
          "name": "stdout",
          "text": [
            "90\n"
          ]
        }
      ]
    },
    {
      "cell_type": "code",
      "source": [
        "print (scores['홍성희']['영어'])"
      ],
      "metadata": {
        "id": "bcxxehRhDsbM",
        "colab": {
          "base_uri": "https://localhost:8080/"
        },
        "outputId": "fa4f8227-fdf1-4c0b-d11b-80cf4cca000a"
      },
      "execution_count": null,
      "outputs": [
        {
          "output_type": "stream",
          "name": "stdout",
          "text": [
            "97\n"
          ]
        }
      ]
    },
    {
      "cell_type": "markdown",
      "source": [
        "4. scores 딕셔너리를 활용하여 학생이름만으로 구성된 students 리스트를 생성해주세요."
      ],
      "metadata": {
        "id": "iPqSP2S-H6ii"
      }
    },
    {
      "cell_type": "code",
      "source": [
        "students = scores.keys()\n",
        "print(students)"
      ],
      "metadata": {
        "id": "UjjAUjCKDubc",
        "colab": {
          "base_uri": "https://localhost:8080/"
        },
        "outputId": "0d76eec8-f3c2-4159-d293-96c649565c81"
      },
      "execution_count": null,
      "outputs": [
        {
          "output_type": "stream",
          "name": "stdout",
          "text": [
            "dict_keys(['김연지', '홍성희', '유정호'])\n"
          ]
        }
      ]
    },
    {
      "cell_type": "markdown",
      "source": [
        "5. scores 딕셔너리에 다음 학생들의 정보가 담겨있는 newScore 딕셔너리를 추가해주세요.\n",
        "- 힌트: update 메소드 활용\n"
      ],
      "metadata": {
        "id": "usoy1llsIMza"
      }
    },
    {
      "cell_type": "code",
      "source": [
        "newScores = {'홍길동': {\n",
        "    '수학': 90, \n",
        "    '영어' : 90},\n",
        "          '나플라': {\n",
        "    '수학': 99, \n",
        "    '영어' : 100}}\n",
        "scores.update(newScores)\n",
        "scores"
      ],
      "metadata": {
        "id": "6OalK0ASILCe",
        "colab": {
          "base_uri": "https://localhost:8080/"
        },
        "outputId": "c63da639-5ea7-4de9-dc2c-9c59a2951195"
      },
      "execution_count": null,
      "outputs": [
        {
          "output_type": "execute_result",
          "data": {
            "text/plain": [
              "{'김연지': {'수학': 90, '영어': 100},\n",
              " '나플라': {'수학': 99, '영어': 100},\n",
              " '유정호': {'수학': 98, '영어': 93},\n",
              " '홍길동': {'수학': 90, '영어': 90},\n",
              " '홍성희': {'수학': 95, '영어': 97}}"
            ]
          },
          "metadata": {},
          "execution_count": 15
        }
      ]
    },
    {
      "cell_type": "markdown",
      "source": [
        "## 확인! \n",
        "- 아 제가 학생정보를 안 넣었군요! ㅠㅠ 죄송해요!"
      ],
      "metadata": {
        "id": "tTAe--jyMv3c"
      }
    },
    {
      "cell_type": "markdown",
      "source": [
        "# 20211228"
      ],
      "metadata": {
        "id": "sySfi32pgYSa"
      }
    },
    {
      "cell_type": "markdown",
      "metadata": {
        "id": "R4egrF43_Z0s"
      },
      "source": [
        "## Enumerate & Zip\n",
        "- Enumerate : enumerate(리스트변수명)\n",
        "  - List의 element를 추출할 때 번호를 붙여서 추출\n"
      ]
    },
    {
      "cell_type": "code",
      "metadata": {
        "colab": {
          "base_uri": "https://localhost:8080/"
        },
        "outputId": "09e24bc8-641a-4b1b-81e6-6b88aa7d9960",
        "id": "0C1VQCM-kW0g"
      },
      "source": [
        "# Enumerate\n",
        "result = enumerate(['사과', '바나나', '딸기'])\n",
        "result"
      ],
      "execution_count": null,
      "outputs": [
        {
          "output_type": "execute_result",
          "data": {
            "text/plain": [
              "<enumerate at 0x7f9b8b8ac140>"
            ]
          },
          "metadata": {},
          "execution_count": 47
        }
      ]
    },
    {
      "cell_type": "markdown",
      "source": [
        "- enumerate 메소드를 사용시에는 Enumerate 객체로 저장되기 때문에 list 등 다른 메소드로 감싸주셔야 합니다."
      ],
      "metadata": {
        "id": "gYSHrSL0r0qG"
      }
    },
    {
      "cell_type": "code",
      "metadata": {
        "colab": {
          "base_uri": "https://localhost:8080/"
        },
        "outputId": "913ceab1-fdab-447d-934b-be04fa9db82d",
        "id": "VCUa9niZkW0i"
      },
      "source": [
        "list(result)"
      ],
      "execution_count": null,
      "outputs": [
        {
          "output_type": "execute_result",
          "data": {
            "text/plain": [
              "[(0, '사과'), (1, '바나나'), (2, '딸기')]"
            ]
          },
          "metadata": {},
          "execution_count": 48
        }
      ]
    },
    {
      "cell_type": "code",
      "source": [
        "# Enumerate\n",
        "for i, v in enumerate(['사과', '바나나', '딸기']):\n",
        "# list의 있는 index와 값을 unpacking\n",
        "  print (i, v)"
      ],
      "metadata": {
        "colab": {
          "base_uri": "https://localhost:8080/"
        },
        "id": "wX_myVACsCQh",
        "outputId": "ecd3e29b-03f6-4f28-9db7-9fb0289e81b9"
      },
      "execution_count": null,
      "outputs": [
        {
          "output_type": "stream",
          "name": "stdout",
          "text": [
            "0 사과\n",
            "1 바나나\n",
            "2 딸기\n"
          ]
        }
      ]
    },
    {
      "cell_type": "markdown",
      "source": [
        "- Zip : zip(list, list)\n",
        "  - 두 개의 list의 값을 병렬적으로 추출함"
      ],
      "metadata": {
        "id": "Ilf2nD-7kMGz"
      }
    },
    {
      "cell_type": "markdown",
      "source": [
        "1. 아래 두 개의 리스트를 dict와 zip 메소드를 이용하여 하나의 딕셔너리로 변환해주세요. alist를 키로, blist를 값으로 하는 result 이름의 딕셔너리로 저장 후 출력해보세요.\n",
        "```\n",
        "alist = ['사과', '바나나', '딸기']\n",
        "blist = ['Apple', 'Banana', 'Strawberry']\n",
        "```"
      ],
      "metadata": {
        "id": "FDLJACP6sYIS"
      }
    },
    {
      "cell_type": "code",
      "source": [
        "result = enumerate(['사과', '바나나', '딸기'])\n",
        "result"
      ],
      "metadata": {
        "id": "RZBMI9Uxsw-w",
        "colab": {
          "base_uri": "https://localhost:8080/"
        },
        "outputId": "1d8dee2f-6569-4a23-f35a-a0fb226be412"
      },
      "execution_count": null,
      "outputs": [
        {
          "output_type": "execute_result",
          "data": {
            "text/plain": [
              "<enumerate at 0x7f3be53b5d20>"
            ]
          },
          "metadata": {},
          "execution_count": 2
        }
      ]
    },
    {
      "cell_type": "code",
      "source": [
        "alist = ['사과', '바나나', '딸기']\n",
        "blist = ['Apple', 'Banana', 'Strawberry']\n",
        "z = zip(alist, blist)\n",
        "print(list(z))"
      ],
      "metadata": {
        "id": "1bgNnd2asXB6",
        "colab": {
          "base_uri": "https://localhost:8080/"
        },
        "outputId": "db2654ed-faad-4911-83ab-22e12abe8274"
      },
      "execution_count": null,
      "outputs": [
        {
          "output_type": "stream",
          "name": "stdout",
          "text": [
            "[('사과', 'Apple'), ('바나나', 'Banana'), ('딸기', 'Strawberry')]\n"
          ]
        }
      ]
    },
    {
      "cell_type": "markdown",
      "metadata": {
        "id": "D2Iqd_JA6A-x"
      },
      "source": [
        "2. for문, zip, sum()을 함께 활용하여 아래 변수들을 활용해 [111, 222, 333]이라는 결과값을 출력하세요."
      ]
    },
    {
      "cell_type": "markdown",
      "source": [
        "```\n",
        "(1, 2, 3), (10, 20, 30), (100, 200, 300)\n",
        "```"
      ],
      "metadata": {
        "id": "gkl4jPx5tnZ9"
      }
    },
    {
      "cell_type": "code",
      "source": [
        "a= (1, 2, 3)\n",
        "b= (10, 20, 30)\n",
        "c= (100, 200, 300)\n",
        "list1 = []\n",
        "for a,b,c in zip(a,b,c):\n",
        "  list1.append(a + b + c)\n",
        "list1\n",
        "\n"
      ],
      "metadata": {
        "id": "FMt6v5vguR-w",
        "colab": {
          "base_uri": "https://localhost:8080/"
        },
        "outputId": "294ac76e-2214-4052-9203-724615d552a2"
      },
      "execution_count": null,
      "outputs": [
        {
          "output_type": "execute_result",
          "data": {
            "text/plain": [
              "[111, 222, 333]"
            ]
          },
          "metadata": {},
          "execution_count": 2
        }
      ]
    },
    {
      "cell_type": "markdown",
      "source": [
        "## 확인!"
      ],
      "metadata": {
        "id": "8pdxS4e5qTPv"
      }
    },
    {
      "cell_type": "code",
      "metadata": {
        "colab": {
          "base_uri": "https://localhost:8080/"
        },
        "id": "C2vfVQP7_rvF",
        "outputId": "b677d2c1-4fc9-40a8-c10c-f2d4ef598031"
      },
      "source": [
        "\n",
        "(1, 2, 3), (10, 20, 30), (100, 200, 300)\n",
        "list1 = []\n",
        "for x in zip((1, 2, 3), (10, 20, 30), (100, 200, 300)):\n",
        "  list1.append(sum(x))\n",
        "\n",
        "list1"
      ],
      "execution_count": null,
      "outputs": [
        {
          "output_type": "execute_result",
          "data": {
            "text/plain": [
              "[111, 222, 333]"
            ]
          },
          "metadata": {},
          "execution_count": 59
        }
      ]
    },
    {
      "cell_type": "code",
      "source": [
        "# List Comprehension + Zip\n",
        "print([sum(x) for x in zip((1, 2, 3), (10, 20, 30), (100, 200, 300))])"
      ],
      "metadata": {
        "colab": {
          "base_uri": "https://localhost:8080/"
        },
        "outputId": "65d4816e-cdaa-40f0-9e34-013e0e12e59c",
        "id": "5-Bt8vyaqLC_"
      },
      "execution_count": null,
      "outputs": [
        {
          "output_type": "stream",
          "name": "stdout",
          "text": [
            "[111, 222, 333]\n"
          ]
        }
      ]
    },
    {
      "cell_type": "markdown",
      "source": [
        "- 분기문\n",
        "\n",
        "1. 아래 출력결과를 예상해보시고 실제로 출력해보세요.\n",
        "```\n",
        "print(3 == 5)\n",
        "print(3 == '3')\n",
        "```"
      ],
      "metadata": {
        "id": "6TXJ0A5zwfO3"
      }
    },
    {
      "cell_type": "code",
      "source": [
        "print(3 == 5) #false\n",
        "print(3 == '3') #false"
      ],
      "metadata": {
        "id": "xZCCzBwIuOvG",
        "colab": {
          "base_uri": "https://localhost:8080/"
        },
        "outputId": "11a47f7d-6000-41ea-e904-3dd82bc3b554"
      },
      "execution_count": null,
      "outputs": [
        {
          "output_type": "stream",
          "name": "stdout",
          "text": [
            "False\n",
            "False\n"
          ]
        }
      ]
    },
    {
      "cell_type": "markdown",
      "source": [
        "2. 아래 출력결과를 예상해보시고 실제로 출력해보세요.\n",
        "```\n",
        "x = 4\n",
        "print(2 < x < 7)\n",
        "```"
      ],
      "metadata": {
        "id": "5UjSifeZ17Km"
      }
    },
    {
      "cell_type": "code",
      "source": [
        "x = 4\n",
        "print(2 < x < 7)"
      ],
      "metadata": {
        "id": "H17NkQqtz_ul",
        "colab": {
          "base_uri": "https://localhost:8080/"
        },
        "outputId": "faf04d88-eef5-4389-f544-d0571f368d83"
      },
      "execution_count": null,
      "outputs": [
        {
          "output_type": "stream",
          "name": "stdout",
          "text": [
            "True\n"
          ]
        }
      ]
    },
    {
      "cell_type": "markdown",
      "source": [
        "3. 아래 출력결과를 예상해보시고 실제로 출력해보세요. 주석으로 왜 이런 결과가 나오는지도 설명을 달아주세요.\n",
        "~~~\n",
        "if 9 < 5:\n",
        "    print(\"Hello World.\")\n",
        "else:\n",
        "    print(\"Good bye World.\")\n",
        "~~~"
      ],
      "metadata": {
        "id": "RMfPVKciMaDV"
      }
    },
    {
      "cell_type": "code",
      "source": [
        "if 9 < 5: #만약 9보다 5가 큰것이 참이면 \"Hello World.\"출력\n",
        " print(\"Hello World.\")\n",
        "else:#만약 9보다 5가 큰것이 거짓이면 \"Good bye World.\" 출력\n",
        " print(\"Good bye World.\")"
      ],
      "metadata": {
        "id": "jtQPgLL7Mmu7",
        "colab": {
          "base_uri": "https://localhost:8080/"
        },
        "outputId": "d8a7cd32-4f34-4138-f4ab-13fea294f946"
      },
      "execution_count": null,
      "outputs": [
        {
          "output_type": "stream",
          "name": "stdout",
          "text": [
            "Good bye World.\n"
          ]
        }
      ]
    },
    {
      "cell_type": "markdown",
      "source": [
        "4. 아래 출력결과를 예상해보시고 실제로 출력해보세요. 주석으로 왜 이런 결과가 나오는지도 설명을 달아주세요."
      ],
      "metadata": {
        "id": "lk4M39eLOEH8"
      }
    },
    {
      "cell_type": "code",
      "source": [
        "if True :#조건 : ture\n",
        "    print (\"1\") #1,과 2는 조건이 참이라서 나온 값입니다\n",
        "    print (\"2\")\n",
        "else :\n",
        "    print(\"3\")#조건이 거짓일때만 실행되기 때문에 3이 실행 안됩니다\n",
        "print(\"4\")#들여쓰기 안되어있어서 그냥 출력됩니다"
      ],
      "metadata": {
        "colab": {
          "base_uri": "https://localhost:8080/"
        },
        "id": "8HoaW3uHN_Gj",
        "outputId": "6eec1304-610b-4f13-e184-4642bc575c31"
      },
      "execution_count": null,
      "outputs": [
        {
          "output_type": "stream",
          "name": "stdout",
          "text": [
            "1\n",
            "2\n",
            "4\n"
          ]
        }
      ]
    },
    {
      "cell_type": "markdown",
      "source": [
        "5. input() 메소드를 사용하여 사용자로부터 하나의 숫자를 입력받고, 입력 받은 숫자에 100을 더해 출력하여 주세요."
      ],
      "metadata": {
        "id": "qblujGmu6fQY"
      }
    },
    {
      "cell_type": "code",
      "source": [
        "n = input()\n",
        "print(int(n) + 100)"
      ],
      "metadata": {
        "id": "0XrOuuiA51W4",
        "colab": {
          "base_uri": "https://localhost:8080/"
        },
        "outputId": "a49a9eb6-f211-4f81-b1cb-5d6a91e5b60d"
      },
      "execution_count": null,
      "outputs": [
        {
          "output_type": "stream",
          "name": "stdout",
          "text": [
            "12\n",
            "112\n"
          ]
        }
      ]
    },
    {
      "cell_type": "markdown",
      "source": [
        "6. input() 메소드를 사용하여 숫자를 입력받은 후 그 숫자가 10 이상인 경우에는 'OK'가, 10 미만인 경우에는 'TRY AGAIN'이 출력되도록 프로그래밍해주세요."
      ],
      "metadata": {
        "id": "aK2iVcZt5KaK"
      }
    },
    {
      "cell_type": "code",
      "source": [
        "n= int(input())\n",
        "if n >= 10:\n",
        "  print('OK')\n",
        "if n <= 10:\n",
        "  print('TRY AGAIN')\n"
      ],
      "metadata": {
        "id": "UbfL5a-c2Cd2",
        "colab": {
          "base_uri": "https://localhost:8080/"
        },
        "outputId": "e0612639-e146-4d6e-8f1e-ebefb3148658"
      },
      "execution_count": null,
      "outputs": [
        {
          "output_type": "stream",
          "name": "stdout",
          "text": [
            "11\n",
            "OK\n"
          ]
        }
      ]
    },
    {
      "cell_type": "code",
      "source": [
        "n= int(input())\n",
        "if n >= 10:\n",
        "  print('OK')\n",
        "if n <= 10:\n",
        "  print('TRY AGAIN')"
      ],
      "metadata": {
        "colab": {
          "base_uri": "https://localhost:8080/"
        },
        "id": "oOpAUzmfrZxP",
        "outputId": "c0908f99-fbb9-41ec-e6a9-1b2ca0ceb950"
      },
      "execution_count": null,
      "outputs": [
        {
          "output_type": "stream",
          "name": "stdout",
          "text": [
            "3\n",
            "TRY AGAIN\n"
          ]
        }
      ]
    },
    {
      "cell_type": "markdown",
      "source": [
        "7. while문과 input() 메소드를 사용하여 숫자를 입력받은 후 그 숫자가 10 이상인 경우에는 'OK'가, 10 미만인 경우에는 'TRY AGAIN'이 출력되고 다시 입력창이 뜨도록 프로그래밍해주세요.\n"
      ],
      "metadata": {
        "id": "l0L9ebxtMzLh"
      }
    },
    {
      "cell_type": "code",
      "source": [
        "n = int(input())\n",
        "while True :\n",
        "  if n >= 10:\n",
        "    True\n",
        "    \n",
        "    print('OK')\n",
        "  if n <= 10:\n",
        "    True\n",
        "    \n",
        "    print('TRY AGAIN')\n",
        "  break"
      ],
      "metadata": {
        "id": "1W_1qJb-MAlT",
        "colab": {
          "base_uri": "https://localhost:8080/"
        },
        "outputId": "5f13e2a1-46e1-461e-c6a5-2ffc43510c22"
      },
      "execution_count": null,
      "outputs": [
        {
          "output_type": "stream",
          "name": "stdout",
          "text": [
            "2\n",
            "TRY AGAIN\n"
          ]
        }
      ]
    },
    {
      "cell_type": "code",
      "source": [
        "n = int(input())\n",
        "while True :\n",
        "  if n >= 10:\n",
        "    True\n",
        "    \n",
        "    print('OK')\n",
        "  if n <= 10:\n",
        "    True\n",
        "    \n",
        "    print('TRY AGAIN')\n",
        "  break"
      ],
      "metadata": {
        "colab": {
          "base_uri": "https://localhost:8080/"
        },
        "id": "v7C6hYeLsE20",
        "outputId": "b6dd1523-cee9-4154-c517-c95b76428bcf"
      },
      "execution_count": null,
      "outputs": [
        {
          "output_type": "stream",
          "name": "stdout",
          "text": [
            "1\n",
            "TRY AGAIN\n"
          ]
        }
      ]
    },
    {
      "cell_type": "markdown",
      "source": [
        "## 확인!"
      ],
      "metadata": {
        "id": "TMx3vmORsWah"
      }
    },
    {
      "cell_type": "code",
      "source": [
        "while True:\n",
        "  a = int(input())\n",
        "  if a >= 10:\n",
        "    print('OK')\n",
        "    break\n",
        "  else:\n",
        "    print('TRY AGAIN')"
      ],
      "metadata": {
        "id": "C-NUz3XftP1k",
        "colab": {
          "base_uri": "https://localhost:8080/"
        },
        "outputId": "d426c5c5-6195-416e-a1ab-04d5bbf2e70f"
      },
      "execution_count": null,
      "outputs": [
        {
          "output_type": "stream",
          "name": "stdout",
          "text": [
            "1\n",
            "TRY AGAIN\n",
            "24\n",
            "OK\n"
          ]
        }
      ]
    },
    {
      "cell_type": "markdown",
      "source": [
        "# 20211229"
      ],
      "metadata": {
        "id": "LJXrR_ktONS4"
      }
    },
    {
      "cell_type": "markdown",
      "source": [
        "1. if문을 활용하여 사용자로부터 입력 받은 시간이 정각인지를 판별하도록 만들어보세요.\n",
        "```\n",
        ">> 현재시간:02:00\n",
        "정각입니다.\n",
        ">> 현재시간:03:10\n",
        "정각이 아닙니다\n",
        "```"
      ],
      "metadata": {
        "id": "lbRjMFBxRXmd"
      }
    },
    {
      "cell_type": "code",
      "source": [
        "h = input()\n",
        "m = input()\n",
        "\n",
        "if m == 00 :\n",
        "  print('정각입니다.')\n",
        "\n",
        "if m != 00 :\n",
        "  print('정각이 아닙니다.')\n",
        "\n",
        "print ('현재시간:'+ h +':' + m)\n"
      ],
      "metadata": {
        "id": "H3rm-vH1bmOg",
        "colab": {
          "base_uri": "https://localhost:8080/"
        },
        "outputId": "79c7c536-5b29-46cc-fd2d-9229e2d31b0a"
      },
      "execution_count": null,
      "outputs": [
        {
          "output_type": "stream",
          "name": "stdout",
          "text": [
            "12\n",
            "12\n",
            "정각이 아닙니다.\n",
            "현재시간:12:12\n"
          ]
        }
      ]
    },
    {
      "cell_type": "markdown",
      "source": [
        "2. 아래 두 개의 리스트를 fruits라는 하나의 딕셔너리로 변환해주세요. alist를 키로, blist를 값으로 하는 result 이름의 딕셔너리로 저장 후 출력해보세요.\n",
        "```\n",
        "alist = ['사과', '바나나', '딸기']\n",
        "blist = ['Apple', 'Banana', 'Strawberry']\n",
        "```"
      ],
      "metadata": {
        "id": "Hi0EhrAnVrD2"
      }
    },
    {
      "cell_type": "markdown",
      "source": [
        "# 새 섹션"
      ],
      "metadata": {
        "id": "Lgs6rrGs_4wk"
      }
    },
    {
      "cell_type": "code",
      "source": [
        "alist = ['사과', '바나나', '딸기']\n",
        "blist = ['Apple', 'Banana', 'Strawberry']"
      ],
      "metadata": {
        "id": "QMSWXzDfVrD3"
      },
      "execution_count": null,
      "outputs": []
    },
    {
      "cell_type": "code",
      "source": [
        "alist = ['사과', '바나나', '딸기']\n",
        "blist = ['Apple', 'Banana', 'Strawberry']\n",
        "result = zip(alist,blist)\n",
        "mydict = dict(result)\n",
        "print(mydict)\n"
      ],
      "metadata": {
        "colab": {
          "base_uri": "https://localhost:8080/"
        },
        "outputId": "a9982aac-56bd-41c9-81ea-9075c01d7e61",
        "id": "wNX39jjuVrD3"
      },
      "execution_count": null,
      "outputs": [
        {
          "output_type": "stream",
          "name": "stdout",
          "text": [
            "{'사과': 'Apple', '바나나': 'Banana', '딸기': 'Strawberry'}\n"
          ]
        }
      ]
    },
    {
      "cell_type": "markdown",
      "source": [
        "3. 한영사전 만들기\n",
        "- 사용자가 입력한 과일이 fruits 딕셔너리의 key값에 있을 경우 해당 key의 value 값을, 없을 경우 '사전에 없는 단어입니다'를 출력하도록 프로그래밍하세요.\n",
        "\n"
      ],
      "metadata": {
        "id": "9ctXiOPtVwx0"
      }
    },
    {
      "cell_type": "code",
      "source": [
        "n = input()\n",
        "if n == mydict :\n",
        "  print(blist)\n",
        "if n != mydict :\n",
        "  print('사전에 없는 단어입니다.')"
      ],
      "metadata": {
        "id": "fQCy8FXjVzL1",
        "outputId": "4082da30-0c85-4411-9932-f9217a4162c9",
        "colab": {
          "base_uri": "https://localhost:8080/"
        }
      },
      "execution_count": null,
      "outputs": [
        {
          "output_type": "stream",
          "name": "stdout",
          "text": [
            "dd\n",
            "사전에 없는 단어입니다.\n"
          ]
        }
      ]
    },
    {
      "cell_type": "markdown",
      "source": [
        "4. 한영사전 만들기 II\n",
        "- 사용자가 입력한 과일이 fruits 딕셔너리의 key값에 있을 경우 해당 key의 value 값을, 없을 경우 '사전에 없는 단어입니다'를 출력 후 다시 입력창이 뜨도록 프로그래밍해주세요."
      ],
      "metadata": {
        "id": "7ZgkzM1zZt_T"
      }
    },
    {
      "cell_type": "code",
      "source": [
        "\n",
        "# 과일 단어 입력: 덜기\n",
        "# 사전에 없는 단어입니다. 다른 과일을 입력해주세요.\n",
        "# 과일 단어 입력: 딸기\n",
        "# Strawberry"
      ],
      "metadata": {
        "id": "PkpTA6QnAhGJ"
      },
      "execution_count": null,
      "outputs": []
    },
    {
      "cell_type": "code",
      "source": [
        "\n",
        "fruits = {'사과': 'Apple', '바나나': 'Banana', '딸기': 'Strawberry'}\n",
        "i = input(\"과일단어 입력:\")\n",
        "while i:\n",
        "  if i in fruits:\n",
        "      print(fruits.values())\n",
        "      break\n",
        "\n",
        "  else :\n",
        "      print(\"사전에 없는 단어입니다. 다른 과일을 입력해주세요.\")\n",
        "      break;\n",
        "      continue\n",
        "\n",
        "\n"
      ],
      "metadata": {
        "id": "cx_nt9J6ZoYM"
      },
      "execution_count": null,
      "outputs": []
    },
    {
      "cell_type": "code",
      "source": [
        ""
      ],
      "metadata": {
        "id": "XUSruwr2Map8"
      },
      "execution_count": null,
      "outputs": []
    },
    {
      "cell_type": "markdown",
      "source": [
        "# 20211231 \n",
        "- 장고 공부해주세요!"
      ],
      "metadata": {
        "id": "cf8u-4gOL2Qe"
      }
    },
    {
      "cell_type": "markdown",
      "source": [
        "# 20220101"
      ],
      "metadata": {
        "id": "0YAVKmFSgtUr"
      }
    },
    {
      "cell_type": "markdown",
      "source": [
        "1. 사용자로부터 문자 한 개를 입력 받고, 소문자일 경우 대문자로, 대문자의 경우, 소문자로 변경해서 출력해주세요."
      ],
      "metadata": {
        "id": "MiQD1mTaMe_z"
      }
    },
    {
      "cell_type": "code",
      "source": [
        "a = 'SIGNIN'\n",
        "b = 'signout'\n",
        "print(b.upper())\n",
        "print(a.lower())"
      ],
      "metadata": {
        "id": "5tWIUqZ7L7SK",
        "colab": {
          "base_uri": "https://localhost:8080/"
        },
        "outputId": "8fe1dd9a-7381-4d8a-b955-e907f074e27e"
      },
      "execution_count": null,
      "outputs": [
        {
          "output_type": "stream",
          "name": "stdout",
          "text": [
            "SIGNOUT\n",
            "signin\n"
          ]
        }
      ]
    },
    {
      "cell_type": "markdown",
      "source": [
        "2. 학점계산기 - 다음 표에는 점수 구간에 해당하는 학점이 기재되어 있습니다. input() 메소드를 사용하여 사용자로부터 score를 입력받고 점수에 맞는 학점을 출력하도록 프로그래밍해 주세요.\n",
        "\n",
        "~~~\n",
        "점수\t   학점\n",
        "81~100\tA\n",
        "61~80 \tB\n",
        "41~60     C\n",
        "21~40\t D\n",
        "0~20\t  E \n",
        "~~~"
      ],
      "metadata": {
        "id": "LE0TDB2IM7Xq"
      }
    },
    {
      "cell_type": "code",
      "source": [
        "score = int(input())\n",
        "\n",
        "if score >= 81:\n",
        "    grade = \"A\" \n",
        "elif score >= 61:\n",
        "    grade = \"B\"\n",
        "elif score >= 41:\n",
        "    grade = \"C\"\n",
        "elif score >= 21:\n",
        "    grade = \"D\"\n",
        "else:\n",
        "    grade = \"F\"\n",
        "\n",
        "print(grade)"
      ],
      "metadata": {
        "id": "P_vA-i6GMnN1",
        "colab": {
          "base_uri": "https://localhost:8080/"
        },
        "outputId": "a052313f-1703-464e-fe48-9a84ffe55812"
      },
      "execution_count": null,
      "outputs": [
        {
          "output_type": "stream",
          "name": "stdout",
          "text": [
            "54\n",
            "C\n"
          ]
        }
      ]
    },
    {
      "cell_type": "markdown",
      "source": [
        "3. input() 메소드를 활용하여 사용자로부터 세 개의 숫자를 입력 받은 후 가장 큰 숫자를 출력하도록 프로그래밍해주세요.\n",
        "\n"
      ],
      "metadata": {
        "id": "7lg4knTqtbwH"
      }
    },
    {
      "cell_type": "code",
      "source": [
        "m= int(input())\n",
        "b= int(input())\n",
        "c= int(input())\n",
        "print(max(m,b,c))"
      ],
      "metadata": {
        "id": "yAgKbo7-b5HL",
        "colab": {
          "base_uri": "https://localhost:8080/"
        },
        "outputId": "e9436aec-4647-498f-8486-86288c300bd3"
      },
      "execution_count": null,
      "outputs": [
        {
          "output_type": "stream",
          "name": "stdout",
          "text": [
            "3\n",
            "2\n",
            "1\n",
            "3\n"
          ]
        }
      ]
    },
    {
      "cell_type": "markdown",
      "source": [
        "4. 원화 환전기\n",
        "- 아래 링크를 참조하여 사용자로부터 달러, 엔, 유로, 또는 위안 금액을 입력받은 후 이를 원으로 변환하는 프로그램을 만들어보세요.\n",
        "\n",
        "- 사용자는 1 달러, 100 엔, 10 유로, 113 위안처럼 금액과 통화명 사이에 공백을 넣어 입력하며 한글로 입력합니다. (힌트: 딕셔너리 사용)\n",
        "\n",
        "https://search.naver.com/search.naver?where=nexearch&sm=top_hty&fbm=0&ie=utf8&query=%ED%99%98%EC%9C%A8"
      ],
      "metadata": {
        "id": "Y5Bh6J6Bt5Ht"
      }
    },
    {
      "cell_type": "code",
      "source": [
        "\n",
        "환율 = {\"달러\": 1193,\n",
        "        \"엔\": 1037, \n",
        "        \"유로\": 1355, \n",
        "        \"위안\": 187}\n",
        "money = input(\"\")\n",
        "\n"
      ],
      "metadata": {
        "id": "aYTjIMTutmAG",
        "colab": {
          "base_uri": "https://localhost:8080/"
        },
        "outputId": "be2e8f41-e98b-41c2-8400-0ab366c9c407"
      },
      "execution_count": null,
      "outputs": [
        {
          "name": "stdout",
          "output_type": "stream",
          "text": [
            "입력: 100\n"
          ]
        }
      ]
    },
    {
      "cell_type": "markdown",
      "source": [
        "5. 원화 환전기\n",
        "- 아래 링크를 참조하여 사용자로부터 달러, 엔, 유로, 또는 위안 금액을 입력받은 후 이를 원으로 변환하는 프로그램을 만들어보세요.\n",
        "\n",
        "- 사용자는 1 달러, 100 엔, 10 유로, 113 위안처럼 금액과 통화명 사이에 공백을 넣어 입력하며 한글 혹은 약어(USD, JPY)로 입력합니다. (힌트: if문 사용)\n",
        "\n",
        "https://search.naver.com/search.naver?where=nexearch&sm=top_hty&fbm=0&ie=utf8&query=%ED%99%98%EC%9C%A8"
      ],
      "metadata": {
        "id": "3X9nS6yvpg_C"
      }
    },
    {
      "cell_type": "markdown",
      "source": [
        "# 20220102"
      ],
      "metadata": {
        "id": "sqpSGzpqFkMy"
      }
    },
    {
      "cell_type": "code",
      "source": [
        ""
      ],
      "metadata": {
        "id": "h08XA8Rrpl_L"
      },
      "execution_count": null,
      "outputs": []
    },
    {
      "cell_type": "markdown",
      "source": [
        "1. 응답하라 1998\n",
        "- 휴대폰 번호 앞자리에 따라 통신사가 아래와 같이 구분되던 시절이 있었습니다. 사용자로부터 휴대전화 번호를 입력 받고, 통신사를 출력하는 프로그램을 작성해보세요. 입력받을 때 '-'기호는 넣거나 말거나 영향을 미치지 않습니다.\n",
        "\n",
        "~~~\n",
        "번호\t통신사\n",
        "011\tSKT\n",
        "016\tKT\n",
        "019\tLGU\n",
        "010\t알수없음\n"
      ],
      "metadata": {
        "id": "GXk85bC9FRT1"
      }
    },
    {
      "cell_type": "code",
      "source": [
        "n = input()\n",
        "if n == \"011\":\n",
        "    tel = \"SKT\"\n",
        "elif n == \"016\":\n",
        "    tel = \"KT\"\n",
        "elif n == \"019\":\n",
        "    tel = \"LGU\"\n",
        "else:\n",
        "    tel = \"알수없음\"\n",
        "\n",
        "num = n.split('-')\n",
        "print(f\"당신은 {tel} 사용자입니다.\")\n",
        "\n",
        "\n"
      ],
      "metadata": {
        "id": "34VPZT6Yt_Pm",
        "colab": {
          "base_uri": "https://localhost:8080/"
        },
        "outputId": "c4d48df2-a33f-497b-ea13-67b3fe057354"
      },
      "execution_count": null,
      "outputs": [
        {
          "output_type": "stream",
          "name": "stdout",
          "text": [
            "011\n",
            "당신은 SKT 사용자입니다.\n"
          ]
        }
      ]
    },
    {
      "cell_type": "markdown",
      "source": [
        "2. 아래의 for문을 풀어서 for문 없이 동일한 동작을 하는 코드를 작성해보세요.\n",
        "\n",
        "~~~\n",
        "for a in [\"A\", \"B\", \"C\"]:\n",
        "  b = a.lower()\n",
        "  print(\"변환:\", b)\n",
        "~~~"
      ],
      "metadata": {
        "id": "6NpUuxywv6EG"
      }
    },
    {
      "cell_type": "code",
      "source": [
        "for a in [\"A\", \"B\", \"C\"]:\n",
        "  b = a.lower()\n",
        "  print(\"변환:\", b)"
      ],
      "metadata": {
        "colab": {
          "base_uri": "https://localhost:8080/"
        },
        "id": "DWF5_xKYtqVa",
        "outputId": "ce8d7c94-b83a-495b-f1ba-8a3b6c53f585"
      },
      "execution_count": null,
      "outputs": [
        {
          "output_type": "stream",
          "name": "stdout",
          "text": [
            "변환: a\n",
            "변환: b\n",
            "변환: c\n"
          ]
        }
      ]
    },
    {
      "cell_type": "markdown",
      "source": [
        "## 확인!"
      ],
      "metadata": {
        "id": "eJJHE_gegoZC"
      }
    },
    {
      "cell_type": "code",
      "source": [
        "a = \"A\"\n",
        "b = a.lower()\n",
        "print(\"변환:\", b)\n",
        "a = \"B\"\n",
        "b = a.lower()\n",
        "print(\"변환:\", b)\n",
        "a = \"C\"\n",
        "b = a.lower()\n",
        "print(\"변환:\", b)"
      ],
      "metadata": {
        "colab": {
          "base_uri": "https://localhost:8080/"
        },
        "id": "B3VS99fWgp5p",
        "outputId": "94c0c100-fed9-49d0-8776-b4c161765376"
      },
      "execution_count": null,
      "outputs": [
        {
          "output_type": "stream",
          "name": "stdout",
          "text": [
            "변환: a\n",
            "변환: b\n",
            "변환: c\n"
          ]
        }
      ]
    },
    {
      "cell_type": "code",
      "source": [
        ""
      ],
      "metadata": {
        "id": "N_Dat7_fFaJ3",
        "colab": {
          "base_uri": "https://localhost:8080/",
          "height": 131
        },
        "outputId": "d5165b1a-a4b9-472d-c4ad-02c88d5254cd"
      },
      "execution_count": null,
      "outputs": [
        {
          "output_type": "error",
          "ename": "SyntaxError",
          "evalue": "ignored",
          "traceback": [
            "\u001b[0;36m  File \u001b[0;32m\"<ipython-input-2-eba92c0353db>\"\u001b[0;36m, line \u001b[0;32m1\u001b[0m\n\u001b[0;31m    var sum = 0, # 합계를 저장할 변수\u001b[0m\n\u001b[0m          ^\u001b[0m\n\u001b[0;31mSyntaxError\u001b[0m\u001b[0;31m:\u001b[0m invalid syntax\n"
          ]
        }
      ]
    },
    {
      "cell_type": "markdown",
      "source": [
        "3. 다음 코드를 for문으로 작성해 보세요.\n",
        "~~~\n",
        "a = 10\n",
        "print(a)\n",
        "a = 20\n",
        "print(a)\n",
        "a = 30\n",
        "print(a)"
      ],
      "metadata": {
        "id": "ZgHNyql-9YQa"
      }
    },
    {
      "cell_type": "code",
      "source": [
        "n = input()\n",
        "for a in n:\n",
        "  if a == 10 :\n",
        "    print(a)\n",
        "  if a == 20 :\n",
        "    print(a)\n",
        "  if a == 30 :\n",
        "    print(a)"
      ],
      "metadata": {
        "id": "xWsRDZTLwOPY"
      },
      "execution_count": null,
      "outputs": []
    },
    {
      "cell_type": "markdown",
      "source": [
        "4. 다음 코드를 for문으로 작성해주세요.\n",
        "```\n",
        "print('1번 끝')\n",
        "print(\"-------\")\n",
        "print('2번 끝')\n",
        "print(\"-------\")\n",
        "print('3번 끝')\n",
        "print(\"-------\")\n",
        "```"
      ],
      "metadata": {
        "id": "Kk-upVAS_3T6"
      }
    },
    {
      "cell_type": "code",
      "source": [
        "n = input()\n",
        "i = ('print(\"1번 끝\")',\n",
        "     'print(\"-------\")',\n",
        "     'print(\"2번 끝\")',\n",
        "     'print(\"-------\")',\n",
        "     'print(\"3번 끝\")',\n",
        "     'print(\"-------\")')\n",
        "for n in i:\n",
        "  print(n)\n"
      ],
      "metadata": {
        "id": "c_mqK2ZTr433",
        "colab": {
          "base_uri": "https://localhost:8080/"
        },
        "outputId": "a9389953-e17f-4ce0-969f-f5330a9d862d"
      },
      "execution_count": null,
      "outputs": [
        {
          "output_type": "stream",
          "name": "stdout",
          "text": [
            "1\n",
            "print(\"1번 끝\")\n",
            "print(\"-------\")\n",
            "print(\"2번 끝\")\n",
            "print(\"-------\")\n",
            "print(\"3번 끝\")\n",
            "print(\"-------\")\n"
          ]
        }
      ]
    },
    {
      "cell_type": "code",
      "source": [
        "\n",
        "연지선생님 \n",
        "제가.. 이번 연휴 내내 여수에 다녀오느라 다 풀지 못했습니다.\n",
        "1월 3일 문제 내주시는 것까지 하겠습니다. \n",
        "\n",
        "- 넵 알겠습니다! 푹 쉬고 오셨다니 다행이네요\n",
        "올 한해도 화이팅입니다!!!!"
      ],
      "metadata": {
        "id": "p_OP_jph9nq1",
        "colab": {
          "base_uri": "https://localhost:8080/",
          "height": 136
        },
        "outputId": "6cc049e0-ac45-4f77-9786-e2c8c7df1b8f"
      },
      "execution_count": null,
      "outputs": [
        {
          "output_type": "error",
          "ename": "SyntaxError",
          "evalue": "ignored",
          "traceback": [
            "\u001b[0;36m  File \u001b[0;32m\"<ipython-input-26-cf72307b4ef9>\"\u001b[0;36m, line \u001b[0;32m2\u001b[0m\n\u001b[0;31m    제가.. 이번 연휴 내내 여수에 다녀오느라 다 풀지 못했습니다.\u001b[0m\n\u001b[0m       ^\u001b[0m\n\u001b[0;31mSyntaxError\u001b[0m\u001b[0;31m:\u001b[0m invalid syntax\n"
          ]
        }
      ]
    },
    {
      "cell_type": "code",
      "source": [
        ""
      ],
      "metadata": {
        "id": "iTOZLSwlhhQg"
      },
      "execution_count": null,
      "outputs": []
    },
    {
      "cell_type": "markdown",
      "source": [
        "# 20220103\n",
        "\n",
        "1. 신년세일\n",
        "- 연지상회에서는 아래 리스트에 있는 물품들을 20% 할인된 가격으로 판매하려고 합니다. 반복문을 활용하여 각각의 할인가격이 출력되도록 프로그래밍해주세요.\n",
        "\n",
        "~~~\n",
        "연필  |  500원\n",
        "공책  | 1200원\n",
        "신발  | 58000원\n",
        "~~~\n"
      ],
      "metadata": {
        "id": "Ya8kHqgtm4Hg"
      }
    },
    {
      "cell_type": "code",
      "source": [
        "n = {'연필' : 500,\n",
        "'공책' : 1200,\n",
        "'신발' : 58000}\n",
        "\n",
        "if i :\n",
        "  discount = n *0.2\n",
        "  price = n - discount\n",
        "print(price)"
      ],
      "metadata": {
        "id": "FHmshvIdASHm",
        "colab": {
          "base_uri": "https://localhost:8080/",
          "height": 245
        },
        "outputId": "b5d6e7bc-c6dc-4766-fe3e-de99ea0ffdf3"
      },
      "execution_count": null,
      "outputs": [
        {
          "output_type": "error",
          "ename": "TypeError",
          "evalue": "ignored",
          "traceback": [
            "\u001b[0;31m---------------------------------------------------------------------------\u001b[0m",
            "\u001b[0;31mTypeError\u001b[0m                                 Traceback (most recent call last)",
            "\u001b[0;32m<ipython-input-87-612b8ea6dc2d>\u001b[0m in \u001b[0;36m<module>\u001b[0;34m()\u001b[0m\n\u001b[1;32m      4\u001b[0m \u001b[0;34m\u001b[0m\u001b[0m\n\u001b[1;32m      5\u001b[0m \u001b[0;32mif\u001b[0m \u001b[0mi\u001b[0m \u001b[0;34m:\u001b[0m\u001b[0;34m\u001b[0m\u001b[0;34m\u001b[0m\u001b[0m\n\u001b[0;32m----> 6\u001b[0;31m   \u001b[0mdiscount\u001b[0m \u001b[0;34m=\u001b[0m \u001b[0mn\u001b[0m \u001b[0;34m*\u001b[0m\u001b[0;36m0.2\u001b[0m\u001b[0;34m\u001b[0m\u001b[0;34m\u001b[0m\u001b[0m\n\u001b[0m\u001b[1;32m      7\u001b[0m   \u001b[0mprice\u001b[0m \u001b[0;34m=\u001b[0m \u001b[0mn\u001b[0m \u001b[0;34m-\u001b[0m \u001b[0mdiscount\u001b[0m\u001b[0;34m\u001b[0m\u001b[0;34m\u001b[0m\u001b[0m\n\u001b[1;32m      8\u001b[0m \u001b[0mprint\u001b[0m\u001b[0;34m(\u001b[0m\u001b[0mprice\u001b[0m\u001b[0;34m)\u001b[0m\u001b[0;34m\u001b[0m\u001b[0;34m\u001b[0m\u001b[0m\n",
            "\u001b[0;31mTypeError\u001b[0m: unsupported operand type(s) for *: 'dict' and 'float'"
          ]
        }
      ]
    },
    {
      "cell_type": "markdown",
      "source": [
        "## 확인!\n",
        "- 반복문(for문)을 사용해야 모든 밸류 값에 조건을 적용할 수 있습니다!"
      ],
      "metadata": {
        "id": "l9tVWjAghb49"
      }
    },
    {
      "cell_type": "code",
      "source": [
        "n = {'연필' : 500,\n",
        "'공책' : 1200,\n",
        "'신발' : 58000}\n",
        "\n",
        "for k, v in n.items():\n",
        "  discount = v *0.2\n",
        "  price = v - discount\n",
        "  print(price)"
      ],
      "metadata": {
        "colab": {
          "base_uri": "https://localhost:8080/"
        },
        "id": "yb9TTGYHhbRy",
        "outputId": "bc231d85-7ea9-40f3-d841-5266ee3dc22d"
      },
      "execution_count": null,
      "outputs": [
        {
          "output_type": "stream",
          "name": "stdout",
          "text": [
            "400.0\n",
            "960.0\n",
            "46400.0\n"
          ]
        }
      ]
    },
    {
      "cell_type": "markdown",
      "source": [
        "2. 반복문과 조건문을 사용하여 아래의 리스트에서 음수만을 출력하세요.\n",
        "~~~\n",
        "list1 = [-2, 1, 4, -88, 12, -12]\n",
        "~~~"
      ],
      "metadata": {
        "id": "Pu5wc896pG6H"
      }
    },
    {
      "cell_type": "code",
      "source": [
        "list1 = [-2, 1, 4, -88, 12, -12]\n",
        "for i in list1:\n",
        "  if i < 0:\n",
        "    \n",
        "    print(i)"
      ],
      "metadata": {
        "id": "cn8jC43-pRPo",
        "colab": {
          "base_uri": "https://localhost:8080/"
        },
        "outputId": "0164139d-0cf2-4e21-dbd7-05f796384417"
      },
      "execution_count": null,
      "outputs": [
        {
          "output_type": "stream",
          "name": "stdout",
          "text": [
            "-2\n",
            "-88\n",
            "-12\n"
          ]
        }
      ]
    },
    {
      "cell_type": "markdown",
      "source": [
        "3. 반복문과 조건문을 사용하여 아래 리스트에서 3의 배수만을 출력하세요.\n",
        "~~~\n",
        "list1 = [3, 33, 100, 23, 81, 44]\n",
        "~~~"
      ],
      "metadata": {
        "id": "hdoBUIX8pqrI"
      }
    },
    {
      "cell_type": "code",
      "source": [
        "list1 = [3, 33, 100, 23, 81, 44]\n",
        "for i in list1:\n",
        "    if i % 3 == 0:\n",
        "      \n",
        "      print(i)"
      ],
      "metadata": {
        "id": "iYrWmXKVp-MG",
        "colab": {
          "base_uri": "https://localhost:8080/"
        },
        "outputId": "f0b78718-f2f6-4cd0-ee35-7406f648dfd9"
      },
      "execution_count": null,
      "outputs": [
        {
          "output_type": "stream",
          "name": "stdout",
          "text": [
            "3\n",
            "33\n",
            "81\n"
          ]
        }
      ]
    },
    {
      "cell_type": "markdown",
      "source": [
        "4. 반복문과 조건문을 사용하여 아래 리스트에서 50미만의 3의 배수만을 출력하세요.\n",
        "\n",
        "~~~\n",
        "list1 = [3, 33, 100, 23, 81, 44]\n",
        "~~~\n"
      ],
      "metadata": {
        "id": "tQyOTLtXqFlq"
      }
    },
    {
      "cell_type": "code",
      "source": [
        "list1 = [3, 33, 100, 23, 81, 44]\n",
        "for i in list1:\n",
        "    if i < 50 :\n",
        "      i % 3 == 0\n",
        "      print(i)"
      ],
      "metadata": {
        "id": "kFVJhaR9qPJr",
        "colab": {
          "base_uri": "https://localhost:8080/"
        },
        "outputId": "87501ef0-535e-4c92-adef-31a88d644ccb"
      },
      "execution_count": null,
      "outputs": [
        {
          "output_type": "stream",
          "name": "stdout",
          "text": [
            "3\n",
            "33\n",
            "23\n",
            "44\n"
          ]
        }
      ]
    },
    {
      "cell_type": "markdown",
      "source": [
        "## 확인!\n",
        "- 조건이 2개입니다. 50미만과 3의 배수를 모두 만족하는 숫자만 출력합니다."
      ],
      "metadata": {
        "id": "EGmNeoUBiZ3r"
      }
    },
    {
      "cell_type": "code",
      "source": [
        "list1 = [3, 33, 100, 23, 81, 44]\n",
        "for i in list1:\n",
        "    if (i < 50) & (i % 3 == 0):\n",
        "      print(i)"
      ],
      "metadata": {
        "colab": {
          "base_uri": "https://localhost:8080/"
        },
        "id": "_FzFwIHZin0c",
        "outputId": "920f68c0-717e-403b-f355-07dbdbb189d3"
      },
      "execution_count": null,
      "outputs": [
        {
          "output_type": "stream",
          "name": "stdout",
          "text": [
            "3\n",
            "33\n"
          ]
        }
      ]
    },
    {
      "cell_type": "markdown",
      "source": [
        "5. 아래 리스트의 각 동물이름의 첫 글자를 대문자로 변경해서 출력해보세요.\n",
        "~~~\n",
        "list1 = ['dog', 'cat', 'rabbit']\n",
        "~~~"
      ],
      "metadata": {
        "id": "X7YimfETqio1"
      }
    },
    {
      "cell_type": "code",
      "source": [
        "list1 = ['dog', 'cat', 'rabbit']\n",
        "for i in list1:\n",
        "  a = i[0]             \n",
        "  A = a.upper()     \n",
        "  print(A+ i[1:])"
      ],
      "metadata": {
        "id": "-GA8UL2xq371",
        "colab": {
          "base_uri": "https://localhost:8080/"
        },
        "outputId": "d3325ed3-54bb-4a0d-917e-fa6056a007aa"
      },
      "execution_count": null,
      "outputs": [
        {
          "output_type": "stream",
          "name": "stdout",
          "text": [
            "Dog\n",
            "Cat\n",
            "Rabbit\n"
          ]
        }
      ]
    },
    {
      "cell_type": "markdown",
      "source": [
        "6. 아래의 파일목록에서 확장자가 exe이거나 py인 파일만을 찾아 출력해보세요.\n",
        "```\n",
        "files = ['manage.py', 'run.exe', 'urls.py', 'run.bat']\n",
        "    ```"
      ],
      "metadata": {
        "id": "8HkRPIrCrc5h"
      }
    },
    {
      "cell_type": "code",
      "source": [
        "files = ['manage.py', 'run.exe', 'urls.py', 'run.bat']\n",
        "for i in files:\n",
        "  index = i.split('.')\n",
        "  if index[1] == 'py':\n",
        "    print(i)\n"
      ],
      "metadata": {
        "id": "aJLnD9Ieruqd",
        "colab": {
          "base_uri": "https://localhost:8080/"
        },
        "outputId": "343e3a15-bd26-482b-aaba-21cf655b811a"
      },
      "execution_count": null,
      "outputs": [
        {
          "output_type": "stream",
          "name": "stdout",
          "text": [
            "manage.py\n",
            "urls.py\n"
          ]
        }
      ]
    },
    {
      "cell_type": "markdown",
      "source": [
        "## 확인!\n",
        "조건이 2개입니다. exe or py"
      ],
      "metadata": {
        "id": "Jq1ZMIPijjKd"
      }
    },
    {
      "cell_type": "code",
      "source": [
        "files = ['manage.py', 'run.exe', 'urls.py', 'run.bat']\n",
        "for i in files:\n",
        "  index = i.split('.')\n",
        "  if (index[1] == 'py') or (index[1] == 'exe'):\n",
        "    print(i)\n"
      ],
      "metadata": {
        "id": "A_FRxS6vmT9J",
        "colab": {
          "base_uri": "https://localhost:8080/"
        },
        "outputId": "0f29aeed-4d54-4d82-8620-cd4ce1019290"
      },
      "execution_count": null,
      "outputs": [
        {
          "output_type": "stream",
          "name": "stdout",
          "text": [
            "manage.py\n",
            "run.exe\n",
            "urls.py\n"
          ]
        }
      ]
    },
    {
      "cell_type": "markdown",
      "source": [
        "# 20220104"
      ],
      "metadata": {
        "id": "bPc-fvDn0H_m"
      }
    },
    {
      "cell_type": "markdown",
      "source": [
        "1. for와 range를 사용하여 1에서 40까지 숫자를 출력해보세요."
      ],
      "metadata": {
        "id": "Mu46TMe6tMYl"
      }
    },
    {
      "cell_type": "code",
      "source": [
        "\n",
        "for n in range(41):\n",
        "  print(n)"
      ],
      "metadata": {
        "colab": {
          "base_uri": "https://localhost:8080/"
        },
        "id": "HGNq7-obmOsQ",
        "outputId": "34a06b0e-d8ba-4a5c-ab11-abf79ed70194"
      },
      "execution_count": null,
      "outputs": [
        {
          "output_type": "stream",
          "name": "stdout",
          "text": [
            "0\n",
            "1\n",
            "2\n",
            "3\n",
            "4\n",
            "5\n",
            "6\n",
            "7\n",
            "8\n",
            "9\n",
            "10\n",
            "11\n",
            "12\n",
            "13\n",
            "14\n",
            "15\n",
            "16\n",
            "17\n",
            "18\n",
            "19\n",
            "20\n",
            "21\n",
            "22\n",
            "23\n",
            "24\n",
            "25\n",
            "26\n",
            "27\n",
            "28\n",
            "29\n",
            "30\n",
            "31\n",
            "32\n",
            "33\n",
            "34\n",
            "35\n",
            "36\n",
            "37\n",
            "38\n",
            "39\n",
            "40\n"
          ]
        }
      ]
    },
    {
      "cell_type": "markdown",
      "source": [
        "2. for와 range를 사용하여 1에서 40까지 숫자들 중 4의 배수만을 출력해보세요."
      ],
      "metadata": {
        "id": "0xmJLSHStafI"
      }
    },
    {
      "cell_type": "code",
      "source": [
        "for n in range(40):\n",
        "  if (n % 4 == 0):\n",
        "    print(n)"
      ],
      "metadata": {
        "id": "BkKC9NUYteBM",
        "colab": {
          "base_uri": "https://localhost:8080/"
        },
        "outputId": "0e8bc0a9-78b5-4fb9-8062-81af84131789"
      },
      "execution_count": null,
      "outputs": [
        {
          "output_type": "stream",
          "name": "stdout",
          "text": [
            "0\n",
            "4\n",
            "8\n",
            "12\n",
            "16\n",
            "20\n",
            "24\n",
            "28\n",
            "32\n",
            "36\n"
          ]
        }
      ]
    },
    {
      "cell_type": "markdown",
      "source": [
        "3. for와 range를 사용하여 1에서 40까지 숫자들 중 4의 배수만을 거꾸로 출력해보세요."
      ],
      "metadata": {
        "id": "nZHglGGetlOn"
      }
    },
    {
      "cell_type": "code",
      "source": [
        "for n in reversed(range(40)):\n",
        "  if (n % 4 == 0):\n",
        "    print(n)\n"
      ],
      "metadata": {
        "id": "RLo9ahfBtqqP",
        "colab": {
          "base_uri": "https://localhost:8080/"
        },
        "outputId": "2dd6b131-50ee-4083-8224-41d7f5efa9e1"
      },
      "execution_count": null,
      "outputs": [
        {
          "output_type": "stream",
          "name": "stdout",
          "text": [
            "36\n",
            "32\n",
            "28\n",
            "24\n",
            "20\n",
            "16\n",
            "12\n",
            "8\n",
            "4\n",
            "0\n"
          ]
        }
      ]
    },
    {
      "cell_type": "markdown",
      "source": [
        "4. 1~10까지의 숫자에 대해 모두 더한 값을 출력하는 프로그램을 for 문을 사용하여 작성하세요."
      ],
      "metadata": {
        "id": "3eclpf_at72V"
      }
    },
    {
      "cell_type": "code",
      "source": [
        "n = [1,2,3,4,5,6,7,8,9,10]\n",
        "i= [1,2,3,4,5,6,7,8,9,10]\n",
        "for i in range(1,10):\n",
        "  if n in range(1,10,+1):\n",
        "    print(i+ n)"
      ],
      "metadata": {
        "id": "wka0TDQ5t97K"
      },
      "execution_count": null,
      "outputs": []
    },
    {
      "cell_type": "markdown",
      "source": [
        "5. 반복문을 활용하여 구구단을 2~9단까지 출력하세요."
      ],
      "metadata": {
        "id": "BnVoBLLEoTEp"
      }
    },
    {
      "cell_type": "code",
      "source": [
        "n = [1,2,3,4,5,6,7,8,9,10]\n",
        "for n in range(1,10):\n",
        "  for i in range(2, 10):\n",
        "    print(i ,'*', n, '=', n*i)"
      ],
      "metadata": {
        "id": "XDEG5TKWnn1B",
        "colab": {
          "base_uri": "https://localhost:8080/"
        },
        "outputId": "fac8811b-1457-49ef-fffd-8073432670f8"
      },
      "execution_count": null,
      "outputs": [
        {
          "output_type": "stream",
          "name": "stdout",
          "text": [
            "2 * 1 = 2\n",
            "3 * 1 = 3\n",
            "4 * 1 = 4\n",
            "5 * 1 = 5\n",
            "6 * 1 = 6\n",
            "7 * 1 = 7\n",
            "8 * 1 = 8\n",
            "9 * 1 = 9\n",
            "2 * 2 = 4\n",
            "3 * 2 = 6\n",
            "4 * 2 = 8\n",
            "5 * 2 = 10\n",
            "6 * 2 = 12\n",
            "7 * 2 = 14\n",
            "8 * 2 = 16\n",
            "9 * 2 = 18\n",
            "2 * 3 = 6\n",
            "3 * 3 = 9\n",
            "4 * 3 = 12\n",
            "5 * 3 = 15\n",
            "6 * 3 = 18\n",
            "7 * 3 = 21\n",
            "8 * 3 = 24\n",
            "9 * 3 = 27\n",
            "2 * 4 = 8\n",
            "3 * 4 = 12\n",
            "4 * 4 = 16\n",
            "5 * 4 = 20\n",
            "6 * 4 = 24\n",
            "7 * 4 = 28\n",
            "8 * 4 = 32\n",
            "9 * 4 = 36\n",
            "2 * 5 = 10\n",
            "3 * 5 = 15\n",
            "4 * 5 = 20\n",
            "5 * 5 = 25\n",
            "6 * 5 = 30\n",
            "7 * 5 = 35\n",
            "8 * 5 = 40\n",
            "9 * 5 = 45\n",
            "2 * 6 = 12\n",
            "3 * 6 = 18\n",
            "4 * 6 = 24\n",
            "5 * 6 = 30\n",
            "6 * 6 = 36\n",
            "7 * 6 = 42\n",
            "8 * 6 = 48\n",
            "9 * 6 = 54\n",
            "2 * 7 = 14\n",
            "3 * 7 = 21\n",
            "4 * 7 = 28\n",
            "5 * 7 = 35\n",
            "6 * 7 = 42\n",
            "7 * 7 = 49\n",
            "8 * 7 = 56\n",
            "9 * 7 = 63\n",
            "2 * 8 = 16\n",
            "3 * 8 = 24\n",
            "4 * 8 = 32\n",
            "5 * 8 = 40\n",
            "6 * 8 = 48\n",
            "7 * 8 = 56\n",
            "8 * 8 = 64\n",
            "9 * 8 = 72\n",
            "2 * 9 = 18\n",
            "3 * 9 = 27\n",
            "4 * 9 = 36\n",
            "5 * 9 = 45\n",
            "6 * 9 = 54\n",
            "7 * 9 = 63\n",
            "8 * 9 = 72\n",
            "9 * 9 = 81\n"
          ]
        }
      ]
    },
    {
      "cell_type": "markdown",
      "source": [
        "\n",
        "# 20220105"
      ],
      "metadata": {
        "id": "yJYkIEf2o2wa"
      }
    },
    {
      "cell_type": "markdown",
      "source": [
        "1. for문을 사용하여 아래 리스트의 데이터를 출력해보세요.\n",
        "~~~\n",
        "list1 = [30000, 32000, 31000, 32500]\n",
        "~~~"
      ],
      "metadata": {
        "id": "fDWVZM8iuph5"
      }
    },
    {
      "cell_type": "code",
      "source": [
        "list1 = [30000, 32000, 31000, 32500]"
      ],
      "metadata": {
        "id": "dcDT8Wd7owYY"
      },
      "execution_count": null,
      "outputs": []
    },
    {
      "cell_type": "code",
      "source": [
        "for i in list1 :\n",
        "  print(i)"
      ],
      "metadata": {
        "id": "fdx9aW8DvEhX",
        "colab": {
          "base_uri": "https://localhost:8080/"
        },
        "outputId": "5e9d3ace-e451-46b6-83ec-ea66fad3c319"
      },
      "execution_count": null,
      "outputs": [
        {
          "output_type": "stream",
          "name": "stdout",
          "text": [
            "30000\n",
            "32000\n",
            "31000\n",
            "32500\n"
          ]
        }
      ]
    },
    {
      "cell_type": "markdown",
      "source": [
        "2. for문과 range문을 사용하여 list1의 데이터를 출력해보세요.\n"
      ],
      "metadata": {
        "id": "GzpZO04cu4Fv"
      }
    },
    {
      "cell_type": "code",
      "source": [
        "list1 = [30000, 32000, 31000, 32500]\n",
        "for n in range(0,1) :\n",
        "  n = list1\n",
        "  print(n)"
      ],
      "metadata": {
        "id": "P91BsgzovKX7",
        "colab": {
          "base_uri": "https://localhost:8080/"
        },
        "outputId": "215d5477-37c5-4c91-f4be-106accbab4b2"
      },
      "execution_count": null,
      "outputs": [
        {
          "output_type": "stream",
          "name": "stdout",
          "text": [
            "[30000, 32000, 31000, 32500]\n"
          ]
        }
      ]
    },
    {
      "cell_type": "markdown",
      "source": [
        "3. for와 range, len을 사용하여 list1의 데이터를 출력해보세요."
      ],
      "metadata": {
        "id": "EYS566C_vN61"
      }
    },
    {
      "cell_type": "code",
      "source": [
        "list1 =  [30000, 32000, 31000, 32500]\n",
        "\n",
        "for n in range(0,1):\n",
        "  n = list1\n",
        "  print(n,len(n))"
      ],
      "metadata": {
        "id": "OuOUXf70vKnX",
        "colab": {
          "base_uri": "https://localhost:8080/"
        },
        "outputId": "4ec42718-d6dc-4f8e-a538-3910ab6a4334"
      },
      "execution_count": null,
      "outputs": [
        {
          "output_type": "stream",
          "name": "stdout",
          "text": [
            "[30000, 32000, 31000, 32500] 4\n"
          ]
        }
      ]
    },
    {
      "cell_type": "markdown",
      "source": [
        "# 확인!"
      ],
      "metadata": {
        "id": "T2auUPBa6g76"
      }
    },
    {
      "cell_type": "code",
      "source": [
        "for i in range(len(list1)):\n",
        "    print(list1[i])"
      ],
      "metadata": {
        "colab": {
          "base_uri": "https://localhost:8080/"
        },
        "id": "BJbzioo36V56",
        "outputId": "730cadab-bc45-41d3-f5fa-44bfc1306a18"
      },
      "execution_count": null,
      "outputs": [
        {
          "output_type": "stream",
          "name": "stdout",
          "text": [
            "30000\n",
            "32000\n",
            "31000\n",
            "32500\n"
          ]
        }
      ]
    },
    {
      "cell_type": "markdown",
      "source": [
        "len() 함수를 사용하면 list1 이 변해도 코드의 수정이 필요없습니다."
      ],
      "metadata": {
        "id": "3nK74pOgva-M"
      }
    },
    {
      "cell_type": "markdown",
      "source": [
        "4. enumerate를 사용하여 아래와 같이 list1의 값에 각각 1부터 시작하는 순서를 매겨보세요.\n",
        "~~~\n",
        "1 30000\n",
        "2 32000\n",
        "3 31000\n",
        "4 32500\n",
        "~~~"
      ],
      "metadata": {
        "id": "wmVpc3DEvpIB"
      }
    },
    {
      "cell_type": "code",
      "source": [
        "list1 = [30000, 32000, 31000, 32500]\n",
        "for n in enumerate(list1):\n",
        "  print(n)"
      ],
      "metadata": {
        "id": "smW9k3ZjvQd8",
        "colab": {
          "base_uri": "https://localhost:8080/"
        },
        "outputId": "8200f5af-978c-46f8-db9b-91aa6d6b7295"
      },
      "execution_count": null,
      "outputs": [
        {
          "output_type": "stream",
          "name": "stdout",
          "text": [
            "(0, 30000)\n",
            "(1, 32000)\n",
            "(2, 31000)\n",
            "(3, 32500)\n"
          ]
        }
      ]
    },
    {
      "cell_type": "markdown",
      "source": [
        "5. 이번에는 아래와 같이 거꾸로 순서를 매겨보세요."
      ],
      "metadata": {
        "id": "q2MQlO25v-FN"
      }
    },
    {
      "cell_type": "markdown",
      "source": [
        "~~~\n",
        "4 30000\n",
        "3 32000\n",
        "2 31000\n",
        "1 32500\n",
        "~~~"
      ],
      "metadata": {
        "id": "Qb6vWj34wMNY"
      }
    },
    {
      "cell_type": "code",
      "source": [
        "list1 = [30000, 32000, 31000, 32500]\n",
        "for n in enumerate(list1, 1):\n",
        "  list1.reverse() \n",
        "  print(n)"
      ],
      "metadata": {
        "id": "Bga6hOc4vySE",
        "colab": {
          "base_uri": "https://localhost:8080/"
        },
        "outputId": "1176f3bd-ffa2-43f4-b507-462928264f96"
      },
      "execution_count": null,
      "outputs": [
        {
          "output_type": "stream",
          "name": "stdout",
          "text": [
            "(0, 30000)\n",
            "(1, 31000)\n",
            "(2, 31000)\n",
            "(3, 30000)\n"
          ]
        }
      ]
    },
    {
      "cell_type": "code",
      "source": [
        "list1 = [30000, 32000, 31000, 32500]\n",
        "for n in enumerate(range(list1), -1):\n",
        "   \n",
        "  print(n)"
      ],
      "metadata": {
        "colab": {
          "base_uri": "https://localhost:8080/",
          "height": 229
        },
        "id": "4pQQdeyEJVuy",
        "outputId": "835dbde5-d977-48ce-896a-e4236058234d"
      },
      "execution_count": null,
      "outputs": [
        {
          "output_type": "error",
          "ename": "TypeError",
          "evalue": "ignored",
          "traceback": [
            "\u001b[0;31m---------------------------------------------------------------------------\u001b[0m",
            "\u001b[0;31mTypeError\u001b[0m                                 Traceback (most recent call last)",
            "\u001b[0;32m<ipython-input-12-ecb0ba60db2e>\u001b[0m in \u001b[0;36m<module>\u001b[0;34m()\u001b[0m\n\u001b[1;32m      1\u001b[0m \u001b[0mlist1\u001b[0m \u001b[0;34m=\u001b[0m \u001b[0;34m[\u001b[0m\u001b[0;36m30000\u001b[0m\u001b[0;34m,\u001b[0m \u001b[0;36m32000\u001b[0m\u001b[0;34m,\u001b[0m \u001b[0;36m31000\u001b[0m\u001b[0;34m,\u001b[0m \u001b[0;36m32500\u001b[0m\u001b[0;34m]\u001b[0m\u001b[0;34m\u001b[0m\u001b[0;34m\u001b[0m\u001b[0m\n\u001b[0;32m----> 2\u001b[0;31m \u001b[0;32mfor\u001b[0m \u001b[0mn\u001b[0m \u001b[0;32min\u001b[0m \u001b[0menumerate\u001b[0m\u001b[0;34m(\u001b[0m\u001b[0mrange\u001b[0m\u001b[0;34m(\u001b[0m\u001b[0mlist1\u001b[0m\u001b[0;34m)\u001b[0m\u001b[0;34m,\u001b[0m \u001b[0;34m-\u001b[0m\u001b[0;36m1\u001b[0m\u001b[0;34m)\u001b[0m\u001b[0;34m:\u001b[0m\u001b[0;34m\u001b[0m\u001b[0;34m\u001b[0m\u001b[0m\n\u001b[0m\u001b[1;32m      3\u001b[0m \u001b[0;34m\u001b[0m\u001b[0m\n\u001b[1;32m      4\u001b[0m   \u001b[0mprint\u001b[0m\u001b[0;34m(\u001b[0m\u001b[0mn\u001b[0m\u001b[0;34m)\u001b[0m\u001b[0;34m\u001b[0m\u001b[0;34m\u001b[0m\u001b[0m\n",
            "\u001b[0;31mTypeError\u001b[0m: 'list' object cannot be interpreted as an integer"
          ]
        }
      ]
    },
    {
      "cell_type": "markdown",
      "source": [
        "# 확인!"
      ],
      "metadata": {
        "id": "Ze3drRfj6vGP"
      }
    },
    {
      "cell_type": "code",
      "source": [
        "for i, data in enumerate(list1):\n",
        "    print(len(list1)-i, data)"
      ],
      "metadata": {
        "colab": {
          "base_uri": "https://localhost:8080/"
        },
        "id": "POqvxVIy6zVK",
        "outputId": "717ba272-53d5-48e3-f5cd-869c3ced5680"
      },
      "execution_count": null,
      "outputs": [
        {
          "output_type": "stream",
          "name": "stdout",
          "text": [
            "4 30000\n",
            "3 32000\n",
            "2 31000\n",
            "1 32500\n"
          ]
        }
      ]
    },
    {
      "cell_type": "markdown",
      "source": [
        "6. 아래의 리스트를 for문과 인덱싱을 활용하여 output과 같이 출력해보세요.\n",
        "~~~\n",
        "list1 = ['가', '나', '다', '라', '마', '바']\n",
        "~~~\n"
      ],
      "metadata": {
        "id": "1t2XtcgkwXSs"
      }
    },
    {
      "cell_type": "markdown",
      "source": [
        "output:\n",
        "~~~\n",
        "가 나\n",
        "나 다\n",
        "다 라\n",
        "라 마\n",
        "마 바\n",
        "~~~"
      ],
      "metadata": {
        "id": "XBeXtsZBw4-m"
      }
    },
    {
      "cell_type": "code",
      "source": [
        "index = list1"
      ],
      "metadata": {
        "id": "mHRgC2tssIGj"
      },
      "execution_count": null,
      "outputs": []
    },
    {
      "cell_type": "code",
      "source": [
        "list1 = ['가', '나', '다', '라', '마', '바']\n",
        "for i in list1[0:5]:\n",
        "  for n in list1[1:6]:\n",
        "        break\n",
        "    \n",
        "  print(n, i)"
      ],
      "metadata": {
        "id": "mqzoEokBwIih",
        "colab": {
          "base_uri": "https://localhost:8080/"
        },
        "outputId": "f7c34fb0-91be-4fb3-99df-4749d9a15e53"
      },
      "execution_count": null,
      "outputs": [
        {
          "output_type": "stream",
          "name": "stdout",
          "text": [
            "나 가\n",
            "나 나\n",
            "나 다\n",
            "나 라\n",
            "나 마\n"
          ]
        }
      ]
    },
    {
      "cell_type": "markdown",
      "source": [
        "# 확인!"
      ],
      "metadata": {
        "id": "dj7mZjWp69ZF"
      }
    },
    {
      "cell_type": "code",
      "source": [
        "list1 = ['가', '나', '다', '라', '마', '바']\n",
        "for i in range(len(list1)-1):\n",
        "    print(list1[i], list1[i+1])"
      ],
      "metadata": {
        "colab": {
          "base_uri": "https://localhost:8080/"
        },
        "id": "QgO--N_i6_ds",
        "outputId": "915b9ce8-cd86-4f6f-d9a6-17039019aab2"
      },
      "execution_count": null,
      "outputs": [
        {
          "output_type": "stream",
          "name": "stdout",
          "text": [
            "가 나\n",
            "나 다\n",
            "다 라\n",
            "라 마\n",
            "마 바\n"
          ]
        }
      ]
    },
    {
      "cell_type": "markdown",
      "source": [
        "7. 아래의 리스트를 for문과 인덱싱을 활용하여 output과 같이 출력해보세요.\n",
        "~~~\n",
        "list1 = ['가', '나', '다', '라', '마', '바']\n",
        "~~~\n",
        "output:\n",
        "~~~\n",
        "바 마\n",
        "마 라\n",
        "라 다\n",
        "다 나\n",
        "나 가\n",
        "~~~"
      ],
      "metadata": {
        "id": "jHoYziSWxJsG"
      }
    },
    {
      "cell_type": "code",
      "source": [
        "list1 = ['가', '나', '다', '라', '마', '바']\n",
        "for i in list1[-1:0:-1]:\n",
        "  for n in list1[-2:0:-1]:\n",
        "        break\n",
        "  print(i , n)"
      ],
      "metadata": {
        "id": "eoGvdtqiwxoy",
        "colab": {
          "base_uri": "https://localhost:8080/"
        },
        "outputId": "7865575f-165d-448d-e662-949e5d93fa0d"
      },
      "execution_count": null,
      "outputs": [
        {
          "output_type": "stream",
          "name": "stdout",
          "text": [
            "바 마\n",
            "마 마\n",
            "라 마\n",
            "다 마\n",
            "나 마\n"
          ]
        }
      ]
    },
    {
      "cell_type": "markdown",
      "source": [
        "# 확인!"
      ],
      "metadata": {
        "id": "bjCHa7yj7JmR"
      }
    },
    {
      "cell_type": "code",
      "source": [
        "for i in range(len(list1) - 1):\n",
        "    print(list1[len(list1) - 1 - i], list1[len(list1) - 2 - i])"
      ],
      "metadata": {
        "colab": {
          "base_uri": "https://localhost:8080/"
        },
        "id": "7TnnOiHB7GI6",
        "outputId": "e5561f28-3acb-401c-e6a4-9b04b4cd0616"
      },
      "execution_count": null,
      "outputs": [
        {
          "output_type": "stream",
          "name": "stdout",
          "text": [
            "바 마\n",
            "마 라\n",
            "라 다\n",
            "다 나\n",
            "나 가\n"
          ]
        }
      ]
    },
    {
      "cell_type": "markdown",
      "source": [
        "# 20220106\n",
        "- 중첩루프\n",
        "\n",
        "1. 별찍기 1 - 아래와 같은 모양으로 별을 출력해주세요\n",
        "\n",
        "~~~\n",
        "*\n",
        "**\n",
        "***\n",
        "****\n",
        "*****\n",
        "~~~\n"
      ],
      "metadata": {
        "id": "PXRa3QMHxiCB"
      }
    },
    {
      "cell_type": "code",
      "source": [
        "def pstar(n):\n",
        "  if n > 0 :\n",
        "    pstar(n-1)\n",
        "    print('*'*n)\n",
        "\n",
        "pstar(5)"
      ],
      "metadata": {
        "id": "rWp9ObN4xG_V",
        "colab": {
          "base_uri": "https://localhost:8080/"
        },
        "outputId": "12189055-57c7-4c44-f126-68f9b6bea6a4"
      },
      "execution_count": null,
      "outputs": [
        {
          "output_type": "stream",
          "name": "stdout",
          "text": [
            "*\n",
            "**\n",
            "***\n",
            "****\n",
            "*****\n"
          ]
        }
      ]
    },
    {
      "cell_type": "code",
      "source": [
        "n = 6\n",
        "star = \"*\"\n",
        "for i in range(1, n):\n",
        "    print(i * star)"
      ],
      "metadata": {
        "colab": {
          "base_uri": "https://localhost:8080/"
        },
        "id": "7C9fb_QmTomV",
        "outputId": "a8c3a2ff-9a8f-4bc8-d1e9-ba07f712d21d"
      },
      "execution_count": null,
      "outputs": [
        {
          "output_type": "stream",
          "name": "stdout",
          "text": [
            "*\n",
            "**\n",
            "***\n",
            "****\n",
            "*****\n"
          ]
        }
      ]
    },
    {
      "cell_type": "code",
      "source": [
        "n = 6\n",
        "star = \"*\"\n",
        "for i in range(n-1, 0,-1):\n",
        "    print(i * star)"
      ],
      "metadata": {
        "colab": {
          "base_uri": "https://localhost:8080/"
        },
        "id": "pagAHOyQTeBR",
        "outputId": "637c31d6-c399-4621-f881-599becf22c4d"
      },
      "execution_count": null,
      "outputs": [
        {
          "output_type": "stream",
          "name": "stdout",
          "text": [
            "*****\n",
            "****\n",
            "***\n",
            "**\n",
            "*\n"
          ]
        }
      ]
    },
    {
      "cell_type": "markdown",
      "source": [
        "2. 별찍기 2\n",
        "\n",
        "~~~\n",
        "    *\n",
        "   **\n",
        "  ***\n",
        " ****\n",
        "*****\n",
        "~~~\n"
      ],
      "metadata": {
        "id": "t26DY44-x70E"
      }
    },
    {
      "cell_type": "markdown",
      "source": [
        "# 확인!"
      ],
      "metadata": {
        "id": "AofpU6eWXuHM"
      }
    },
    {
      "cell_type": "code",
      "source": [
        "n = 5\n",
        "\n",
        "for i in range(n):\n",
        "    \n",
        "  # 공백 출력\n",
        "  for k in range(n-i-1):\n",
        "    print(' ', end='')\n",
        "    \n",
        "  # 별을 출력\n",
        "  for j in range(i+1):\n",
        "    print('*', end='')\n",
        "  print()\n"
      ],
      "metadata": {
        "id": "2nOV68k9x1Vz",
        "colab": {
          "base_uri": "https://localhost:8080/"
        },
        "outputId": "96e9967d-5c15-4e0d-f478-673939c3edc3"
      },
      "execution_count": null,
      "outputs": [
        {
          "output_type": "stream",
          "name": "stdout",
          "text": [
            "    *\n",
            "   **\n",
            "  ***\n",
            " ****\n",
            "*****\n"
          ]
        }
      ]
    },
    {
      "cell_type": "markdown",
      "source": [
        "3. 별찍기 3\n",
        "\n",
        "~~~\n",
        "*****\n",
        " ****\n",
        "  ***\n",
        "   **\n",
        "    *\n",
        "~~~"
      ],
      "metadata": {
        "id": "w8wwu7DVyNEM"
      }
    },
    {
      "cell_type": "markdown",
      "source": [
        "# 확인!"
      ],
      "metadata": {
        "id": "H8r9AMm9X36N"
      }
    },
    {
      "cell_type": "code",
      "source": [
        "n = 5\n",
        "for i in range(n, 0, -1):\n",
        "  for k in range(n-i):\n",
        "    print(' ', end='')\n",
        "\n",
        "  for j in range(i):\n",
        "    print('*', end='')\n",
        "  print()\n",
        "\n",
        "print()"
      ],
      "metadata": {
        "id": "jDJt19QayJHr",
        "colab": {
          "base_uri": "https://localhost:8080/"
        },
        "outputId": "9550a1ce-771c-476d-eda5-9952af24a8d9"
      },
      "execution_count": null,
      "outputs": [
        {
          "output_type": "stream",
          "name": "stdout",
          "text": [
            "*****\n",
            " ****\n",
            "  ***\n",
            "   **\n",
            "    *\n",
            "\n"
          ]
        }
      ]
    },
    {
      "cell_type": "markdown",
      "source": [
        "4. 별찍기 4\n",
        "\n",
        "~~~\n",
        "    *\n",
        "   ***\n",
        "  *****\n",
        " *******\n",
        "*********\n",
        "~~~"
      ],
      "metadata": {
        "id": "evLxgmiEydf9"
      }
    },
    {
      "cell_type": "markdown",
      "source": [
        "# 확인!"
      ],
      "metadata": {
        "id": "nAvo1YaLX_un"
      }
    },
    {
      "cell_type": "code",
      "source": [
        "n = 5\n",
        "\n",
        "for i in range(1, n+1):\n",
        "  # 공백\n",
        "  for k in range(n-i): \n",
        "    print(' ', end='')\n",
        "\n",
        "  # 별\n",
        "  for j in range( 2 * i - 1 ):\n",
        "    print('*', end='')\n",
        "  print()"
      ],
      "metadata": {
        "id": "2ZeBoMJyyY_Y",
        "colab": {
          "base_uri": "https://localhost:8080/"
        },
        "outputId": "bdd756e0-c1df-421c-c9f2-cd366f389235"
      },
      "execution_count": null,
      "outputs": [
        {
          "output_type": "stream",
          "name": "stdout",
          "text": [
            "    *\n",
            "   ***\n",
            "  *****\n",
            " *******\n",
            "*********\n"
          ]
        }
      ]
    },
    {
      "cell_type": "markdown",
      "source": [
        "# 20220107\n",
        "2차원 리스트 - 수업자료의 인덱싱, 슬라이싱 부분을 참조해보세요!\n",
        "\n",
        "1. 아래의 그림을 참조하여 한층에 2가구씩 사는 아파트를 2차원리스트 dong에 담아보세요.\n",
        "\n",
        "dong\n",
        "~~~\n",
        "101호|102호\n",
        "201호|202호\n",
        "301호|302호\n",
        "401호|402호\n",
        "\n",
        "~~~\n"
      ],
      "metadata": {
        "id": "QbYvaNag1lft"
      }
    },
    {
      "cell_type": "code",
      "source": [
        "dong = [ [\"101호\", \"102호\"], [\"201호\", \"202호\"], [\"301호\", \"302호\"], [\"401호\", \"402호\"] ]\n",
        "print(dong)"
      ],
      "metadata": {
        "id": "GdtNElhtyiMn",
        "colab": {
          "base_uri": "https://localhost:8080/"
        },
        "outputId": "66caee47-050d-47a6-f403-12d6d67b6485"
      },
      "execution_count": null,
      "outputs": [
        {
          "output_type": "stream",
          "name": "stdout",
          "text": [
            "[['101호', '102호'], ['201호', '202호'], ['301호', '302호'], ['401호', '402호']]\n"
          ]
        }
      ]
    },
    {
      "cell_type": "code",
      "source": [
        ""
      ],
      "metadata": {
        "id": "xf2dvk5NbN4v"
      },
      "execution_count": null,
      "outputs": []
    },
    {
      "cell_type": "code",
      "source": [
        "import numpy as np"
      ],
      "metadata": {
        "id": "tUPH7oqua7vU"
      },
      "execution_count": null,
      "outputs": []
    },
    {
      "cell_type": "code",
      "source": [
        "dong = [[\"101호\", \"102호\"],\n",
        "        [\"201호\", \"202호\"],\n",
        "        [\"301호\", \"302호\"],\n",
        "        [\"401호\", \"402호\"] ]"
      ],
      "metadata": {
        "id": "3ixx7fHRXRkw"
      },
      "execution_count": null,
      "outputs": []
    },
    {
      "cell_type": "code",
      "source": [
        "type(dong)"
      ],
      "metadata": {
        "colab": {
          "base_uri": "https://localhost:8080/"
        },
        "id": "BfOGZRwhaQ3r",
        "outputId": "41215ee1-87f6-42c6-c80e-5f4f710fc7d3"
      },
      "execution_count": null,
      "outputs": [
        {
          "output_type": "execute_result",
          "data": {
            "text/plain": [
              "list"
            ]
          },
          "metadata": {},
          "execution_count": 146
        }
      ]
    },
    {
      "cell_type": "code",
      "source": [
        "index = (dong)"
      ],
      "metadata": {
        "id": "fRM914YyZ_k9"
      },
      "execution_count": null,
      "outputs": []
    },
    {
      "cell_type": "markdown",
      "source": [
        "1-1. dong 변수에서 3층만 찾아 출력해보세요."
      ],
      "metadata": {
        "id": "6N4ajVXk2lx1"
      }
    },
    {
      "cell_type": "code",
      "source": [
        "dong[2]"
      ],
      "metadata": {
        "id": "-wJWqkdA2UMD",
        "colab": {
          "base_uri": "https://localhost:8080/"
        },
        "outputId": "eb4fa782-0151-4bcf-dad2-77c786ce7e05"
      },
      "execution_count": null,
      "outputs": [
        {
          "output_type": "execute_result",
          "data": {
            "text/plain": [
              "['301호', '302호']"
            ]
          },
          "metadata": {},
          "execution_count": 149
        }
      ]
    },
    {
      "cell_type": "markdown",
      "source": [
        "1-2. dong 변수에서 102호만 찾아 출력해보세요."
      ],
      "metadata": {
        "id": "mCYWYk0F21zU"
      }
    },
    {
      "cell_type": "code",
      "source": [
        "dong[0][1]"
      ],
      "metadata": {
        "id": "G0clO1h22s-u",
        "colab": {
          "base_uri": "https://localhost:8080/",
          "height": 35
        },
        "outputId": "4529f58d-0f2c-4c60-af1e-1ac5e8281de0"
      },
      "execution_count": null,
      "outputs": [
        {
          "output_type": "execute_result",
          "data": {
            "application/vnd.google.colaboratory.intrinsic+json": {
              "type": "string"
            },
            "text/plain": [
              "'102호'"
            ]
          },
          "metadata": {},
          "execution_count": 158
        }
      ]
    },
    {
      "cell_type": "markdown",
      "source": [
        "1-3. dong 변수에서 2호라인을 전부 찾아 출력해주세요."
      ],
      "metadata": {
        "id": "DeptFqQB27M4"
      }
    },
    {
      "cell_type": "code",
      "source": [
        "print(dong[0][1],\n",
        "      dong[1][1],\n",
        "      dong[2][1],\n",
        "      dong[3][1])"
      ],
      "metadata": {
        "id": "z4zEnJlS2zez",
        "colab": {
          "base_uri": "https://localhost:8080/"
        },
        "outputId": "9e8438cd-84c2-448f-94d3-8d96761cc9a4"
      },
      "execution_count": null,
      "outputs": [
        {
          "output_type": "stream",
          "name": "stdout",
          "text": [
            "102호 202호 302호 402호\n"
          ]
        }
      ]
    },
    {
      "cell_type": "markdown",
      "source": [
        "# 확인!"
      ],
      "metadata": {
        "id": "fkyZS9IkYyZT"
      }
    },
    {
      "cell_type": "code",
      "source": [
        "for i in range(len(dong)):\n",
        "  print(dong[i][1])"
      ],
      "metadata": {
        "colab": {
          "base_uri": "https://localhost:8080/"
        },
        "id": "C5-gARsgYzkT",
        "outputId": "f14d8f4d-a4b7-4b0b-f3e3-61fa85ca7b86"
      },
      "execution_count": null,
      "outputs": [
        {
          "output_type": "stream",
          "name": "stdout",
          "text": [
            "102호\n",
            "202호\n",
            "302호\n",
            "402호\n"
          ]
        }
      ]
    },
    {
      "cell_type": "markdown",
      "source": [
        "1-4. 리스트에 저장된 데이터를 아래와 같이 출력해주세요.\n",
        "~~~\n",
        "401호\n",
        "402호\n",
        "301호\n",
        "302호\n",
        "201호\n",
        "202호\n",
        "101호\n",
        "102호\n",
        "~~~"
      ],
      "metadata": {
        "id": "MKPijX5t6RT1"
      }
    },
    {
      "cell_type": "code",
      "source": [
        "for i in dong[3:0]:\n",
        "  print(i)\n",
        "  for n in dong[3:1]:\n",
        "    print(n)\n",
        "    for m in dong[2:0]:\n",
        "      print(m)\n",
        "      for ie in dong[2:1]:\n",
        "        print(ie)\n",
        "        for id in dong[1:0]:\n",
        "          print(id)\n",
        "          for iss in dong[1:1]:\n",
        "            print(iss)\n",
        "            for ee in dong[0:0]:\n",
        "              print(ee)\n",
        "              for nd in dong[0:1]:\n",
        "                print(nd)\n",
        "                print(i,n,m,ie,id,iss,ee,nd)"
      ],
      "metadata": {
        "id": "J8qFcRSG6XVd",
        "colab": {
          "base_uri": "https://localhost:8080/",
          "height": 235
        },
        "outputId": "a14c4bca-15de-4fd3-814b-7004f592b08f"
      },
      "execution_count": null,
      "outputs": [
        {
          "output_type": "error",
          "ename": "NameError",
          "evalue": "ignored",
          "traceback": [
            "\u001b[0;31m---------------------------------------------------------------------------\u001b[0m",
            "\u001b[0;31mNameError\u001b[0m                                 Traceback (most recent call last)",
            "\u001b[0;32m<ipython-input-1-70777d8eaaeb>\u001b[0m in \u001b[0;36m<module>\u001b[0;34m()\u001b[0m\n\u001b[0;32m----> 1\u001b[0;31m \u001b[0;32mfor\u001b[0m \u001b[0mi\u001b[0m \u001b[0;32min\u001b[0m \u001b[0mdong\u001b[0m\u001b[0;34m[\u001b[0m\u001b[0;36m3\u001b[0m\u001b[0;34m:\u001b[0m\u001b[0;36m0\u001b[0m\u001b[0;34m]\u001b[0m\u001b[0;34m:\u001b[0m\u001b[0;34m\u001b[0m\u001b[0;34m\u001b[0m\u001b[0m\n\u001b[0m\u001b[1;32m      2\u001b[0m   \u001b[0mprint\u001b[0m\u001b[0;34m(\u001b[0m\u001b[0mi\u001b[0m\u001b[0;34m)\u001b[0m\u001b[0;34m\u001b[0m\u001b[0;34m\u001b[0m\u001b[0m\n\u001b[1;32m      3\u001b[0m   \u001b[0;32mfor\u001b[0m \u001b[0mn\u001b[0m \u001b[0;32min\u001b[0m \u001b[0mdong\u001b[0m\u001b[0;34m[\u001b[0m\u001b[0;36m3\u001b[0m\u001b[0;34m:\u001b[0m\u001b[0;36m1\u001b[0m\u001b[0;34m]\u001b[0m\u001b[0;34m:\u001b[0m\u001b[0;34m\u001b[0m\u001b[0;34m\u001b[0m\u001b[0m\n\u001b[1;32m      4\u001b[0m     \u001b[0mprint\u001b[0m\u001b[0;34m(\u001b[0m\u001b[0mn\u001b[0m\u001b[0;34m)\u001b[0m\u001b[0;34m\u001b[0m\u001b[0;34m\u001b[0m\u001b[0m\n\u001b[1;32m      5\u001b[0m     \u001b[0;32mfor\u001b[0m \u001b[0mm\u001b[0m \u001b[0;32min\u001b[0m \u001b[0mdong\u001b[0m\u001b[0;34m[\u001b[0m\u001b[0;36m2\u001b[0m\u001b[0;34m:\u001b[0m\u001b[0;36m0\u001b[0m\u001b[0;34m]\u001b[0m\u001b[0;34m:\u001b[0m\u001b[0;34m\u001b[0m\u001b[0;34m\u001b[0m\u001b[0m\n",
            "\u001b[0;31mNameError\u001b[0m: name 'dong' is not defined"
          ]
        }
      ]
    },
    {
      "cell_type": "code",
      "source": [
        "print(dong[3][0],\n",
        "dong[3][1],\n",
        "dong[2][0],\n",
        "dong[2][1],\n",
        "dong[1][0],\n",
        "dong[1][1],\n",
        "dong[0][0],\n",
        "dong[0][1], sep='\\n')\n"
      ],
      "metadata": {
        "colab": {
          "base_uri": "https://localhost:8080/"
        },
        "id": "UYFdNu1setXd",
        "outputId": "791787c4-2e31-4438-d91d-5aa18cd190e1"
      },
      "execution_count": null,
      "outputs": [
        {
          "output_type": "stream",
          "name": "stdout",
          "text": [
            "401호\n",
            "402호\n",
            "301호\n",
            "302호\n",
            "201호\n",
            "202호\n",
            "101호\n",
            "102호\n"
          ]
        }
      ]
    },
    {
      "cell_type": "markdown",
      "source": [
        "# 확인!"
      ],
      "metadata": {
        "id": "_Xbf7W6oY64b"
      }
    },
    {
      "cell_type": "code",
      "source": [
        "for row in dong[::-1]:\n",
        "    for col in row:\n",
        "        print(col)"
      ],
      "metadata": {
        "colab": {
          "base_uri": "https://localhost:8080/"
        },
        "id": "MdCbWnZ3Y9Co",
        "outputId": "3fac1a86-a5c2-4c39-da4f-f74f79cbc3e2"
      },
      "execution_count": null,
      "outputs": [
        {
          "output_type": "stream",
          "name": "stdout",
          "text": [
            "401호\n",
            "402호\n",
            "301호\n",
            "302호\n",
            "201호\n",
            "202호\n",
            "101호\n",
            "102호\n"
          ]
        }
      ]
    },
    {
      "cell_type": "markdown",
      "source": [
        "1-5. 리스트에 저장된 데이터를 아래와 같이 출력해주세요.\n",
        "~~~\n",
        "402호\n",
        "401호\n",
        "302호\n",
        "301호\n",
        "202호\n",
        "201호\n",
        "102호\n",
        "101호\n",
        "~~~"
      ],
      "metadata": {
        "id": "C9B56-rV6n0B"
      }
    },
    {
      "cell_type": "code",
      "source": [
        "print(dong[3][1],\n",
        "      dong[3][0],\n",
        "      dong[2][1],\n",
        "      dong[2][0],\n",
        "      dong[1][1],\n",
        "      dong[1][0],\n",
        "      dong[0][1],\n",
        "      dong[0][0], sep='\\n')"
      ],
      "metadata": {
        "id": "-Rb2v6Du6n0B",
        "colab": {
          "base_uri": "https://localhost:8080/"
        },
        "outputId": "56c5a166-013c-4322-83e5-99cc74b5b6aa"
      },
      "execution_count": null,
      "outputs": [
        {
          "output_type": "stream",
          "name": "stdout",
          "text": [
            "402호\n",
            "401호\n",
            "302호\n",
            "301호\n",
            "202호\n",
            "201호\n",
            "102호\n",
            "101호\n"
          ]
        }
      ]
    },
    {
      "cell_type": "markdown",
      "source": [
        "# 확인!"
      ],
      "metadata": {
        "id": "JSiVJ_WoZBIs"
      }
    },
    {
      "cell_type": "code",
      "source": [
        "for row in dong[::-1]:\n",
        "    for col in row[::-1]:\n",
        "        print(col)\n"
      ],
      "metadata": {
        "colab": {
          "base_uri": "https://localhost:8080/"
        },
        "id": "h53xgJGCZCy0",
        "outputId": "61f505f2-e379-4ded-bf86-4f392323208b"
      },
      "execution_count": null,
      "outputs": [
        {
          "output_type": "stream",
          "name": "stdout",
          "text": [
            "402호\n",
            "401호\n",
            "302호\n",
            "301호\n",
            "202호\n",
            "201호\n",
            "102호\n",
            "101호\n"
          ]
        }
      ]
    },
    {
      "cell_type": "markdown",
      "source": [
        "1-6. 리스트에 저장된 데이터를 아래와 같이 출력해주세요.\n",
        "~~~\n",
        "101호\n",
        "-----\n",
        "102호\n",
        "-----\n",
        "201호\n",
        "-----\n",
        "202호\n",
        "-----\n",
        "301호\n",
        "-----\n",
        "302호\n",
        "-----\n",
        "401호\n",
        "-----\n",
        "402호\n",
        "-----\n",
        "~~~"
      ],
      "metadata": {
        "id": "G3UPxs4V67Q8"
      }
    },
    {
      "cell_type": "code",
      "source": [
        "while dong:\n",
        "  print(dong[0][0])\n",
        "  print('-----')\n",
        "  print(dong[0][1])\n",
        "  print('-----')\n",
        "  print(dong[1][0])\n",
        "  print('-----')\n",
        "  print(dong[1][1])\n",
        "  print('-----')\n",
        "  print(dong[2][0])\n",
        "  print('-----')\n",
        "  print(dong[2][1])\n",
        "  print('-----')\n",
        "  print(dong[3][0])\n",
        "  print('-----')\n",
        "  print(dong[3][1])\n",
        "  print('-----')\n",
        "  break\n"
      ],
      "metadata": {
        "id": "G68sJ7UO67Q8",
        "colab": {
          "base_uri": "https://localhost:8080/"
        },
        "outputId": "e1d94929-5902-480a-970d-ec9a87622f43"
      },
      "execution_count": null,
      "outputs": [
        {
          "output_type": "stream",
          "name": "stdout",
          "text": [
            "101호\n",
            "-----\n",
            "102호\n",
            "-----\n",
            "201호\n",
            "-----\n",
            "202호\n",
            "-----\n",
            "301호\n",
            "-----\n",
            "302호\n",
            "-----\n",
            "401호\n",
            "-----\n",
            "402호\n",
            "-----\n"
          ]
        }
      ]
    },
    {
      "cell_type": "markdown",
      "source": [
        "# 확인!\n",
        "- 위에 성희님이 작성하신 코드는 굳이 while문을 쓰지 않아도 동작합니다. 반복되는 조건을 찾아서 아래와 같이 프로그래밍을 하시면 좀더 수월하게 코드를 짤 수 있습니다! "
      ],
      "metadata": {
        "id": "hgDcxsElZSWH"
      }
    },
    {
      "cell_type": "code",
      "source": [
        "for row in dong:\n",
        "    for col in row:\n",
        "        print(col)\n",
        "        print(\"-\" * 5)"
      ],
      "metadata": {
        "colab": {
          "base_uri": "https://localhost:8080/"
        },
        "id": "sDwdzWE6ZXE_",
        "outputId": "04c4ee33-5495-4080-fb6a-bd255fdd2c03"
      },
      "execution_count": null,
      "outputs": [
        {
          "output_type": "stream",
          "name": "stdout",
          "text": [
            "101호\n",
            "-----\n",
            "102호\n",
            "-----\n",
            "201호\n",
            "-----\n",
            "202호\n",
            "-----\n",
            "301호\n",
            "-----\n",
            "302호\n",
            "-----\n",
            "401호\n",
            "-----\n",
            "402호\n",
            "-----\n"
          ]
        }
      ]
    },
    {
      "cell_type": "markdown",
      "source": [
        "1-7. 리스트에 저장된 데이터를 아래와 같이 출력해주세요.\n",
        "~~~\n",
        "101호\n",
        "102호\n",
        "-----\n",
        "201호\n",
        "202호\n",
        "-----\n",
        "301호\n",
        "302호\n",
        "-----\n",
        "401호\n",
        "402호\n",
        "-----\n",
        "~~~"
      ],
      "metadata": {
        "id": "jz63Vo_i7MSI"
      }
    },
    {
      "cell_type": "code",
      "source": [
        "while dong:\n",
        "  print(dong[0][0])\n",
        "  print(dong[0][1])\n",
        "  print('-----')\n",
        "  print(dong[1][0])\n",
        "  print(dong[1][1])\n",
        "  print('-----')\n",
        "  print(dong[2][0])\n",
        "  print(dong[2][1])\n",
        "  print('-----')\n",
        "  print(dong[3][0])\n",
        "  print(dong[3][1])\n",
        "  print('-----')\n",
        "  break"
      ],
      "metadata": {
        "id": "DnSYHs267MSJ",
        "colab": {
          "base_uri": "https://localhost:8080/"
        },
        "outputId": "0b6a2808-8a7b-4ad5-dbf5-cdb94a38d74f"
      },
      "execution_count": null,
      "outputs": [
        {
          "output_type": "stream",
          "name": "stdout",
          "text": [
            "101호\n",
            "102호\n",
            "-----\n",
            "201호\n",
            "202호\n",
            "-----\n",
            "301호\n",
            "302호\n",
            "-----\n",
            "401호\n",
            "402호\n",
            "-----\n"
          ]
        }
      ]
    },
    {
      "cell_type": "markdown",
      "source": [
        "# 확인!\n",
        "그런 의미에서 위의 코드를 참조하여 이 부분을 수정해보시기를 추천드립니다."
      ],
      "metadata": {
        "id": "VHgI4HsyZlSM"
      }
    },
    {
      "cell_type": "markdown",
      "source": [
        "2. 아래의 그림을 참조하여 한층에 2가구씩 사는 아파트를 하나의 열을 하나의 리스트로, 총 2개의 리스트를 갖는  2차원리스트 dong에 담아보세요.\n",
        "\n",
        "dong\n",
        "~~~\n",
        "1호  | 2호\n",
        "----------\n",
        "101호|102호\n",
        "201호|202호\n",
        "301호|302호\n",
        "401호|402호\n",
        "\n",
        "~~~"
      ],
      "metadata": {
        "id": "8TuNYjxF3_pP"
      }
    },
    {
      "cell_type": "code",
      "source": [
        "dong = [[\"1호\",\"101호\", \"201호\", \"301호\", \"401호\"],\n",
        "        [\"2호\", \"102호\", \"202호\", \"302호\", \"402호\"]]"
      ],
      "metadata": {
        "id": "JZFgiL4V3A4i"
      },
      "execution_count": null,
      "outputs": []
    },
    {
      "cell_type": "markdown",
      "source": [
        "2-1. dong 변수에서 3층만 찾아 출력해보세요."
      ],
      "metadata": {
        "id": "5OMjhrAf4l1k"
      }
    },
    {
      "cell_type": "code",
      "source": [
        "print(dong[0][3],dong[1][3])"
      ],
      "metadata": {
        "id": "ThhCLEfE4l1l",
        "colab": {
          "base_uri": "https://localhost:8080/"
        },
        "outputId": "dbd7df4b-8b54-4937-a27d-36a226f77f7d"
      },
      "execution_count": null,
      "outputs": [
        {
          "output_type": "stream",
          "name": "stdout",
          "text": [
            "301호 302호\n"
          ]
        }
      ]
    },
    {
      "cell_type": "markdown",
      "source": [
        "2-2. dong 변수에서 102호만 찾아 출력해보세요."
      ],
      "metadata": {
        "id": "rCMhZLci4l1l"
      }
    },
    {
      "cell_type": "code",
      "source": [
        "print(dong[1][1])"
      ],
      "metadata": {
        "id": "RW--7yX74l1l",
        "colab": {
          "base_uri": "https://localhost:8080/"
        },
        "outputId": "dc0daca1-80cd-42fa-f95f-51ab044c6190"
      },
      "execution_count": null,
      "outputs": [
        {
          "output_type": "stream",
          "name": "stdout",
          "text": [
            "102호\n"
          ]
        }
      ]
    },
    {
      "cell_type": "markdown",
      "source": [
        "2-3. dong 변수에서 2호라인을 전부 찾아 출력해주세요."
      ],
      "metadata": {
        "id": "y-V0RIIM4l1l"
      }
    },
    {
      "cell_type": "code",
      "source": [
        "print(dong[1])"
      ],
      "metadata": {
        "id": "ripJCUko4l1m",
        "colab": {
          "base_uri": "https://localhost:8080/"
        },
        "outputId": "f648bb9a-b72b-4302-f846-ea48f63e8fa6"
      },
      "execution_count": null,
      "outputs": [
        {
          "output_type": "stream",
          "name": "stdout",
          "text": [
            "['2호', '102호', '202호', '302호', '402호']\n"
          ]
        }
      ]
    },
    {
      "cell_type": "markdown",
      "source": [
        "3. 아래의 그림을 참조하여 한층에 2가구씩 사는 아파트를 1호, 2호라는 호수를 키값으로 갖는 딕셔너리 dong에 담아보세요.\n",
        "\n",
        "dong\n",
        "~~~\n",
        "1호  | 2호\n",
        "----------\n",
        "101호|102호\n",
        "201호|202호\n",
        "301호|302호\n",
        "401호|402호\n",
        "\n",
        "~~~"
      ],
      "metadata": {
        "id": "gMF11PHI5CVn"
      }
    },
    {
      "cell_type": "code",
      "source": [
        "dong={'1호':['101호', '201호', '301호', '401호'], '2호':['102호', '202호', '302호', '402호']}\n",
        "dong"
      ],
      "metadata": {
        "colab": {
          "base_uri": "https://localhost:8080/"
        },
        "id": "wCe1RzjB44zo",
        "outputId": "c5d42b07-67b4-4fc7-e271-40b62dfd3575"
      },
      "execution_count": null,
      "outputs": [
        {
          "output_type": "execute_result",
          "data": {
            "text/plain": [
              "{'1호': ['101호', '201호', '301호', '401호'],\n",
              " '2호': ['102호', '202호', '302호', '402호']}"
            ]
          },
          "metadata": {},
          "execution_count": 245
        }
      ]
    },
    {
      "cell_type": "markdown",
      "source": [
        "3-1. dong 변수에서 3층만 찾아 출력해보세요."
      ],
      "metadata": {
        "id": "gLoYrDqd5oLb"
      }
    },
    {
      "cell_type": "code",
      "source": [
        "print(dong['1호'][2],\n",
        "dong['2호'][2])"
      ],
      "metadata": {
        "id": "JxucDW065oLc",
        "colab": {
          "base_uri": "https://localhost:8080/"
        },
        "outputId": "3040f551-ec4a-461a-a1fd-5ec2c3c9bb25"
      },
      "execution_count": null,
      "outputs": [
        {
          "output_type": "stream",
          "name": "stdout",
          "text": [
            "301호 302호\n"
          ]
        }
      ]
    },
    {
      "cell_type": "markdown",
      "source": [
        "3-2. dong 변수에서 102호만 찾아 출력해보세요."
      ],
      "metadata": {
        "id": "gF_kxh8H5oLc"
      }
    },
    {
      "cell_type": "code",
      "source": [
        "print(dong['2호'][0])"
      ],
      "metadata": {
        "id": "quOOsHD-5oLc",
        "colab": {
          "base_uri": "https://localhost:8080/"
        },
        "outputId": "d56ce8bd-b022-43ff-e89d-df3d05ae17ba"
      },
      "execution_count": null,
      "outputs": [
        {
          "output_type": "stream",
          "name": "stdout",
          "text": [
            "102호\n"
          ]
        }
      ]
    },
    {
      "cell_type": "markdown",
      "source": [
        "3-3. dong 변수에서 2호라인을 전부 찾아 출력해주세요."
      ],
      "metadata": {
        "id": "5GBSI0ug5oLd"
      }
    },
    {
      "cell_type": "code",
      "source": [
        "dong['2호']"
      ],
      "metadata": {
        "id": "MCsivUqX5oLd",
        "colab": {
          "base_uri": "https://localhost:8080/"
        },
        "outputId": "e64f4241-8008-4492-c363-81197de16e68"
      },
      "execution_count": null,
      "outputs": [
        {
          "output_type": "execute_result",
          "data": {
            "text/plain": [
              "['102호', '202호', '302호', '402호']"
            ]
          },
          "metadata": {},
          "execution_count": 268
        }
      ]
    },
    {
      "cell_type": "markdown",
      "source": [
        "# 20220108"
      ],
      "metadata": {
        "id": "kgedLBOf7evB"
      }
    },
    {
      "cell_type": "markdown",
      "source": [
        "1. list1에는 연지상회에서 파는 물건들의 원가, 이윤, 소비자가격이 바인딩 되어있습니다. 각 물건을 20% 할인해서 판매한다고 할 때 할인가격과 새 이윤을 출력해주세요.\n",
        "\n",
        "~~~\n",
        "list1 = [\n",
        "    [ 2000,  550,  2550],\n",
        "    [ 3400,  850,  4250],\n",
        "    [54000, 15000, 69000]\n",
        "]\n",
        "~~~"
      ],
      "metadata": {
        "id": "G7PFizN1-U-q"
      }
    },
    {
      "cell_type": "code",
      "source": [
        "list1 = [\n",
        "    [ 2000,  550,  2550],\n",
        "    [ 3400,  850,  4250],\n",
        "    [54000, 15000, 69000]\n",
        "]"
      ],
      "metadata": {
        "id": "LIDSheIj7gTE"
      },
      "execution_count": null,
      "outputs": []
    },
    {
      "cell_type": "code",
      "source": [
        "for l in list1:\n",
        "  l = (list1[0][2])\n",
        "  for i in list1:\n",
        "    i = (list1[1][2])\n",
        "    for n in list1:\n",
        "      n= (list1[2][2])\n",
        "print(l,i,n)\n"
      ],
      "metadata": {
        "id": "YfTqL4c6_H37",
        "colab": {
          "base_uri": "https://localhost:8080/"
        },
        "outputId": "96571ae6-baf0-47ee-c0ec-4ec0e8f40aa8"
      },
      "execution_count": null,
      "outputs": [
        {
          "output_type": "stream",
          "name": "stdout",
          "text": [
            "2550 4250 69000\n"
          ]
        }
      ]
    },
    {
      "cell_type": "code",
      "source": [
        "list2 = [2550, 4250, 69000]\n",
        "for k in list2:\n",
        "  list2 = k * 0.2\n",
        "  if k :\n",
        "    k= k - list2\n",
        "    print(int(k)) "
      ],
      "metadata": {
        "colab": {
          "base_uri": "https://localhost:8080/"
        },
        "id": "NaG-_VG1-RdC",
        "outputId": "7b272c07-9f3a-4d06-8d5c-afae5a489c08"
      },
      "execution_count": null,
      "outputs": [
        {
          "output_type": "stream",
          "name": "stdout",
          "text": [
            "2040\n",
            "3400\n",
            "55200\n"
          ]
        }
      ]
    },
    {
      "cell_type": "code",
      "source": [
        "list3 = [550,850,15000]\n",
        "\n",
        "for k in list3:\n",
        "  list3 = k * 0.2\n",
        "  if k :\n",
        "    k= k - list3\n",
        "    print(int(k)) "
      ],
      "metadata": {
        "colab": {
          "base_uri": "https://localhost:8080/"
        },
        "id": "DLldUodyCwl-",
        "outputId": "f36ba2d1-b8e5-4353-960a-356e0f77907f"
      },
      "execution_count": null,
      "outputs": [
        {
          "output_type": "stream",
          "name": "stdout",
          "text": [
            "440\n",
            "680\n",
            "12000\n"
          ]
        }
      ]
    },
    {
      "cell_type": "markdown",
      "source": [
        "# 확인!\n",
        "- 하나의 for문으로 전부를 해결하는 방법도 있습니다.\n"
      ],
      "metadata": {
        "id": "6uwxVfhYZ0P9"
      }
    },
    {
      "cell_type": "code",
      "source": [
        "for i in list1:\n",
        "    print('할인가격 :', i[2] * 0.8, '새 이윤:', i[2]*0.8-i[0])"
      ],
      "metadata": {
        "colab": {
          "base_uri": "https://localhost:8080/"
        },
        "id": "B_fpFh3FZ6lV",
        "outputId": "4fa37d94-6d88-4957-b65b-de0bf583d3cc"
      },
      "execution_count": null,
      "outputs": [
        {
          "output_type": "stream",
          "name": "stdout",
          "text": [
            "할인가격 : 2040.0 새 이윤: 40.0\n",
            "할인가격 : 3400.0 새 이윤: 0.0\n",
            "할인가격 : 55200.0 새 이윤: 1200.0\n"
          ]
        }
      ]
    },
    {
      "cell_type": "markdown",
      "source": [
        "2. 물가인상으로 매입가격이 변경되어 연지상회 역시 이윤과 판매가격을 업데이트해보려 합니다. list1에 담긴 각각 금액에 2%를 반영해 출력해주세요.\n"
      ],
      "metadata": {
        "id": "FXuOzjrI_r1_"
      }
    },
    {
      "cell_type": "code",
      "source": [
        "list1 =([\n",
        "    [ 2000,  550,  2550],\n",
        "    [ 3400,  850,  4250],\n",
        "    [54000, 15000, 69000]\n",
        "])"
      ],
      "metadata": {
        "id": "j4_P3YMoL3mR"
      },
      "execution_count": null,
      "outputs": []
    },
    {
      "cell_type": "code",
      "source": [
        "if n in list1:\n",
        "  list1 * int(0.02) == n\n",
        "  print(n)\n",
        "  if k in n:\n",
        "    k = n + list1\n",
        "    print(k + n)\n"
      ],
      "metadata": {
        "id": "SK0hhmIq_XcS"
      },
      "execution_count": null,
      "outputs": []
    },
    {
      "cell_type": "code",
      "source": [
        "def list1():\n",
        "    a = list1 *int(0.02)\n",
        "    for i in list1:\n",
        "        a = a + i\n",
        "    return a\n",
        "\n",
        "\n",
        "#잘 모르겠어요..."
      ],
      "metadata": {
        "id": "Gz4OyFyqMltu"
      },
      "execution_count": null,
      "outputs": []
    },
    {
      "cell_type": "markdown",
      "source": [
        "# 확인!"
      ],
      "metadata": {
        "id": "iJ75KDKwaIbz"
      }
    },
    {
      "cell_type": "code",
      "source": [
        "for line in list1:\n",
        "    for column in line:\n",
        "        print(column * 1.02)"
      ],
      "metadata": {
        "colab": {
          "base_uri": "https://localhost:8080/"
        },
        "id": "mD6OXwfdaJ3h",
        "outputId": "f0cdf924-d714-48ae-b3ea-4c7165f2c14d"
      },
      "execution_count": null,
      "outputs": [
        {
          "output_type": "stream",
          "name": "stdout",
          "text": [
            "2040.0\n",
            "561.0\n",
            "2601.0\n",
            "3468.0\n",
            "867.0\n",
            "4335.0\n",
            "55080.0\n",
            "15300.0\n",
            "70380.0\n"
          ]
        }
      ]
    },
    {
      "cell_type": "markdown",
      "source": [
        "3. 위의 업데이트된 가격을 행별로 '----'를 함께 출력해 품목별 인상분을 구분해주세요.\n"
      ],
      "metadata": {
        "id": "JqeZZPMqAnbf"
      }
    },
    {
      "cell_type": "code",
      "source": [
        "list1 =[\n",
        "    [ 2000,  550,  2550],\n",
        "    [ 3400,  850,  4250],\n",
        "    [54000, 15000, 69000]\n",
        "]\n",
        "while list1:\n",
        "  print(list1[0])\n",
        "  if n in list1[0]:\n",
        "    list1[0] * 0.02 == n\n",
        "  print('인상분:', n ,'-----')\n",
        "  print(list1[1])\n",
        "  print('-----')\n",
        "  print(list1[2])\n",
        "  break"
      ],
      "metadata": {
        "id": "mh905sv-AaDd",
        "colab": {
          "base_uri": "https://localhost:8080/"
        },
        "outputId": "0fbef8af-4a07-4f95-bfb5-d808829d9d8a"
      },
      "execution_count": null,
      "outputs": [
        {
          "output_type": "stream",
          "name": "stdout",
          "text": [
            "[2000, 550, 2550]\n",
            "인상분: * -----\n",
            "[3400, 850, 4250]\n",
            "-----\n",
            "[54000, 15000, 69000]\n"
          ]
        }
      ]
    },
    {
      "cell_type": "markdown",
      "source": [
        "# 확인!"
      ],
      "metadata": {
        "id": "Aos8zzJ8aPnp"
      }
    },
    {
      "cell_type": "code",
      "source": [
        "for line in list1:\n",
        "    for column in line:\n",
        "        print(column * 1.02)\n",
        "    print('----')"
      ],
      "metadata": {
        "colab": {
          "base_uri": "https://localhost:8080/"
        },
        "id": "wdky2FqnaRKZ",
        "outputId": "1fc2d6da-1d4a-44bb-a92f-a785bac712e3"
      },
      "execution_count": null,
      "outputs": [
        {
          "output_type": "stream",
          "name": "stdout",
          "text": [
            "2040.0\n",
            "561.0\n",
            "2601.0\n",
            "----\n",
            "3468.0\n",
            "867.0\n",
            "4335.0\n",
            "----\n",
            "55080.0\n",
            "15300.0\n",
            "70380.0\n",
            "----\n"
          ]
        }
      ]
    },
    {
      "cell_type": "markdown",
      "source": [
        "3. 연지상회는 새해를 맞이하여 판매가가 3000원 미만의 물건은 판매하지 않는다는 방침을 세웠습니다. list1에서 3000원 미만의 품목은 제외하고 판매가격만을 출력해주세요."
      ],
      "metadata": {
        "id": "-Ye3K9YQA7iP"
      }
    },
    {
      "cell_type": "code",
      "source": [
        "print(list1[1][2],\n",
        "      list1[2][2])"
      ],
      "metadata": {
        "id": "b8VcZyn1A1VW",
        "colab": {
          "base_uri": "https://localhost:8080/"
        },
        "outputId": "18705705-14ae-4950-96ae-a7498931de83"
      },
      "execution_count": null,
      "outputs": [
        {
          "output_type": "stream",
          "name": "stdout",
          "text": [
            "4250 69000\n"
          ]
        }
      ]
    },
    {
      "cell_type": "markdown",
      "source": [
        "# if절로 확인!\n",
        "- 품목이 언제 어떻게 바뀔지 모르니까"
      ],
      "metadata": {
        "id": "VEFh7tHXi_dI"
      }
    },
    {
      "cell_type": "code",
      "source": [
        "for row in list1:\n",
        "    if (row[2] > 3000):\n",
        "        print(row[2])"
      ],
      "metadata": {
        "colab": {
          "base_uri": "https://localhost:8080/"
        },
        "id": "bQ3waxWOjDCU",
        "outputId": "e5809497-b090-44d0-88fc-721e3c3b285b"
      },
      "execution_count": null,
      "outputs": [
        {
          "output_type": "stream",
          "name": "stdout",
          "text": [
            "4250\n",
            "69000\n"
          ]
        }
      ]
    },
    {
      "cell_type": "markdown",
      "source": [
        "4. 연지상회의 장부인 list1의 첫번째 순서로 '원가', '이윤', '판매금액'이라는 내용이 담긴 리스트를 추가하려 합니다. 추가후 전체 리스트를 출력해보세요."
      ],
      "metadata": {
        "id": "SatghNl1Budc"
      }
    },
    {
      "cell_type": "code",
      "source": [
        "list1 = [\n",
        "    [ 2000,  550,  2550],\n",
        "    [ 3400,  850,  4250],\n",
        "    [54000, 15000, 69000]\n",
        "]\n"
      ],
      "metadata": {
        "id": "VTFAHCmDvW-R"
      },
      "execution_count": null,
      "outputs": []
    },
    {
      "cell_type": "code",
      "source": [
        "type(list1)"
      ],
      "metadata": {
        "colab": {
          "base_uri": "https://localhost:8080/"
        },
        "id": "UIuVcEJ6vXsZ",
        "outputId": "1eabf929-1acc-40e2-f03e-042785324363"
      },
      "execution_count": null,
      "outputs": [
        {
          "output_type": "execute_result",
          "data": {
            "text/plain": [
              "list"
            ]
          },
          "metadata": {},
          "execution_count": 20
        }
      ]
    },
    {
      "cell_type": "code",
      "source": [
        "list1.insert(0,['원가', '이윤', '판매금액'])"
      ],
      "metadata": {
        "id": "c6p2KGLHCGdI"
      },
      "execution_count": null,
      "outputs": []
    },
    {
      "cell_type": "code",
      "source": [
        "print(list1)"
      ],
      "metadata": {
        "colab": {
          "base_uri": "https://localhost:8080/"
        },
        "id": "FCMFkcbPv48_",
        "outputId": "2bfc539e-2ad7-4fa8-968f-44827fda4a79"
      },
      "execution_count": null,
      "outputs": [
        {
          "output_type": "stream",
          "name": "stdout",
          "text": [
            "[['원가', '이윤', '판매금액'], [2000, 550, 2550], [3400, 850, 4250], [54000, 15000, 69000]]\n"
          ]
        }
      ]
    },
    {
      "cell_type": "code",
      "source": [
        "list1.remove(['원가', '이윤', '판매금액'])"
      ],
      "metadata": {
        "id": "kipIhBKRwMCX"
      },
      "execution_count": null,
      "outputs": []
    },
    {
      "cell_type": "code",
      "source": [
        "list1.remove(['원가', '이윤', '판매금액'])"
      ],
      "metadata": {
        "id": "Vgo1mBMRwWBC"
      },
      "execution_count": null,
      "outputs": []
    },
    {
      "cell_type": "code",
      "source": [
        "print(list1)"
      ],
      "metadata": {
        "colab": {
          "base_uri": "https://localhost:8080/"
        },
        "id": "lUkwTNsJwaoJ",
        "outputId": "23a8e38c-8989-44a9-9863-33e6b6832601"
      },
      "execution_count": null,
      "outputs": [
        {
          "output_type": "stream",
          "name": "stdout",
          "text": [
            "[['원가', '이윤', '판매금액'], [2000, 550, 2550], [3400, 850, 4250], [54000, 15000, 69000]]\n"
          ]
        }
      ]
    },
    {
      "cell_type": "markdown",
      "source": [
        "5. 4번문항에 의해 업데이트된 list1에서 3000원 미만의 품목은 제외하고 판매가격만을 출력해주세요."
      ],
      "metadata": {
        "id": "UdnE5ORgCq-r"
      }
    },
    {
      "cell_type": "code",
      "source": [
        "print(list1[0][2])"
      ],
      "metadata": {
        "id": "rFeVcAKcBin3",
        "colab": {
          "base_uri": "https://localhost:8080/"
        },
        "outputId": "3b06614c-23fb-4c07-ebd6-d15e9ce28238"
      },
      "execution_count": null,
      "outputs": [
        {
          "output_type": "stream",
          "name": "stdout",
          "text": [
            "판매금액\n"
          ]
        }
      ]
    },
    {
      "cell_type": "markdown",
      "source": [
        "# 확인"
      ],
      "metadata": {
        "id": "tMut2SQ0jNSk"
      }
    },
    {
      "cell_type": "code",
      "source": [
        "for row in list1[1:]:\n",
        "    if (row[2] > 3000):\n",
        "        print(row[2])"
      ],
      "metadata": {
        "id": "FAsIz9WPwy2O",
        "colab": {
          "base_uri": "https://localhost:8080/"
        },
        "outputId": "273020b8-4665-4f59-f725-80e38331e1f7"
      },
      "execution_count": null,
      "outputs": [
        {
          "output_type": "stream",
          "name": "stdout",
          "text": [
            "4250\n",
            "69000\n"
          ]
        }
      ]
    },
    {
      "cell_type": "markdown",
      "source": [
        "# 20220110\n",
        "\n",
        "- 함수"
      ],
      "metadata": {
        "id": "wku6bnhezjvN"
      }
    },
    {
      "cell_type": "markdown",
      "source": [
        "1. '출력결과'라는 문자열이 출력되는 함수 printing을 만들고 호출해보세요."
      ],
      "metadata": {
        "id": "v1Gyk6Sqznti"
      }
    },
    {
      "cell_type": "code",
      "source": [
        "def Printing():\n",
        "  print('출력결과')\n"
      ],
      "metadata": {
        "id": "KtvSWBaBCmBy"
      },
      "execution_count": null,
      "outputs": []
    },
    {
      "cell_type": "code",
      "source": [
        "Printing()"
      ],
      "metadata": {
        "id": "2DWSgdj-3D8u",
        "colab": {
          "base_uri": "https://localhost:8080/"
        },
        "outputId": "016c7f67-4b22-4a06-dd0a-f7e3226c6265"
      },
      "execution_count": null,
      "outputs": [
        {
          "output_type": "stream",
          "name": "stdout",
          "text": [
            "출력결과\n"
          ]
        }
      ]
    },
    {
      "cell_type": "markdown",
      "source": [
        "2. 위의 함수를 30번 호출하는 함수 thirty를 만들고 호출해보세요."
      ],
      "metadata": {
        "id": "xEfTxHu43iIO"
      }
    },
    {
      "cell_type": "code",
      "source": [
        "def thirty():\n",
        "  for count in range(30):\n",
        "    count == 0\n",
        "    count -= 1\n",
        "    Printing()\n",
        "\n",
        "thirty()"
      ],
      "metadata": {
        "colab": {
          "base_uri": "https://localhost:8080/"
        },
        "id": "3ZdZhKTbs6yL",
        "outputId": "7cdfac9b-abb9-431f-deb1-d90d03fa7d32"
      },
      "execution_count": null,
      "outputs": [
        {
          "output_type": "stream",
          "name": "stdout",
          "text": [
            "출력결과\n",
            "출력결과\n",
            "출력결과\n",
            "출력결과\n",
            "출력결과\n",
            "출력결과\n",
            "출력결과\n",
            "출력결과\n",
            "출력결과\n",
            "출력결과\n",
            "출력결과\n",
            "출력결과\n",
            "출력결과\n",
            "출력결과\n",
            "출력결과\n",
            "출력결과\n",
            "출력결과\n",
            "출력결과\n",
            "출력결과\n",
            "출력결과\n",
            "출력결과\n",
            "출력결과\n",
            "출력결과\n",
            "출력결과\n",
            "출력결과\n",
            "출력결과\n",
            "출력결과\n",
            "출력결과\n",
            "출력결과\n",
            "출력결과\n"
          ]
        }
      ]
    },
    {
      "cell_type": "code",
      "source": [
        ""
      ],
      "metadata": {
        "colab": {
          "base_uri": "https://localhost:8080/",
          "height": 174
        },
        "id": "0fTOAQl6tC9V",
        "outputId": "8e72be2d-0133-464c-813e-698c37a1838d"
      },
      "execution_count": null,
      "outputs": [
        {
          "output_type": "error",
          "ename": "NameError",
          "evalue": "ignored",
          "traceback": [
            "\u001b[0;31m---------------------------------------------------------------------------\u001b[0m",
            "\u001b[0;31mNameError\u001b[0m                                 Traceback (most recent call last)",
            "\u001b[0;32m<ipython-input-170-6459d04d738f>\u001b[0m in \u001b[0;36m<module>\u001b[0;34m()\u001b[0m\n\u001b[0;32m----> 1\u001b[0;31m \u001b[0mprint\u001b[0m\u001b[0;34m(\u001b[0m\u001b[0mresult\u001b[0m\u001b[0;34m)\u001b[0m\u001b[0;34m\u001b[0m\u001b[0;34m\u001b[0m\u001b[0m\n\u001b[0m",
            "\u001b[0;31mNameError\u001b[0m: name 'result' is not defined"
          ]
        }
      ]
    },
    {
      "cell_type": "code",
      "source": [
        "class count:\n",
        "  count = 30\n",
        "def thirty(count):\n",
        "  while count == 0:\n",
        "    count - 1\n",
        "    print(Printing())\n",
        "\n",
        "print(thirty(count))"
      ],
      "metadata": {
        "id": "qHvdOTHA3FUz",
        "colab": {
          "base_uri": "https://localhost:8080/"
        },
        "outputId": "393d7405-6fa3-4d78-831e-498f78f42d59"
      },
      "execution_count": null,
      "outputs": [
        {
          "output_type": "stream",
          "name": "stdout",
          "text": [
            "None\n"
          ]
        }
      ]
    },
    {
      "cell_type": "markdown",
      "source": [
        "3. 아래의 에러가 발생하는 이유에 대해 설명해보세요.\n",
        "\n",
        "3-1.\n",
        "~~~\n",
        "hello()\n",
        "def hello():\n",
        "    print(\"Good Morning!\")\n",
        "~~~"
      ],
      "metadata": {
        "id": "x0MfkRcI333B"
      }
    },
    {
      "cell_type": "code",
      "source": [
        "hello()\n",
        "def hello():\n",
        "    print(\"Good Morning!\")"
      ],
      "metadata": {
        "id": "Qf-gSync40nZ",
        "colab": {
          "base_uri": "https://localhost:8080/",
          "height": 201
        },
        "outputId": "207af381-482a-40ae-9a2d-b512f57a08cb"
      },
      "execution_count": null,
      "outputs": [
        {
          "output_type": "error",
          "ename": "NameError",
          "evalue": "ignored",
          "traceback": [
            "\u001b[0;31m---------------------------------------------------------------------------\u001b[0m",
            "\u001b[0;31mNameError\u001b[0m                                 Traceback (most recent call last)",
            "\u001b[0;32m<ipython-input-1-b105986b0b0d>\u001b[0m in \u001b[0;36m<module>\u001b[0;34m()\u001b[0m\n\u001b[0;32m----> 1\u001b[0;31m \u001b[0mhello\u001b[0m\u001b[0;34m(\u001b[0m\u001b[0;34m)\u001b[0m\u001b[0;34m\u001b[0m\u001b[0;34m\u001b[0m\u001b[0m\n\u001b[0m\u001b[1;32m      2\u001b[0m \u001b[0;32mdef\u001b[0m \u001b[0mhello\u001b[0m\u001b[0;34m(\u001b[0m\u001b[0;34m)\u001b[0m\u001b[0;34m:\u001b[0m\u001b[0;34m\u001b[0m\u001b[0;34m\u001b[0m\u001b[0m\n\u001b[1;32m      3\u001b[0m     \u001b[0mprint\u001b[0m\u001b[0;34m(\u001b[0m\u001b[0;34m\"Good Morning!\"\u001b[0m\u001b[0;34m)\u001b[0m\u001b[0;34m\u001b[0m\u001b[0;34m\u001b[0m\u001b[0m\n",
            "\u001b[0;31mNameError\u001b[0m: name 'hello' is not defined"
          ]
        }
      ]
    },
    {
      "cell_type": "markdown",
      "source": [
        "3-2.\n",
        "```\n",
        "def func(a) :\n",
        "    print(a)\n",
        "func()\n",
        "```"
      ],
      "metadata": {
        "id": "NzJWeuGK70Lq"
      }
    },
    {
      "cell_type": "code",
      "source": [
        "a = 5\n",
        "def func(a) :\n",
        "    print(a)\n",
        "func(a) \n",
        "#a가 정의되어 있지 않았고 func(a)를 호출할때 프린트 a를 해주기로 했는데 func만 불러서,,,?맞나요.."
      ],
      "metadata": {
        "id": "XaajX2EL74ZY",
        "colab": {
          "base_uri": "https://localhost:8080/"
        },
        "outputId": "69cdf292-2169-4370-fb3f-90f73d087d0e"
      },
      "execution_count": null,
      "outputs": [
        {
          "output_type": "stream",
          "name": "stdout",
          "text": [
            "5\n"
          ]
        }
      ]
    },
    {
      "cell_type": "markdown",
      "source": [
        "# 맞습니다! ㅎㅎ"
      ],
      "metadata": {
        "id": "Qta9qeNmTYG_"
      }
    },
    {
      "cell_type": "markdown",
      "source": [
        "# New Section"
      ],
      "metadata": {
        "id": "zYF3VyEBBDsy"
      }
    },
    {
      "cell_type": "code",
      "source": [
        "def func(a) :\n",
        "    print(a)\n",
        "func(a)"
      ],
      "metadata": {
        "id": "L4fEGhk-76wy",
        "colab": {
          "base_uri": "https://localhost:8080/",
          "height": 211
        },
        "outputId": "d857bd64-619f-464a-c2d3-a1f4476f2ea6"
      },
      "execution_count": null,
      "outputs": [
        {
          "output_type": "error",
          "ename": "NameError",
          "evalue": "ignored",
          "traceback": [
            "\u001b[0;31m---------------------------------------------------------------------------\u001b[0m",
            "\u001b[0;31mNameError\u001b[0m                                 Traceback (most recent call last)",
            "\u001b[0;32m<ipython-input-53-3c6e50f296ac>\u001b[0m in \u001b[0;36m<module>\u001b[0;34m()\u001b[0m\n\u001b[1;32m      1\u001b[0m \u001b[0;32mdef\u001b[0m \u001b[0mfunc\u001b[0m\u001b[0;34m(\u001b[0m\u001b[0ma\u001b[0m\u001b[0;34m)\u001b[0m \u001b[0;34m:\u001b[0m\u001b[0;34m\u001b[0m\u001b[0;34m\u001b[0m\u001b[0m\n\u001b[1;32m      2\u001b[0m     \u001b[0mprint\u001b[0m\u001b[0;34m(\u001b[0m\u001b[0ma\u001b[0m\u001b[0;34m)\u001b[0m\u001b[0;34m\u001b[0m\u001b[0;34m\u001b[0m\u001b[0m\n\u001b[0;32m----> 3\u001b[0;31m \u001b[0mfunc\u001b[0m\u001b[0;34m(\u001b[0m\u001b[0ma\u001b[0m\u001b[0;34m)\u001b[0m\u001b[0;34m\u001b[0m\u001b[0;34m\u001b[0m\u001b[0m\n\u001b[0m",
            "\u001b[0;31mNameError\u001b[0m: name 'a' is not defined"
          ]
        }
      ]
    },
    {
      "cell_type": "markdown",
      "source": [
        "3-3.\n",
        "~~~\n",
        "def func(a, b) :\n",
        "    print(a * b / 2)\n",
        "\n",
        "함수(\"a\", 3)\n",
        "~~~"
      ],
      "metadata": {
        "id": "4wiph5-R8jhy"
      }
    },
    {
      "cell_type": "code",
      "source": [
        "def func(a, b) :\n",
        "    print(a * b / 2)\n",
        "\n",
        "함수(\"a\", 3)"
      ],
      "metadata": {
        "id": "nUI-VmLw8s7T",
        "colab": {
          "base_uri": "https://localhost:8080/",
          "height": 211
        },
        "outputId": "6baea921-dd6d-4b31-9c12-5848884c740d"
      },
      "execution_count": null,
      "outputs": [
        {
          "output_type": "error",
          "ename": "NameError",
          "evalue": "ignored",
          "traceback": [
            "\u001b[0;31m---------------------------------------------------------------------------\u001b[0m",
            "\u001b[0;31mNameError\u001b[0m                                 Traceback (most recent call last)",
            "\u001b[0;32m<ipython-input-62-2882d1ec9f55>\u001b[0m in \u001b[0;36m<module>\u001b[0;34m()\u001b[0m\n\u001b[1;32m      2\u001b[0m     \u001b[0mprint\u001b[0m\u001b[0;34m(\u001b[0m\u001b[0ma\u001b[0m \u001b[0;34m*\u001b[0m \u001b[0mb\u001b[0m \u001b[0;34m/\u001b[0m \u001b[0;36m2\u001b[0m\u001b[0;34m)\u001b[0m\u001b[0;34m\u001b[0m\u001b[0;34m\u001b[0m\u001b[0m\n\u001b[1;32m      3\u001b[0m \u001b[0;34m\u001b[0m\u001b[0m\n\u001b[0;32m----> 4\u001b[0;31m \u001b[0m함수\u001b[0m\u001b[0;34m(\u001b[0m\u001b[0;34m\"a\"\u001b[0m\u001b[0;34m,\u001b[0m \u001b[0;36m3\u001b[0m\u001b[0;34m)\u001b[0m\u001b[0;34m\u001b[0m\u001b[0;34m\u001b[0m\u001b[0m\n\u001b[0m",
            "\u001b[0;31mNameError\u001b[0m: name '함수' is not defined"
          ]
        }
      ]
    },
    {
      "cell_type": "code",
      "source": [
        "def func(a, b) :\n",
        "    print(a * b / 2)\n",
        "\n",
        "func(a, 3)"
      ],
      "metadata": {
        "colab": {
          "base_uri": "https://localhost:8080/"
        },
        "id": "7oz0RETea5Cn",
        "outputId": "e78f6dc2-f493-4118-82d5-2f530a1da128"
      },
      "execution_count": null,
      "outputs": [
        {
          "output_type": "stream",
          "name": "stdout",
          "text": [
            "7.5\n"
          ]
        }
      ]
    },
    {
      "cell_type": "code",
      "source": [
        "#함수라는 이름으로 함수를 호출하지 않았고 'a'는 문자열이라 타입이 맞지않아 도출이 안됬다고 생각합니다."
      ],
      "metadata": {
        "id": "X5wR_hbRayKf"
      },
      "execution_count": null,
      "outputs": []
    },
    {
      "cell_type": "markdown",
      "source": [
        "4. 아래 코드의 실행 결과를 예측해보시고 생각했던 것과 결과값이 같은지 확인해보세요.\n",
        "\n",
        "~~~\n",
        "def hello() :\n",
        "    print(\"Good Morning!\")\n",
        "    print(\"Hello\")\n",
        "hello()\n",
        "print(\"Hi\")\n",
        "hello()\n",
        "\n",
        "~~~"
      ],
      "metadata": {
        "id": "1GWyccC64Gij"
      }
    },
    {
      "cell_type": "code",
      "source": [
        "def hello() : #hello라는 함수를 호출했을 때 \"Good Morning!\",\"Hello\"를 출력\n",
        "    print(\"Good Morning!\")\n",
        "    print(\"Hello\")\n",
        "hello() #hello함수를 보여달라 해서 \"Good Morning!\",\"Hello\"를 출력\n",
        "print(\"Hi\") #Hi를 출력\n",
        "hello() #hello함수를 보여달라 해서 \"Good Morning!\",\"Hello\"를 출력"
      ],
      "metadata": {
        "id": "xP6oisUu3xtN",
        "colab": {
          "base_uri": "https://localhost:8080/"
        },
        "outputId": "5a4acb87-b38b-4a3a-c1f3-2db25eec86e4"
      },
      "execution_count": null,
      "outputs": [
        {
          "output_type": "stream",
          "name": "stdout",
          "text": [
            "Good Morning!\n",
            "Hello\n",
            "Hi\n",
            "Good Morning!\n",
            "Hello\n"
          ]
        }
      ]
    },
    {
      "cell_type": "markdown",
      "source": [
        "5. 계산기 만들기\n",
        "-  plus, minus, multiply, divide라는 이름으로 두개의 숫자를 넣어 덧셈, 뺄셈, 곱셈, 나눗셈을 하는 함수를 만들고 각각 실행해보세요."
      ],
      "metadata": {
        "id": "R0cBkxg36etf"
      }
    },
    {
      "cell_type": "code",
      "source": [
        "a = int(input())\n",
        "b = int(input())\n",
        "def puls():\n",
        "  return a + b\n",
        "def minus():\n",
        "  return a - b\n",
        "def multiply():\n",
        "  return a * b\n",
        "def divide():\n",
        "  return a / b\n",
        "\n",
        "print('계산완료',puls())"
      ],
      "metadata": {
        "id": "EdofHTgw6aPc",
        "colab": {
          "base_uri": "https://localhost:8080/"
        },
        "outputId": "53da62b7-b0ad-475e-f1f9-b4cd98fa70eb"
      },
      "execution_count": null,
      "outputs": [
        {
          "output_type": "stream",
          "name": "stdout",
          "text": [
            "1\n",
            "2\n",
            "계산완료 3\n"
          ]
        }
      ]
    },
    {
      "cell_type": "code",
      "metadata": {
        "id": "AJTRvCz2B8SG",
        "colab": {
          "base_uri": "https://localhost:8080/"
        },
        "outputId": "586bf48d-61f5-4a85-9ae1-7960e14933d4"
      },
      "source": [
        "print('계산완료',minus())"
      ],
      "execution_count": null,
      "outputs": [
        {
          "output_type": "stream",
          "name": "stdout",
          "text": [
            "계산완료 -1\n"
          ]
        }
      ]
    },
    {
      "cell_type": "code",
      "metadata": {
        "id": "2gOePgxCC4_6",
        "colab": {
          "base_uri": "https://localhost:8080/"
        },
        "outputId": "63928cdf-88fb-4e28-dc61-da9a16f3cd7d"
      },
      "source": [
        "print('계산완료',multiply())"
      ],
      "execution_count": null,
      "outputs": [
        {
          "output_type": "stream",
          "name": "stdout",
          "text": [
            "계산완료 2\n"
          ]
        }
      ]
    },
    {
      "cell_type": "code",
      "metadata": {
        "id": "5U6lnVUlCfku",
        "colab": {
          "base_uri": "https://localhost:8080/"
        },
        "outputId": "07a183ab-7f82-4a96-a006-e0bebe677d56"
      },
      "source": [
        "print('계산완료',divide())"
      ],
      "execution_count": null,
      "outputs": [
        {
          "output_type": "stream",
          "name": "stdout",
          "text": [
            "계산완료 0.5\n"
          ]
        }
      ]
    },
    {
      "cell_type": "markdown",
      "source": [
        "6. 두 개의 숫자를 입력받아 합/차/곱/나눗셈을 모두 출력하는 math 함수를 작성해보세요."
      ],
      "metadata": {
        "id": "IcsmlIlj8-i9"
      }
    },
    {
      "cell_type": "code",
      "source": [
        "a = int(input())\n",
        "b = int(input())\n",
        "def math(a, b):\n",
        "    print(a, \"+\", b, \"=\", a + b)\n",
        "    print(a, \"-\", b, \"=\", a - b)\n",
        "    print(a, \"*\", b, \"=\", a * b)\n",
        "    print(a, \"/\", b, \"=\", a / b)\n",
        "math(a,b)"
      ],
      "metadata": {
        "id": "U0sEoViM8-IR",
        "colab": {
          "base_uri": "https://localhost:8080/"
        },
        "outputId": "086b6426-d343-45dc-f72e-652ab818488c"
      },
      "execution_count": null,
      "outputs": [
        {
          "output_type": "stream",
          "name": "stdout",
          "text": [
            "1\n",
            "2\n",
            "1 + 2 = 3\n",
            "1 - 2 = -1\n",
            "1 * 2 = 2\n",
            "1 / 2 = 0.5\n"
          ]
        }
      ]
    },
    {
      "cell_type": "markdown",
      "source": [
        "# 20220111"
      ],
      "metadata": {
        "id": "QW1ybpVQT1TY"
      }
    },
    {
      "cell_type": "markdown",
      "source": [
        "1. 세 개의 숫자를 입력받아 if문을 활용하여 숫자들을 비교하고 가장 작은 수를 출력하는 minimum 함수를 정의해보세요. \n"
      ],
      "metadata": {
        "id": "XV78Jg7X9YSD"
      }
    },
    {
      "cell_type": "code",
      "source": [
        "i = [1, -1, 8]\n",
        "def minimum():\n",
        "  if i :\n",
        "    print(min(i))\n",
        "\n",
        "minimum()\n"
      ],
      "metadata": {
        "id": "plcjMX0Z7_Q_",
        "colab": {
          "base_uri": "https://localhost:8080/"
        },
        "outputId": "5d35d6b5-8f8e-44a4-b426-5b2dc95722f1"
      },
      "execution_count": null,
      "outputs": [
        {
          "output_type": "stream",
          "name": "stdout",
          "text": [
            "-1\n"
          ]
        }
      ]
    },
    {
      "cell_type": "code",
      "source": [
        "minimum(1, -1, 8)"
      ],
      "metadata": {
        "colab": {
          "base_uri": "https://localhost:8080/",
          "height": 174
        },
        "id": "rSdmFU2n9wev",
        "outputId": "4825b1f8-26f8-4203-a7d2-a8a2b4be9f22"
      },
      "execution_count": null,
      "outputs": [
        {
          "output_type": "error",
          "ename": "TypeError",
          "evalue": "ignored",
          "traceback": [
            "\u001b[0;31m---------------------------------------------------------------------------\u001b[0m",
            "\u001b[0;31mTypeError\u001b[0m                                 Traceback (most recent call last)",
            "\u001b[0;32m<ipython-input-7-4c3c102af00c>\u001b[0m in \u001b[0;36m<module>\u001b[0;34m()\u001b[0m\n\u001b[0;32m----> 1\u001b[0;31m \u001b[0mminimum\u001b[0m\u001b[0;34m(\u001b[0m\u001b[0;36m1\u001b[0m\u001b[0;34m,\u001b[0m \u001b[0;34m-\u001b[0m\u001b[0;36m1\u001b[0m\u001b[0;34m,\u001b[0m \u001b[0;36m8\u001b[0m\u001b[0;34m)\u001b[0m\u001b[0;34m\u001b[0m\u001b[0;34m\u001b[0m\u001b[0m\n\u001b[0m",
            "\u001b[0;31mTypeError\u001b[0m: minimum() takes 1 positional argument but 3 were given"
          ]
        }
      ]
    },
    {
      "cell_type": "markdown",
      "source": [
        "# 확인! 성희님 코드와 비교해보세요!"
      ],
      "metadata": {
        "id": "Ymf8ZJdiEM8T"
      }
    },
    {
      "cell_type": "code",
      "source": [
        "def minimum(a, b, c) :\n",
        "    min_val = 0\n",
        "    if a < min_val :\n",
        "        min_val = a\n",
        "    if b < min_val :\n",
        "        min_val = b\n",
        "    if c < min_val :\n",
        "        min_val = c\n",
        "    print(min_val)"
      ],
      "metadata": {
        "id": "09dMziecEP9D"
      },
      "execution_count": null,
      "outputs": []
    },
    {
      "cell_type": "code",
      "source": [
        "minimum(1, -1, 8)"
      ],
      "metadata": {
        "colab": {
          "base_uri": "https://localhost:8080/"
        },
        "outputId": "8c8613f0-60c8-443f-f098-c4a1eb715921",
        "id": "rxIMcvskEP9E"
      },
      "execution_count": null,
      "outputs": [
        {
          "output_type": "stream",
          "name": "stdout",
          "text": [
            "-1\n"
          ]
        }
      ]
    },
    {
      "cell_type": "markdown",
      "source": [
        "2. 하나의 리스트를 입력받아 짝수만 화면에 출력하는 even 함수를 정의하고 출력해보세요."
      ],
      "metadata": {
        "id": "9629yVM1-DIk"
      }
    },
    {
      "cell_type": "code",
      "source": [
        "i =int(len([2,3,4,5,6,7,8,111]))\n",
        "def even(i):\n",
        "  for n in range(i) :\n",
        "    if n % 2 == 0 :\n",
        "      print(n)\n",
        "\n",
        "even(i)"
      ],
      "metadata": {
        "id": "JfsZiOJL-B8x",
        "colab": {
          "base_uri": "https://localhost:8080/"
        },
        "outputId": "805c4ace-c5e2-4703-86b4-17c339ff3a03"
      },
      "execution_count": null,
      "outputs": [
        {
          "output_type": "stream",
          "name": "stdout",
          "text": [
            "0\n",
            "2\n",
            "4\n",
            "6\n"
          ]
        }
      ]
    },
    {
      "cell_type": "code",
      "source": [
        "i = [2,3,4,5,6,7,8,111]\n",
        "def even(i):\n",
        "  for e in i:\n",
        "    if e % 2 == 0:\n",
        "      print(e)\n"
      ],
      "metadata": {
        "id": "FLDOUhwjR5A_"
      },
      "execution_count": null,
      "outputs": []
    },
    {
      "cell_type": "code",
      "source": [
        "even(i)"
      ],
      "metadata": {
        "colab": {
          "base_uri": "https://localhost:8080/"
        },
        "id": "o1dceiAvTAJ5",
        "outputId": "800fa393-198e-4c04-8ced-72e7b4d00a5d"
      },
      "execution_count": null,
      "outputs": [
        {
          "output_type": "stream",
          "name": "stdout",
          "text": [
            "2\n",
            "4\n",
            "6\n",
            "8\n"
          ]
        }
      ]
    },
    {
      "cell_type": "code",
      "source": [
        "even([2,3,4,5,6,7,8,111])"
      ],
      "metadata": {
        "colab": {
          "base_uri": "https://localhost:8080/",
          "height": 174
        },
        "id": "8eA-Gtyv9ynQ",
        "outputId": "580633f1-93b0-4028-f955-cca73ae3cfde"
      },
      "execution_count": null,
      "outputs": [
        {
          "output_type": "error",
          "ename": "TypeError",
          "evalue": "ignored",
          "traceback": [
            "\u001b[0;31m---------------------------------------------------------------------------\u001b[0m",
            "\u001b[0;31mTypeError\u001b[0m                                 Traceback (most recent call last)",
            "\u001b[0;32m<ipython-input-29-691eb7861523>\u001b[0m in \u001b[0;36m<module>\u001b[0;34m()\u001b[0m\n\u001b[0;32m----> 1\u001b[0;31m \u001b[0meven\u001b[0m\u001b[0;34m(\u001b[0m\u001b[0;34m[\u001b[0m\u001b[0;36m2\u001b[0m\u001b[0;34m,\u001b[0m\u001b[0;36m3\u001b[0m\u001b[0;34m,\u001b[0m\u001b[0;36m4\u001b[0m\u001b[0;34m,\u001b[0m\u001b[0;36m5\u001b[0m\u001b[0;34m,\u001b[0m\u001b[0;36m6\u001b[0m\u001b[0;34m,\u001b[0m\u001b[0;36m7\u001b[0m\u001b[0;34m,\u001b[0m\u001b[0;36m8\u001b[0m\u001b[0;34m,\u001b[0m\u001b[0;36m111\u001b[0m\u001b[0;34m]\u001b[0m\u001b[0;34m)\u001b[0m\u001b[0;34m\u001b[0m\u001b[0;34m\u001b[0m\u001b[0m\n\u001b[0m",
            "\u001b[0;31mTypeError\u001b[0m: even() takes 0 positional arguments but 1 was given"
          ]
        }
      ]
    },
    {
      "cell_type": "markdown",
      "source": [
        "# 확인! 성희님 코드와 비교해보세요!"
      ],
      "metadata": {
        "id": "KEu6Pc6bEjAK"
      }
    },
    {
      "cell_type": "code",
      "source": [
        "def even (list1) :\n",
        "    for v in list1 :\n",
        "        if v % 2 == 0 :\n",
        "            print(v)"
      ],
      "metadata": {
        "id": "gq24J9nsEp2P"
      },
      "execution_count": null,
      "outputs": []
    },
    {
      "cell_type": "code",
      "source": [
        "even([2,3,4,5,6,7,8,111])"
      ],
      "metadata": {
        "colab": {
          "base_uri": "https://localhost:8080/"
        },
        "outputId": "77275b7f-c641-4cfd-9aca-bd067d53b371",
        "id": "0nQaaEqKEp2Q"
      },
      "execution_count": null,
      "outputs": [
        {
          "output_type": "stream",
          "name": "stdout",
          "text": [
            "2\n",
            "4\n",
            "6\n",
            "8\n"
          ]
        }
      ]
    },
    {
      "cell_type": "markdown",
      "source": [
        "3. 입력 문자열을 한 줄에 세글자씩 출력하는 letters(string) 함수를 작성하고 아래 문자열을 넣어 실행해보세요.\n",
        "\n",
        "~~~\n",
        "'김연지서울시강동구'\n",
        "~~~"
      ],
      "metadata": {
        "id": "pLDEUgFK-dvT"
      }
    },
    {
      "cell_type": "code",
      "source": [
        "def letters(string):\n",
        "    chunk_num = int(len(string) /3)\n",
        "    for x in range(chunk_num + 1) :\n",
        "        print(string[x * 3: x * 3 + 3])"
      ],
      "metadata": {
        "id": "_G8rRFt6-Rir"
      },
      "execution_count": null,
      "outputs": []
    },
    {
      "cell_type": "code",
      "source": [
        "letters('김연지서울시강동구')"
      ],
      "metadata": {
        "colab": {
          "base_uri": "https://localhost:8080/"
        },
        "id": "EjexhVWQ-t-J",
        "outputId": "4165a6fe-89f0-427e-be20-acf1dbfc8a6c"
      },
      "execution_count": null,
      "outputs": [
        {
          "output_type": "stream",
          "name": "stdout",
          "text": [
            "김연지\n",
            "서울시\n",
            "강동구\n",
            "\n"
          ]
        }
      ]
    },
    {
      "cell_type": "code",
      "source": [
        "def  letters(string):\n"
      ],
      "metadata": {
        "id": "txqewLzdTSj7"
      },
      "execution_count": null,
      "outputs": []
    },
    {
      "cell_type": "markdown",
      "source": [
        "4. 입력 문자열과 한 줄에 출력할 글자수를 인자로 받는 letters(string, int) 함수를 작성하고 아래 문자열을 넣어 두글자씩 실행해보세요.\n",
        "\n",
        "~~~\n",
        "윈터이즈커밍\n",
        "~~~"
      ],
      "metadata": {
        "id": "y_g9WvLx_GRL"
      }
    },
    {
      "cell_type": "code",
      "source": [
        "def letters(line, num):\n",
        "    chunk_num = int(len(line) / num)\n",
        "    for x in range(chunk_num + 1) :\n",
        "        print(line[x * num: x * num + num])"
      ],
      "metadata": {
        "id": "U58Nl_GJ-yXu"
      },
      "execution_count": null,
      "outputs": []
    },
    {
      "cell_type": "code",
      "source": [
        "letters('윈터이즈커밍', 2)"
      ],
      "metadata": {
        "colab": {
          "base_uri": "https://localhost:8080/"
        },
        "id": "mCiYhbYK_b_B",
        "outputId": "83d757df-33a6-4617-95ae-02343bb3f736"
      },
      "execution_count": null,
      "outputs": [
        {
          "output_type": "stream",
          "name": "stdout",
          "text": [
            "윈터\n",
            "이즈\n",
            "커밍\n",
            "\n"
          ]
        }
      ]
    },
    {
      "cell_type": "markdown",
      "source": [
        "5. 아래 코드의 실행 결과를 예측해보시고 생각했던 것과 결과값이 같은지 확인해보세요.\n",
        "\n",
        "~~~\n",
        "def sides (a, b) :\n",
        "    print(\"왼쪽:\", a)\n",
        "    print(\"오른쪽:\", b)\n",
        "\n",
        "sides(b=100, a=200)\n",
        "~~~"
      ],
      "metadata": {
        "id": "tRhTkal6_tN4"
      }
    },
    {
      "cell_type": "code",
      "source": [
        "def sides (a, b) : \n",
        "    print(\"왼쪽:\", a)\n",
        "    print(\"오른쪽:\", b)\n",
        "\n",
        "sides(b=100, a=200)"
      ],
      "metadata": {
        "colab": {
          "base_uri": "https://localhost:8080/"
        },
        "id": "1r7ClsFx_kCb",
        "outputId": "e7ae36ac-4614-47a7-ba80-d6a0015895ab"
      },
      "execution_count": null,
      "outputs": [
        {
          "output_type": "stream",
          "name": "stdout",
          "text": [
            "왼쪽: 200\n",
            "오른쪽: 100\n"
          ]
        }
      ]
    },
    {
      "cell_type": "code",
      "source": [
        ""
      ],
      "metadata": {
        "id": "r6zIFUu6C0gz"
      },
      "execution_count": null,
      "outputs": []
    },
    {
      "cell_type": "markdown",
      "source": [
        "# 20220112"
      ],
      "metadata": {
        "id": "hWKTLtywCMaa"
      }
    },
    {
      "cell_type": "markdown",
      "source": [
        "1. 문자열 하나를 입력받아 인터넷 주소를 반환하는 url 함수를 정의해보세요. \n",
        "\n",
        "예)google을 입력하면 www.google.com이 나오도록"
      ],
      "metadata": {
        "id": "H7ucxVbtTfFE"
      }
    },
    {
      "cell_type": "code",
      "source": [
        "def url():\n",
        "  print('http://www.google.com/')\n",
        "\n",
        "url()"
      ],
      "metadata": {
        "colab": {
          "base_uri": "https://localhost:8080/"
        },
        "id": "J0DezP-p6bAe",
        "outputId": "2e7a02a4-5d9d-4552-a0bb-436a505f1f92"
      },
      "execution_count": null,
      "outputs": [
        {
          "output_type": "stream",
          "name": "stdout",
          "text": [
            "http://www.google.com/\n"
          ]
        }
      ]
    },
    {
      "cell_type": "code",
      "source": [
        "import pandas as pd\n",
        "\n",
        "df = pd.read_csv('http://www.google.com/', error_bad_lines=False)\n",
        "df"
      ],
      "metadata": {
        "colab": {
          "base_uri": "https://localhost:8080/",
          "height": 1000
        },
        "id": "DFG8J-s95GgT",
        "outputId": "cd802047-354d-44e4-aa9c-872716d13cda"
      },
      "execution_count": null,
      "outputs": [
        {
          "output_type": "execute_result",
          "data": {
            "text/html": [
              "\n",
              "  <div id=\"df-36d1f844-8a8d-4f40-be92-2cc5a6474bf9\">\n",
              "    <div class=\"colab-df-container\">\n",
              "      <div>\n",
              "<style scoped>\n",
              "    .dataframe tbody tr th:only-of-type {\n",
              "        vertical-align: middle;\n",
              "    }\n",
              "\n",
              "    .dataframe tbody tr th {\n",
              "        vertical-align: top;\n",
              "    }\n",
              "\n",
              "    .dataframe thead th {\n",
              "        text-align: right;\n",
              "    }\n",
              "</style>\n",
              "<table border=\"1\" class=\"dataframe\">\n",
              "  <thead>\n",
              "    <tr style=\"text-align: right;\">\n",
              "      <th></th>\n",
              "      <th>&lt;!doctype html&gt;&lt;html itemscope=\"\" itemtype=\"http://schema.org/WebPage\" lang=\"nl\"&gt;&lt;head&gt;&lt;meta content=\"text/html; charset=UTF-8\" http-equiv=\"Content-Type\"&gt;&lt;meta content=\"/images/branding/googleg/1x/googleg_standard_color_128dp.png\" itemprop=\"image\"&gt;&lt;title&gt;Google&lt;/title&gt;&lt;script nonce=\"o4F69Oz4Aqal5U928LDm/w==\"&gt;(function(){window.google={kEI:'w_PeYY3aJMbBkwWF8rWgCQ'</th>\n",
              "      <th>kEXPI:'0</th>\n",
              "      <th>1302536</th>\n",
              "      <th>56873</th>\n",
              "      <th>6059</th>\n",
              "      <th>206</th>\n",
              "      <th>4804</th>\n",
              "      <th>2316</th>\n",
              "      <th>383</th>\n",
              "      <th>246</th>\n",
              "      <th>5</th>\n",
              "      <th>1354</th>\n",
              "      <th>4013</th>\n",
              "      <th>1237</th>\n",
              "      <th>1122516</th>\n",
              "      <th>1197718</th>\n",
              "      <th>380773</th>\n",
              "      <th>16114</th>\n",
              "      <th>28684</th>\n",
              "      <th>17572</th>\n",
              "      <th>4859</th>\n",
              "      <th>1361</th>\n",
              "      <th>9290</th>\n",
              "      <th>3021</th>\n",
              "      <th>17588</th>\n",
              "      <th>4998</th>\n",
              "      <th>13227</th>\n",
              "      <th>3848</th>\n",
              "      <th>4192</th>\n",
              "      <th>6430</th>\n",
              "      <th>7432</th>\n",
              "      <th>15311</th>\n",
              "      <th>5079</th>\n",
              "      <th>887</th>\n",
              "      <th>706</th>\n",
              "      <th>1279</th>\n",
              "      <th>2742</th>\n",
              "      <th>149</th>\n",
              "      <th>1103</th>\n",
              "      <th>840</th>\n",
              "      <th>...</th>\n",
              "      <th>2.29</th>\n",
              "      <th>2.30</th>\n",
              "      <th>2.31</th>\n",
              "      <th>4.3</th>\n",
              "      <th>2.32</th>\n",
              "      <th>3.4</th>\n",
              "      <th>3.5</th>\n",
              "      <th>269</th>\n",
              "      <th>1601</th>\n",
              "      <th>141.1</th>\n",
              "      <th>66</th>\n",
              "      <th>57</th>\n",
              "      <th>4.4</th>\n",
              "      <th>9.2</th>\n",
              "      <th>64</th>\n",
              "      <th>4.5</th>\n",
              "      <th>11</th>\n",
              "      <th>8</th>\n",
              "      <th>34</th>\n",
              "      <th>23952724</th>\n",
              "      <th>2773819</th>\n",
              "      <th>1264755</th>\n",
              "      <th>3.6</th>\n",
              "      <th>3112</th>\n",
              "      <th>3.7</th>\n",
              "      <th>2414</th>\n",
              "      <th>1491</th>\n",
              "      <th>9.3</th>\n",
              "      <th>1435</th>\n",
              "      <th>159</th>\n",
              "      <th>1358</th>\n",
              "      <th>1129</th>\n",
              "      <th>2.33</th>\n",
              "      <th>3595</th>\n",
              "      <th>3.8</th>\n",
              "      <th>927</th>\n",
              "      <th>247</th>\n",
              "      <th>7.2</th>\n",
              "      <th>834541'</th>\n",
              "      <th>kBL:'idNN'};google.sn='webhp';google.kHL='nl';})();(function(){</th>\n",
              "    </tr>\n",
              "  </thead>\n",
              "  <tbody>\n",
              "    <tr>\n",
              "      <th>0</th>\n",
              "      <td>var f=this||self;var h</td>\n",
              "      <td>k=[];function l(a){for(var b;a&amp;&amp;(!a.getAttribu...</td>\n",
              "      <td>NaN</td>\n",
              "      <td>NaN</td>\n",
              "      <td>NaN</td>\n",
              "      <td>NaN</td>\n",
              "      <td>NaN</td>\n",
              "      <td>NaN</td>\n",
              "      <td>NaN</td>\n",
              "      <td>NaN</td>\n",
              "      <td>NaN</td>\n",
              "      <td>NaN</td>\n",
              "      <td>NaN</td>\n",
              "      <td>NaN</td>\n",
              "      <td>NaN</td>\n",
              "      <td>NaN</td>\n",
              "      <td>NaN</td>\n",
              "      <td>NaN</td>\n",
              "      <td>NaN</td>\n",
              "      <td>NaN</td>\n",
              "      <td>NaN</td>\n",
              "      <td>NaN</td>\n",
              "      <td>NaN</td>\n",
              "      <td>NaN</td>\n",
              "      <td>NaN</td>\n",
              "      <td>NaN</td>\n",
              "      <td>NaN</td>\n",
              "      <td>NaN</td>\n",
              "      <td>NaN</td>\n",
              "      <td>NaN</td>\n",
              "      <td>NaN</td>\n",
              "      <td>NaN</td>\n",
              "      <td>NaN</td>\n",
              "      <td>NaN</td>\n",
              "      <td>NaN</td>\n",
              "      <td>NaN</td>\n",
              "      <td>NaN</td>\n",
              "      <td>NaN</td>\n",
              "      <td>NaN</td>\n",
              "      <td>NaN</td>\n",
              "      <td>...</td>\n",
              "      <td>NaN</td>\n",
              "      <td>NaN</td>\n",
              "      <td>NaN</td>\n",
              "      <td>NaN</td>\n",
              "      <td>NaN</td>\n",
              "      <td>NaN</td>\n",
              "      <td>NaN</td>\n",
              "      <td>NaN</td>\n",
              "      <td>NaN</td>\n",
              "      <td>NaN</td>\n",
              "      <td>NaN</td>\n",
              "      <td>NaN</td>\n",
              "      <td>NaN</td>\n",
              "      <td>NaN</td>\n",
              "      <td>NaN</td>\n",
              "      <td>NaN</td>\n",
              "      <td>NaN</td>\n",
              "      <td>NaN</td>\n",
              "      <td>NaN</td>\n",
              "      <td>NaN</td>\n",
              "      <td>NaN</td>\n",
              "      <td>NaN</td>\n",
              "      <td>NaN</td>\n",
              "      <td>NaN</td>\n",
              "      <td>NaN</td>\n",
              "      <td>NaN</td>\n",
              "      <td>NaN</td>\n",
              "      <td>NaN</td>\n",
              "      <td>NaN</td>\n",
              "      <td>NaN</td>\n",
              "      <td>NaN</td>\n",
              "      <td>NaN</td>\n",
              "      <td>NaN</td>\n",
              "      <td>NaN</td>\n",
              "      <td>NaN</td>\n",
              "      <td>NaN</td>\n",
              "      <td>NaN</td>\n",
              "      <td>NaN</td>\n",
              "      <td>NaN</td>\n",
              "      <td>NaN</td>\n",
              "    </tr>\n",
              "    <tr>\n",
              "      <th>1</th>\n",
              "      <td>function n(a</td>\n",
              "      <td>b</td>\n",
              "      <td>c</td>\n",
              "      <td>d</td>\n",
              "      <td>g){var e=\"\";c||-1!==b.search(\"&amp;ei=\")||(e=\"&amp;ei=...</td>\n",
              "      <td>-1===b.search(\"&amp;lei=\")&amp;&amp;(d=m(d))&amp;&amp;(e+=\"&amp;lei=\"+...</td>\n",
              "      <td>!1</td>\n",
              "      <td>{src:c</td>\n",
              "      <td>glmm:1})</td>\n",
              "      <td>c=\"\");return c};h=google.kEI;google.getEI=l;go...</td>\n",
              "      <td>b</td>\n",
              "      <td>c</td>\n",
              "      <td>d</td>\n",
              "      <td>g){if(c=n(a</td>\n",
              "      <td>b</td>\n",
              "      <td>c</td>\n",
              "      <td>d</td>\n",
              "      <td>g)){a=new Image;var e=k.length;k[e]=a;a.onerro...</td>\n",
              "      <td>NaN</td>\n",
              "      <td>NaN</td>\n",
              "      <td>NaN</td>\n",
              "      <td>NaN</td>\n",
              "      <td>NaN</td>\n",
              "      <td>NaN</td>\n",
              "      <td>NaN</td>\n",
              "      <td>NaN</td>\n",
              "      <td>NaN</td>\n",
              "      <td>NaN</td>\n",
              "      <td>NaN</td>\n",
              "      <td>NaN</td>\n",
              "      <td>NaN</td>\n",
              "      <td>NaN</td>\n",
              "      <td>NaN</td>\n",
              "      <td>NaN</td>\n",
              "      <td>NaN</td>\n",
              "      <td>NaN</td>\n",
              "      <td>NaN</td>\n",
              "      <td>NaN</td>\n",
              "      <td>NaN</td>\n",
              "      <td>NaN</td>\n",
              "      <td>...</td>\n",
              "      <td>NaN</td>\n",
              "      <td>NaN</td>\n",
              "      <td>NaN</td>\n",
              "      <td>NaN</td>\n",
              "      <td>NaN</td>\n",
              "      <td>NaN</td>\n",
              "      <td>NaN</td>\n",
              "      <td>NaN</td>\n",
              "      <td>NaN</td>\n",
              "      <td>NaN</td>\n",
              "      <td>NaN</td>\n",
              "      <td>NaN</td>\n",
              "      <td>NaN</td>\n",
              "      <td>NaN</td>\n",
              "      <td>NaN</td>\n",
              "      <td>NaN</td>\n",
              "      <td>NaN</td>\n",
              "      <td>NaN</td>\n",
              "      <td>NaN</td>\n",
              "      <td>NaN</td>\n",
              "      <td>NaN</td>\n",
              "      <td>NaN</td>\n",
              "      <td>NaN</td>\n",
              "      <td>NaN</td>\n",
              "      <td>NaN</td>\n",
              "      <td>NaN</td>\n",
              "      <td>NaN</td>\n",
              "      <td>NaN</td>\n",
              "      <td>NaN</td>\n",
              "      <td>NaN</td>\n",
              "      <td>NaN</td>\n",
              "      <td>NaN</td>\n",
              "      <td>NaN</td>\n",
              "      <td>NaN</td>\n",
              "      <td>NaN</td>\n",
              "      <td>NaN</td>\n",
              "      <td>NaN</td>\n",
              "      <td>NaN</td>\n",
              "      <td>NaN</td>\n",
              "      <td>NaN</td>\n",
              "    </tr>\n",
              "    <tr>\n",
              "      <th>2</th>\n",
              "      <td>google.y={};google.sy=[];google.x=function(a</td>\n",
              "      <td>b){if(a)var c=a.id;else{do c=Math.random();whi...</td>\n",
              "      <td>b];return!1};google.sx=function(a){google.sy.p...</td>\n",
              "      <td>a)};google.lq=[];google.load=function(a</td>\n",
              "      <td>b</td>\n",
              "      <td>c){google.lq.push([[a]</td>\n",
              "      <td>b</td>\n",
              "      <td>c])};google.loadAll=function(a</td>\n",
              "      <td>b){google.lq.push([a</td>\n",
              "      <td>b])};google.bx=!1;google.lx=function(){};}).ca...</td>\n",
              "      <td>NaN</td>\n",
              "      <td>NaN</td>\n",
              "      <td>NaN</td>\n",
              "      <td>NaN</td>\n",
              "      <td>NaN</td>\n",
              "      <td>NaN</td>\n",
              "      <td>NaN</td>\n",
              "      <td>NaN</td>\n",
              "      <td>NaN</td>\n",
              "      <td>NaN</td>\n",
              "      <td>NaN</td>\n",
              "      <td>NaN</td>\n",
              "      <td>NaN</td>\n",
              "      <td>NaN</td>\n",
              "      <td>NaN</td>\n",
              "      <td>NaN</td>\n",
              "      <td>NaN</td>\n",
              "      <td>NaN</td>\n",
              "      <td>NaN</td>\n",
              "      <td>NaN</td>\n",
              "      <td>NaN</td>\n",
              "      <td>NaN</td>\n",
              "      <td>NaN</td>\n",
              "      <td>NaN</td>\n",
              "      <td>NaN</td>\n",
              "      <td>NaN</td>\n",
              "      <td>NaN</td>\n",
              "      <td>NaN</td>\n",
              "      <td>NaN</td>\n",
              "      <td>NaN</td>\n",
              "      <td>...</td>\n",
              "      <td>NaN</td>\n",
              "      <td>NaN</td>\n",
              "      <td>NaN</td>\n",
              "      <td>NaN</td>\n",
              "      <td>NaN</td>\n",
              "      <td>NaN</td>\n",
              "      <td>NaN</td>\n",
              "      <td>NaN</td>\n",
              "      <td>NaN</td>\n",
              "      <td>NaN</td>\n",
              "      <td>NaN</td>\n",
              "      <td>NaN</td>\n",
              "      <td>NaN</td>\n",
              "      <td>NaN</td>\n",
              "      <td>NaN</td>\n",
              "      <td>NaN</td>\n",
              "      <td>NaN</td>\n",
              "      <td>NaN</td>\n",
              "      <td>NaN</td>\n",
              "      <td>NaN</td>\n",
              "      <td>NaN</td>\n",
              "      <td>NaN</td>\n",
              "      <td>NaN</td>\n",
              "      <td>NaN</td>\n",
              "      <td>NaN</td>\n",
              "      <td>NaN</td>\n",
              "      <td>NaN</td>\n",
              "      <td>NaN</td>\n",
              "      <td>NaN</td>\n",
              "      <td>NaN</td>\n",
              "      <td>NaN</td>\n",
              "      <td>NaN</td>\n",
              "      <td>NaN</td>\n",
              "      <td>NaN</td>\n",
              "      <td>NaN</td>\n",
              "      <td>NaN</td>\n",
              "      <td>NaN</td>\n",
              "      <td>NaN</td>\n",
              "      <td>NaN</td>\n",
              "      <td>NaN</td>\n",
              "    </tr>\n",
              "    <tr>\n",
              "      <th>3</th>\n",
              "      <td>document.documentElement.addEventListener(\"sub...</td>\n",
              "      <td>function(b){var a;if(a=b.target){var c=a.getAt...</td>\n",
              "      <td>b.stopPropagation())}</td>\n",
              "      <td>!0);document.documentElement.addEventListener(...</td>\n",
              "      <td>function(b){var a;a:{for(a=b.target;a&amp;&amp;a!==doc...</td>\n",
              "      <td>!0);}).call(this);&lt;/script&gt;&lt;style&gt;#gbar</td>\n",
              "      <td>#guser{font-size:13px;padding-top:1px !importa...</td>\n",
              "      <td>.gbd{border-top:1px solid #c9d7f1;font-size:1p...</td>\n",
              "      <td>a.gb4{text-decoration:underline !important}a.gb1</td>\n",
              "      <td>a.gb4{color:#00c !important}.gbi .gb4{color:#d...</td>\n",
              "      <td>NaN</td>\n",
              "      <td>NaN</td>\n",
              "      <td>NaN</td>\n",
              "      <td>NaN</td>\n",
              "      <td>NaN</td>\n",
              "      <td>NaN</td>\n",
              "      <td>NaN</td>\n",
              "      <td>NaN</td>\n",
              "      <td>NaN</td>\n",
              "      <td>NaN</td>\n",
              "      <td>NaN</td>\n",
              "      <td>NaN</td>\n",
              "      <td>NaN</td>\n",
              "      <td>NaN</td>\n",
              "      <td>NaN</td>\n",
              "      <td>NaN</td>\n",
              "      <td>NaN</td>\n",
              "      <td>NaN</td>\n",
              "      <td>NaN</td>\n",
              "      <td>NaN</td>\n",
              "      <td>NaN</td>\n",
              "      <td>NaN</td>\n",
              "      <td>NaN</td>\n",
              "      <td>NaN</td>\n",
              "      <td>NaN</td>\n",
              "      <td>NaN</td>\n",
              "      <td>NaN</td>\n",
              "      <td>NaN</td>\n",
              "      <td>NaN</td>\n",
              "      <td>NaN</td>\n",
              "      <td>...</td>\n",
              "      <td>NaN</td>\n",
              "      <td>NaN</td>\n",
              "      <td>NaN</td>\n",
              "      <td>NaN</td>\n",
              "      <td>NaN</td>\n",
              "      <td>NaN</td>\n",
              "      <td>NaN</td>\n",
              "      <td>NaN</td>\n",
              "      <td>NaN</td>\n",
              "      <td>NaN</td>\n",
              "      <td>NaN</td>\n",
              "      <td>NaN</td>\n",
              "      <td>NaN</td>\n",
              "      <td>NaN</td>\n",
              "      <td>NaN</td>\n",
              "      <td>NaN</td>\n",
              "      <td>NaN</td>\n",
              "      <td>NaN</td>\n",
              "      <td>NaN</td>\n",
              "      <td>NaN</td>\n",
              "      <td>NaN</td>\n",
              "      <td>NaN</td>\n",
              "      <td>NaN</td>\n",
              "      <td>NaN</td>\n",
              "      <td>NaN</td>\n",
              "      <td>NaN</td>\n",
              "      <td>NaN</td>\n",
              "      <td>NaN</td>\n",
              "      <td>NaN</td>\n",
              "      <td>NaN</td>\n",
              "      <td>NaN</td>\n",
              "      <td>NaN</td>\n",
              "      <td>NaN</td>\n",
              "      <td>NaN</td>\n",
              "      <td>NaN</td>\n",
              "      <td>NaN</td>\n",
              "      <td>NaN</td>\n",
              "      <td>NaN</td>\n",
              "      <td>NaN</td>\n",
              "      <td>NaN</td>\n",
              "    </tr>\n",
              "    <tr>\n",
              "      <th>4</th>\n",
              "      <td>&lt;/style&gt;&lt;style&gt;body</td>\n",
              "      <td>td</td>\n",
              "      <td>a</td>\n",
              "      <td>p</td>\n",
              "      <td>.h{font-family:arial</td>\n",
              "      <td>sans-serif}body{margin:0;overflow-y:scroll}#go...</td>\n",
              "      <td>.lst{font:18px arial</td>\n",
              "      <td>sans-serif}.gsfs{font:17px arial</td>\n",
              "      <td>sans-serif}.ds{display:inline-box;display:inli...</td>\n",
              "      <td>a:active{text-decoration:underline}.fl a{color...</td>\n",
              "      <td>sans-serif;vertical-align:top}.lsb:active{back...</td>\n",
              "      <td>bv:1510</td>\n",
              "      <td>de:true};</td>\n",
              "      <td>NaN</td>\n",
              "      <td>NaN</td>\n",
              "      <td>NaN</td>\n",
              "      <td>NaN</td>\n",
              "      <td>NaN</td>\n",
              "      <td>NaN</td>\n",
              "      <td>NaN</td>\n",
              "      <td>NaN</td>\n",
              "      <td>NaN</td>\n",
              "      <td>NaN</td>\n",
              "      <td>NaN</td>\n",
              "      <td>NaN</td>\n",
              "      <td>NaN</td>\n",
              "      <td>NaN</td>\n",
              "      <td>NaN</td>\n",
              "      <td>NaN</td>\n",
              "      <td>NaN</td>\n",
              "      <td>NaN</td>\n",
              "      <td>NaN</td>\n",
              "      <td>NaN</td>\n",
              "      <td>NaN</td>\n",
              "      <td>NaN</td>\n",
              "      <td>NaN</td>\n",
              "      <td>NaN</td>\n",
              "      <td>NaN</td>\n",
              "      <td>NaN</td>\n",
              "      <td>NaN</td>\n",
              "      <td>...</td>\n",
              "      <td>NaN</td>\n",
              "      <td>NaN</td>\n",
              "      <td>NaN</td>\n",
              "      <td>NaN</td>\n",
              "      <td>NaN</td>\n",
              "      <td>NaN</td>\n",
              "      <td>NaN</td>\n",
              "      <td>NaN</td>\n",
              "      <td>NaN</td>\n",
              "      <td>NaN</td>\n",
              "      <td>NaN</td>\n",
              "      <td>NaN</td>\n",
              "      <td>NaN</td>\n",
              "      <td>NaN</td>\n",
              "      <td>NaN</td>\n",
              "      <td>NaN</td>\n",
              "      <td>NaN</td>\n",
              "      <td>NaN</td>\n",
              "      <td>NaN</td>\n",
              "      <td>NaN</td>\n",
              "      <td>NaN</td>\n",
              "      <td>NaN</td>\n",
              "      <td>NaN</td>\n",
              "      <td>NaN</td>\n",
              "      <td>NaN</td>\n",
              "      <td>NaN</td>\n",
              "      <td>NaN</td>\n",
              "      <td>NaN</td>\n",
              "      <td>NaN</td>\n",
              "      <td>NaN</td>\n",
              "      <td>NaN</td>\n",
              "      <td>NaN</td>\n",
              "      <td>NaN</td>\n",
              "      <td>NaN</td>\n",
              "      <td>NaN</td>\n",
              "      <td>NaN</td>\n",
              "      <td>NaN</td>\n",
              "      <td>NaN</td>\n",
              "      <td>NaN</td>\n",
              "      <td>NaN</td>\n",
              "    </tr>\n",
              "    <tr>\n",
              "      <th>5</th>\n",
              "      <td>var f=this||self;var g</td>\n",
              "      <td>h</td>\n",
              "      <td>k=null!==(g=f.mei)&amp;&amp;void 0!==g?g:1</td>\n",
              "      <td>l=null!==(h=f.sdo)&amp;&amp;void 0!==h?h:!0</td>\n",
              "      <td>p=0</td>\n",
              "      <td>q</td>\n",
              "      <td>r=google.erd</td>\n",
              "      <td>u=r.jsr;google.ml=function(a</td>\n",
              "      <td>b</td>\n",
              "      <td>d</td>\n",
              "      <td>m</td>\n",
              "      <td>c){c=void 0===c?2:c;b&amp;&amp;(q=a&amp;&amp;a.message);if(goo...</td>\n",
              "      <td>c</td>\n",
              "      <td>d)</td>\n",
              "      <td>null;if(0&gt;u){window.console&amp;&amp;console.error(a</td>\n",
              "      <td>d);if(-2===u)throw a;b=!1}else b=!a||!a.messag...</td>\n",
              "      <td>NaN</td>\n",
              "      <td>NaN</td>\n",
              "      <td>NaN</td>\n",
              "      <td>NaN</td>\n",
              "      <td>NaN</td>\n",
              "      <td>NaN</td>\n",
              "      <td>NaN</td>\n",
              "      <td>NaN</td>\n",
              "      <td>NaN</td>\n",
              "      <td>NaN</td>\n",
              "      <td>NaN</td>\n",
              "      <td>NaN</td>\n",
              "      <td>NaN</td>\n",
              "      <td>NaN</td>\n",
              "      <td>NaN</td>\n",
              "      <td>NaN</td>\n",
              "      <td>NaN</td>\n",
              "      <td>NaN</td>\n",
              "      <td>NaN</td>\n",
              "      <td>NaN</td>\n",
              "      <td>NaN</td>\n",
              "      <td>NaN</td>\n",
              "      <td>NaN</td>\n",
              "      <td>NaN</td>\n",
              "      <td>...</td>\n",
              "      <td>NaN</td>\n",
              "      <td>NaN</td>\n",
              "      <td>NaN</td>\n",
              "      <td>NaN</td>\n",
              "      <td>NaN</td>\n",
              "      <td>NaN</td>\n",
              "      <td>NaN</td>\n",
              "      <td>NaN</td>\n",
              "      <td>NaN</td>\n",
              "      <td>NaN</td>\n",
              "      <td>NaN</td>\n",
              "      <td>NaN</td>\n",
              "      <td>NaN</td>\n",
              "      <td>NaN</td>\n",
              "      <td>NaN</td>\n",
              "      <td>NaN</td>\n",
              "      <td>NaN</td>\n",
              "      <td>NaN</td>\n",
              "      <td>NaN</td>\n",
              "      <td>NaN</td>\n",
              "      <td>NaN</td>\n",
              "      <td>NaN</td>\n",
              "      <td>NaN</td>\n",
              "      <td>NaN</td>\n",
              "      <td>NaN</td>\n",
              "      <td>NaN</td>\n",
              "      <td>NaN</td>\n",
              "      <td>NaN</td>\n",
              "      <td>NaN</td>\n",
              "      <td>NaN</td>\n",
              "      <td>NaN</td>\n",
              "      <td>NaN</td>\n",
              "      <td>NaN</td>\n",
              "      <td>NaN</td>\n",
              "      <td>NaN</td>\n",
              "      <td>NaN</td>\n",
              "      <td>NaN</td>\n",
              "      <td>NaN</td>\n",
              "      <td>NaN</td>\n",
              "      <td>NaN</td>\n",
              "    </tr>\n",
              "    <tr>\n",
              "      <th>6</th>\n",
              "      <td>e);var n=a.fileName;n&amp;&amp;(b+=\"&amp;script=\"+c(n)</td>\n",
              "      <td>e&amp;&amp;n===window.location.href&amp;&amp;(e=document.docum...</td>\n",
              "      <td>b+=\"&amp;cad=\"+c(e?e.substring(0</td>\n",
              "      <td>300):\"No script found.\")));for(var t in d)b+=\"&amp;\"</td>\n",
              "      <td>b+=c(t)</td>\n",
              "      <td>b+=\"=\"</td>\n",
              "      <td>b+=c(d[t]);b=b+\"&amp;emsg=\"+c(a.name+\": \"+a.messag...</td>\n",
              "      <td>12288));a=b;m||google.log(0</td>\n",
              "      <td>NaN</td>\n",
              "      <td>a);return a};window.onerror=function(a</td>\n",
              "      <td>b</td>\n",
              "      <td>d</td>\n",
              "      <td>m</td>\n",
              "      <td>c){q!==a&amp;&amp;(a=c instanceof Error?c:Error(a)</td>\n",
              "      <td>void 0===d||\"lineNumber\"in a||(a.lineNumber=d)</td>\n",
              "      <td>void 0===b||\"fileName\"in a||(a.fileName=b)</td>\n",
              "      <td>google.ml(a</td>\n",
              "      <td>!1</td>\n",
              "      <td>void 0</td>\n",
              "      <td>!1</td>\n",
              "      <td>SyntaxError===a.name||\"SyntaxError\"===a.messag...</td>\n",
              "      <td>11)?2:0));q=null;l&amp;&amp;p&gt;=k&amp;&amp;(window.onerror=null...</td>\n",
              "      <td>NaN</td>\n",
              "      <td>NaN</td>\n",
              "      <td>NaN</td>\n",
              "      <td>NaN</td>\n",
              "      <td>NaN</td>\n",
              "      <td>NaN</td>\n",
              "      <td>NaN</td>\n",
              "      <td>NaN</td>\n",
              "      <td>NaN</td>\n",
              "      <td>NaN</td>\n",
              "      <td>NaN</td>\n",
              "      <td>NaN</td>\n",
              "      <td>NaN</td>\n",
              "      <td>NaN</td>\n",
              "      <td>NaN</td>\n",
              "      <td>NaN</td>\n",
              "      <td>NaN</td>\n",
              "      <td>NaN</td>\n",
              "      <td>...</td>\n",
              "      <td>NaN</td>\n",
              "      <td>NaN</td>\n",
              "      <td>NaN</td>\n",
              "      <td>NaN</td>\n",
              "      <td>NaN</td>\n",
              "      <td>NaN</td>\n",
              "      <td>NaN</td>\n",
              "      <td>NaN</td>\n",
              "      <td>NaN</td>\n",
              "      <td>NaN</td>\n",
              "      <td>NaN</td>\n",
              "      <td>NaN</td>\n",
              "      <td>NaN</td>\n",
              "      <td>NaN</td>\n",
              "      <td>NaN</td>\n",
              "      <td>NaN</td>\n",
              "      <td>NaN</td>\n",
              "      <td>NaN</td>\n",
              "      <td>NaN</td>\n",
              "      <td>NaN</td>\n",
              "      <td>NaN</td>\n",
              "      <td>NaN</td>\n",
              "      <td>NaN</td>\n",
              "      <td>NaN</td>\n",
              "      <td>NaN</td>\n",
              "      <td>NaN</td>\n",
              "      <td>NaN</td>\n",
              "      <td>NaN</td>\n",
              "      <td>NaN</td>\n",
              "      <td>NaN</td>\n",
              "      <td>NaN</td>\n",
              "      <td>NaN</td>\n",
              "      <td>NaN</td>\n",
              "      <td>NaN</td>\n",
              "      <td>NaN</td>\n",
              "      <td>NaN</td>\n",
              "      <td>NaN</td>\n",
              "      <td>NaN</td>\n",
              "      <td>NaN</td>\n",
              "      <td>NaN</td>\n",
              "    </tr>\n",
              "    <tr>\n",
              "      <th>7</th>\n",
              "      <td>if (!iesg){document.f&amp;&amp;document.f.q.focus();do...</td>\n",
              "      <td>NaN</td>\n",
              "      <td>NaN</td>\n",
              "      <td>NaN</td>\n",
              "      <td>NaN</td>\n",
              "      <td>NaN</td>\n",
              "      <td>NaN</td>\n",
              "      <td>NaN</td>\n",
              "      <td>NaN</td>\n",
              "      <td>NaN</td>\n",
              "      <td>NaN</td>\n",
              "      <td>NaN</td>\n",
              "      <td>NaN</td>\n",
              "      <td>NaN</td>\n",
              "      <td>NaN</td>\n",
              "      <td>NaN</td>\n",
              "      <td>NaN</td>\n",
              "      <td>NaN</td>\n",
              "      <td>NaN</td>\n",
              "      <td>NaN</td>\n",
              "      <td>NaN</td>\n",
              "      <td>NaN</td>\n",
              "      <td>NaN</td>\n",
              "      <td>NaN</td>\n",
              "      <td>NaN</td>\n",
              "      <td>NaN</td>\n",
              "      <td>NaN</td>\n",
              "      <td>NaN</td>\n",
              "      <td>NaN</td>\n",
              "      <td>NaN</td>\n",
              "      <td>NaN</td>\n",
              "      <td>NaN</td>\n",
              "      <td>NaN</td>\n",
              "      <td>NaN</td>\n",
              "      <td>NaN</td>\n",
              "      <td>NaN</td>\n",
              "      <td>NaN</td>\n",
              "      <td>NaN</td>\n",
              "      <td>NaN</td>\n",
              "      <td>NaN</td>\n",
              "      <td>...</td>\n",
              "      <td>NaN</td>\n",
              "      <td>NaN</td>\n",
              "      <td>NaN</td>\n",
              "      <td>NaN</td>\n",
              "      <td>NaN</td>\n",
              "      <td>NaN</td>\n",
              "      <td>NaN</td>\n",
              "      <td>NaN</td>\n",
              "      <td>NaN</td>\n",
              "      <td>NaN</td>\n",
              "      <td>NaN</td>\n",
              "      <td>NaN</td>\n",
              "      <td>NaN</td>\n",
              "      <td>NaN</td>\n",
              "      <td>NaN</td>\n",
              "      <td>NaN</td>\n",
              "      <td>NaN</td>\n",
              "      <td>NaN</td>\n",
              "      <td>NaN</td>\n",
              "      <td>NaN</td>\n",
              "      <td>NaN</td>\n",
              "      <td>NaN</td>\n",
              "      <td>NaN</td>\n",
              "      <td>NaN</td>\n",
              "      <td>NaN</td>\n",
              "      <td>NaN</td>\n",
              "      <td>NaN</td>\n",
              "      <td>NaN</td>\n",
              "      <td>NaN</td>\n",
              "      <td>NaN</td>\n",
              "      <td>NaN</td>\n",
              "      <td>NaN</td>\n",
              "      <td>NaN</td>\n",
              "      <td>NaN</td>\n",
              "      <td>NaN</td>\n",
              "      <td>NaN</td>\n",
              "      <td>NaN</td>\n",
              "      <td>NaN</td>\n",
              "      <td>NaN</td>\n",
              "      <td>NaN</td>\n",
              "    </tr>\n",
              "    <tr>\n",
              "      <th>8</th>\n",
              "      <td>}</td>\n",
              "      <td>NaN</td>\n",
              "      <td>NaN</td>\n",
              "      <td>NaN</td>\n",
              "      <td>NaN</td>\n",
              "      <td>NaN</td>\n",
              "      <td>NaN</td>\n",
              "      <td>NaN</td>\n",
              "      <td>NaN</td>\n",
              "      <td>NaN</td>\n",
              "      <td>NaN</td>\n",
              "      <td>NaN</td>\n",
              "      <td>NaN</td>\n",
              "      <td>NaN</td>\n",
              "      <td>NaN</td>\n",
              "      <td>NaN</td>\n",
              "      <td>NaN</td>\n",
              "      <td>NaN</td>\n",
              "      <td>NaN</td>\n",
              "      <td>NaN</td>\n",
              "      <td>NaN</td>\n",
              "      <td>NaN</td>\n",
              "      <td>NaN</td>\n",
              "      <td>NaN</td>\n",
              "      <td>NaN</td>\n",
              "      <td>NaN</td>\n",
              "      <td>NaN</td>\n",
              "      <td>NaN</td>\n",
              "      <td>NaN</td>\n",
              "      <td>NaN</td>\n",
              "      <td>NaN</td>\n",
              "      <td>NaN</td>\n",
              "      <td>NaN</td>\n",
              "      <td>NaN</td>\n",
              "      <td>NaN</td>\n",
              "      <td>NaN</td>\n",
              "      <td>NaN</td>\n",
              "      <td>NaN</td>\n",
              "      <td>NaN</td>\n",
              "      <td>NaN</td>\n",
              "      <td>...</td>\n",
              "      <td>NaN</td>\n",
              "      <td>NaN</td>\n",
              "      <td>NaN</td>\n",
              "      <td>NaN</td>\n",
              "      <td>NaN</td>\n",
              "      <td>NaN</td>\n",
              "      <td>NaN</td>\n",
              "      <td>NaN</td>\n",
              "      <td>NaN</td>\n",
              "      <td>NaN</td>\n",
              "      <td>NaN</td>\n",
              "      <td>NaN</td>\n",
              "      <td>NaN</td>\n",
              "      <td>NaN</td>\n",
              "      <td>NaN</td>\n",
              "      <td>NaN</td>\n",
              "      <td>NaN</td>\n",
              "      <td>NaN</td>\n",
              "      <td>NaN</td>\n",
              "      <td>NaN</td>\n",
              "      <td>NaN</td>\n",
              "      <td>NaN</td>\n",
              "      <td>NaN</td>\n",
              "      <td>NaN</td>\n",
              "      <td>NaN</td>\n",
              "      <td>NaN</td>\n",
              "      <td>NaN</td>\n",
              "      <td>NaN</td>\n",
              "      <td>NaN</td>\n",
              "      <td>NaN</td>\n",
              "      <td>NaN</td>\n",
              "      <td>NaN</td>\n",
              "      <td>NaN</td>\n",
              "      <td>NaN</td>\n",
              "      <td>NaN</td>\n",
              "      <td>NaN</td>\n",
              "      <td>NaN</td>\n",
              "      <td>NaN</td>\n",
              "      <td>NaN</td>\n",
              "      <td>NaN</td>\n",
              "    </tr>\n",
              "    <tr>\n",
              "      <th>9</th>\n",
              "      <td>})();&lt;/script&gt;&lt;div id=\"mngb\"&gt;&lt;div id=gbar&gt;&lt;nob...</td>\n",
              "      <td>NaN</td>\n",
              "      <td>NaN</td>\n",
              "      <td>NaN</td>\n",
              "      <td>NaN</td>\n",
              "      <td>NaN</td>\n",
              "      <td>NaN</td>\n",
              "      <td>NaN</td>\n",
              "      <td>NaN</td>\n",
              "      <td>NaN</td>\n",
              "      <td>NaN</td>\n",
              "      <td>NaN</td>\n",
              "      <td>NaN</td>\n",
              "      <td>NaN</td>\n",
              "      <td>NaN</td>\n",
              "      <td>NaN</td>\n",
              "      <td>NaN</td>\n",
              "      <td>NaN</td>\n",
              "      <td>NaN</td>\n",
              "      <td>NaN</td>\n",
              "      <td>NaN</td>\n",
              "      <td>NaN</td>\n",
              "      <td>NaN</td>\n",
              "      <td>NaN</td>\n",
              "      <td>NaN</td>\n",
              "      <td>NaN</td>\n",
              "      <td>NaN</td>\n",
              "      <td>NaN</td>\n",
              "      <td>NaN</td>\n",
              "      <td>NaN</td>\n",
              "      <td>NaN</td>\n",
              "      <td>NaN</td>\n",
              "      <td>NaN</td>\n",
              "      <td>NaN</td>\n",
              "      <td>NaN</td>\n",
              "      <td>NaN</td>\n",
              "      <td>NaN</td>\n",
              "      <td>NaN</td>\n",
              "      <td>NaN</td>\n",
              "      <td>NaN</td>\n",
              "      <td>...</td>\n",
              "      <td>NaN</td>\n",
              "      <td>NaN</td>\n",
              "      <td>NaN</td>\n",
              "      <td>NaN</td>\n",
              "      <td>NaN</td>\n",
              "      <td>NaN</td>\n",
              "      <td>NaN</td>\n",
              "      <td>NaN</td>\n",
              "      <td>NaN</td>\n",
              "      <td>NaN</td>\n",
              "      <td>NaN</td>\n",
              "      <td>NaN</td>\n",
              "      <td>NaN</td>\n",
              "      <td>NaN</td>\n",
              "      <td>NaN</td>\n",
              "      <td>NaN</td>\n",
              "      <td>NaN</td>\n",
              "      <td>NaN</td>\n",
              "      <td>NaN</td>\n",
              "      <td>NaN</td>\n",
              "      <td>NaN</td>\n",
              "      <td>NaN</td>\n",
              "      <td>NaN</td>\n",
              "      <td>NaN</td>\n",
              "      <td>NaN</td>\n",
              "      <td>NaN</td>\n",
              "      <td>NaN</td>\n",
              "      <td>NaN</td>\n",
              "      <td>NaN</td>\n",
              "      <td>NaN</td>\n",
              "      <td>NaN</td>\n",
              "      <td>NaN</td>\n",
              "      <td>NaN</td>\n",
              "      <td>NaN</td>\n",
              "      <td>NaN</td>\n",
              "      <td>NaN</td>\n",
              "      <td>NaN</td>\n",
              "      <td>NaN</td>\n",
              "      <td>NaN</td>\n",
              "      <td>NaN</td>\n",
              "    </tr>\n",
              "    <tr>\n",
              "      <th>10</th>\n",
              "      <td>else top.location='/doodles/';};})();&lt;/script&gt;...</td>\n",
              "      <td>NaN</td>\n",
              "      <td>NaN</td>\n",
              "      <td>NaN</td>\n",
              "      <td>NaN</td>\n",
              "      <td>NaN</td>\n",
              "      <td>NaN</td>\n",
              "      <td>NaN</td>\n",
              "      <td>NaN</td>\n",
              "      <td>NaN</td>\n",
              "      <td>NaN</td>\n",
              "      <td>NaN</td>\n",
              "      <td>NaN</td>\n",
              "      <td>NaN</td>\n",
              "      <td>NaN</td>\n",
              "      <td>NaN</td>\n",
              "      <td>NaN</td>\n",
              "      <td>NaN</td>\n",
              "      <td>NaN</td>\n",
              "      <td>NaN</td>\n",
              "      <td>NaN</td>\n",
              "      <td>NaN</td>\n",
              "      <td>NaN</td>\n",
              "      <td>NaN</td>\n",
              "      <td>NaN</td>\n",
              "      <td>NaN</td>\n",
              "      <td>NaN</td>\n",
              "      <td>NaN</td>\n",
              "      <td>NaN</td>\n",
              "      <td>NaN</td>\n",
              "      <td>NaN</td>\n",
              "      <td>NaN</td>\n",
              "      <td>NaN</td>\n",
              "      <td>NaN</td>\n",
              "      <td>NaN</td>\n",
              "      <td>NaN</td>\n",
              "      <td>NaN</td>\n",
              "      <td>NaN</td>\n",
              "      <td>NaN</td>\n",
              "      <td>NaN</td>\n",
              "      <td>...</td>\n",
              "      <td>NaN</td>\n",
              "      <td>NaN</td>\n",
              "      <td>NaN</td>\n",
              "      <td>NaN</td>\n",
              "      <td>NaN</td>\n",
              "      <td>NaN</td>\n",
              "      <td>NaN</td>\n",
              "      <td>NaN</td>\n",
              "      <td>NaN</td>\n",
              "      <td>NaN</td>\n",
              "      <td>NaN</td>\n",
              "      <td>NaN</td>\n",
              "      <td>NaN</td>\n",
              "      <td>NaN</td>\n",
              "      <td>NaN</td>\n",
              "      <td>NaN</td>\n",
              "      <td>NaN</td>\n",
              "      <td>NaN</td>\n",
              "      <td>NaN</td>\n",
              "      <td>NaN</td>\n",
              "      <td>NaN</td>\n",
              "      <td>NaN</td>\n",
              "      <td>NaN</td>\n",
              "      <td>NaN</td>\n",
              "      <td>NaN</td>\n",
              "      <td>NaN</td>\n",
              "      <td>NaN</td>\n",
              "      <td>NaN</td>\n",
              "      <td>NaN</td>\n",
              "      <td>NaN</td>\n",
              "      <td>NaN</td>\n",
              "      <td>NaN</td>\n",
              "      <td>NaN</td>\n",
              "      <td>NaN</td>\n",
              "      <td>NaN</td>\n",
              "      <td>NaN</td>\n",
              "      <td>NaN</td>\n",
              "      <td>NaN</td>\n",
              "      <td>NaN</td>\n",
              "      <td>NaN</td>\n",
              "    </tr>\n",
              "    <tr>\n",
              "      <th>11</th>\n",
              "      <td>var a</td>\n",
              "      <td>b=\"1\";if(document&amp;&amp;document.getElementById)if(...</td>\n",
              "      <td>d</td>\n",
              "      <td>e=[\"MSXML2.XMLHTTP.6.0\"</td>\n",
              "      <td>MSXML2.XMLHTTP.3.0</td>\n",
              "      <td>MSXML2.XMLHTTP</td>\n",
              "      <td>Microsoft.XMLHTTP];for(c=0;d=e[c++];)try{new A...</td>\n",
              "      <td>b=\"2\"}catch(h){}}a=b;if(\"2\"==a&amp;&amp;-1==location.s...</td>\n",
              "      <td>g=document.getElementById(\"gbv\");g&amp;&amp;(g.value=a...</td>\n",
              "      <td>0)};}).call(this);&lt;/script&gt;&lt;/form&gt;&lt;div id=\"gac...</td>\n",
              "      <td>width:1440};(function(){</td>\n",
              "      <td>NaN</td>\n",
              "      <td>NaN</td>\n",
              "      <td>NaN</td>\n",
              "      <td>NaN</td>\n",
              "      <td>NaN</td>\n",
              "      <td>NaN</td>\n",
              "      <td>NaN</td>\n",
              "      <td>NaN</td>\n",
              "      <td>NaN</td>\n",
              "      <td>NaN</td>\n",
              "      <td>NaN</td>\n",
              "      <td>NaN</td>\n",
              "      <td>NaN</td>\n",
              "      <td>NaN</td>\n",
              "      <td>NaN</td>\n",
              "      <td>NaN</td>\n",
              "      <td>NaN</td>\n",
              "      <td>NaN</td>\n",
              "      <td>NaN</td>\n",
              "      <td>NaN</td>\n",
              "      <td>NaN</td>\n",
              "      <td>NaN</td>\n",
              "      <td>NaN</td>\n",
              "      <td>NaN</td>\n",
              "      <td>NaN</td>\n",
              "      <td>NaN</td>\n",
              "      <td>NaN</td>\n",
              "      <td>NaN</td>\n",
              "      <td>NaN</td>\n",
              "      <td>...</td>\n",
              "      <td>NaN</td>\n",
              "      <td>NaN</td>\n",
              "      <td>NaN</td>\n",
              "      <td>NaN</td>\n",
              "      <td>NaN</td>\n",
              "      <td>NaN</td>\n",
              "      <td>NaN</td>\n",
              "      <td>NaN</td>\n",
              "      <td>NaN</td>\n",
              "      <td>NaN</td>\n",
              "      <td>NaN</td>\n",
              "      <td>NaN</td>\n",
              "      <td>NaN</td>\n",
              "      <td>NaN</td>\n",
              "      <td>NaN</td>\n",
              "      <td>NaN</td>\n",
              "      <td>NaN</td>\n",
              "      <td>NaN</td>\n",
              "      <td>NaN</td>\n",
              "      <td>NaN</td>\n",
              "      <td>NaN</td>\n",
              "      <td>NaN</td>\n",
              "      <td>NaN</td>\n",
              "      <td>NaN</td>\n",
              "      <td>NaN</td>\n",
              "      <td>NaN</td>\n",
              "      <td>NaN</td>\n",
              "      <td>NaN</td>\n",
              "      <td>NaN</td>\n",
              "      <td>NaN</td>\n",
              "      <td>NaN</td>\n",
              "      <td>NaN</td>\n",
              "      <td>NaN</td>\n",
              "      <td>NaN</td>\n",
              "      <td>NaN</td>\n",
              "      <td>NaN</td>\n",
              "      <td>NaN</td>\n",
              "      <td>NaN</td>\n",
              "      <td>NaN</td>\n",
              "      <td>NaN</td>\n",
              "    </tr>\n",
              "    <tr>\n",
              "      <th>12</th>\n",
              "      <td>var a=window.innerWidth</td>\n",
              "      <td>b=window.innerHeight;if(!a||!b){var c=window.d...</td>\n",
              "      <td>d=\"CSS1Compat\"==c.compatMode?c.documentElement...</td>\n",
              "      <td>NaN</td>\n",
              "      <td>/client_204?&amp;atyp=i&amp;biw=+a+\"&amp;bih=\"+b+\"&amp;ei=\"+go...</td>\n",
              "      <td>cs:''</td>\n",
              "      <td>excm:[]};})();&lt;/script&gt;  &lt;script nonce=\"o4F69O...</td>\n",
              "      <td>d';</td>\n",
              "      <td>NaN</td>\n",
              "      <td>NaN</td>\n",
              "      <td>NaN</td>\n",
              "      <td>NaN</td>\n",
              "      <td>NaN</td>\n",
              "      <td>NaN</td>\n",
              "      <td>NaN</td>\n",
              "      <td>NaN</td>\n",
              "      <td>NaN</td>\n",
              "      <td>NaN</td>\n",
              "      <td>NaN</td>\n",
              "      <td>NaN</td>\n",
              "      <td>NaN</td>\n",
              "      <td>NaN</td>\n",
              "      <td>NaN</td>\n",
              "      <td>NaN</td>\n",
              "      <td>NaN</td>\n",
              "      <td>NaN</td>\n",
              "      <td>NaN</td>\n",
              "      <td>NaN</td>\n",
              "      <td>NaN</td>\n",
              "      <td>NaN</td>\n",
              "      <td>NaN</td>\n",
              "      <td>NaN</td>\n",
              "      <td>NaN</td>\n",
              "      <td>NaN</td>\n",
              "      <td>NaN</td>\n",
              "      <td>NaN</td>\n",
              "      <td>NaN</td>\n",
              "      <td>NaN</td>\n",
              "      <td>NaN</td>\n",
              "      <td>NaN</td>\n",
              "      <td>...</td>\n",
              "      <td>NaN</td>\n",
              "      <td>NaN</td>\n",
              "      <td>NaN</td>\n",
              "      <td>NaN</td>\n",
              "      <td>NaN</td>\n",
              "      <td>NaN</td>\n",
              "      <td>NaN</td>\n",
              "      <td>NaN</td>\n",
              "      <td>NaN</td>\n",
              "      <td>NaN</td>\n",
              "      <td>NaN</td>\n",
              "      <td>NaN</td>\n",
              "      <td>NaN</td>\n",
              "      <td>NaN</td>\n",
              "      <td>NaN</td>\n",
              "      <td>NaN</td>\n",
              "      <td>NaN</td>\n",
              "      <td>NaN</td>\n",
              "      <td>NaN</td>\n",
              "      <td>NaN</td>\n",
              "      <td>NaN</td>\n",
              "      <td>NaN</td>\n",
              "      <td>NaN</td>\n",
              "      <td>NaN</td>\n",
              "      <td>NaN</td>\n",
              "      <td>NaN</td>\n",
              "      <td>NaN</td>\n",
              "      <td>NaN</td>\n",
              "      <td>NaN</td>\n",
              "      <td>NaN</td>\n",
              "      <td>NaN</td>\n",
              "      <td>NaN</td>\n",
              "      <td>NaN</td>\n",
              "      <td>NaN</td>\n",
              "      <td>NaN</td>\n",
              "      <td>NaN</td>\n",
              "      <td>NaN</td>\n",
              "      <td>NaN</td>\n",
              "      <td>NaN</td>\n",
              "      <td>NaN</td>\n",
              "    </tr>\n",
              "    <tr>\n",
              "      <th>13</th>\n",
              "      <td>var e=this||self</td>\n",
              "      <td>f=function(a){return a};var g;var l=function(a</td>\n",
              "      <td>b){this.g=b===h?a:\"\"};l.prototype.toString=fun...</td>\n",
              "      <td>NaN</td>\n",
              "      <td>NaN</td>\n",
              "      <td>NaN</td>\n",
              "      <td>NaN</td>\n",
              "      <td>NaN</td>\n",
              "      <td>NaN</td>\n",
              "      <td>NaN</td>\n",
              "      <td>NaN</td>\n",
              "      <td>NaN</td>\n",
              "      <td>NaN</td>\n",
              "      <td>NaN</td>\n",
              "      <td>NaN</td>\n",
              "      <td>NaN</td>\n",
              "      <td>NaN</td>\n",
              "      <td>NaN</td>\n",
              "      <td>NaN</td>\n",
              "      <td>NaN</td>\n",
              "      <td>NaN</td>\n",
              "      <td>NaN</td>\n",
              "      <td>NaN</td>\n",
              "      <td>NaN</td>\n",
              "      <td>NaN</td>\n",
              "      <td>NaN</td>\n",
              "      <td>NaN</td>\n",
              "      <td>NaN</td>\n",
              "      <td>NaN</td>\n",
              "      <td>NaN</td>\n",
              "      <td>NaN</td>\n",
              "      <td>NaN</td>\n",
              "      <td>NaN</td>\n",
              "      <td>NaN</td>\n",
              "      <td>NaN</td>\n",
              "      <td>NaN</td>\n",
              "      <td>NaN</td>\n",
              "      <td>NaN</td>\n",
              "      <td>NaN</td>\n",
              "      <td>NaN</td>\n",
              "      <td>...</td>\n",
              "      <td>NaN</td>\n",
              "      <td>NaN</td>\n",
              "      <td>NaN</td>\n",
              "      <td>NaN</td>\n",
              "      <td>NaN</td>\n",
              "      <td>NaN</td>\n",
              "      <td>NaN</td>\n",
              "      <td>NaN</td>\n",
              "      <td>NaN</td>\n",
              "      <td>NaN</td>\n",
              "      <td>NaN</td>\n",
              "      <td>NaN</td>\n",
              "      <td>NaN</td>\n",
              "      <td>NaN</td>\n",
              "      <td>NaN</td>\n",
              "      <td>NaN</td>\n",
              "      <td>NaN</td>\n",
              "      <td>NaN</td>\n",
              "      <td>NaN</td>\n",
              "      <td>NaN</td>\n",
              "      <td>NaN</td>\n",
              "      <td>NaN</td>\n",
              "      <td>NaN</td>\n",
              "      <td>NaN</td>\n",
              "      <td>NaN</td>\n",
              "      <td>NaN</td>\n",
              "      <td>NaN</td>\n",
              "      <td>NaN</td>\n",
              "      <td>NaN</td>\n",
              "      <td>NaN</td>\n",
              "      <td>NaN</td>\n",
              "      <td>NaN</td>\n",
              "      <td>NaN</td>\n",
              "      <td>NaN</td>\n",
              "      <td>NaN</td>\n",
              "      <td>NaN</td>\n",
              "      <td>NaN</td>\n",
              "      <td>NaN</td>\n",
              "      <td>NaN</td>\n",
              "      <td>NaN</td>\n",
              "    </tr>\n",
              "    <tr>\n",
              "      <th>14</th>\n",
              "      <td>function m(){var a=u;google.lx=function(){n(a)...</td>\n",
              "      <td>NaN</td>\n",
              "      <td>NaN</td>\n",
              "      <td>NaN</td>\n",
              "      <td>NaN</td>\n",
              "      <td>NaN</td>\n",
              "      <td>NaN</td>\n",
              "      <td>NaN</td>\n",
              "      <td>NaN</td>\n",
              "      <td>NaN</td>\n",
              "      <td>NaN</td>\n",
              "      <td>NaN</td>\n",
              "      <td>NaN</td>\n",
              "      <td>NaN</td>\n",
              "      <td>NaN</td>\n",
              "      <td>NaN</td>\n",
              "      <td>NaN</td>\n",
              "      <td>NaN</td>\n",
              "      <td>NaN</td>\n",
              "      <td>NaN</td>\n",
              "      <td>NaN</td>\n",
              "      <td>NaN</td>\n",
              "      <td>NaN</td>\n",
              "      <td>NaN</td>\n",
              "      <td>NaN</td>\n",
              "      <td>NaN</td>\n",
              "      <td>NaN</td>\n",
              "      <td>NaN</td>\n",
              "      <td>NaN</td>\n",
              "      <td>NaN</td>\n",
              "      <td>NaN</td>\n",
              "      <td>NaN</td>\n",
              "      <td>NaN</td>\n",
              "      <td>NaN</td>\n",
              "      <td>NaN</td>\n",
              "      <td>NaN</td>\n",
              "      <td>NaN</td>\n",
              "      <td>NaN</td>\n",
              "      <td>NaN</td>\n",
              "      <td>NaN</td>\n",
              "      <td>...</td>\n",
              "      <td>NaN</td>\n",
              "      <td>NaN</td>\n",
              "      <td>NaN</td>\n",
              "      <td>NaN</td>\n",
              "      <td>NaN</td>\n",
              "      <td>NaN</td>\n",
              "      <td>NaN</td>\n",
              "      <td>NaN</td>\n",
              "      <td>NaN</td>\n",
              "      <td>NaN</td>\n",
              "      <td>NaN</td>\n",
              "      <td>NaN</td>\n",
              "      <td>NaN</td>\n",
              "      <td>NaN</td>\n",
              "      <td>NaN</td>\n",
              "      <td>NaN</td>\n",
              "      <td>NaN</td>\n",
              "      <td>NaN</td>\n",
              "      <td>NaN</td>\n",
              "      <td>NaN</td>\n",
              "      <td>NaN</td>\n",
              "      <td>NaN</td>\n",
              "      <td>NaN</td>\n",
              "      <td>NaN</td>\n",
              "      <td>NaN</td>\n",
              "      <td>NaN</td>\n",
              "      <td>NaN</td>\n",
              "      <td>NaN</td>\n",
              "      <td>NaN</td>\n",
              "      <td>NaN</td>\n",
              "      <td>NaN</td>\n",
              "      <td>NaN</td>\n",
              "      <td>NaN</td>\n",
              "      <td>NaN</td>\n",
              "      <td>NaN</td>\n",
              "      <td>NaN</td>\n",
              "      <td>NaN</td>\n",
              "      <td>NaN</td>\n",
              "      <td>NaN</td>\n",
              "      <td>NaN</td>\n",
              "    </tr>\n",
              "    <tr>\n",
              "      <th>15</th>\n",
              "      <td>function n(a){google.timers&amp;&amp;google.timers.loa...</td>\n",
              "      <td>xjsls);var b=document;var c=\"SCRIPT\";\"applicat...</td>\n",
              "      <td>{createHTML:f</td>\n",
              "      <td>createScript:f</td>\n",
              "      <td>createScriptURL:f})}catch(p){e.console&amp;&amp;e.cons...</td>\n",
              "      <td>h);c.src=a instanceof l&amp;&amp;a.constructor===l?a.g...</td>\n",
              "      <td>script[nonce]))?b.nonce||b.getAttribute(\"nonce...</td>\n",
              "      <td>d);document.body.appendChild(c);google.psa=!0}...</td>\n",
              "      <td>0);})();function _DumpException(e){throw e;}</td>\n",
              "      <td>NaN</td>\n",
              "      <td>NaN</td>\n",
              "      <td>NaN</td>\n",
              "      <td>NaN</td>\n",
              "      <td>NaN</td>\n",
              "      <td>NaN</td>\n",
              "      <td>NaN</td>\n",
              "      <td>NaN</td>\n",
              "      <td>NaN</td>\n",
              "      <td>NaN</td>\n",
              "      <td>NaN</td>\n",
              "      <td>NaN</td>\n",
              "      <td>NaN</td>\n",
              "      <td>NaN</td>\n",
              "      <td>NaN</td>\n",
              "      <td>NaN</td>\n",
              "      <td>NaN</td>\n",
              "      <td>NaN</td>\n",
              "      <td>NaN</td>\n",
              "      <td>NaN</td>\n",
              "      <td>NaN</td>\n",
              "      <td>NaN</td>\n",
              "      <td>NaN</td>\n",
              "      <td>NaN</td>\n",
              "      <td>NaN</td>\n",
              "      <td>NaN</td>\n",
              "      <td>NaN</td>\n",
              "      <td>NaN</td>\n",
              "      <td>NaN</td>\n",
              "      <td>NaN</td>\n",
              "      <td>NaN</td>\n",
              "      <td>...</td>\n",
              "      <td>NaN</td>\n",
              "      <td>NaN</td>\n",
              "      <td>NaN</td>\n",
              "      <td>NaN</td>\n",
              "      <td>NaN</td>\n",
              "      <td>NaN</td>\n",
              "      <td>NaN</td>\n",
              "      <td>NaN</td>\n",
              "      <td>NaN</td>\n",
              "      <td>NaN</td>\n",
              "      <td>NaN</td>\n",
              "      <td>NaN</td>\n",
              "      <td>NaN</td>\n",
              "      <td>NaN</td>\n",
              "      <td>NaN</td>\n",
              "      <td>NaN</td>\n",
              "      <td>NaN</td>\n",
              "      <td>NaN</td>\n",
              "      <td>NaN</td>\n",
              "      <td>NaN</td>\n",
              "      <td>NaN</td>\n",
              "      <td>NaN</td>\n",
              "      <td>NaN</td>\n",
              "      <td>NaN</td>\n",
              "      <td>NaN</td>\n",
              "      <td>NaN</td>\n",
              "      <td>NaN</td>\n",
              "      <td>NaN</td>\n",
              "      <td>NaN</td>\n",
              "      <td>NaN</td>\n",
              "      <td>NaN</td>\n",
              "      <td>NaN</td>\n",
              "      <td>NaN</td>\n",
              "      <td>NaN</td>\n",
              "      <td>NaN</td>\n",
              "      <td>NaN</td>\n",
              "      <td>NaN</td>\n",
              "      <td>NaN</td>\n",
              "      <td>NaN</td>\n",
              "      <td>NaN</td>\n",
              "    </tr>\n",
              "    <tr>\n",
              "      <th>16</th>\n",
              "      <td>function _F_installCss(c){}</td>\n",
              "      <td>NaN</td>\n",
              "      <td>NaN</td>\n",
              "      <td>NaN</td>\n",
              "      <td>NaN</td>\n",
              "      <td>NaN</td>\n",
              "      <td>NaN</td>\n",
              "      <td>NaN</td>\n",
              "      <td>NaN</td>\n",
              "      <td>NaN</td>\n",
              "      <td>NaN</td>\n",
              "      <td>NaN</td>\n",
              "      <td>NaN</td>\n",
              "      <td>NaN</td>\n",
              "      <td>NaN</td>\n",
              "      <td>NaN</td>\n",
              "      <td>NaN</td>\n",
              "      <td>NaN</td>\n",
              "      <td>NaN</td>\n",
              "      <td>NaN</td>\n",
              "      <td>NaN</td>\n",
              "      <td>NaN</td>\n",
              "      <td>NaN</td>\n",
              "      <td>NaN</td>\n",
              "      <td>NaN</td>\n",
              "      <td>NaN</td>\n",
              "      <td>NaN</td>\n",
              "      <td>NaN</td>\n",
              "      <td>NaN</td>\n",
              "      <td>NaN</td>\n",
              "      <td>NaN</td>\n",
              "      <td>NaN</td>\n",
              "      <td>NaN</td>\n",
              "      <td>NaN</td>\n",
              "      <td>NaN</td>\n",
              "      <td>NaN</td>\n",
              "      <td>NaN</td>\n",
              "      <td>NaN</td>\n",
              "      <td>NaN</td>\n",
              "      <td>NaN</td>\n",
              "      <td>...</td>\n",
              "      <td>NaN</td>\n",
              "      <td>NaN</td>\n",
              "      <td>NaN</td>\n",
              "      <td>NaN</td>\n",
              "      <td>NaN</td>\n",
              "      <td>NaN</td>\n",
              "      <td>NaN</td>\n",
              "      <td>NaN</td>\n",
              "      <td>NaN</td>\n",
              "      <td>NaN</td>\n",
              "      <td>NaN</td>\n",
              "      <td>NaN</td>\n",
              "      <td>NaN</td>\n",
              "      <td>NaN</td>\n",
              "      <td>NaN</td>\n",
              "      <td>NaN</td>\n",
              "      <td>NaN</td>\n",
              "      <td>NaN</td>\n",
              "      <td>NaN</td>\n",
              "      <td>NaN</td>\n",
              "      <td>NaN</td>\n",
              "      <td>NaN</td>\n",
              "      <td>NaN</td>\n",
              "      <td>NaN</td>\n",
              "      <td>NaN</td>\n",
              "      <td>NaN</td>\n",
              "      <td>NaN</td>\n",
              "      <td>NaN</td>\n",
              "      <td>NaN</td>\n",
              "      <td>NaN</td>\n",
              "      <td>NaN</td>\n",
              "      <td>NaN</td>\n",
              "      <td>NaN</td>\n",
              "      <td>NaN</td>\n",
              "      <td>NaN</td>\n",
              "      <td>NaN</td>\n",
              "      <td>NaN</td>\n",
              "      <td>NaN</td>\n",
              "      <td>NaN</td>\n",
              "      <td>NaN</td>\n",
              "    </tr>\n",
              "    <tr>\n",
              "      <th>17</th>\n",
              "      <td>(function(){google.jl={attn:false</td>\n",
              "      <td>blt:'none'</td>\n",
              "      <td>chnk:0</td>\n",
              "      <td>dw:false</td>\n",
              "      <td>dwu:true</td>\n",
              "      <td>emtn:0</td>\n",
              "      <td>end:0</td>\n",
              "      <td>ine:false</td>\n",
              "      <td>lls:'default'</td>\n",
              "      <td>pdt:0</td>\n",
              "      <td>rep:0</td>\n",
              "      <td>snet:true</td>\n",
              "      <td>strt:0</td>\n",
              "      <td>ubm:false</td>\n",
              "      <td>uwp:true};})();(function(){var pmc='{\\x22d\\x22:{}</td>\n",
              "      <td>\\x22sb_he\\x22:{\\x22agen\\x22:true</td>\n",
              "      <td>\\x22cgen\\x22:true</td>\n",
              "      <td>\\x22client\\x22:\\x22heirloom-hp\\x22</td>\n",
              "      <td>\\x22dh\\x22:true</td>\n",
              "      <td>\\x22dhqt\\x22:true</td>\n",
              "      <td>\\x22ds\\x22:\\x22\\x22</td>\n",
              "      <td>\\x22ffql\\x22:\\x22en\\x22</td>\n",
              "      <td>\\x22fl\\x22:true</td>\n",
              "      <td>\\x22host\\x22:\\x22google.com\\x22</td>\n",
              "      <td>\\x22isbh\\x22:28</td>\n",
              "      <td>\\x22jsonp\\x22:true</td>\n",
              "      <td>\\x22msgs\\x22:{\\x22cibl\\x22:\\x22Zoekopdracht wi...</td>\n",
              "      <td>\\x22dym\\x22:\\x22Bedoelde je:\\x22</td>\n",
              "      <td>\\x22lcky\\x22:\\x22Ik doe een gok\\x22</td>\n",
              "      <td>\\x22lml\\x22:\\x22Meer informatie\\x22</td>\n",
              "      <td>\\x22oskt\\x22:\\x22Invoertools\\x22</td>\n",
              "      <td>\\x22psrc\\x22:\\x22Deze zoekopdracht is verwijde...</td>\n",
              "      <td>\\x22psrl\\x22:\\x22Verwijderen\\x22</td>\n",
              "      <td>\\x22sbit\\x22:\\x22Zoeken op afbeelding\\x22</td>\n",
              "      <td>\\x22srch\\x22:\\x22Google Zoeken\\x22}</td>\n",
              "      <td>\\x22ovr\\x22:{}</td>\n",
              "      <td>\\x22pq\\x22:\\x22\\x22</td>\n",
              "      <td>\\x22refpd\\x22:true</td>\n",
              "      <td>\\x22rfs\\x22:[]</td>\n",
              "      <td>\\x22sbas\\x22:\\x220 3px 8px 0 rgba(0</td>\n",
              "      <td>...</td>\n",
              "      <td>NaN</td>\n",
              "      <td>NaN</td>\n",
              "      <td>NaN</td>\n",
              "      <td>NaN</td>\n",
              "      <td>NaN</td>\n",
              "      <td>NaN</td>\n",
              "      <td>NaN</td>\n",
              "      <td>NaN</td>\n",
              "      <td>NaN</td>\n",
              "      <td>NaN</td>\n",
              "      <td>NaN</td>\n",
              "      <td>NaN</td>\n",
              "      <td>NaN</td>\n",
              "      <td>NaN</td>\n",
              "      <td>NaN</td>\n",
              "      <td>NaN</td>\n",
              "      <td>NaN</td>\n",
              "      <td>NaN</td>\n",
              "      <td>NaN</td>\n",
              "      <td>NaN</td>\n",
              "      <td>NaN</td>\n",
              "      <td>NaN</td>\n",
              "      <td>NaN</td>\n",
              "      <td>NaN</td>\n",
              "      <td>NaN</td>\n",
              "      <td>NaN</td>\n",
              "      <td>NaN</td>\n",
              "      <td>NaN</td>\n",
              "      <td>NaN</td>\n",
              "      <td>NaN</td>\n",
              "      <td>NaN</td>\n",
              "      <td>NaN</td>\n",
              "      <td>NaN</td>\n",
              "      <td>NaN</td>\n",
              "      <td>NaN</td>\n",
              "      <td>NaN</td>\n",
              "      <td>NaN</td>\n",
              "      <td>NaN</td>\n",
              "      <td>NaN</td>\n",
              "      <td>NaN</td>\n",
              "    </tr>\n",
              "  </tbody>\n",
              "</table>\n",
              "<p>18 rows × 348 columns</p>\n",
              "</div>\n",
              "      <button class=\"colab-df-convert\" onclick=\"convertToInteractive('df-36d1f844-8a8d-4f40-be92-2cc5a6474bf9')\"\n",
              "              title=\"Convert this dataframe to an interactive table.\"\n",
              "              style=\"display:none;\">\n",
              "        \n",
              "  <svg xmlns=\"http://www.w3.org/2000/svg\" height=\"24px\"viewBox=\"0 0 24 24\"\n",
              "       width=\"24px\">\n",
              "    <path d=\"M0 0h24v24H0V0z\" fill=\"none\"/>\n",
              "    <path d=\"M18.56 5.44l.94 2.06.94-2.06 2.06-.94-2.06-.94-.94-2.06-.94 2.06-2.06.94zm-11 1L8.5 8.5l.94-2.06 2.06-.94-2.06-.94L8.5 2.5l-.94 2.06-2.06.94zm10 10l.94 2.06.94-2.06 2.06-.94-2.06-.94-.94-2.06-.94 2.06-2.06.94z\"/><path d=\"M17.41 7.96l-1.37-1.37c-.4-.4-.92-.59-1.43-.59-.52 0-1.04.2-1.43.59L10.3 9.45l-7.72 7.72c-.78.78-.78 2.05 0 2.83L4 21.41c.39.39.9.59 1.41.59.51 0 1.02-.2 1.41-.59l7.78-7.78 2.81-2.81c.8-.78.8-2.07 0-2.86zM5.41 20L4 18.59l7.72-7.72 1.47 1.35L5.41 20z\"/>\n",
              "  </svg>\n",
              "      </button>\n",
              "      \n",
              "  <style>\n",
              "    .colab-df-container {\n",
              "      display:flex;\n",
              "      flex-wrap:wrap;\n",
              "      gap: 12px;\n",
              "    }\n",
              "\n",
              "    .colab-df-convert {\n",
              "      background-color: #E8F0FE;\n",
              "      border: none;\n",
              "      border-radius: 50%;\n",
              "      cursor: pointer;\n",
              "      display: none;\n",
              "      fill: #1967D2;\n",
              "      height: 32px;\n",
              "      padding: 0 0 0 0;\n",
              "      width: 32px;\n",
              "    }\n",
              "\n",
              "    .colab-df-convert:hover {\n",
              "      background-color: #E2EBFA;\n",
              "      box-shadow: 0px 1px 2px rgba(60, 64, 67, 0.3), 0px 1px 3px 1px rgba(60, 64, 67, 0.15);\n",
              "      fill: #174EA6;\n",
              "    }\n",
              "\n",
              "    [theme=dark] .colab-df-convert {\n",
              "      background-color: #3B4455;\n",
              "      fill: #D2E3FC;\n",
              "    }\n",
              "\n",
              "    [theme=dark] .colab-df-convert:hover {\n",
              "      background-color: #434B5C;\n",
              "      box-shadow: 0px 1px 3px 1px rgba(0, 0, 0, 0.15);\n",
              "      filter: drop-shadow(0px 1px 2px rgba(0, 0, 0, 0.3));\n",
              "      fill: #FFFFFF;\n",
              "    }\n",
              "  </style>\n",
              "\n",
              "      <script>\n",
              "        const buttonEl =\n",
              "          document.querySelector('#df-36d1f844-8a8d-4f40-be92-2cc5a6474bf9 button.colab-df-convert');\n",
              "        buttonEl.style.display =\n",
              "          google.colab.kernel.accessAllowed ? 'block' : 'none';\n",
              "\n",
              "        async function convertToInteractive(key) {\n",
              "          const element = document.querySelector('#df-36d1f844-8a8d-4f40-be92-2cc5a6474bf9');\n",
              "          const dataTable =\n",
              "            await google.colab.kernel.invokeFunction('convertToInteractive',\n",
              "                                                     [key], {});\n",
              "          if (!dataTable) return;\n",
              "\n",
              "          const docLinkHtml = 'Like what you see? Visit the ' +\n",
              "            '<a target=\"_blank\" href=https://colab.research.google.com/notebooks/data_table.ipynb>data table notebook</a>'\n",
              "            + ' to learn more about interactive tables.';\n",
              "          element.innerHTML = '';\n",
              "          dataTable['output_type'] = 'display_data';\n",
              "          await google.colab.output.renderOutput(dataTable, element);\n",
              "          const docLink = document.createElement('div');\n",
              "          docLink.innerHTML = docLinkHtml;\n",
              "          element.appendChild(docLink);\n",
              "        }\n",
              "      </script>\n",
              "    </div>\n",
              "  </div>\n",
              "  "
            ],
            "text/plain": [
              "   <!doctype html><html itemscope=\"\" itemtype=\"http://schema.org/WebPage\" lang=\"nl\"><head><meta content=\"text/html; charset=UTF-8\" http-equiv=\"Content-Type\"><meta content=\"/images/branding/googleg/1x/googleg_standard_color_128dp.png\" itemprop=\"image\"><title>Google</title><script nonce=\"o4F69Oz4Aqal5U928LDm/w==\">(function(){window.google={kEI:'w_PeYY3aJMbBkwWF8rWgCQ'  ... kBL:'idNN'};google.sn='webhp';google.kHL='nl';})();(function(){\n",
              "0                              var f=this||self;var h                                                                                                                                                                                                                                                                                                                             ...                                                NaN             \n",
              "1                                        function n(a                                                                                                                                                                                                                                                                                                                             ...                                                NaN             \n",
              "2        google.y={};google.sy=[];google.x=function(a                                                                                                                                                                                                                                                                                                                             ...                                                NaN             \n",
              "3   document.documentElement.addEventListener(\"sub...                                                                                                                                                                                                                                                                                                                             ...                                                NaN             \n",
              "4                                 </style><style>body                                                                                                                                                                                                                                                                                                                             ...                                                NaN             \n",
              "5                              var f=this||self;var g                                                                                                                                                                                                                                                                                                                             ...                                                NaN             \n",
              "6          e);var n=a.fileName;n&&(b+=\"&script=\"+c(n)                                                                                                                                                                                                                                                                                                                             ...                                                NaN             \n",
              "7   if (!iesg){document.f&&document.f.q.focus();do...                                                                                                                                                                                                                                                                                                                             ...                                                NaN             \n",
              "8                                                   }                                                                                                                                                                                                                                                                                                                             ...                                                NaN             \n",
              "9   })();</script><div id=\"mngb\"><div id=gbar><nob...                                                                                                                                                                                                                                                                                                                             ...                                                NaN             \n",
              "10  else top.location='/doodles/';};})();</script>...                                                                                                                                                                                                                                                                                                                             ...                                                NaN             \n",
              "11                                              var a                                                                                                                                                                                                                                                                                                                             ...                                                NaN             \n",
              "12                            var a=window.innerWidth                                                                                                                                                                                                                                                                                                                             ...                                                NaN             \n",
              "13                                   var e=this||self                                                                                                                                                                                                                                                                                                                             ...                                                NaN             \n",
              "14  function m(){var a=u;google.lx=function(){n(a)...                                                                                                                                                                                                                                                                                                                             ...                                                NaN             \n",
              "15  function n(a){google.timers&&google.timers.loa...                                                                                                                                                                                                                                                                                                                             ...                                                NaN             \n",
              "16                        function _F_installCss(c){}                                                                                                                                                                                                                                                                                                                             ...                                                NaN             \n",
              "17                  (function(){google.jl={attn:false                                                                                                                                                                                                                                                                                                                             ...                                                NaN             \n",
              "\n",
              "[18 rows x 348 columns]"
            ]
          },
          "metadata": {},
          "execution_count": 4
        }
      ]
    },
    {
      "cell_type": "code",
      "source": [
        "import urllib.request\n",
        "with urllib.request.urlopen('http://www.google.com/') as response:\n",
        "   html = response.read()"
      ],
      "metadata": {
        "id": "eNxPse7I_v5m"
      },
      "execution_count": null,
      "outputs": []
    },
    {
      "cell_type": "code",
      "source": [
        "response"
      ],
      "metadata": {
        "id": "pP3H1YOXT1FD",
        "colab": {
          "base_uri": "https://localhost:8080/"
        },
        "outputId": "456da29f-86e2-4a53-df67-5ac17cf7bcdf"
      },
      "execution_count": null,
      "outputs": [
        {
          "output_type": "execute_result",
          "data": {
            "text/plain": [
              "<http.client.HTTPResponse at 0x7f6a23fd24d0>"
            ]
          },
          "metadata": {},
          "execution_count": 6
        }
      ]
    },
    {
      "cell_type": "markdown",
      "source": [
        "# 확인!"
      ],
      "metadata": {
        "id": "dQnpbqBP09Wi"
      }
    },
    {
      "cell_type": "code",
      "source": [
        "def url(string) :\n",
        "    return \"www.\" + string + \".com\""
      ],
      "metadata": {
        "id": "U7k0lbHe0_aP"
      },
      "execution_count": null,
      "outputs": []
    },
    {
      "cell_type": "code",
      "source": [
        "url('google')"
      ],
      "metadata": {
        "colab": {
          "base_uri": "https://localhost:8080/",
          "height": 35
        },
        "id": "mIBFaAug1Aq3",
        "outputId": "767113c8-3db0-47ed-a39e-bb369106ed26"
      },
      "execution_count": null,
      "outputs": [
        {
          "output_type": "execute_result",
          "data": {
            "application/vnd.google.colaboratory.intrinsic+json": {
              "type": "string"
            },
            "text/plain": [
              "'www.google.com'"
            ]
          },
          "metadata": {},
          "execution_count": 2
        }
      ]
    },
    {
      "cell_type": "markdown",
      "source": [
        "2. 콤마가 포함된 문자열 숫자를 입력받아 정수로 변환하는 string_to_int 함수를 정의해보세요."
      ],
      "metadata": {
        "id": "mheghMrrUJlR"
      }
    },
    {
      "cell_type": "code",
      "source": [
        "def string_to_int(s1):\n",
        "  newS = ''\n",
        "  for i in s1:\n",
        "    if (i != ','):\n",
        "      newS += i\n",
        "  print(int(newS))\n",
        "numString = input(\"콤마와 함께 숫자를 입력하세요(ex. 1,2,3) : \")\n",
        "string_to_int(numString)"
      ],
      "metadata": {
        "id": "j3ICwjemT21M",
        "colab": {
          "base_uri": "https://localhost:8080/"
        },
        "outputId": "c2a1ae06-1f82-4f5f-9402-dc7093091534"
      },
      "execution_count": null,
      "outputs": [
        {
          "output_type": "stream",
          "name": "stdout",
          "text": [
            "콤마와 함께 숫자를 입력하세요(ex. 1,2,3) : 1,2,3\n",
            "123\n"
          ]
        }
      ]
    },
    {
      "cell_type": "markdown",
      "source": [
        "3. 아래 코드의 결과를 예측하고 실행결과가 일치하는지 확인해보세요.\n",
        "\n",
        "~~~\n",
        "def func0(num) :\n",
        "    return num * 2\n",
        "\n",
        "def func1(num) :\n",
        "    return func0(num + 2)\n",
        "\n",
        "def func2(num) :\n",
        "    num = num + 10\n",
        "    return func1(num)\n",
        "\n",
        "c = func2(2)\n",
        "print(c)\n",
        "~~~"
      ],
      "metadata": {
        "id": "gcYOE6KfVqaR"
      }
    },
    {
      "cell_type": "code",
      "source": [
        "def func0(num) : \n",
        "    return num * 2\n",
        "\n",
        "def func1(num) :\n",
        "    return func0(num + 2)\n",
        "\n",
        "def func2(num) :\n",
        "    num = num + 10\n",
        "    return func1(num)\n",
        "\n",
        "c = func2(2)\n",
        "print(c)"
      ],
      "metadata": {
        "id": "9ZZlb1msUYgq",
        "colab": {
          "base_uri": "https://localhost:8080/"
        },
        "outputId": "020c414a-dab0-4207-a684-c298b38e05aa"
      },
      "execution_count": null,
      "outputs": [
        {
          "output_type": "stream",
          "name": "stdout",
          "text": [
            "28\n"
          ]
        }
      ]
    },
    {
      "cell_type": "code",
      "source": [
        ""
      ],
      "metadata": {
        "id": "Utq3-SPNC0fU"
      },
      "execution_count": null,
      "outputs": []
    },
    {
      "cell_type": "markdown",
      "source": [
        "- 모듈\n",
        "- http://pythonstudy.xyz/python/article/17-%EB%AA%A8%EB%93%88-Module\n",
        "\n",
        "1. datetime\n",
        "datetime 모듈을 사용해서 현재 시간을 화면에 출력해보세요.\n",
        "- 참조 : https://docs.python.org/ko/3/library/datetime.html?highlight=datetime#module-datetime"
      ],
      "metadata": {
        "id": "lidNICBDWc_q"
      }
    },
    {
      "cell_type": "code",
      "source": [
        "import datetime\n",
        "\n",
        "now = datetime.datetime.now()\n",
        "print(now)"
      ],
      "metadata": {
        "colab": {
          "base_uri": "https://localhost:8080/"
        },
        "id": "Nj-4-vQeV-9l",
        "outputId": "5ce5e2f7-5820-4baf-b936-5fcc714a7cba"
      },
      "execution_count": null,
      "outputs": [
        {
          "output_type": "stream",
          "name": "stdout",
          "text": [
            "2022-01-13 00:27:41.699440\n"
          ]
        }
      ]
    },
    {
      "cell_type": "code",
      "source": [
        "type(now)"
      ],
      "metadata": {
        "colab": {
          "base_uri": "https://localhost:8080/"
        },
        "id": "Vr5aDY7qWlTV",
        "outputId": "7c2fced8-135a-464e-a596-fddff5fe1a50"
      },
      "execution_count": null,
      "outputs": [
        {
          "output_type": "execute_result",
          "data": {
            "text/plain": [
              "datetime.datetime"
            ]
          },
          "metadata": {},
          "execution_count": 4
        }
      ]
    },
    {
      "cell_type": "markdown",
      "source": [
        "4. datetime 모듈의 timedelta를 사용해서 오늘로부터 30일, 25일, 20일, 15일, 10일, 5일 전의 날짜를 화면에 출력해보세요."
      ],
      "metadata": {
        "id": "FbDblD59X59G"
      }
    },
    {
      "cell_type": "code",
      "source": [
        "from datetime import timedelta\n"
      ],
      "metadata": {
        "id": "LMJVTG0nXzA9"
      },
      "execution_count": null,
      "outputs": []
    },
    {
      "cell_type": "code",
      "source": [
        "for days in range(30, 5, -5):\n",
        "    delta = datetime.timedelta(days=day)\n",
        "    date = now - delta\n",
        "    print(date)"
      ],
      "metadata": {
        "colab": {
          "base_uri": "https://localhost:8080/"
        },
        "id": "jcCXg0UR9mjr",
        "outputId": "29d4b7b1-31a9-45e3-d4c3-8eeba5f0d82d"
      },
      "execution_count": null,
      "outputs": [
        {
          "output_type": "stream",
          "name": "stdout",
          "text": [
            "2022-01-02 15:46:47.660433\n",
            "2022-01-02 15:46:47.660433\n",
            "2022-01-02 15:46:47.660433\n",
            "2022-01-02 15:46:47.660433\n",
            "2022-01-02 15:46:47.660433\n"
          ]
        }
      ]
    },
    {
      "cell_type": "markdown",
      "source": [
        "# 확인!"
      ],
      "metadata": {
        "id": "C0wN84tY1ax4"
      }
    },
    {
      "cell_type": "code",
      "source": [
        "import datetime\n",
        "\n",
        "now = datetime.datetime.now()\n",
        "\n",
        "for day in range(30, 0, -5):\n",
        "    delta = datetime.timedelta(days=day)\n",
        "    date = now - delta\n",
        "    print(date.strftime(\"%Y-%m-%d\"))"
      ],
      "metadata": {
        "colab": {
          "base_uri": "https://localhost:8080/"
        },
        "id": "zn0HxS111dGk",
        "outputId": "f38dbbef-3d7b-48ef-fe1e-5cb036bf447f"
      },
      "execution_count": null,
      "outputs": [
        {
          "output_type": "stream",
          "name": "stdout",
          "text": [
            "2021-12-14\n",
            "2021-12-19\n",
            "2021-12-24\n",
            "2021-12-29\n",
            "2022-01-03\n",
            "2022-01-08\n"
          ]
        }
      ]
    },
    {
      "cell_type": "markdown",
      "source": [
        "5. 현재시간을 얻어온 후 다음과 같은 포맷으로 시간을 출력해보세요. datetime모듈의 strftime 메서드를 사용하세요.\n",
        "\n",
        "~~~\n",
        "18:35:01 \n",
        "~~~"
      ],
      "metadata": {
        "id": "ioDb06MqmIqW"
      }
    },
    {
      "cell_type": "code",
      "source": [
        "now = datetime.datetime.now()\n",
        "now"
      ],
      "metadata": {
        "id": "UKdMIHD4YLnh",
        "colab": {
          "base_uri": "https://localhost:8080/"
        },
        "outputId": "a16c8e7d-8246-4a10-e126-88227cdc8251"
      },
      "execution_count": null,
      "outputs": [
        {
          "output_type": "execute_result",
          "data": {
            "text/plain": [
              "datetime.datetime(2022, 1, 12, 16, 0, 43, 990223)"
            ]
          },
          "metadata": {},
          "execution_count": 22
        }
      ]
    },
    {
      "cell_type": "code",
      "source": [
        "now.strftime('%Y-%m-%d')"
      ],
      "metadata": {
        "colab": {
          "base_uri": "https://localhost:8080/",
          "height": 35
        },
        "id": "90PrSM9xCP5l",
        "outputId": "b5d98d0b-4816-498c-d5dd-19f8026369bf"
      },
      "execution_count": null,
      "outputs": [
        {
          "output_type": "execute_result",
          "data": {
            "application/vnd.google.colaboratory.intrinsic+json": {
              "type": "string"
            },
            "text/plain": [
              "'2022-01-12'"
            ]
          },
          "metadata": {},
          "execution_count": 35
        }
      ]
    },
    {
      "cell_type": "code",
      "source": [
        "timenow = now.strftime('%Y-%m-%d')\n",
        "print(timenow)"
      ],
      "metadata": {
        "colab": {
          "base_uri": "https://localhost:8080/"
        },
        "id": "8usSb1ATBTjp",
        "outputId": "7ee3807a-5bf0-4fa7-d03c-605d1629ad97"
      },
      "execution_count": null,
      "outputs": [
        {
          "output_type": "stream",
          "name": "stdout",
          "text": [
            "2022-01-12\n"
          ]
        }
      ]
    },
    {
      "cell_type": "markdown",
      "source": [
        "# 확인!"
      ],
      "metadata": {
        "id": "sr4kFS9f1lA0"
      }
    },
    {
      "cell_type": "code",
      "source": [
        "print(now.strftime(\"%H:%M:%S\"))"
      ],
      "metadata": {
        "colab": {
          "base_uri": "https://localhost:8080/"
        },
        "id": "Jad-G_FT1moU",
        "outputId": "507e9383-0b92-4230-c725-f77ddcfd1da9"
      },
      "execution_count": null,
      "outputs": [
        {
          "output_type": "stream",
          "name": "stdout",
          "text": [
            "00:28:19\n"
          ]
        }
      ]
    },
    {
      "cell_type": "markdown",
      "source": [
        "6. datetime.datetime.strptime 메서드를 사용하면 문자열 형식의 시간을 datetime.datetime 타입의 시간 값으로 만들어줍니다. \"2021-01-10\"의 문자열을 시간 타입으로 변환해보세요."
      ],
      "metadata": {
        "id": "uN5bae89nIc6"
      }
    },
    {
      "cell_type": "code",
      "source": [
        "import datetime\n",
        "\n",
        "day = \"2022-01-12\"\n",
        "dayint = datetime.datetime.strptime(day, \"%Y-%m-%d\")\n",
        "print(dayint)"
      ],
      "metadata": {
        "id": "lz3gmtzJmaRi",
        "colab": {
          "base_uri": "https://localhost:8080/"
        },
        "outputId": "994633f1-fa03-4aad-81b4-2b9a1ec124f4"
      },
      "execution_count": null,
      "outputs": [
        {
          "output_type": "stream",
          "name": "stdout",
          "text": [
            "2022-01-12 00:00:00\n"
          ]
        }
      ]
    },
    {
      "cell_type": "markdown",
      "source": [
        "7. time 모듈의 sleep 메소드, datetime 모듈을 사용해서 1초에 한 번 현재 시간을 출력하는 코드를 작성하세요."
      ],
      "metadata": {
        "id": "70q7p598nZQ_"
      }
    },
    {
      "cell_type": "code",
      "source": [
        "import datetime\n",
        "now = datetime.datetime.now()\n",
        "#머리...멈췄어요.."
      ],
      "metadata": {
        "id": "trd3UKHcnPNp",
        "colab": {
          "base_uri": "https://localhost:8080/",
          "height": 339
        },
        "outputId": "a5793a5d-779a-43f1-da55-265f9fe7924d"
      },
      "execution_count": null,
      "outputs": [
        {
          "output_type": "error",
          "ename": "ModuleNotFoundError",
          "evalue": "ignored",
          "traceback": [
            "\u001b[0;31m---------------------------------------------------------------------------\u001b[0m",
            "\u001b[0;31mModuleNotFoundError\u001b[0m                       Traceback (most recent call last)",
            "\u001b[0;32m<ipython-input-49-a69013edc8bd>\u001b[0m in \u001b[0;36m<module>\u001b[0;34m()\u001b[0m\n\u001b[0;32m----> 1\u001b[0;31m \u001b[0;32mimport\u001b[0m \u001b[0msleep\u001b[0m\u001b[0;34m\u001b[0m\u001b[0;34m\u001b[0m\u001b[0m\n\u001b[0m\u001b[1;32m      2\u001b[0m \u001b[0mnow\u001b[0m\u001b[0;34m.\u001b[0m\u001b[0msleep\u001b[0m\u001b[0;34m(\u001b[0m\u001b[0;34m)\u001b[0m\u001b[0;34m\u001b[0m\u001b[0;34m\u001b[0m\u001b[0m\n",
            "\u001b[0;31mModuleNotFoundError\u001b[0m: No module named 'sleep'",
            "",
            "\u001b[0;31m---------------------------------------------------------------------------\u001b[0;32m\nNOTE: If your import is failing due to a missing package, you can\nmanually install dependencies using either !pip or !apt.\n\nTo view examples of installing some common dependencies, click the\n\"Open Examples\" button below.\n\u001b[0;31m---------------------------------------------------------------------------\u001b[0m\n"
          ],
          "errorDetails": {
            "actions": [
              {
                "action": "open_url",
                "actionText": "Open Examples",
                "url": "/notebooks/snippets/importing_libraries.ipynb"
              }
            ]
          }
        }
      ]
    },
    {
      "cell_type": "markdown",
      "source": [
        "# 확인!"
      ],
      "metadata": {
        "id": "jMFbOk3a1tpR"
      }
    },
    {
      "cell_type": "code",
      "source": [
        "import time\n",
        "import datetime\n",
        "\n",
        "while True:\n",
        "    now = datetime.datetime.now()\n",
        "    print(now)\n",
        "    time.sleep(1)"
      ],
      "metadata": {
        "id": "XLRKNM1PFvOq",
        "colab": {
          "base_uri": "https://localhost:8080/",
          "height": 356
        },
        "outputId": "6a01f9b9-e327-4982-e49a-2acecb661267"
      },
      "execution_count": null,
      "outputs": [
        {
          "output_type": "stream",
          "name": "stdout",
          "text": [
            "2022-01-13 00:29:30.484248\n",
            "2022-01-13 00:29:31.486424\n",
            "2022-01-13 00:29:32.487725\n",
            "2022-01-13 00:29:33.489009\n",
            "2022-01-13 00:29:34.490391\n",
            "2022-01-13 00:29:35.491695\n",
            "2022-01-13 00:29:36.492969\n",
            "2022-01-13 00:29:37.494223\n",
            "2022-01-13 00:29:38.495492\n"
          ]
        },
        {
          "output_type": "error",
          "ename": "KeyboardInterrupt",
          "evalue": "ignored",
          "traceback": [
            "\u001b[0;31m---------------------------------------------------------------------------\u001b[0m",
            "\u001b[0;31mKeyboardInterrupt\u001b[0m                         Traceback (most recent call last)",
            "\u001b[0;32m<ipython-input-7-ff6a7c17cf1d>\u001b[0m in \u001b[0;36m<module>\u001b[0;34m()\u001b[0m\n\u001b[1;32m      5\u001b[0m     \u001b[0mnow\u001b[0m \u001b[0;34m=\u001b[0m \u001b[0mdatetime\u001b[0m\u001b[0;34m.\u001b[0m\u001b[0mdatetime\u001b[0m\u001b[0;34m.\u001b[0m\u001b[0mnow\u001b[0m\u001b[0;34m(\u001b[0m\u001b[0;34m)\u001b[0m\u001b[0;34m\u001b[0m\u001b[0;34m\u001b[0m\u001b[0m\n\u001b[1;32m      6\u001b[0m     \u001b[0mprint\u001b[0m\u001b[0;34m(\u001b[0m\u001b[0mnow\u001b[0m\u001b[0;34m)\u001b[0m\u001b[0;34m\u001b[0m\u001b[0;34m\u001b[0m\u001b[0m\n\u001b[0;32m----> 7\u001b[0;31m     \u001b[0mtime\u001b[0m\u001b[0;34m.\u001b[0m\u001b[0msleep\u001b[0m\u001b[0;34m(\u001b[0m\u001b[0;36m1\u001b[0m\u001b[0;34m)\u001b[0m\u001b[0;34m\u001b[0m\u001b[0;34m\u001b[0m\u001b[0m\n\u001b[0m",
            "\u001b[0;31mKeyboardInterrupt\u001b[0m: "
          ]
        }
      ]
    },
    {
      "cell_type": "code",
      "source": [
        ""
      ],
      "metadata": {
        "id": "7Cs8UgiI1u7k"
      },
      "execution_count": null,
      "outputs": []
    },
    {
      "cell_type": "markdown",
      "source": [
        "# 20220113\n",
        "- 참조 : \n",
        "  수업자료 중 객https://wikidocs.net/89\n",
        "\n",
        "1. 비어있는 클래스 Car를 만들어보세요."
      ],
      "metadata": {
        "id": "qgauLSBTvwYy"
      }
    },
    {
      "cell_type": "code",
      "source": [
        "class Car:\n",
        "    pass"
      ],
      "metadata": {
        "id": "yxb5wGJfsZkX"
      },
      "execution_count": null,
      "outputs": []
    },
    {
      "cell_type": "code",
      "source": [
        ""
      ],
      "metadata": {
        "id": "H3FyZmDbk-F5"
      },
      "execution_count": null,
      "outputs": []
    },
    {
      "cell_type": "markdown",
      "source": [
        "2. morning이라는 변수를 만들고 Car 클래스를 바인딩해주세요.\n",
        "이후 morning 변수를 호출하고, morning의 타입을 확인해보세요."
      ],
      "metadata": {
        "id": "GFWb8iIYxtdU"
      }
    },
    {
      "cell_type": "code",
      "source": [
        "class Car:\n",
        "    pass\n",
        "    morning = Car()"
      ],
      "metadata": {
        "id": "glFXgni2AlLT"
      },
      "execution_count": null,
      "outputs": []
    },
    {
      "cell_type": "code",
      "source": [
        "type(morning)"
      ],
      "metadata": {
        "colab": {
          "base_uri": "https://localhost:8080/"
        },
        "id": "rCKonYUIAnwH",
        "outputId": "df43a2f5-079d-4944-a9fc-7c96afe878db"
      },
      "execution_count": null,
      "outputs": [
        {
          "output_type": "execute_result",
          "data": {
            "text/plain": [
              "__main__.Car"
            ]
          },
          "metadata": {},
          "execution_count": 6
        }
      ]
    },
    {
      "cell_type": "markdown",
      "source": [
        "# 확인!\n",
        "\n",
        "- class 안에 morning이라는 변수를 만들면 Car의 내부 변수가 됩니다.  "
      ],
      "metadata": {
        "id": "EcqC18cUAaid"
      }
    },
    {
      "cell_type": "code",
      "source": [
        "class Car:\n",
        "    pass\n",
        "morning = Car()"
      ],
      "metadata": {
        "id": "rVfJ5zrMxmfI"
      },
      "execution_count": null,
      "outputs": []
    },
    {
      "cell_type": "code",
      "source": [
        "type(morning)"
      ],
      "metadata": {
        "colab": {
          "base_uri": "https://localhost:8080/"
        },
        "id": "04yDRh_GZ6jd",
        "outputId": "b5122389-1620-42a7-9371-2dc0c7138edc"
      },
      "execution_count": null,
      "outputs": [
        {
          "output_type": "execute_result",
          "data": {
            "text/plain": [
              "__main__.Car"
            ]
          },
          "metadata": {},
          "execution_count": 2
        }
      ]
    },
    {
      "cell_type": "markdown",
      "source": [
        "3. Car 클래스를 호출시 '자동차'라는 단어가 출력되도록 Car클래스를 변경해주세요. 이후 morning 변수에 Car를 바인딩 후 출력해보세요."
      ],
      "metadata": {
        "id": "YpvQZRNIzUWv"
      }
    },
    {
      "cell_type": "code",
      "source": [
        "class Car:\n",
        "  print('자동차')\n",
        "  morning = Car()"
      ],
      "metadata": {
        "id": "AbzYrT3oxzgk",
        "colab": {
          "base_uri": "https://localhost:8080/"
        },
        "outputId": "4865e6b3-cc1e-4e8d-8783-bbb2bfa22198"
      },
      "execution_count": null,
      "outputs": [
        {
          "output_type": "stream",
          "name": "stdout",
          "text": [
            "자동차\n"
          ]
        }
      ]
    },
    {
      "cell_type": "code",
      "source": [
        "print(morning)"
      ],
      "metadata": {
        "colab": {
          "base_uri": "https://localhost:8080/"
        },
        "id": "1q-Ch9oeaNkm",
        "outputId": "c1a3e23b-dd46-46c0-b1fc-b01bc8655135"
      },
      "execution_count": null,
      "outputs": [
        {
          "output_type": "stream",
          "name": "stdout",
          "text": [
            "<__main__.Car object at 0x7fbd31294710>\n"
          ]
        }
      ]
    },
    {
      "cell_type": "markdown",
      "source": [
        "4. Car 클래스에 (차종, 색깔, 차번호)를 받는 생성자를 추가하세요. 이후 아래 내용을 추가해보세요.\n",
        "\n",
        "~~~\n",
        "morning = Car(\"모닝\", \"Blue\", 1234)\n",
        "print(morning.name)\n",
        "~~~"
      ],
      "metadata": {
        "id": "zYc96rs5zhiC"
      }
    },
    {
      "cell_type": "code",
      "source": [
        "class Car:\n",
        "  def __init__(self, name, color, num):\n",
        "        self.name = '모닝'\n",
        "        self.color = 'Blue'\n",
        "        self.num = 1234\n",
        "morning = Car(\"모닝\", \"Blue\", 1234)\n",
        "print(morning.name)"
      ],
      "metadata": {
        "id": "iyJ-G6q3zf6A",
        "colab": {
          "base_uri": "https://localhost:8080/"
        },
        "outputId": "72a7dd0c-b337-4b44-bc82-da9e430b7fae"
      },
      "execution_count": null,
      "outputs": [
        {
          "output_type": "stream",
          "name": "stdout",
          "text": [
            "모닝\n"
          ]
        }
      ]
    },
    {
      "cell_type": "markdown",
      "source": [
        "# 확인!\n",
        "\n",
        "- 지금처럼 각각의 속성명을 지정해주면 기본 생성자의 속성으로 어떤 것을 입력해도 name=모닝, color=Blue, num=1234가 들어가게 됩니다. 아래의 마티즈 예시를 확인해보세요."
      ],
      "metadata": {
        "id": "5j4PwJnOAyzz"
      }
    },
    {
      "cell_type": "code",
      "source": [
        "matiz = Car('렉서스', 'Red', 2345)"
      ],
      "metadata": {
        "id": "momlbsn-Bb41"
      },
      "execution_count": null,
      "outputs": []
    },
    {
      "cell_type": "code",
      "source": [
        "matiz.name"
      ],
      "metadata": {
        "colab": {
          "base_uri": "https://localhost:8080/",
          "height": 35
        },
        "id": "pt-3cUwmCZsk",
        "outputId": "0fcf836e-889f-42c0-a520-b57e6265eb94"
      },
      "execution_count": null,
      "outputs": [
        {
          "output_type": "execute_result",
          "data": {
            "application/vnd.google.colaboratory.intrinsic+json": {
              "type": "string"
            },
            "text/plain": [
              "'모닝'"
            ]
          },
          "metadata": {},
          "execution_count": 15
        }
      ]
    },
    {
      "cell_type": "markdown",
      "source": [
        "- 그래서 우리는 아래와 같이 입력하는 파라메터가 속성이 되도록 클래스의 기본 생성자를 만듭니다."
      ],
      "metadata": {
        "id": "5k5ErgOyCl_O"
      }
    },
    {
      "cell_type": "code",
      "source": [
        "class Car:\n",
        "    def __init__(self, name, color, num):\n",
        "        self.name = name\n",
        "        self.color = color\n",
        "        self.num = num\n",
        "        print(\"자동차\")\n",
        "morning = Car(\"모닝\", \"Blue\", 1234)\n",
        "print(morning.name)"
      ],
      "metadata": {
        "colab": {
          "base_uri": "https://localhost:8080/"
        },
        "id": "qsHglucbA_zT",
        "outputId": "f7d68b6a-2f63-4fb2-ed72-9afbaf81dae8"
      },
      "execution_count": null,
      "outputs": [
        {
          "output_type": "stream",
          "name": "stdout",
          "text": [
            "자동차\n",
            "모닝\n"
          ]
        }
      ]
    },
    {
      "cell_type": "code",
      "source": [
        "matiz = Car('렉서스', 'Red', 2345)"
      ],
      "metadata": {
        "colab": {
          "base_uri": "https://localhost:8080/"
        },
        "id": "4e3J7r00Cwa8",
        "outputId": "de138a59-0902-4656-8ba5-ae590d430c80"
      },
      "execution_count": null,
      "outputs": [
        {
          "output_type": "stream",
          "name": "stdout",
          "text": [
            "자동차\n"
          ]
        }
      ]
    },
    {
      "cell_type": "code",
      "source": [
        "matiz.name"
      ],
      "metadata": {
        "colab": {
          "base_uri": "https://localhost:8080/",
          "height": 35
        },
        "outputId": "4d105217-2940-4423-b49f-aa22843096cb",
        "id": "A3mr4LR7Cwa9"
      },
      "execution_count": null,
      "outputs": [
        {
          "output_type": "execute_result",
          "data": {
            "application/vnd.google.colaboratory.intrinsic+json": {
              "type": "string"
            },
            "text/plain": [
              "'렉서스'"
            ]
          },
          "metadata": {},
          "execution_count": 18
        }
      ]
    },
    {
      "cell_type": "markdown",
      "source": [
        "5. Car 클래스의 차종, 색깔, 차번호를 의미하는 속성(attribute)에 각각 접근해보세요. "
      ],
      "metadata": {
        "id": "5ZHxM-A4LKGS"
      }
    },
    {
      "cell_type": "code",
      "source": [
        "morning = Car(\"모닝\", \"Blue\", 1234)\n",
        "print(morning.name)"
      ],
      "metadata": {
        "colab": {
          "base_uri": "https://localhost:8080/"
        },
        "id": "QIEfCmjubMAS",
        "outputId": "297ad2c1-7249-4750-93d5-0c282fec91db"
      },
      "execution_count": null,
      "outputs": [
        {
          "output_type": "stream",
          "name": "stdout",
          "text": [
            "자동차\n",
            "모닝\n"
          ]
        }
      ]
    },
    {
      "cell_type": "code",
      "source": [
        "morning = Car(\"모닝\", \"Blue\", 1234)\n",
        "print(morning.color)"
      ],
      "metadata": {
        "id": "HRow5eRcLXOp",
        "colab": {
          "base_uri": "https://localhost:8080/"
        },
        "outputId": "aba799b6-a8fb-488d-ed7e-3385c9a3e65c"
      },
      "execution_count": null,
      "outputs": [
        {
          "output_type": "stream",
          "name": "stdout",
          "text": [
            "자동차\n",
            "Blue\n"
          ]
        }
      ]
    },
    {
      "cell_type": "code",
      "source": [
        "morning = Car(\"모닝\", \"Blue\", 1234)\n",
        "print(morning.num)"
      ],
      "metadata": {
        "id": "j44soDYoLaY-",
        "colab": {
          "base_uri": "https://localhost:8080/"
        },
        "outputId": "b2256cbc-3bad-459c-f933-79b149f0dbdc"
      },
      "execution_count": null,
      "outputs": [
        {
          "output_type": "stream",
          "name": "stdout",
          "text": [
            "자동차\n",
            "1234\n"
          ]
        }
      ]
    },
    {
      "cell_type": "code",
      "source": [
        "# 다 풀지 못했습니다..ㅠㅠ 에러난 문제는 더 풀어보고 싶어서 월요일에 다른문제와 확인 같이 부탁드려요ㅠㅠ"
      ],
      "metadata": {
        "id": "Kr9p_NnuLdZw"
      },
      "execution_count": null,
      "outputs": []
    },
    {
      "cell_type": "markdown",
      "source": [
        "# 와 성희님 이 도전정신 너무 좋아요! 드디어 코딩의 재미를 느끼신거 같아요 ㅎㅎㅎ"
      ],
      "metadata": {
        "id": "sFcfXuDbC6Yw"
      }
    },
    {
      "cell_type": "markdown",
      "source": [
        "6. Car 클래스에 차종, 색깔, 차번호를 모두 출력하는 info라는 메소드를 만든 후 호출해보세요."
      ],
      "metadata": {
        "id": "YCLjJnHkLfVg"
      }
    },
    {
      "cell_type": "code",
      "source": [
        "class Car:\n",
        "  def __init__(self, name, color, num):\n",
        "    self.name = name\n",
        "    self.color = color\n",
        "    self.num = num\n",
        "\n",
        "  def morning(info):\n",
        "    print(self.name, self.color, self.num)"
      ],
      "metadata": {
        "id": "yg2UXIYaLq_I"
      },
      "execution_count": null,
      "outputs": []
    },
    {
      "cell_type": "code",
      "source": [
        "morning.info('모닝', 'Blue', 1234)"
      ],
      "metadata": {
        "id": "od9OCSGcZKC6"
      },
      "execution_count": null,
      "outputs": []
    },
    {
      "cell_type": "code",
      "source": [
        "morning.info()"
      ],
      "metadata": {
        "id": "4FNNGfGZ0iJI",
        "colab": {
          "base_uri": "https://localhost:8080/"
        },
        "outputId": "802f622f-9493-448e-997b-5edf3eb6135a"
      },
      "execution_count": null,
      "outputs": [
        {
          "output_type": "stream",
          "name": "stdout",
          "text": [
            "모닝 Blue 1234\n"
          ]
        }
      ]
    },
    {
      "cell_type": "markdown",
      "source": [
        "# 확인!\n",
        "- 너무 잘 하셨는데 조건은 info를 실행할 때 값이 툴력되는 것이었어요. def 메소드명(인자): 형식으로 만들어주셔야 합니다!"
      ],
      "metadata": {
        "id": "0mUPdnsRjcZ6"
      }
    },
    {
      "cell_type": "code",
      "source": [
        "class Car:\n",
        "    def __init__(self, name, color, num):\n",
        "        self.name = name\n",
        "        self.color = color\n",
        "        self.num = num\n",
        "        print(\"자동차\")\n",
        "    \n",
        "    def info(self): \n",
        "        print(\"차종: {} 색깔: {} 번호: {}\".format(self.name, self.color, self.num))\n",
        "\n",
        "morning = Car(\"모닝\", \"Blue\", 1234)\n",
        "Car.info(morning)"
      ],
      "metadata": {
        "colab": {
          "base_uri": "https://localhost:8080/"
        },
        "id": "Fs5lYC0yjk1L",
        "outputId": "9e87c7d8-1ed9-4d1d-dfd7-e2a256fd55f8"
      },
      "execution_count": null,
      "outputs": [
        {
          "output_type": "stream",
          "name": "stdout",
          "text": [
            "자동차\n",
            "차종: 모닝 색깔: Blue 번호: 1234\n"
          ]
        }
      ]
    },
    {
      "cell_type": "markdown",
      "source": [
        "\n",
        "7. Car 클래스에 담긴 속성들을 수정할 수 있는 setInfo() 메소드를 만들어주시고 이를 통해 morning 변수의 차종을 '렉서스;로 바꿔주세요."
      ],
      "metadata": {
        "id": "u_fIAV0beZNs"
      }
    },
    {
      "cell_type": "code",
      "source": [
        ""
      ],
      "metadata": {
        "id": "7nwNwFbki8Xb"
      },
      "execution_count": null,
      "outputs": []
    },
    {
      "cell_type": "code",
      "source": [
        "class Car:\n",
        "  def __init__(self, name, color, num):\n",
        "    self.name = name\n",
        "    self.color = color\n",
        "    self.num = num\n",
        "\n",
        "  def info(self): \n",
        "        print(\"차종: {} 색깔: {} 번호: {}\".format(self.name, self.color, self.num))\n",
        "\n",
        "  def setInfo():\n",
        "    self.name = name\n",
        "    morning = Car(\"렉서스\", \"Blue\", 1234)\n",
        "\n",
        "print(morning.name)\n",
        "    "
      ],
      "metadata": {
        "id": "fqSvKl_SeYfI",
        "colab": {
          "base_uri": "https://localhost:8080/"
        },
        "outputId": "b126ae17-9d5e-4259-c0a0-4811cdcdbb2f"
      },
      "execution_count": null,
      "outputs": [
        {
          "output_type": "stream",
          "name": "stdout",
          "text": [
            "렉서스\n"
          ]
        }
      ]
    },
    {
      "cell_type": "markdown",
      "source": [
        "# 확인!\n",
        "- 새 객체를 만드는 것은 함수 바깥에서 해야합니다!! "
      ],
      "metadata": {
        "id": "ouoFyynawzEI"
      }
    },
    {
      "cell_type": "code",
      "source": [
        "class Car:\n",
        "  def __init__(self, name, color, num):\n",
        "    self.name = name\n",
        "    self.color = color\n",
        "    self.num = num\n",
        "\n",
        "  def info(self): \n",
        "        print(\"차종: {} 색깔: {} 번호: {}\".format(self.name, self.color, self.num))\n",
        "\n",
        "  def setInfo(self, name, color, num):\n",
        "        self.name = name\n",
        "        self.color = color\n",
        "        self.num = num\n",
        "\n",
        "  "
      ],
      "metadata": {
        "id": "ZXYiURYtTmTL"
      },
      "execution_count": null,
      "outputs": []
    },
    {
      "cell_type": "code",
      "source": [
        "morning = Car(\"렉서스\", \"Blue\", 1234)\n",
        "morning.setInfo(\"렉서스\", \"Red\", 1234)    \n",
        "print(morning.name)\n",
        "  "
      ],
      "metadata": {
        "colab": {
          "base_uri": "https://localhost:8080/"
        },
        "id": "BjPHkbO4xFK1",
        "outputId": "9b04ac4e-936d-451a-d433-7a29e2aa7ab6"
      },
      "execution_count": null,
      "outputs": [
        {
          "output_type": "stream",
          "name": "stdout",
          "text": [
            "렉서스\n"
          ]
        }
      ]
    },
    {
      "cell_type": "markdown",
      "source": [
        "7. 클래스에 \"차량 정보 삭제\"를 출력하는 소멸자를 추가하세요."
      ],
      "metadata": {
        "id": "JyEbhlrnSEtk"
      }
    },
    {
      "cell_type": "code",
      "source": [
        "class Car:\n",
        "  def __init__(self, name, color, num):\n",
        "    self.name = name\n",
        "    self.color = color\n",
        "    self.num = num\n",
        "\n",
        "  def info(self): \n",
        "        print(\"차종: {} 색깔: {} 번호: {}\".format(self.name, self.color, self.num))\n",
        "\n",
        "  def setInfo(self, name, color, num):\n",
        "        self.name = name\n",
        "        self.color = color\n",
        "        self.num = num\n",
        "\n",
        "\n",
        "  def delete():\n",
        "    print(\"'차량 정보 삭제'\")"
      ],
      "metadata": {
        "id": "HSKcXZdTNfqf"
      },
      "execution_count": null,
      "outputs": []
    },
    {
      "cell_type": "code",
      "source": [
        "Car.delete()"
      ],
      "metadata": {
        "id": "ED9w8k-jYmX_",
        "colab": {
          "base_uri": "https://localhost:8080/"
        },
        "outputId": "577a27a1-734d-41eb-a44f-7661777163b6"
      },
      "execution_count": null,
      "outputs": [
        {
          "output_type": "stream",
          "name": "stdout",
          "text": [
            "'차량 정보 삭제'\n"
          ]
        }
      ]
    },
    {
      "cell_type": "code",
      "source": [
        ""
      ],
      "metadata": {
        "id": "DJjEjxmORqKj"
      },
      "execution_count": null,
      "outputs": []
    },
    {
      "cell_type": "code",
      "source": [
        ""
      ],
      "metadata": {
        "id": "2dywZcWPGffs"
      },
      "execution_count": null,
      "outputs": []
    },
    {
      "cell_type": "markdown",
      "source": [
        "# 20220114\n",
        "1. 내가 본 영화 정보를 기록하는 클래스 Movie를 만들어주세요. \n",
        "\n",
        "- 조건1. 클래스 안에는 name(제목), actor(배우), review(한줄평), score(별점)을 기입합니다.\n",
        "- 조건2. update라는 메소드를 이용하여 추후에 영화 관련 기록을 수정할 수 있습니다.\n",
        "- 조건3. 영화명.all() 메소드를 이용하여 관련 영화의 전체 내용을 출력할 수 있습니다."
      ],
      "metadata": {
        "id": "DLi8wNoHqzlZ"
      }
    },
    {
      "cell_type": "code",
      "source": [
        "class Movie:\n",
        "  def __init__(self, name, actor, review, score):\n",
        "    self.name = name\n",
        "    self.actor = actor\n",
        "    self.review = review\n",
        "    self.score = score\n",
        "\n",
        "  def update():\n",
        "    self.name = name\n",
        "    update = input()\n",
        "\n",
        "\n",
        "  def all():\n",
        "    print(self.name, self.actor, self.review, self.score)\n",
        "\n",
        "\n"
      ],
      "metadata": {
        "id": "bIJdvy4Lp0BH"
      },
      "execution_count": null,
      "outputs": []
    },
    {
      "cell_type": "code",
      "source": [
        "Movie.update()"
      ],
      "metadata": {
        "colab": {
          "base_uri": "https://localhost:8080/",
          "height": 287
        },
        "id": "0cPrZvmr6f2r",
        "outputId": "1022c23a-6040-4146-a8af-de0b69f3fb05"
      },
      "execution_count": null,
      "outputs": [
        {
          "output_type": "error",
          "ename": "NameError",
          "evalue": "ignored",
          "traceback": [
            "\u001b[0;31m---------------------------------------------------------------------------\u001b[0m",
            "\u001b[0;31mNameError\u001b[0m                                 Traceback (most recent call last)",
            "\u001b[0;32m<ipython-input-8-c9997641cd26>\u001b[0m in \u001b[0;36m<module>\u001b[0;34m()\u001b[0m\n\u001b[0;32m----> 1\u001b[0;31m \u001b[0mMovie\u001b[0m\u001b[0;34m.\u001b[0m\u001b[0mupdate\u001b[0m\u001b[0;34m(\u001b[0m\u001b[0;34m)\u001b[0m\u001b[0;34m\u001b[0m\u001b[0;34m\u001b[0m\u001b[0m\n\u001b[0m",
            "\u001b[0;32m<ipython-input-7-60bd47d3c800>\u001b[0m in \u001b[0;36mupdate\u001b[0;34m()\u001b[0m\n\u001b[1;32m      7\u001b[0m \u001b[0;34m\u001b[0m\u001b[0m\n\u001b[1;32m      8\u001b[0m   \u001b[0;32mdef\u001b[0m \u001b[0mupdate\u001b[0m\u001b[0;34m(\u001b[0m\u001b[0;34m)\u001b[0m\u001b[0;34m:\u001b[0m\u001b[0;34m\u001b[0m\u001b[0;34m\u001b[0m\u001b[0m\n\u001b[0;32m----> 9\u001b[0;31m     \u001b[0mself\u001b[0m\u001b[0;34m.\u001b[0m\u001b[0mname\u001b[0m \u001b[0;34m=\u001b[0m \u001b[0mname\u001b[0m\u001b[0;34m\u001b[0m\u001b[0;34m\u001b[0m\u001b[0m\n\u001b[0m\u001b[1;32m     10\u001b[0m     \u001b[0mupdate\u001b[0m \u001b[0;34m=\u001b[0m \u001b[0minput\u001b[0m\u001b[0;34m(\u001b[0m\u001b[0;34m)\u001b[0m\u001b[0;34m\u001b[0m\u001b[0;34m\u001b[0m\u001b[0m\n\u001b[1;32m     11\u001b[0m \u001b[0;34m\u001b[0m\u001b[0m\n",
            "\u001b[0;31mNameError\u001b[0m: name 'name' is not defined"
          ]
        }
      ]
    },
    {
      "cell_type": "markdown",
      "source": [
        "# 확인!"
      ],
      "metadata": {
        "id": "LZ7PKFwVxxuk"
      }
    },
    {
      "cell_type": "code",
      "source": [
        "class Movie:\n",
        "    def __init__(self, name, actor, review, score):\n",
        "        self.name = name\n",
        "        self.actor = actor\n",
        "        self.review = review\n",
        "        self.score = score\n",
        "\n",
        "    def all(self):\n",
        "        print(\"제목: {} 배우: {} 리뷰: {} 별점: {}\".format(self.name, self.actor, self.review, self.score))\n",
        "\n",
        "    def update(self, name, actor, review, score):\n",
        "        self.name = name\n",
        "        self.actor = actor\n",
        "        self.review = review\n",
        "        self.score = score"
      ],
      "metadata": {
        "id": "kAF6FDJkxy8c"
      },
      "execution_count": null,
      "outputs": []
    },
    {
      "cell_type": "markdown",
      "source": [
        "2. 해당 클래스를 활용하여 3개의 영화를 리뷰해주세요."
      ],
      "metadata": {
        "id": "2kDM41iysRMj"
      }
    },
    {
      "cell_type": "code",
      "source": [
        "saveTheEarth = Movie('지구를 지켜라', '신하균', '7번 봤다 더 말이 필요한가', 5)"
      ],
      "metadata": {
        "id": "VVjboBaosGVA"
      },
      "execution_count": null,
      "outputs": []
    },
    {
      "cell_type": "code",
      "source": [
        "saveTheEarth.review"
      ],
      "metadata": {
        "colab": {
          "base_uri": "https://localhost:8080/",
          "height": 35
        },
        "id": "Qc1p5-8y7lk_",
        "outputId": "c6059be5-03dd-4e18-abc9-e5241301e8ae"
      },
      "execution_count": null,
      "outputs": [
        {
          "output_type": "execute_result",
          "data": {
            "application/vnd.google.colaboratory.intrinsic+json": {
              "type": "string"
            },
            "text/plain": [
              "'7번 봤다 더 말이 필요한가'"
            ]
          },
          "metadata": {},
          "execution_count": 11
        }
      ]
    },
    {
      "cell_type": "code",
      "source": [
        "무간도 = Movie('무간도', '양조위', '슬픔ㅠㅠ', 4.5)"
      ],
      "metadata": {
        "id": "ARMI9kmEsMF4"
      },
      "execution_count": null,
      "outputs": []
    },
    {
      "cell_type": "code",
      "source": [
        "무간도.review"
      ],
      "metadata": {
        "colab": {
          "base_uri": "https://localhost:8080/",
          "height": 35
        },
        "id": "o_TCQXKj7dZW",
        "outputId": "ac754117-206c-4b2c-c318-11b5748c1d37"
      },
      "execution_count": null,
      "outputs": [
        {
          "output_type": "execute_result",
          "data": {
            "application/vnd.google.colaboratory.intrinsic+json": {
              "type": "string"
            },
            "text/plain": [
              "'슬픔ㅠㅠ'"
            ]
          },
          "metadata": {},
          "execution_count": 13
        }
      ]
    },
    {
      "cell_type": "code",
      "source": [
        "파이란 = Movie('파이란', '최민식', '어떤 뒤늦게 도착한 편지', 4)"
      ],
      "metadata": {
        "id": "yEMwKGvlssBV"
      },
      "execution_count": null,
      "outputs": []
    },
    {
      "cell_type": "code",
      "source": [
        "파이란.review"
      ],
      "metadata": {
        "id": "VBUmm4mQszE_",
        "colab": {
          "base_uri": "https://localhost:8080/",
          "height": 35
        },
        "outputId": "59d58a6c-96fc-4d3c-8f38-e3df10bc74d5"
      },
      "execution_count": null,
      "outputs": [
        {
          "output_type": "execute_result",
          "data": {
            "application/vnd.google.colaboratory.intrinsic+json": {
              "type": "string"
            },
            "text/plain": [
              "'어떤 뒤늦게 도착한 편지'"
            ]
          },
          "metadata": {},
          "execution_count": 15
        }
      ]
    },
    {
      "cell_type": "markdown",
      "source": [
        "3. for문을 이용하여 위에서 리뷰한 영화 3개를 한꺼번에 출력해보세요."
      ],
      "metadata": {
        "id": "AxcqcjISs5F4"
      }
    },
    {
      "cell_type": "code",
      "source": [
        " class Movie:\n",
        "  def __init__(self, name, actor, review, score):\n",
        "    self.name = name\n",
        "    self.actor = actor\n",
        "    self.review = review\n",
        "    self.score = score\n",
        "\n",
        "  def update():\n",
        "    self.name = name\n",
        "    self.actor = actor\n",
        "    self.review = review\n",
        "    self.score = score\n",
        "    update = input()\n",
        "\n",
        "\n",
        "  def all():\n",
        "    print(self.name, self.actor, self.review, self.score)\n",
        "\n",
        "  def reviews():\n",
        "    reviewing =  (saveTheEarth.review,무간도.review,파이란.review)\n",
        "    for reviewing in range():\n",
        "      print(reviewing)\n",
        "  print(reviews())\n",
        "  #모르겠어요...."
      ],
      "metadata": {
        "id": "7QXJ_bzEs4QB",
        "colab": {
          "base_uri": "https://localhost:8080/",
          "height": 381
        },
        "outputId": "29af45d8-d76f-4f7c-ece7-e7a41286b1db"
      },
      "execution_count": null,
      "outputs": [
        {
          "output_type": "error",
          "ename": "TypeError",
          "evalue": "ignored",
          "traceback": [
            "\u001b[0;31m---------------------------------------------------------------------------\u001b[0m",
            "\u001b[0;31mTypeError\u001b[0m                                 Traceback (most recent call last)",
            "\u001b[0;32m<ipython-input-16-9c5da31664b6>\u001b[0m in \u001b[0;36m<module>\u001b[0;34m()\u001b[0m\n\u001b[0;32m----> 1\u001b[0;31m \u001b[0;32mclass\u001b[0m \u001b[0mMovie\u001b[0m\u001b[0;34m:\u001b[0m\u001b[0;34m\u001b[0m\u001b[0;34m\u001b[0m\u001b[0m\n\u001b[0m\u001b[1;32m      2\u001b[0m  \u001b[0;32mdef\u001b[0m \u001b[0m__init__\u001b[0m\u001b[0;34m(\u001b[0m\u001b[0mself\u001b[0m\u001b[0;34m,\u001b[0m \u001b[0mname\u001b[0m\u001b[0;34m,\u001b[0m \u001b[0mactor\u001b[0m\u001b[0;34m,\u001b[0m \u001b[0mreview\u001b[0m\u001b[0;34m,\u001b[0m \u001b[0mscore\u001b[0m\u001b[0;34m)\u001b[0m\u001b[0;34m:\u001b[0m\u001b[0;34m\u001b[0m\u001b[0;34m\u001b[0m\u001b[0m\n\u001b[1;32m      3\u001b[0m    \u001b[0mself\u001b[0m\u001b[0;34m.\u001b[0m\u001b[0mname\u001b[0m \u001b[0;34m=\u001b[0m \u001b[0mname\u001b[0m\u001b[0;34m\u001b[0m\u001b[0;34m\u001b[0m\u001b[0m\n\u001b[1;32m      4\u001b[0m    \u001b[0mself\u001b[0m\u001b[0;34m.\u001b[0m\u001b[0mactor\u001b[0m \u001b[0;34m=\u001b[0m \u001b[0mactor\u001b[0m\u001b[0;34m\u001b[0m\u001b[0;34m\u001b[0m\u001b[0m\n\u001b[1;32m      5\u001b[0m    \u001b[0mself\u001b[0m\u001b[0;34m.\u001b[0m\u001b[0mreview\u001b[0m \u001b[0;34m=\u001b[0m \u001b[0mreview\u001b[0m\u001b[0;34m\u001b[0m\u001b[0;34m\u001b[0m\u001b[0m\n",
            "\u001b[0;32m<ipython-input-16-9c5da31664b6>\u001b[0m in \u001b[0;36mMovie\u001b[0;34m()\u001b[0m\n\u001b[1;32m     21\u001b[0m    \u001b[0;32mfor\u001b[0m \u001b[0mreviewing\u001b[0m \u001b[0;32min\u001b[0m \u001b[0mrange\u001b[0m\u001b[0;34m(\u001b[0m\u001b[0;34m)\u001b[0m\u001b[0;34m:\u001b[0m\u001b[0;34m\u001b[0m\u001b[0;34m\u001b[0m\u001b[0m\n\u001b[1;32m     22\u001b[0m      \u001b[0mprint\u001b[0m\u001b[0;34m(\u001b[0m\u001b[0mreviewing\u001b[0m\u001b[0;34m)\u001b[0m\u001b[0;34m\u001b[0m\u001b[0;34m\u001b[0m\u001b[0m\n\u001b[0;32m---> 23\u001b[0;31m  \u001b[0mprint\u001b[0m\u001b[0;34m(\u001b[0m\u001b[0mreviews\u001b[0m\u001b[0;34m(\u001b[0m\u001b[0;34m)\u001b[0m\u001b[0;34m)\u001b[0m\u001b[0;34m\u001b[0m\u001b[0;34m\u001b[0m\u001b[0m\n\u001b[0m\u001b[1;32m     24\u001b[0m  \u001b[0;31m#모르겠어요....\u001b[0m\u001b[0;34m\u001b[0m\u001b[0;34m\u001b[0m\u001b[0;34m\u001b[0m\u001b[0m\n",
            "\u001b[0;32m<ipython-input-16-9c5da31664b6>\u001b[0m in \u001b[0;36mreviews\u001b[0;34m()\u001b[0m\n\u001b[1;32m     19\u001b[0m  \u001b[0;32mdef\u001b[0m \u001b[0mreviews\u001b[0m\u001b[0;34m(\u001b[0m\u001b[0;34m)\u001b[0m\u001b[0;34m:\u001b[0m\u001b[0;34m\u001b[0m\u001b[0;34m\u001b[0m\u001b[0m\n\u001b[1;32m     20\u001b[0m    \u001b[0mreviewing\u001b[0m \u001b[0;34m=\u001b[0m  \u001b[0;34m(\u001b[0m\u001b[0msaveTheEarth\u001b[0m\u001b[0;34m.\u001b[0m\u001b[0mreview\u001b[0m\u001b[0;34m,\u001b[0m\u001b[0m무간도\u001b[0m\u001b[0;34m.\u001b[0m\u001b[0mreview\u001b[0m\u001b[0;34m,\u001b[0m\u001b[0m파이란\u001b[0m\u001b[0;34m.\u001b[0m\u001b[0mreview\u001b[0m\u001b[0;34m)\u001b[0m\u001b[0;34m\u001b[0m\u001b[0;34m\u001b[0m\u001b[0m\n\u001b[0;32m---> 21\u001b[0;31m    \u001b[0;32mfor\u001b[0m \u001b[0mreviewing\u001b[0m \u001b[0;32min\u001b[0m \u001b[0mrange\u001b[0m\u001b[0;34m(\u001b[0m\u001b[0;34m)\u001b[0m\u001b[0;34m:\u001b[0m\u001b[0;34m\u001b[0m\u001b[0;34m\u001b[0m\u001b[0m\n\u001b[0m\u001b[1;32m     22\u001b[0m      \u001b[0mprint\u001b[0m\u001b[0;34m(\u001b[0m\u001b[0mreviewing\u001b[0m\u001b[0;34m)\u001b[0m\u001b[0;34m\u001b[0m\u001b[0;34m\u001b[0m\u001b[0m\n\u001b[1;32m     23\u001b[0m  \u001b[0mprint\u001b[0m\u001b[0;34m(\u001b[0m\u001b[0mreviews\u001b[0m\u001b[0;34m(\u001b[0m\u001b[0;34m)\u001b[0m\u001b[0;34m)\u001b[0m\u001b[0;34m\u001b[0m\u001b[0;34m\u001b[0m\u001b[0m\n",
            "\u001b[0;31mTypeError\u001b[0m: range expected 1 arguments, got 0"
          ]
        }
      ]
    },
    {
      "cell_type": "code",
      "source": [
        "class Movie:\n",
        "    def __init__(self, name, actor, review, score):\n",
        "        self.name = name\n",
        "        self.actor = actor\n",
        "        self.review = review\n",
        "        self.score = score\n",
        "\n",
        "    def all(self):\n",
        "        print(\"제목: {} 배우: {} 리뷰: {} 별점: {}\".format(self.name, self.actor, self.review, self.score))\n",
        "\n",
        "    def update(self, name, actor, review, score):\n",
        "        self.name = name\n",
        "        self.actor = actor\n",
        "        self.review = review\n",
        "        self.score = score"
      ],
      "metadata": {
        "id": "yewTwJdjyPGM"
      },
      "execution_count": null,
      "outputs": []
    },
    {
      "cell_type": "markdown",
      "source": [
        "# 확인!\n",
        "- 클래스는 객체나 메소드에 관한 정보를 저장할 뿐!!\n",
        "- 외부에서 꺼내올때는 외부에 함수를 만드시면 됩니다!"
      ],
      "metadata": {
        "id": "Nm5Epk3Mx9GH"
      }
    },
    {
      "cell_type": "code",
      "source": [
        "  #모르겠어요....\n",
        "for a in (saveTheEarth, 무간도, 파이란):\n",
        "    a.all()"
      ],
      "metadata": {
        "id": "e67ePAeCBWt3",
        "colab": {
          "base_uri": "https://localhost:8080/"
        },
        "outputId": "97086585-b7f3-49f3-ace9-a9feb3e94dee"
      },
      "execution_count": null,
      "outputs": [
        {
          "output_type": "stream",
          "name": "stdout",
          "text": [
            "제목: 지구를 지켜라 배우: 신하균 리뷰: 7번 봤다 더 말이 필요한가 별점: 5\n",
            "제목: 무간도 배우: 양조위 리뷰: 슬픔ㅠㅠ 별점: 4.5\n",
            "제목: 파이란 배우: 최민식 리뷰: 어떤 뒤늦게 도착한 편지 별점: 4\n"
          ]
        }
      ]
    },
    {
      "cell_type": "code",
      "source": [
        "Movie.reviews()"
      ],
      "metadata": {
        "colab": {
          "base_uri": "https://localhost:8080/",
          "height": 300
        },
        "id": "OBVmHbYJ88oA",
        "outputId": "2e9aa481-c90a-4d0b-a469-74137772c96f"
      },
      "execution_count": null,
      "outputs": [
        {
          "output_type": "error",
          "ename": "NameError",
          "evalue": "ignored",
          "traceback": [
            "\u001b[0;31m---------------------------------------------------------------------------\u001b[0m",
            "\u001b[0;31mNameError\u001b[0m                                 Traceback (most recent call last)",
            "\u001b[0;32m<ipython-input-15-a53a0d459968>\u001b[0m in \u001b[0;36m<module>\u001b[0;34m()\u001b[0m\n\u001b[0;32m----> 1\u001b[0;31m \u001b[0mMovie\u001b[0m\u001b[0;34m.\u001b[0m\u001b[0mreviews\u001b[0m\u001b[0;34m(\u001b[0m\u001b[0;34m)\u001b[0m\u001b[0;34m\u001b[0m\u001b[0;34m\u001b[0m\u001b[0m\n\u001b[0m",
            "\u001b[0;32m<ipython-input-13-b47c3806508b>\u001b[0m in \u001b[0;36mreviews\u001b[0;34m()\u001b[0m\n\u001b[1;32m     18\u001b[0m \u001b[0;34m\u001b[0m\u001b[0m\n\u001b[1;32m     19\u001b[0m  \u001b[0;32mdef\u001b[0m \u001b[0mreviews\u001b[0m\u001b[0;34m(\u001b[0m\u001b[0;34m)\u001b[0m\u001b[0;34m:\u001b[0m\u001b[0;34m\u001b[0m\u001b[0;34m\u001b[0m\u001b[0m\n\u001b[0;32m---> 20\u001b[0;31m    \u001b[0mreviewing\u001b[0m \u001b[0;34m=\u001b[0m  \u001b[0;34m(\u001b[0m\u001b[0msaveTheEarth\u001b[0m\u001b[0;34m.\u001b[0m\u001b[0mreview\u001b[0m\u001b[0;34m,\u001b[0m\u001b[0m무간도\u001b[0m\u001b[0;34m.\u001b[0m\u001b[0mreview\u001b[0m\u001b[0;34m,\u001b[0m\u001b[0m파이란\u001b[0m\u001b[0;34m.\u001b[0m\u001b[0mreview\u001b[0m\u001b[0;34m)\u001b[0m\u001b[0;34m\u001b[0m\u001b[0;34m\u001b[0m\u001b[0m\n\u001b[0m\u001b[1;32m     21\u001b[0m    \u001b[0;32mfor\u001b[0m \u001b[0mreviewing\u001b[0m \u001b[0;32min\u001b[0m \u001b[0mrange\u001b[0m\u001b[0;34m(\u001b[0m\u001b[0;34m)\u001b[0m\u001b[0;34m:\u001b[0m\u001b[0;34m\u001b[0m\u001b[0;34m\u001b[0m\u001b[0m\n\u001b[1;32m     22\u001b[0m      \u001b[0mprint\u001b[0m\u001b[0;34m(\u001b[0m\u001b[0mreviewing\u001b[0m\u001b[0;34m)\u001b[0m\u001b[0;34m\u001b[0m\u001b[0;34m\u001b[0m\u001b[0m\n",
            "\u001b[0;31mNameError\u001b[0m: name 'saveTheEarth' is not defined"
          ]
        }
      ]
    },
    {
      "cell_type": "markdown",
      "source": [
        "4. for 문을 이용하여 위에서 리뷰한 영화 3개의 평균별점을 구해보세요."
      ],
      "metadata": {
        "id": "NrQyF-Intz2I"
      }
    },
    {
      "cell_type": "code",
      "source": [
        "def mscore():\n",
        "  s = (saveTheEarth.score,무간도.score,파이란.score) \n",
        "  result = sum(s)\n",
        "  print(f\"average : {result / len(s)}\")"
      ],
      "metadata": {
        "id": "CmkVibf5tv6M"
      },
      "execution_count": null,
      "outputs": []
    },
    {
      "cell_type": "code",
      "source": [
        "print(mscore())"
      ],
      "metadata": {
        "colab": {
          "base_uri": "https://localhost:8080/"
        },
        "id": "dIxV9nG4C6UV",
        "outputId": "4be13fef-4ea0-4646-c0f9-2652adbe2c45"
      },
      "execution_count": null,
      "outputs": [
        {
          "output_type": "stream",
          "name": "stdout",
          "text": [
            "average : 4.5\n",
            "None\n"
          ]
        }
      ]
    },
    {
      "cell_type": "markdown",
      "source": [
        "# 확인!\n",
        "- 함수에 이미 만들어둔 메소드를 꺼내서 활용합니다."
      ],
      "metadata": {
        "id": "4kZNPa-Gyieg"
      }
    },
    {
      "cell_type": "markdown",
      "source": [
        "5. update 메소드를 이용하여 가장 마지막 영화의 별점을 5로 수정 후 확인해주세요."
      ],
      "metadata": {
        "id": "hsBBw7Qotmxq"
      }
    },
    {
      "cell_type": "code",
      "source": [
        "파이란.update('파이란', '최민식', '어떤 뒤늦게 도착한 편지', 5)"
      ],
      "metadata": {
        "id": "SVsbnfevsztZ"
      },
      "execution_count": null,
      "outputs": []
    },
    {
      "cell_type": "code",
      "source": [
        "파이란.all()"
      ],
      "metadata": {
        "id": "T7EGX1cFuSLy",
        "colab": {
          "base_uri": "https://localhost:8080/"
        },
        "outputId": "b909990e-9a12-4a79-f908-9628907bb7aa"
      },
      "execution_count": null,
      "outputs": [
        {
          "output_type": "stream",
          "name": "stdout",
          "text": [
            "제목: 파이란 배우: 최민식 리뷰: 어떤 뒤늦게 도착한 편지 별점: 5\n"
          ]
        }
      ]
    },
    {
      "cell_type": "markdown",
      "source": [
        "## 다 풀고 확인\n",
        "위에서 확인하셨듯, 하나의 정보를 수정하거나 불러오기 위해 전체 정보를 다 부르고 기입하는 것은 꽤 귀찮습니다. \n",
        "\n",
        "그래서 실제로는 아래와 같은 방법으로 get, set 메소드를 통해 각각을 호출하는 경우가 많으니 참조해주세요!"
      ],
      "metadata": {
        "id": "gkduUMDEueZ2"
      }
    },
    {
      "cell_type": "code",
      "source": [
        "\n",
        "class Movie:\n",
        "    def __init__(self, name, actor, review, score):\n",
        "        self.name = name\n",
        "        self.actor = actor\n",
        "        self.review = review\n",
        "        self.score = score\n",
        "\n",
        "    def all(self):\n",
        "        print(\"제목: {} 배우: {} 리뷰: {} 별점: {}\".format(self.name, self.actor, self.review, self.score))\n",
        "\n",
        "    def update(self, name, actor, review, score):\n",
        "        self.name = name\n",
        "        self.actor = actor\n",
        "        self.review = review\n",
        "        self.score = score\n",
        "\n",
        "    def getName(self):\n",
        "        return self.name\n",
        "    \n",
        "    def getActor(self):\n",
        "        return self.actor\n",
        "\n",
        "    def getReview(self):\n",
        "        return self.review\n",
        "\n",
        "    def getScore(self):\n",
        "        return self.score\n",
        "    \n",
        "    def setName(self, name):\n",
        "        self.name = name\n",
        "    \n",
        "    def setActor(self, actor):\n",
        "        self.actor = actor\n",
        "\n",
        "    def setReview(self, review):\n",
        "        self.review = review\n",
        "\n",
        "    def setScore(self, score):\n",
        "        self.score = score    \n"
      ],
      "metadata": {
        "id": "syh2boouuTvz"
      },
      "execution_count": null,
      "outputs": []
    },
    {
      "cell_type": "code",
      "source": [
        "파이란 = Movie('파이란', '최민식', '어떤 뒤늦게 도착한 편지', 4)"
      ],
      "metadata": {
        "id": "K4r73EeXvKic"
      },
      "execution_count": null,
      "outputs": []
    },
    {
      "cell_type": "code",
      "source": [
        "파이란.all()"
      ],
      "metadata": {
        "colab": {
          "base_uri": "https://localhost:8080/"
        },
        "id": "OCx_e2ocvObB",
        "outputId": "df8a56ef-3507-4143-97b1-275aef367622"
      },
      "execution_count": null,
      "outputs": [
        {
          "output_type": "stream",
          "name": "stdout",
          "text": [
            "제목: 파이란 배우: 최민식 리뷰: 어떤 뒤늦게 도착한 편지 별점: 4\n"
          ]
        }
      ]
    },
    {
      "cell_type": "code",
      "source": [
        "파이란.setScore(5)"
      ],
      "metadata": {
        "id": "LBQzUK8AvQL6"
      },
      "execution_count": null,
      "outputs": []
    },
    {
      "cell_type": "code",
      "source": [
        "파이란.all()"
      ],
      "metadata": {
        "colab": {
          "base_uri": "https://localhost:8080/"
        },
        "id": "DduJEXPfvTvs",
        "outputId": "9e11b10e-7ce6-43ad-bd1a-fc31e9bde5f4"
      },
      "execution_count": null,
      "outputs": [
        {
          "output_type": "stream",
          "name": "stdout",
          "text": [
            "제목: 파이란 배우: 최민식 리뷰: 어떤 뒤늦게 도착한 편지 별점: 5\n"
          ]
        }
      ]
    },
    {
      "cell_type": "code",
      "source": [
        "파이란.getScore()"
      ],
      "metadata": {
        "colab": {
          "base_uri": "https://localhost:8080/"
        },
        "id": "7g9GeF8rvf7X",
        "outputId": "b3122d67-f15c-4626-9e85-4b189cc4d442"
      },
      "execution_count": null,
      "outputs": [
        {
          "output_type": "execute_result",
          "data": {
            "text/plain": [
              "5"
            ]
          },
          "metadata": {},
          "execution_count": 31
        }
      ]
    },
    {
      "cell_type": "markdown",
      "source": [
        "# 20220115~16\n",
        "\n",
        "- 성희님 오늘은 난이도가 좀 있습니다. 지금까지 했던 파이썬 기초를 마무리하는 의미라서 파이썬 은행 입출금 프로그램 만들기를 해보는 거여요. \n",
        "- 아마 이것까지 하고 나면 자잘한 것 빼고는 파이썬 기초 문법은 마스터하신 것이 아닐까 생각합니다.\n",
        "\n",
        "- 하다가 어려우시면 알고리즘 문제를 2-3개 푸셔도 좋습니다. \n",
        "- 대신 고민은 해보시길 추천드릴게요!! 주말도 화이팅!!! \n",
        "\n",
        "1. 은행 계좌 개설 API 만들기\n",
        "\n",
        "~~~\n",
        "은행에 가서 계좌를 개설하면 은행이름(bank), 예금주(name), 계좌번호(account_number), 잔액(balance)이 설정됩니다. Account 클래스를 생성한 후 생성자를 구현해보세요. \n",
        "\n",
        "조건 :\n",
        "생성자에서는 input함수를 통해 예금주와 초기 잔액, 계좌번호를 입력 받습니다. 은행이름은 우리은행으로 고정합니다.\n",
        "\n",
        "예시 :\n",
        "\n",
        "고객명 = Account() 실행시\n",
        "\n",
        "고객명을 입력해주세요: 김연지\n",
        "입금할 금액을 입력해주세요: 14000\n",
        "-기호를 사용하여 3자리-4자리-4자리 순으로 입력해주세요: 010-1234-5678\n",
        "\n",
        "와 같은 입력창이 뜹니다.\n",
        "~~~"
      ],
      "metadata": {
        "id": "oSWPwnsAw3oc"
      }
    },
    {
      "cell_type": "code",
      "source": [
        "class Account:\n",
        "  def __init__(self, bank, name, acccount_number, balance):\n",
        "    self.bank = input()\n",
        "    self.name = input()\n",
        "    self.acccount_number = int(input())\n",
        "    self.balance = int(input())\n",
        "  \n",
        "    print('고객명을 입력해주세요:', self.name())\n",
        "    print('입금할 금액을 입력해주세요:', self.name())\n",
        "    print(' -기호를 사용하여 3자리-4자리-4자리 순으로 입력해주세요:', self.acccount_number() )\n"
      ],
      "metadata": {
        "id": "4ZWvFuaywJHV"
      },
      "execution_count": null,
      "outputs": []
    },
    {
      "cell_type": "markdown",
      "source": [
        "# 확인!"
      ],
      "metadata": {
        "id": "WyVyVR-Ry-QE"
      }
    },
    {
      "cell_type": "code",
      "source": [
        "class Account:\n",
        "    def __init__(self):\n",
        "        self.name = input('고객명을 입력해주세요: ')\n",
        "        self.balance = int(input('입금할 금액을 입력해주세요: '))\n",
        "        self.bank = \"우리은행\"\n",
        "        num1, num2, num3 = input(\"'-'기호를 사용하여 3자리-4자리-4자리 순으로 입력해주세요: \").split('-')\n",
        "        self.account_number = num1 + '-' + num2 + '-' + num3  \n"
      ],
      "metadata": {
        "id": "D9kIwnqKy0gr"
      },
      "execution_count": null,
      "outputs": []
    },
    {
      "cell_type": "markdown",
      "source": [
        "2. 위에서 개설된 고객의 속성이 한번에 출력되도록 하는 info 메소드를 생성 후 출력해주세요."
      ],
      "metadata": {
        "id": "VFN_ucNyzBL5"
      }
    },
    {
      "cell_type": "code",
      "source": [
        "class Account:\n",
        "    def __init__(self):\n",
        "        self.name = input('고객명을 입력해주세요: ')\n",
        "        self.balance = int(input('입금할 금액을 입력해주세요: '))\n",
        "        self.bank = \"우리은행\"\n",
        "        num1, num2, num3 = input(\"'-'기호를 사용하여 3자리-4자리-4자리 순으로 입력해주세요: \").split('-')\n",
        "        self.account_number = num1 + '-' + num2 + '-' + num3  \n",
        "    # 성희님이 만드신 info 코드를 그대로 이어붙였습니다. 잘 실행됩니다! 완벽!!!\n",
        "    def info(self):\n",
        "        print(\" 은행명 = %s, 고객명 = %s, 계좌번호 = %s, 잔액 = %d\" %(self.bank,self.name,self.account_number,self.balance))"
      ],
      "metadata": {
        "id": "wK-wE8FcxEDc"
      },
      "execution_count": null,
      "outputs": []
    },
    {
      "cell_type": "code",
      "source": [
        "kim = Account()"
      ],
      "metadata": {
        "colab": {
          "base_uri": "https://localhost:8080/"
        },
        "id": "latjS53l0bT0",
        "outputId": "da9dabe6-9b62-4c6d-c459-4d3eed44be97"
      },
      "execution_count": null,
      "outputs": [
        {
          "name": "stdout",
          "output_type": "stream",
          "text": [
            "고객명을 입력해주세요: kim\n",
            "입금할 금액을 입력해주세요: 24000\n",
            "'-'기호를 사용하여 3자리-4자리-4자리 순으로 입력해주세요: 111-1111-1111\n"
          ]
        }
      ]
    },
    {
      "cell_type": "code",
      "source": [
        "kim.info()"
      ],
      "metadata": {
        "colab": {
          "base_uri": "https://localhost:8080/"
        },
        "id": "CSb42wTH0eE9",
        "outputId": "64e92bde-3e3f-4b6c-80b0-fa0c161d5801"
      },
      "execution_count": null,
      "outputs": [
        {
          "output_type": "stream",
          "name": "stdout",
          "text": [
            " 은행명 = 우리은행, 고객명 = kim, 계좌번호 = 111-1111-1111, 잔액 = 24000\n"
          ]
        }
      ]
    },
    {
      "cell_type": "markdown",
      "source": [
        "3. 클래스 변수를 사용해서 Account 클래스로부터 생성된 계좌 객체의 개수를 저장하세요"
      ],
      "metadata": {
        "id": "SXz3OMVE064O"
      }
    },
    {
      "cell_type": "code",
      "source": [
        "class Account:\n",
        "    count = 0 # 처음에 0으로 시작하는 변수 선언\n",
        "    def __init__(self):\n",
        "        self.name = input('고객명을 입력해주세요: ')\n",
        "        self.balance = int(input('입금할 금액을 입력해주세요: '))\n",
        "        self.bank = \"우리은행\"\n",
        "        num1, num2, num3 = input('-기호를 사용하여 3자리-4자리-4자리 순으로 입력해주세요: ').split('-')\n",
        "        self.account_number = num1 + '-' + num2 + '-' + num3  \n",
        "        Account.count += 1 # Account()가 실행될 때마다 하나씩 추가\n",
        "\n",
        "    def info(self):\n",
        "        print(\"고객명: {} 입금금액: {} 은행명: {} 계좌번호: {}\".format(self.name, self.balance, self.bank, self.account_number))\n"
      ],
      "metadata": {
        "id": "IY9vDZnb0nWf"
      },
      "execution_count": null,
      "outputs": []
    },
    {
      "cell_type": "markdown",
      "source": [
        "4. Account 클래스로부터 생성된 계좌의 개수를 출력하는 get_account_num() 메소드를 추가하세요. 이후 새 어카운트 객체를 만들고 get_accout_num() 메소드를 통해 제대로 동작하는지 확인해보세요."
      ],
      "metadata": {
        "id": "GxfR-V4n1XoI"
      }
    },
    {
      "cell_type": "code",
      "source": [
        "class Account:\n",
        "    count = 0\n",
        "    def __init__(self):\n",
        "        self.name = input('고객명을 입력해주세요: ')\n",
        "        self.balance = int(input('입금할 금액을 입력해주세요: '))\n",
        "        self.bank = \"우리은행\"\n",
        "        num1, num2, num3 = input('-기호를 사용하여 3자리-4자리-4자리 순으로 입력해주세요: ').split('-')\n",
        "        self.account_number = num1 + '-' + num2 + '-' + num3  \n",
        "        Account.count += 1\n",
        "\n",
        "    def info(self):\n",
        "        print(\"고객명: {} 입금금액: {} 은행명: {} 계좌번호: {}\".format(self.name, self.balance, self.bank, self.account_number))\n",
        "    \n",
        "    @classmethod\n",
        "    def get_account_num(cls):\n",
        "        print(cls.count)     "
      ],
      "metadata": {
        "id": "MZdfwKdN1GOV"
      },
      "execution_count": null,
      "outputs": []
    },
    {
      "cell_type": "code",
      "source": [
        "Account.get_account_num()"
      ],
      "metadata": {
        "id": "BzDze2Dq1t9o",
        "colab": {
          "base_uri": "https://localhost:8080/"
        },
        "outputId": "ab887881-8807-4e38-cdef-f33ac8b635e4"
      },
      "execution_count": null,
      "outputs": [
        {
          "output_type": "stream",
          "name": "stdout",
          "text": [
            "0\n"
          ]
        }
      ]
    },
    {
      "cell_type": "code",
      "source": [
        "kim = Account() # 새 계좌 생성"
      ],
      "metadata": {
        "id": "2nGSNWTv1zEz",
        "colab": {
          "base_uri": "https://localhost:8080/"
        },
        "outputId": "dd7682f6-a27e-4f1a-af49-22c149dabd22"
      },
      "execution_count": null,
      "outputs": [
        {
          "name": "stdout",
          "output_type": "stream",
          "text": [
            "고객명을 입력해주세요: 김\n",
            "입금할 금액을 입력해주세요: 20000\n",
            "-기호를 사용하여 3자리-4자리-4자리 순으로 입력해주세요: 111-1111-1111\n"
          ]
        }
      ]
    },
    {
      "cell_type": "code",
      "source": [
        "Account.get_account_num()"
      ],
      "metadata": {
        "id": "RkoUqQMt16X6",
        "colab": {
          "base_uri": "https://localhost:8080/"
        },
        "outputId": "11c64a4b-5fbd-49ea-e7c3-e4607e8e0d2e"
      },
      "execution_count": null,
      "outputs": [
        {
          "output_type": "stream",
          "name": "stdout",
          "text": [
            "1\n"
          ]
        }
      ]
    },
    {
      "cell_type": "markdown",
      "source": [
        "5. 돈을 입금하는 메소드 deposit을 추가해주세요. 입금한 금액은 초기금액(balance)에 더해져야 합니다."
      ],
      "metadata": {
        "id": "Yw41rz5e2z0_"
      }
    },
    {
      "cell_type": "code",
      "source": [
        "class Account:\n",
        "    count = 0\n",
        "    def __init__(self):\n",
        "        self.name = input('고객명을 입력해주세요: ')\n",
        "        self.balance = int(input('입금할 금액을 입력해주세요: '))\n",
        "        self.bank = \"우리은행\"\n",
        "        num1, num2, num3 = input('-기호를 사용하여 3자리-4자리-4자리 순으로 입력해주세요: ').split('-')\n",
        "        self.account_number = num1 + '-' + num2 + '-' + num3  \n",
        "        Account.count += 1\n",
        "\n",
        "    def info(self):\n",
        "        print(\"고객명: {} 입금금액: {} 은행명: {} 계좌번호: {}\".format(self.name, self.balance, self.bank, self.account_number))\n",
        "    \n",
        "    @classmethod\n",
        "    def get_account_num(cls):\n",
        "        print(cls.count)\n",
        "\n",
        "    def deposit(self, amount):\n",
        "        if amount >= 1:\n",
        "            self.balance += amount"
      ],
      "metadata": {
        "id": "-0RtJpoH1-9J"
      },
      "execution_count": null,
      "outputs": []
    },
    {
      "cell_type": "code",
      "source": [
        "kim = Account()"
      ],
      "metadata": {
        "colab": {
          "base_uri": "https://localhost:8080/"
        },
        "outputId": "b87d7638-5b61-4fc5-d20d-23d26cad4d73",
        "id": "Dij-QB1_0U33"
      },
      "execution_count": null,
      "outputs": [
        {
          "name": "stdout",
          "output_type": "stream",
          "text": [
            "고객명을 입력해주세요: \n",
            "입금할 금액을 입력해주세요: 24000\n",
            "-기호를 사용하여 3자리-4자리-4자리 순으로 입력해주세요: 111-1111-1111\n"
          ]
        }
      ]
    },
    {
      "cell_type": "code",
      "source": [
        "kim.deposit(30000)"
      ],
      "metadata": {
        "id": "op4hrmQz0U33"
      },
      "execution_count": null,
      "outputs": []
    },
    {
      "cell_type": "code",
      "source": [
        "kim.deposit(30000)"
      ],
      "metadata": {
        "id": "FtAkI3Nm0cVM"
      },
      "execution_count": null,
      "outputs": []
    },
    {
      "cell_type": "code",
      "source": [
        "kim.balance"
      ],
      "metadata": {
        "colab": {
          "base_uri": "https://localhost:8080/"
        },
        "outputId": "9ab263ad-8e56-4f4e-9978-7fd2251ada5c",
        "id": "ulyeO7lN0U33"
      },
      "execution_count": null,
      "outputs": [
        {
          "output_type": "execute_result",
          "data": {
            "text/plain": [
              "84000"
            ]
          },
          "metadata": {},
          "execution_count": 50
        }
      ]
    },
    {
      "cell_type": "markdown",
      "source": [
        "6. Account 클래스에 출금을 위한 withdraw 메서드를 추가하세요. 출금은 계좌의 잔고 이상으로 출금할 수는 없습니다. 잔고보다 많은 돈을 출금하려 할 때는 '요청 금액이 잔고보다 많아서 출금 불가능합니다.'라는 메시지를 출력하게 해 주세요."
      ],
      "metadata": {
        "id": "0TORh8Nc0U34"
      }
    },
    {
      "cell_type": "code",
      "source": [
        "class Account:\n",
        "    count = 0\n",
        "    def __init__(self):\n",
        "        self.name = input('고객명을 입력해주세요: ')\n",
        "        self.balance = int(input('입금할 금액을 입력해주세요: '))\n",
        "        self.bank = \"우리은행\"\n",
        "        num1, num2, num3 = input('-기호를 사용하여 3자리-4자리-4자리 순으로 입력해주세요: ').split('-')\n",
        "        self.account_number = num1 + '-' + num2 + '-' + num3  \n",
        "        Account.count += 1\n",
        "\n",
        "    def info(self):\n",
        "        print(\"고객명: {} 입금금액: {} 은행명: {} 계좌번호: {}\".format(self.name, self.balance, self.bank, self.account_number))\n",
        "    \n",
        "    @classmethod\n",
        "    def get_account_num(cls):\n",
        "        print(cls.count)\n",
        "\n",
        "    def deposit(self, amount):\n",
        "        if amount >= 1:\n",
        "            self.balance += amount\n",
        "\n",
        "    def withdraw(self, amount):\n",
        "        if self.balance > amount:\n",
        "            self.balance -= amount\n",
        "        else:\n",
        "          print('요청 금액이 잔고보다 많아서 출금 불가능합니다.')"
      ],
      "metadata": {
        "id": "QGcrUGco0U34"
      },
      "execution_count": null,
      "outputs": []
    },
    {
      "cell_type": "code",
      "source": [
        "kim = Account()"
      ],
      "metadata": {
        "colab": {
          "base_uri": "https://localhost:8080/"
        },
        "outputId": "afae6f56-449e-4ace-b0a1-6705412acd6e",
        "id": "eGI0f0t-0U34"
      },
      "execution_count": null,
      "outputs": [
        {
          "name": "stdout",
          "output_type": "stream",
          "text": [
            "고객명을 입력해주세요: kim\n",
            "입금할 금액을 입력해주세요: 2000\n",
            "-기호를 사용하여 3자리-4자리-4자리 순으로 입력해주세요: 111-1111-1111\n"
          ]
        }
      ]
    },
    {
      "cell_type": "code",
      "source": [
        "kim.withdraw(5000)"
      ],
      "metadata": {
        "colab": {
          "base_uri": "https://localhost:8080/"
        },
        "outputId": "279d3386-fe18-452b-d975-3dec09239a4b",
        "id": "pnnc23d10U34"
      },
      "execution_count": null,
      "outputs": [
        {
          "output_type": "stream",
          "name": "stdout",
          "text": [
            "요청 금액이 잔고보다 많아서 출금 불가능합니다.\n"
          ]
        }
      ]
    },
    {
      "cell_type": "markdown",
      "source": [
        "# 성희님! 코드 확인해보시고 궁금하시거 설명 필요하시면 소회의실로 오셔요!!!"
      ],
      "metadata": {
        "id": "Hpf-cooI0k4S"
      }
    },
    {
      "cell_type": "markdown",
      "source": [
        "# 20220118\n",
        "- 수업자료 중 객체지향 - 상속 부분 확인하시고 풀어보셔요!"
      ],
      "metadata": {
        "id": "K6B4rua60y8o"
      }
    },
    {
      "cell_type": "markdown",
      "source": [
        "# 상속"
      ],
      "metadata": {
        "id": "hGaHGNBg_BuM"
      }
    },
    {
      "cell_type": "markdown",
      "source": [
        "1. 메소드 오버라이딩 - 아래 코드를 읽고 출력결과를 예상하시고, 출력결과가 예상과 맞는지 확인해보세요."
      ],
      "metadata": {
        "id": "nCIBZmnTaPTH"
      }
    },
    {
      "cell_type": "code",
      "source": [
        "class 부모: \n",
        "    def 호출(self):\n",
        "        print(\"부모호출\")\n",
        "\n",
        "class 자식(부모):\n",
        "    def 호출(self):\n",
        "        print(\"자식호출\")\n",
        "\n",
        "\n",
        "나 = 자식()\n",
        "나.호출()\n",
        "#자식보다 높은 의미의 함수가 되어서 자식호출된 것"
      ],
      "metadata": {
        "colab": {
          "base_uri": "https://localhost:8080/"
        },
        "id": "jZJ5MEFQZag7",
        "outputId": "0c09e6c6-84df-4394-b74e-fc16142196eb"
      },
      "execution_count": null,
      "outputs": [
        {
          "output_type": "stream",
          "name": "stdout",
          "text": [
            "자식호출\n"
          ]
        }
      ]
    },
    {
      "cell_type": "markdown",
      "source": [
        "2. 생성자 - 아래 코드를 읽고 출력결과를 예상하시고, 출력결과가 예상과 맞는지 확인해보세요."
      ],
      "metadata": {
        "id": "A26kYFFAaJi2"
      }
    },
    {
      "cell_type": "code",
      "source": [
        "class 부모:\n",
        "    def __init__(self):\n",
        "        print(\"부모생성\")\n",
        "\n",
        "class 자식(부모):\n",
        "    def __init__(self):\n",
        "        print(\"자식생성\")\n",
        "\n",
        "나 = 자식()"
      ],
      "metadata": {
        "colab": {
          "base_uri": "https://localhost:8080/"
        },
        "id": "nAmWZLzcZmpb",
        "outputId": "44ccd4b7-256f-4e0f-b5d5-79b77226d7d5"
      },
      "execution_count": null,
      "outputs": [
        {
          "output_type": "stream",
          "name": "stdout",
          "text": [
            "자식생성\n"
          ]
        }
      ]
    },
    {
      "cell_type": "markdown",
      "source": [
        "3. 부모클래스 생성자 호출 - 아래 코드를 읽고 출력결과를 예상하시고, 출력결과가 예상과 맞는지 확인해보세요."
      ],
      "metadata": {
        "id": "-sUNeccraB80"
      }
    },
    {
      "cell_type": "code",
      "source": [
        "class 부모:\n",
        "    def __init__(self):\n",
        "        print(\"부모생성\")\n",
        "\n",
        "class 자식(부모):\n",
        "    def __init__(self):\n",
        "        print(\"자식생성\")\n",
        "        super().__init__()\n",
        "\n",
        "나 = 자식()"
      ],
      "metadata": {
        "colab": {
          "base_uri": "https://localhost:8080/"
        },
        "id": "JnWXx9xHZs4Z",
        "outputId": "a9eb6725-ebdc-440b-8861-89cac46aafbe"
      },
      "execution_count": null,
      "outputs": [
        {
          "output_type": "stream",
          "name": "stdout",
          "text": [
            "자식생성\n",
            "부모생성\n"
          ]
        }
      ]
    },
    {
      "cell_type": "markdown",
      "source": [
        "1. 다음 코드가 동작하도록 Movie 클래스를 정의하세요.\n",
        "\n",
        "~~~\n",
        ">> hedwig = Movie('hedwig', 5)\n",
        ">> hedwig.name\n",
        "'hedwig'\n",
        ">> hedwig.score\n",
        "5\n",
        "~~~"
      ],
      "metadata": {
        "id": "QxuxIW9k_Y-J"
      }
    },
    {
      "cell_type": "code",
      "source": [
        "# class Movie:\n",
        "#   def __init__(self,name, score):\n",
        "#     self.name = 'hedwig'\n",
        "#     self.score = 5\n",
        "    \n",
        "class Movie:\n",
        "  def __init__(self,name, score):\n",
        "    self.name = name\n",
        "    self.score = score\n"
      ],
      "metadata": {
        "id": "WC0GsC7OPH87"
      },
      "execution_count": null,
      "outputs": []
    },
    {
      "cell_type": "code",
      "source": [
        "hedwig = Movie('hedwig', 5)"
      ],
      "metadata": {
        "id": "Sn_ZDrcPMqFO"
      },
      "execution_count": null,
      "outputs": []
    },
    {
      "cell_type": "code",
      "source": [
        "hedwig.name"
      ],
      "metadata": {
        "colab": {
          "base_uri": "https://localhost:8080/",
          "height": 35
        },
        "id": "vNvdW7JtPHzI",
        "outputId": "cfa1a0be-e7f4-424c-8844-43c3b53d6afa"
      },
      "execution_count": null,
      "outputs": [
        {
          "output_type": "execute_result",
          "data": {
            "application/vnd.google.colaboratory.intrinsic+json": {
              "type": "string"
            },
            "text/plain": [
              "'hedwig'"
            ]
          },
          "metadata": {},
          "execution_count": 55
        }
      ]
    },
    {
      "cell_type": "code",
      "source": [
        "hedwig.score"
      ],
      "metadata": {
        "colab": {
          "base_uri": "https://localhost:8080/"
        },
        "id": "TkvnVuTnPV-s",
        "outputId": "6639b2d4-4e16-429b-eef6-6944fe2711cf"
      },
      "execution_count": null,
      "outputs": [
        {
          "output_type": "execute_result",
          "data": {
            "text/plain": [
              "5"
            ]
          },
          "metadata": {},
          "execution_count": 56
        }
      ]
    },
    {
      "cell_type": "markdown",
      "source": [
        "2. Movie 클래스를 상속받은 KoreanMovie 클래스를 정의하고 review 인자를 추가해주세요. 아래와 같은 값이 입력되며 속성들을 확인할 수 있어야 합니다.\n",
        "\n",
        "~~~\n",
        "jigu = KoreanMovie('지구를지켜라', '5', '내리 7번 본 어릴적 최고의 영화')\n",
        "~~~"
      ],
      "metadata": {
        "id": "NKIs3sUEP9uW"
      }
    },
    {
      "cell_type": "code",
      "source": [
        "class Movie:\n",
        "  def __init__(self,name, score):\n",
        "    self.name = name\n",
        "    self.score = score\n",
        "\n",
        "class KoreanMovie(Movie):\n",
        "  def __init__(self,name, score,review):\n",
        "    self.name = name\n",
        "    self.score = score\n",
        "    self.review = review"
      ],
      "metadata": {
        "id": "EiuPYD_V-vKw"
      },
      "execution_count": null,
      "outputs": []
    },
    {
      "cell_type": "code",
      "source": [
        "jigu = KoreanMovie('지구를지켜라', '5', '내리 7번 본 어릴적 최고의 영화')"
      ],
      "metadata": {
        "id": "KrAnCS5Y_ifq"
      },
      "execution_count": null,
      "outputs": []
    },
    {
      "cell_type": "code",
      "source": [
        "jigu.name"
      ],
      "metadata": {
        "colab": {
          "base_uri": "https://localhost:8080/",
          "height": 35
        },
        "id": "PkRdEIXrQveV",
        "outputId": "68a08940-bfca-4889-cdce-d99f3e92b3d4"
      },
      "execution_count": null,
      "outputs": [
        {
          "output_type": "execute_result",
          "data": {
            "application/vnd.google.colaboratory.intrinsic+json": {
              "type": "string"
            },
            "text/plain": [
              "'지구를지켜라'"
            ]
          },
          "metadata": {},
          "execution_count": 58
        }
      ]
    },
    {
      "cell_type": "code",
      "source": [
        "jigu.score"
      ],
      "metadata": {
        "colab": {
          "base_uri": "https://localhost:8080/",
          "height": 35
        },
        "id": "hODFc9ieQwkG",
        "outputId": "23446cb3-f0a7-46f1-dae0-d09a99a3f9e3"
      },
      "execution_count": null,
      "outputs": [
        {
          "output_type": "execute_result",
          "data": {
            "application/vnd.google.colaboratory.intrinsic+json": {
              "type": "string"
            },
            "text/plain": [
              "'5'"
            ]
          },
          "metadata": {},
          "execution_count": 59
        }
      ]
    },
    {
      "cell_type": "code",
      "source": [
        "jigu.review"
      ],
      "metadata": {
        "colab": {
          "base_uri": "https://localhost:8080/",
          "height": 35
        },
        "id": "5uLg6CwrQy1u",
        "outputId": "35380f6f-d018-4f09-af3b-10670072a958"
      },
      "execution_count": null,
      "outputs": [
        {
          "output_type": "execute_result",
          "data": {
            "application/vnd.google.colaboratory.intrinsic+json": {
              "type": "string"
            },
            "text/plain": [
              "'내리 7번 본 어릴적 최고의 영화'"
            ]
          },
          "metadata": {},
          "execution_count": 60
        }
      ]
    },
    {
      "cell_type": "markdown",
      "source": [
        "3. Movie 클래스에 info()라는 메소드를 만들어 영화이름과 별점이 출력되도록 해 보세요. 이후 Movie 클래스를 상속받은 KoreanMovie 클래스를 다시 실행하고 아래의 값을 넣어 info메소드를 호출해보세요.\n",
        "\n",
        "~~~\n",
        "jigu = KoreanMovie('지구를지켜라', '5', '내리 7번 본 어릴적 최고의 영화')\n",
        "~~~"
      ],
      "metadata": {
        "id": "xNdWY2BWRu38"
      }
    },
    {
      "cell_type": "code",
      "source": [
        "# class Movie:\n",
        "#   def __init__(self,name, score):\n",
        "#     self.name = 'hedwig'\n",
        "#     self.score = 5\n",
        "  \n",
        "#   def info():\n",
        "#     self.name = '지구를지켜라'\n",
        "#     self.score = '5'\n",
        "\n",
        "# class KoreanMovie(Movie):\n",
        "#   def __init__(self,name, score,review):\n",
        "#     self.name = '지구를지켜라'\n",
        "#     self.score = '5'\n",
        "#     self.review = '내리 7번 본 어릴적 최고의 영화'\n",
        "\n",
        "\n",
        "class Movie:\n",
        "  def __init__(self,name, score):\n",
        "    self.name = name\n",
        "    self.score = score\n",
        "\n",
        "  def info(self):\n",
        "    print(self.name, self.score)\n",
        "\n",
        "class KoreanMovie(Movie):\n",
        "  def __init__(self,name, score,review):\n",
        "    self.name = name\n",
        "    self.score = score\n",
        "    self.review = review\n",
        "  \n"
      ],
      "metadata": {
        "id": "n2whwxNORuCK"
      },
      "execution_count": null,
      "outputs": []
    },
    {
      "cell_type": "code",
      "source": [
        ""
      ],
      "metadata": {
        "id": "8lD9B0OWXUBp"
      },
      "execution_count": null,
      "outputs": []
    },
    {
      "cell_type": "code",
      "source": [
        "jigu = KoreanMovie('지구를지켜라', '5', '내리 7번 본 어릴적 최고의 영화')"
      ],
      "metadata": {
        "id": "vQU5ZzOoQ0fE"
      },
      "execution_count": null,
      "outputs": []
    },
    {
      "cell_type": "code",
      "source": [
        "jigu.info()"
      ],
      "metadata": {
        "colab": {
          "base_uri": "https://localhost:8080/"
        },
        "id": "FwMqa--aSKg3",
        "outputId": "aa69d630-0009-4371-a57e-52d0edede8b5"
      },
      "execution_count": null,
      "outputs": [
        {
          "output_type": "stream",
          "name": "stdout",
          "text": [
            "지구를지켜라 5\n"
          ]
        }
      ]
    },
    {
      "cell_type": "markdown",
      "source": [
        "4. 메서드 오버라이딩\n",
        "\n",
        "이번에는 KorenMovie 클래스에 info()라는 메소드를 만들어 영화이름과 별점, 리뷰가 출력되도록 해 보세요. 이후 아래의 값을 넣어 info메소드를 호출해보세요.\n",
        "\n",
        "\n",
        "~~~\n",
        "jigu = KoreanMovie('지구를지켜라', '5', '내리 7번 본 어릴적 최고의 영화')\n",
        "~~~"
      ],
      "metadata": {
        "id": "iTyZm5xDY_9e"
      }
    },
    {
      "cell_type": "code",
      "source": [
        "class Movie:\n",
        "  def __init__(self,name, score):\n",
        "    self.name = name\n",
        "    self.score = score\n",
        "\n",
        "  def info():\n",
        "    print(self.name, self.score)\n",
        "\n",
        "class KoreanMovie(Movie):\n",
        "  def __init__(self,name, score,review):\n",
        "    self.name = name\n",
        "    self.score = score\n",
        "    self.review = review\n",
        "  \n",
        "  def info(self):\n",
        "    print(self.name, self.score, self.review)"
      ],
      "metadata": {
        "id": "Es4t2P-gYgnx"
      },
      "execution_count": null,
      "outputs": []
    },
    {
      "cell_type": "code",
      "source": [
        "jigu = KoreanMovie('지구를지켜라', '5', '내리 7번 본 어릴적 최고의 영화')"
      ],
      "metadata": {
        "id": "4gDqa2tTY3SM"
      },
      "execution_count": null,
      "outputs": []
    },
    {
      "cell_type": "code",
      "source": [
        "jigu.info()"
      ],
      "metadata": {
        "colab": {
          "base_uri": "https://localhost:8080/"
        },
        "id": "Qt1eVaIxY4_K",
        "outputId": "c44f7d38-08f5-4278-c864-db462276aaf9"
      },
      "execution_count": null,
      "outputs": [
        {
          "output_type": "stream",
          "name": "stdout",
          "text": [
            "지구를지켜라 5 내리 7번 본 어릴적 최고의 영화\n"
          ]
        }
      ]
    },
    {
      "cell_type": "code",
      "source": [
        ""
      ],
      "metadata": {
        "id": "seVVrZ9ADMcI"
      },
      "execution_count": null,
      "outputs": []
    },
    {
      "cell_type": "markdown",
      "source": [
        "# 20220120\n",
        "- 수업자료 중 파일입출력 부분을 참조해주세요\n",
        "- https://colab.research.google.com/drive/1MvMkacbgPbVlIECDO3Cude8_ApmuNWDI?usp=sharing"
      ],
      "metadata": {
        "id": "WFpEdVQDDm8V"
      }
    },
    {
      "cell_type": "markdown",
      "metadata": {
        "id": "vRYvhn_4v29Q"
      },
      "source": [
        "with open('파일명', '모드') as f:\n",
        "- r\t읽기모드 - 파일을 읽기만 할 때 사용\n",
        "- w\t쓰기모드 - 파일에 내용을 쓸 때 사용\n",
        "- a\t추가모드 - 파일의 마지막에 새로운 내용을 추가 시킬 때 사용"
      ]
    },
    {
      "cell_type": "markdown",
      "source": [
        "1. with open() 함수를 이용하여 test.txt라는 파일을 현재 경로에 저장하세요. 내용은 아래와 같이 넣어주세요.\n",
        "~~~\n",
        "안녕하세요.\n",
        "만나서 반갑습니다.\n",
        "~~~"
      ],
      "metadata": {
        "id": "6CItsYknbg9J"
      }
    },
    {
      "cell_type": "code",
      "metadata": {
        "id": "BYKXgEKgjEFY"
      },
      "source": [
        "writeFile = open('/content/sample_data/test.txt', 'w')"
      ],
      "execution_count": null,
      "outputs": []
    },
    {
      "cell_type": "code",
      "source": [
        "print('안녕하세요.\\n만나서 반갑습니다.', file=writeFile)"
      ],
      "metadata": {
        "id": "RRQjzzEihH6X"
      },
      "execution_count": null,
      "outputs": []
    },
    {
      "cell_type": "markdown",
      "source": [
        "2. 위에서 쓴 text.txt파일을 읽어와주세요."
      ],
      "metadata": {
        "id": "-WO66efqb3RM"
      }
    },
    {
      "cell_type": "code",
      "metadata": {
        "id": "TzMeI9J677vs"
      },
      "source": [
        "writeFile = open('/content/sample_data/test.txt', 'r')"
      ],
      "execution_count": null,
      "outputs": []
    },
    {
      "cell_type": "code",
      "metadata": {
        "id": "m20HiWEcjDAp",
        "colab": {
          "base_uri": "https://localhost:8080/"
        },
        "outputId": "d27ed35c-052c-485c-db79-248df79444c8"
      },
      "source": [
        "print( writeFile.read() )"
      ],
      "execution_count": null,
      "outputs": [
        {
          "output_type": "stream",
          "name": "stdout",
          "text": [
            "안녕하세요.\n",
            "만나서 반갑습니다.\n",
            "\n"
          ]
        }
      ]
    },
    {
      "cell_type": "code",
      "metadata": {
        "id": "JZ3JM_-7BFhn"
      },
      "source": [
        ""
      ],
      "execution_count": null,
      "outputs": []
    },
    {
      "cell_type": "markdown",
      "metadata": {
        "id": "IKo5lGH-AAqB"
      },
      "source": [
        "3. practice1.txt 파일을 생성하고 임의의 문장을 5줄 기록해 보세요.\n",
        "- 해당 파일의 내용을 출력하세요."
      ]
    },
    {
      "cell_type": "code",
      "metadata": {
        "id": "vJ2_WyN4BsyG"
      },
      "source": [
        "practice = open('/content/sample_data/practice1.txt', 'w')"
      ],
      "execution_count": null,
      "outputs": []
    },
    {
      "cell_type": "code",
      "metadata": {
        "id": "jDh_P-0LB3r_",
        "colab": {
          "base_uri": "https://localhost:8080/",
          "height": 172
        },
        "outputId": "89c67eed-c0bf-499b-fc3e-a6c67e3fcced"
      },
      "source": [
        "print('파일을 생성합니다','파일을 열어봅니다','파일이 잘 열렸습니다','파일이 잘 닫혔습니다','파일이 잘 저장되었습니다', file=practice)"
      ],
      "execution_count": null,
      "outputs": [
        {
          "output_type": "error",
          "ename": "UnsupportedOperation",
          "evalue": "ignored",
          "traceback": [
            "\u001b[0;31m---------------------------------------------------------------------------\u001b[0m",
            "\u001b[0;31mUnsupportedOperation\u001b[0m                      Traceback (most recent call last)",
            "\u001b[0;32m<ipython-input-21-67f0ab04a22b>\u001b[0m in \u001b[0;36m<module>\u001b[0;34m()\u001b[0m\n\u001b[0;32m----> 1\u001b[0;31m \u001b[0mprint\u001b[0m\u001b[0;34m(\u001b[0m\u001b[0;34m'파일을 생성합니다'\u001b[0m\u001b[0;34m,\u001b[0m\u001b[0;34m'파일을 열어봅니다'\u001b[0m\u001b[0;34m,\u001b[0m\u001b[0;34m'파일이 잘 열렸습니다'\u001b[0m\u001b[0;34m,\u001b[0m\u001b[0;34m'파일이 잘 닫혔습니다'\u001b[0m\u001b[0;34m,\u001b[0m\u001b[0;34m'파일이 잘 저장되었습니다'\u001b[0m\u001b[0;34m,\u001b[0m \u001b[0mfile\u001b[0m\u001b[0;34m=\u001b[0m\u001b[0mpractice\u001b[0m\u001b[0;34m)\u001b[0m\u001b[0;34m\u001b[0m\u001b[0;34m\u001b[0m\u001b[0m\n\u001b[0m",
            "\u001b[0;31mUnsupportedOperation\u001b[0m: not writable"
          ]
        }
      ]
    },
    {
      "cell_type": "code",
      "source": [
        "practice = open('/content/sample_data/practice1.txt', 'r')"
      ],
      "metadata": {
        "id": "x97o6i_lid6t"
      },
      "execution_count": null,
      "outputs": []
    },
    {
      "cell_type": "code",
      "source": [
        "print(practice.read() )"
      ],
      "metadata": {
        "colab": {
          "base_uri": "https://localhost:8080/"
        },
        "id": "lRJp-u0Ailzo",
        "outputId": "1c3c6c57-d3fe-46f4-e3ef-ef1d64c23efa"
      },
      "execution_count": null,
      "outputs": [
        {
          "output_type": "stream",
          "name": "stdout",
          "text": [
            "파일을 생성합니다 파일을 열어봅니다 파일이 잘 열렸습니다 파일이 잘 닫혔습니다 파일이 잘 저장되었습니다\n",
            "\n"
          ]
        }
      ]
    },
    {
      "cell_type": "markdown",
      "source": [
        "# 확인!\n",
        "- 5줄을 기록하려면 한줄씩 입력이 들어가거나 \\n으로 개행해주어야 합니다."
      ],
      "metadata": {
        "id": "F_DRWw_7qkS4"
      }
    },
    {
      "cell_type": "code",
      "source": [
        "with open('practice1.txt', 'w') as f:\n",
        "    f.write('안녕하세요. 성희님')\n",
        "    f.write('\\n')\n",
        "    f.write('그간 수고 많으셨습니다')\n",
        "    f.write('\\n')\n",
        "    f.write('제가 맡은 날들이 끝나기 전에 파이썬 문법을 한번 돌아서 다행이에요 ㅎㅎ 사실 한바퀴 못 돌까봐 걱정했거든요')\n",
        "    f.write('\\n')\n",
        "    f.write('이후 배운 장고 등도 복습하시고, 남은 수업도 화이팅입니다!')\n",
        "    f.write('\\n')\n",
        "    f.write('남은 과정 잘 해내시고 좋은 곳에서 좋은 사람들과 재미있고 돈 많이 버는 일 하시기를 기원합니다.')\n",
        "    f.write('\\n')"
      ],
      "metadata": {
        "id": "JHCadg15qooy"
      },
      "execution_count": null,
      "outputs": []
    },
    {
      "cell_type": "code",
      "source": [
        "with open('practice1.txt') as f:\n",
        "    for i, line in enumerate(f):\n",
        "        line = line.strip() # strip() 앞뒤로 개행, 스페이스 등 없애는 함수\n",
        "        print(line)\n",
        "        if len(line) == 0:\n",
        "            break"
      ],
      "metadata": {
        "colab": {
          "base_uri": "https://localhost:8080/"
        },
        "id": "DgGxjdvFrKPK",
        "outputId": "7598f515-c81a-4bfe-a73e-92b3a301dd52"
      },
      "execution_count": null,
      "outputs": [
        {
          "output_type": "stream",
          "name": "stdout",
          "text": [
            "안녕하세요. 성희님\n",
            "그간 수고 많으셨습니다\n",
            "제가 맡은 날들이 끝나기 전에 파이썬 문법을 한번 돌아서 다행이에요 ㅎㅎ 사실 한바퀴 못 돌까봐 걱정했거든요\n",
            "이후 배운 장고 등도 복습하시고, 남은 수업도 화이팅입니다!\n",
            "남은 과정 잘 해내시고 좋은 곳에서 좋은 사람들과 재미있고 돈 많이 버는 일 하시기를 기원합니다.\n"
          ]
        }
      ]
    },
    {
      "cell_type": "code",
      "source": [
        "f.close()"
      ],
      "metadata": {
        "id": "Gkox8AZmjbwJ"
      },
      "execution_count": null,
      "outputs": []
    },
    {
      "cell_type": "markdown",
      "metadata": {
        "id": "PX7bXYe9wDiA"
      },
      "source": [
        "4. practice1.txt 파일을 열어 '마지막 문장입니다.'를 추가해 주세요.\n",
        "\n",
        "해당 파일의 내용을 출력하세요."
      ]
    },
    {
      "cell_type": "markdown",
      "source": [
        "# 확인! \n",
        "'추가' 는 a모드로 파일을 열어주어야 합니다. w로 모드로 열면 파일이 덮어써집니다."
      ],
      "metadata": {
        "id": "U77kJsSwroZ5"
      }
    },
    {
      "cell_type": "code",
      "metadata": {
        "id": "9gTe7brEwAOn"
      },
      "source": [
        "practicee = open('practice1.txt', 'a')"
      ],
      "execution_count": null,
      "outputs": []
    },
    {
      "cell_type": "code",
      "metadata": {
        "id": "oW3cRqL9wVjE"
      },
      "source": [
        "print('마지막 문장입니다.', file=practicee)"
      ],
      "execution_count": null,
      "outputs": []
    },
    {
      "cell_type": "code",
      "source": [
        "practicee = open('practice1.txt', 'r')"
      ],
      "metadata": {
        "id": "K3WlyaAfjp_x"
      },
      "execution_count": null,
      "outputs": []
    },
    {
      "cell_type": "code",
      "source": [
        "print(practicee.read() )"
      ],
      "metadata": {
        "colab": {
          "base_uri": "https://localhost:8080/"
        },
        "id": "0TL-OeiOjsnv",
        "outputId": "b0d1d17e-467b-4f15-8261-8a4508b2d68f"
      },
      "execution_count": null,
      "outputs": [
        {
          "output_type": "stream",
          "name": "stdout",
          "text": [
            "안녕하세요. 성희님\n",
            "그간 수고 많으셨습니다\n",
            "제가 맡은 날들이 끝나기 전에 파이썬 문법을 한번 돌아서 다행이에요 ㅎㅎ 사실 한바퀴 못 돌까봐 걱정했거든요\n",
            "이후 배운 장고 등도 복습하시고, 남은 수업도 화이팅입니다!\n",
            "남은 과정 잘 해내시고 좋은 곳에서 좋은 사람들과 재미있고 돈 많이 버는 일 하시기를 기원합니다.\n",
            "마지막 문장입니다.\n",
            "\n"
          ]
        }
      ]
    },
    {
      "cell_type": "code",
      "source": [
        ""
      ],
      "metadata": {
        "id": "PSfu6Ft2jx_U"
      },
      "execution_count": null,
      "outputs": []
    }
  ]
}