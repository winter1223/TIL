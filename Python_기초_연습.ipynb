{
  "nbformat": 4,
  "nbformat_minor": 0,
  "metadata": {
    "colab": {
      "name": "Python 기초 연습.ipynb",
      "provenance": [],
      "collapsed_sections": [],
      "toc_visible": true,
      "include_colab_link": true
    },
    "kernelspec": {
      "name": "python3",
      "display_name": "Python 3"
    },
    "language_info": {
      "name": "python"
    }
  },
  "cells": [
    {
      "cell_type": "markdown",
      "metadata": {
        "id": "view-in-github",
        "colab_type": "text"
      },
      "source": [
        "<a href=\"https://colab.research.google.com/github/winter1223/TIL/blob/master/Python_%EA%B8%B0%EC%B4%88_%EC%97%B0%EC%8A%B5.ipynb\" target=\"_parent\"><img src=\"https://colab.research.google.com/assets/colab-badge.svg\" alt=\"Open In Colab\"/></a>"
      ]
    },
    {
      "cell_type": "markdown",
      "source": [
        "# 20211216\n",
        "- 파이썬 기초\n",
        "\n",
        "### 1. 화면에 Hello World 문자열을 출력하세요."
      ],
      "metadata": {
        "id": "a4quNkqmXxAu"
      }
    },
    {
      "cell_type": "code",
      "source": [
        "print('Hello World')"
      ],
      "metadata": {
        "id": "NB4dx9aIX7uZ",
        "colab": {
          "base_uri": "https://localhost:8080/"
        },
        "outputId": "f7c34ce3-c5ec-49aa-bca0-442f6fc7ec4c"
      },
      "execution_count": null,
      "outputs": [
        {
          "output_type": "stream",
          "name": "stdout",
          "text": [
            "Hello World\n"
          ]
        }
      ]
    },
    {
      "cell_type": "markdown",
      "source": [
        "### 2. 화면에 Yeonji's Home을 출력하세요."
      ],
      "metadata": {
        "id": "vXU-HmNeX8N3"
      }
    },
    {
      "cell_type": "code",
      "source": [
        "print('Yeonji\\'s Home')"
      ],
      "metadata": {
        "id": "Mb2K5AG3YHVw",
        "colab": {
          "base_uri": "https://localhost:8080/"
        },
        "outputId": "6e93ee9c-7653-4f04-c8f9-6c15c5df178e"
      },
      "execution_count": null,
      "outputs": [
        {
          "output_type": "stream",
          "name": "stdout",
          "text": [
            "Yeonji's Home\n"
          ]
        }
      ]
    },
    {
      "cell_type": "markdown",
      "source": [
        "### 3. 화면에 아래 문장을 출력하세요. \n",
        "\n",
        "연지가 말했다. \"저녁 맛있게 드세요\"."
      ],
      "metadata": {
        "id": "2Tu9k94jYH9q"
      }
    },
    {
      "cell_type": "code",
      "source": [
        "print('연지가 말했다. \"저녁 맛있게 드세요\".')"
      ],
      "metadata": {
        "id": "cOYiAhd6YRoM",
        "colab": {
          "base_uri": "https://localhost:8080/"
        },
        "outputId": "bfb490f0-cdc0-48df-deb3-35dc384a8520"
      },
      "execution_count": null,
      "outputs": [
        {
          "output_type": "stream",
          "name": "stdout",
          "text": [
            "연지가 말했다. \"저녁 맛있게 드세요\".\n"
          ]
        }
      ]
    },
    {
      "cell_type": "markdown",
      "source": [
        "### 4. 다음 코드를 실행해보고 \\t와 \\n의 역할을 설명해보세요. (내일 소회의실서 설명해주세요!)\n",
        "\n",
        "\n",
        "\n",
        "print(\"안녕하세요.\\n만나서\\t\\t반갑습니다.\")"
      ],
      "metadata": {
        "id": "lB5OzTrFYjKd"
      }
    },
    {
      "cell_type": "code",
      "source": [
        "print(\"안녕하세요.\\n만나서\\t\\t반갑습니다.\") # \\n은 뉴라인 엔터같은의미 \\t는 tab의 의미"
      ],
      "metadata": {
        "id": "aCIjWhbBYoww",
        "colab": {
          "base_uri": "https://localhost:8080/"
        },
        "outputId": "6d381712-3393-4d24-dc1e-e1602e4780c7"
      },
      "execution_count": null,
      "outputs": [
        {
          "output_type": "stream",
          "name": "stdout",
          "text": [
            "안녕하세요.\n",
            "만나서\t\t반갑습니다.\n"
          ]
        }
      ]
    },
    {
      "cell_type": "markdown",
      "source": [
        "### 5. print() 함수 sep='/'파라메터를 이용해 다음을 출력해보세요.\n",
        "\n",
        "링딩동링딩동/링디기딩디기딩딩딩/링딩동링딩동\n"
      ],
      "metadata": {
        "id": "PRu6nH61Yq7Z"
      }
    },
    {
      "cell_type": "code",
      "source": [
        "print ('링딩동링딩동' ,'링디기딩디기딩딩딩' ,'링딩동링딩동', sep = '/')"
      ],
      "metadata": {
        "id": "QYmsDXHJZjU5",
        "colab": {
          "base_uri": "https://localhost:8080/"
        },
        "outputId": "137b3a31-3e8b-4d05-d7c4-421b8ac49f44"
      },
      "execution_count": null,
      "outputs": [
        {
          "output_type": "stream",
          "name": "stdout",
          "text": [
            "링딩동링딩동/링디기딩디기딩딩딩/링딩동링딩동\n"
          ]
        }
      ]
    },
    {
      "cell_type": "markdown",
      "source": [
        "### 6. 5/10의 결과를 화면에 출력하세요."
      ],
      "metadata": {
        "id": "blyX7nxdZprI"
      }
    },
    {
      "cell_type": "code",
      "source": [
        "a =(5/10)\n",
        "print (a)"
      ],
      "metadata": {
        "id": "Wb0ItaYVZsB_",
        "colab": {
          "base_uri": "https://localhost:8080/"
        },
        "outputId": "634c386d-84ab-4d4d-bda7-ee0dd6b68309"
      },
      "execution_count": null,
      "outputs": [
        {
          "output_type": "stream",
          "name": "stdout",
          "text": [
            "0.5\n"
          ]
        }
      ]
    },
    {
      "cell_type": "markdown",
      "source": [
        "# 2021217\n",
        "\n",
        "1. 변수 a에는 'Life is'라는 문자열, b에는 42라는 숫자를 바인딩하시고, 아래처럼 출력해주세요.\n",
        "```\n",
        "Life is 42 ! \n",
        "```"
      ],
      "metadata": {
        "id": "fYMkgxxdvE4o"
      }
    },
    {
      "cell_type": "code",
      "source": [
        "a = 'Life is'\n",
        "b = int(42)\n",
        "print(a , str(b),'!')"
      ],
      "metadata": {
        "colab": {
          "base_uri": "https://localhost:8080/"
        },
        "id": "Q-gzzmlXtkh-",
        "outputId": "91b51a6e-f265-4971-ff7b-6ee166bfc1e5"
      },
      "execution_count": null,
      "outputs": [
        {
          "output_type": "stream",
          "name": "stdout",
          "text": [
            "Life is 42 !\n"
          ]
        }
      ]
    },
    {
      "cell_type": "markdown",
      "source": [
        "2. 위에서 만든 변수 a, b의 타입을 확인하는 함수를 이용하여 각각의 타입을 확인해주세요."
      ],
      "metadata": {
        "id": "E6HMLAmRNOXc"
      }
    },
    {
      "cell_type": "code",
      "source": [
        "type(a)"
      ],
      "metadata": {
        "id": "liJPqWw0MAYF",
        "colab": {
          "base_uri": "https://localhost:8080/"
        },
        "outputId": "316d7c49-e9fb-4f01-a158-582f37086505"
      },
      "execution_count": null,
      "outputs": [
        {
          "output_type": "execute_result",
          "data": {
            "text/plain": [
              "str"
            ]
          },
          "metadata": {},
          "execution_count": 9
        }
      ]
    },
    {
      "cell_type": "code",
      "source": [
        "type(b)"
      ],
      "metadata": {
        "colab": {
          "base_uri": "https://localhost:8080/"
        },
        "id": "vYL6ujwvujou",
        "outputId": "bbb6d483-8b99-46ac-8669-890936e547eb"
      },
      "execution_count": null,
      "outputs": [
        {
          "output_type": "execute_result",
          "data": {
            "text/plain": [
              "int"
            ]
          },
          "metadata": {},
          "execution_count": 10
        }
      ]
    },
    {
      "cell_type": "markdown",
      "source": [
        "3. 변수 b를 str타입으로 변경하시고, 다시 한 번 b의 타입을 확인해주세요."
      ],
      "metadata": {
        "id": "RQYJz8dLNaJ4"
      }
    },
    {
      "cell_type": "code",
      "source": [
        "b = str(42)"
      ],
      "metadata": {
        "id": "DFta-YVA1gRR"
      },
      "execution_count": null,
      "outputs": []
    },
    {
      "cell_type": "code",
      "source": [
        "type(b)"
      ],
      "metadata": {
        "id": "YwoXJH6kNiK5",
        "colab": {
          "base_uri": "https://localhost:8080/"
        },
        "outputId": "ca1937cd-2ae4-4c6f-920c-402a6aa65212"
      },
      "execution_count": null,
      "outputs": [
        {
          "output_type": "execute_result",
          "data": {
            "text/plain": [
              "str"
            ]
          },
          "metadata": {},
          "execution_count": 12
        }
      ]
    },
    {
      "cell_type": "markdown",
      "source": [
        "4. month라는 변수에 문자열 \"2021.12\"를 바인딩하신 후 실수(float)타입으로 변환해보세요."
      ],
      "metadata": {
        "id": "Py63kOJoNwIE"
      }
    },
    {
      "cell_type": "code",
      "source": [
        "month = '2021.12'"
      ],
      "metadata": {
        "id": "mBDOHV9BN6Bx"
      },
      "execution_count": null,
      "outputs": []
    },
    {
      "cell_type": "code",
      "source": [
        "type(month)"
      ],
      "metadata": {
        "colab": {
          "base_uri": "https://localhost:8080/"
        },
        "id": "dpTSq5x7c9mx",
        "outputId": "21787259-4864-4bc4-dfec-da8aceda0351"
      },
      "execution_count": null,
      "outputs": [
        {
          "output_type": "execute_result",
          "data": {
            "text/plain": [
              "str"
            ]
          },
          "metadata": {},
          "execution_count": 14
        }
      ]
    },
    {
      "cell_type": "code",
      "source": [
        "month = float('2021.12')"
      ],
      "metadata": {
        "id": "LCp0DPPMuyFU"
      },
      "execution_count": null,
      "outputs": []
    },
    {
      "cell_type": "code",
      "source": [
        "type(month)"
      ],
      "metadata": {
        "colab": {
          "base_uri": "https://localhost:8080/"
        },
        "id": "qAS2GtXBu5kw",
        "outputId": "7531dc7b-d0ce-4aca-a363-f897525fba19"
      },
      "execution_count": null,
      "outputs": [
        {
          "output_type": "execute_result",
          "data": {
            "text/plain": [
              "float"
            ]
          },
          "metadata": {},
          "execution_count": 16
        }
      ]
    },
    {
      "cell_type": "markdown",
      "source": [
        "5. 동네 슈퍼에서 한 개에 1200원짜리 하리보젤리를 10개 사면 20%씩 할인해주고 있습니다. haribo라는 변수에 젤리 1개 가격을 넣어 10개를 샀을 때 지불해야 할 최종 금액을 계산해주세요."
      ],
      "metadata": {
        "id": "SrIrfGd6jO-q"
      }
    },
    {
      "cell_type": "code",
      "source": [
        "haribo = int(1200)\n",
        "if haribo * 10 :\n",
        "  haribo = 960 * 10\n",
        "print (haribo)\n",
        "\n",
        "  "
      ],
      "metadata": {
        "id": "tOA01fTqjuHU",
        "colab": {
          "base_uri": "https://localhost:8080/"
        },
        "outputId": "d699cbd1-caa3-479e-9951-0f93ce142340"
      },
      "execution_count": null,
      "outputs": [
        {
          "output_type": "stream",
          "name": "stdout",
          "text": [
            "9600\n"
          ]
        }
      ]
    },
    {
      "cell_type": "markdown",
      "source": [
        "# 20211218"
      ],
      "metadata": {
        "id": "az9Idak2jvsz"
      }
    },
    {
      "cell_type": "markdown",
      "source": [
        "1. word라는 변수에 'Happy Christmas!'라는 문장을 넣으시고 H, p, mas, !를 각각 출력해보세요."
      ],
      "metadata": {
        "id": "eQ8YLXU4kvMU"
      }
    },
    {
      "cell_type": "code",
      "source": [
        "word = 'Happy Christmas!'\n",
        "print (word[0])"
      ],
      "metadata": {
        "id": "V8oJsLSIlXdb",
        "colab": {
          "base_uri": "https://localhost:8080/"
        },
        "outputId": "c845cd84-a572-4474-9070-843f0b7c183a"
      },
      "execution_count": null,
      "outputs": [
        {
          "output_type": "stream",
          "name": "stdout",
          "text": [
            "H\n"
          ]
        }
      ]
    },
    {
      "cell_type": "code",
      "source": [
        "print(word[2])"
      ],
      "metadata": {
        "id": "ubv5cp80lXQG",
        "colab": {
          "base_uri": "https://localhost:8080/"
        },
        "outputId": "cb748c11-4903-44c4-d38d-017ccaf79cc5"
      },
      "execution_count": null,
      "outputs": [
        {
          "output_type": "stream",
          "name": "stdout",
          "text": [
            "p\n"
          ]
        }
      ]
    },
    {
      "cell_type": "code",
      "source": [
        "print(word [-4:-1])"
      ],
      "metadata": {
        "id": "-M11QzzplXBU",
        "colab": {
          "base_uri": "https://localhost:8080/"
        },
        "outputId": "5055679a-43eb-422c-e9ae-0c8c05cd8a6f"
      },
      "execution_count": null,
      "outputs": [
        {
          "output_type": "stream",
          "name": "stdout",
          "text": [
            "mas\n"
          ]
        }
      ]
    },
    {
      "cell_type": "code",
      "source": [
        "print(word [15])"
      ],
      "metadata": {
        "id": "HBgYwkBVlWva",
        "colab": {
          "base_uri": "https://localhost:8080/"
        },
        "outputId": "5c71859f-aa88-4bd7-b3b0-5945e976b5ce"
      },
      "execution_count": null,
      "outputs": [
        {
          "output_type": "stream",
          "name": "stdout",
          "text": [
            "!\n"
          ]
        }
      ]
    },
    {
      "cell_type": "markdown",
      "source": [
        "2. word라는 변수에 'Happy Christmas!'라는 문장을 넣으시고 split 함수를 사용하여 Christmas!만 출력하세요."
      ],
      "metadata": {
        "id": "IkS7ZfLWkJmF"
      }
    },
    {
      "cell_type": "code",
      "source": [
        "word = 'Happy Christmas!'\n",
        "print(word.split())"
      ],
      "metadata": {
        "id": "Lz7U6whGj0bR",
        "colab": {
          "base_uri": "https://localhost:8080/"
        },
        "outputId": "d3fa83a0-7b6b-479d-fa4a-12e9b1e5ba7d"
      },
      "execution_count": null,
      "outputs": [
        {
          "output_type": "stream",
          "name": "stdout",
          "text": [
            "['Happy', 'Christmas!']\n"
          ]
        }
      ]
    },
    {
      "cell_type": "code",
      "source": [
        "word = 'Happy Christmas!'\n",
        "(' ').join(word.split())\n",
        "print(word.split())  #모르겠어요..."
      ],
      "metadata": {
        "id": "TeVnu4JKHWl_",
        "colab": {
          "base_uri": "https://localhost:8080/"
        },
        "outputId": "b44037af-5e1c-4669-e582-0600a069dab3"
      },
      "execution_count": null,
      "outputs": [
        {
          "output_type": "stream",
          "name": "stdout",
          "text": [
            "['Happy', 'Christmas!']\n"
          ]
        }
      ]
    },
    {
      "cell_type": "code",
      "source": [
        "word = 'Happy Christmas!'\n",
        "word1, word2 = word.split(' ')\n",
        "print (word2)\n"
      ],
      "metadata": {
        "colab": {
          "base_uri": "https://localhost:8080/"
        },
        "id": "a2FlO3MgKVqW",
        "outputId": "f21dcd0b-080b-4515-9cd9-c6ab18a874ae"
      },
      "execution_count": null,
      "outputs": [
        {
          "output_type": "stream",
          "name": "stdout",
          "text": [
            "Christmas!\n"
          ]
        }
      ]
    },
    {
      "cell_type": "markdown",
      "source": [
        "## 확인!"
      ],
      "metadata": {
        "id": "rrJnmZnYl3Jh"
      }
    },
    {
      "cell_type": "code",
      "source": [
        "print(word.split()[1])  "
      ],
      "metadata": {
        "colab": {
          "base_uri": "https://localhost:8080/"
        },
        "id": "UthoZGdGLvPG",
        "outputId": "3604a0b4-cb08-424f-c253-1d9f90e23b7a"
      },
      "execution_count": null,
      "outputs": [
        {
          "output_type": "stream",
          "name": "stdout",
          "text": [
            "Christmas!\n"
          ]
        }
      ]
    },
    {
      "cell_type": "markdown",
      "source": [
        "3. 위의 word 변수에 담긴 문자열을 거꾸로 뒤집은 순서로 출력하세요."
      ],
      "metadata": {
        "id": "O0-7bgz0lcKl"
      }
    },
    {
      "cell_type": "code",
      "source": [
        "print(word[15:0:])"
      ],
      "metadata": {
        "id": "OhTrPNY8luGN",
        "colab": {
          "base_uri": "https://localhost:8080/"
        },
        "outputId": "a542aa61-9036-41c0-f26c-2c26cbabd605"
      },
      "execution_count": null,
      "outputs": [
        {
          "output_type": "stream",
          "name": "stdout",
          "text": [
            "\n"
          ]
        }
      ]
    },
    {
      "cell_type": "markdown",
      "source": [
        "## 확인!"
      ],
      "metadata": {
        "id": "CuE2eO56lwlk"
      }
    },
    {
      "cell_type": "code",
      "source": [
        "print(word[15::-1])"
      ],
      "metadata": {
        "colab": {
          "base_uri": "https://localhost:8080/"
        },
        "id": "MvtEG3bmlDsm",
        "outputId": "beaf58e8-d09b-4d29-cbe0-95476c1368e3"
      },
      "execution_count": null,
      "outputs": [
        {
          "output_type": "stream",
          "name": "stdout",
          "text": [
            "!samtsirhC yppaH\n"
          ]
        }
      ]
    },
    {
      "cell_type": "markdown",
      "source": [
        "4. word 변수의 공백 부분을 '-'로 치환해 출력해주세요.\n",
        "\n",
        "예시 : Happy-Christmas!"
      ],
      "metadata": {
        "id": "eKU0UA1clv-z"
      }
    },
    {
      "cell_type": "code",
      "source": [
        "print(word.replace(' ','-'))"
      ],
      "metadata": {
        "id": "Ox6OYnQnlu3x",
        "colab": {
          "base_uri": "https://localhost:8080/"
        },
        "outputId": "55536f69-d7bd-4287-e5cb-8a3b06508d6e"
      },
      "execution_count": null,
      "outputs": [
        {
          "output_type": "stream",
          "name": "stdout",
          "text": [
            "Happy-Christmas!\n"
          ]
        }
      ]
    },
    {
      "cell_type": "markdown",
      "source": [
        "5. replace 메서드를 활용하여 word 변수의 Christmas를 Birthday로 변경해주세요."
      ],
      "metadata": {
        "id": "90o7_RXlmclJ"
      }
    },
    {
      "cell_type": "code",
      "source": [
        "print (word.replace('Christmas', 'Birthday'))"
      ],
      "metadata": {
        "colab": {
          "base_uri": "https://localhost:8080/"
        },
        "id": "OIZfq_RGIan2",
        "outputId": "383af91b-8dd0-453f-e973-1bc66646ea5a"
      },
      "execution_count": null,
      "outputs": [
        {
          "output_type": "stream",
          "name": "stdout",
          "text": [
            "Happy Birthday!\n"
          ]
        }
      ]
    },
    {
      "cell_type": "markdown",
      "source": [
        "# 20211219"
      ],
      "metadata": {
        "id": "kTvxjqd6mMgY"
      }
    },
    {
      "cell_type": "markdown",
      "source": [
        "1. 아래의 코드 실행결과를 예상해보시고, 그대로 출력해보세요. \n",
        "\n",
        "~~~\n",
        "a = \"15\"\n",
        "b = \"20\"\n",
        "print(a + b)\n",
        "~~~\n"
      ],
      "metadata": {
        "id": "GA7BLFNYpJFl"
      }
    },
    {
      "cell_type": "code",
      "source": [
        "a = \"15\"\n",
        "b = \"20\"\n",
        "print(a + b)"
      ],
      "metadata": {
        "id": "MIE5wvaGmOET",
        "colab": {
          "base_uri": "https://localhost:8080/"
        },
        "outputId": "d24dd5c6-5508-491c-c99c-81568415e5b8"
      },
      "execution_count": null,
      "outputs": [
        {
          "output_type": "stream",
          "name": "stdout",
          "text": [
            "1520\n"
          ]
        }
      ]
    },
    {
      "cell_type": "markdown",
      "source": [
        "2. 아래 코드의 실행 결과를 예상해보시고, 출력 후 결과를 확인해주세요.\n",
        "\n",
        "~~~\n",
        " print(\"Hello\" * 3)\n",
        " ~~~"
      ],
      "metadata": {
        "id": "MxGbYMh6qOg-"
      }
    },
    {
      "cell_type": "code",
      "source": [
        "print(\"Hello\" * 3)"
      ],
      "metadata": {
        "id": "Zm_l_15HqZa-",
        "colab": {
          "base_uri": "https://localhost:8080/"
        },
        "outputId": "24454ac5-1a0a-4ac1-e122-055552d2fafd"
      },
      "execution_count": null,
      "outputs": [
        {
          "output_type": "stream",
          "name": "stdout",
          "text": [
            "HelloHelloHello\n"
          ]
        }
      ]
    },
    {
      "cell_type": "markdown",
      "source": [
        "3.변수에 다음과 같이 문자열과 정수가 바인딩되어 있을 때 format( ) 메서드를 사용해서 각각 이름과 번호가 함께 출력되게 출력해주세요.\n",
        "- 힌트 : 문자열의 포맷 메서드는 타입과 상관없이 값이 출력될 위치에 { }를 적어주면 됩니다.\n",
        "\n",
        "\n",
        "Input:\n",
        "~~~\n",
        "name1 = \"홍성희\" \n",
        "num1 = 1\n",
        "name2 = \"김연지\"\n",
        "num2 = 2\n",
        "~~~"
      ],
      "metadata": {
        "id": "5DE4R1QXuj6K"
      }
    },
    {
      "cell_type": "markdown",
      "source": [
        "Output:\n",
        "```\n",
        "이름: 홍성희 번호: 1\n",
        "이름: 김연지 번호: 2\n",
        "```"
      ],
      "metadata": {
        "id": "iivcF3BYvfc7"
      }
    },
    {
      "cell_type": "code",
      "source": [
        "\n",
        "a = \"이름 : {name1} 번호 : {num1}\".format(name1 = \"홍성희\",num1 = 1)\n",
        "b = \"이름 : {name2} 번호 : {num2}\".format(name2 = \"김연지\",num2 = 2)"
      ],
      "metadata": {
        "id": "2Flg-M6ELJRL"
      },
      "execution_count": null,
      "outputs": []
    },
    {
      "cell_type": "code",
      "source": [
        "print(a)\n",
        "print(b)"
      ],
      "metadata": {
        "colab": {
          "base_uri": "https://localhost:8080/"
        },
        "id": "9Za-6QieXlSR",
        "outputId": "2b2e2efb-8f82-4c49-b2a3-6e605003499e"
      },
      "execution_count": null,
      "outputs": [
        {
          "output_type": "stream",
          "name": "stdout",
          "text": [
            "이름 : 홍성희 번호 : 1\n",
            "이름 : 김연지 번호 : 2\n"
          ]
        }
      ]
    },
    {
      "cell_type": "markdown",
      "source": [
        "4. % formatting을 사용해서 같은 결과를 출력해보세요.\n",
        "- 힌트: https://docs.python.org/ko/3/tutorial/inputoutput.html?highlight=formatting#fancier-output-formatting\n",
        "- 숫자는 %d, 문자는 %s를 사용합니다.\n"
      ],
      "metadata": {
        "id": "3PAdWY4cv57c"
      }
    },
    {
      "cell_type": "code",
      "source": [
        "name1 = \"홍성희\" \n",
        "num1 = 1\n",
        "name2 = \"김연지\"\n",
        "num2 = 2\n",
        "print(\"이름 : %s 번호 : %d\"%(\"홍성희\", 1))\n",
        "print(\"이름 : %s 번호 : %d\"%(\"김연지\", 2))"
      ],
      "metadata": {
        "id": "JOO8FGlxwFKU",
        "colab": {
          "base_uri": "https://localhost:8080/"
        },
        "outputId": "caffc474-f55e-4427-fb40-7a14990ebded"
      },
      "execution_count": null,
      "outputs": [
        {
          "output_type": "stream",
          "name": "stdout",
          "text": [
            "이름 : 홍성희 번호 : 1\n",
            "이름 : 김연지 번호 : 2\n"
          ]
        }
      ]
    },
    {
      "cell_type": "markdown",
      "source": [
        "5. f-string을 활용하여 위의 결과와 같게 출력해주세요.\n",
        "- 힌트 : https://docs.python.org/ko/3/tutorial/inputoutput.html?highlight=formatting#fancier-output-formatting"
      ],
      "metadata": {
        "id": "zpTTGYaEwGT2"
      }
    },
    {
      "cell_type": "code",
      "source": [
        "name1 = \"홍성희\" \n",
        "num1 = 1\n",
        "name2 = \"김연지\"\n",
        "num2 = 2\n",
        "f\"이름 : {name1} 번호 : {num1}\".format(name1 = \"홍성희\",num1 = 1)\n",
        "f\"이름 : {name2} 번호 : {num2}\".format(name2 = \"김연지\",num2 = 2)\n",
        "table = {\"홍성희\": name1, 1 : num1, \"김연지\": name2, 2 : num2}\n",
        "print('\"이름 : 홍성희 번호 : 1\"\\n\"이름 : 김연지 번호 : 2\"')\n"
      ],
      "metadata": {
        "id": "uX6zQXa7wvyX",
        "colab": {
          "base_uri": "https://localhost:8080/"
        },
        "outputId": "f51c23c0-bffb-4f7b-906d-7e1c3d2c1f6e"
      },
      "execution_count": null,
      "outputs": [
        {
          "output_type": "stream",
          "name": "stdout",
          "text": [
            "\"이름 : 홍성희 번호 : 1\"\n",
            "\"이름 : 김연지 번호 : 2\"\n"
          ]
        }
      ]
    },
    {
      "cell_type": "markdown",
      "source": [
        "# 20211220\n",
        "\n",
        "1. 변수 answer에 'life is 42'를 바인딩하시고, 해당 변수를 전부 대문자로 출력하세요."
      ],
      "metadata": {
        "id": "HPuT1GJd9WFh"
      }
    },
    {
      "cell_type": "code",
      "source": [
        "answer = 'life is 42'\n",
        "answer.upper()\n"
      ],
      "metadata": {
        "id": "3NEMG1XSKcuX",
        "colab": {
          "base_uri": "https://localhost:8080/",
          "height": 35
        },
        "outputId": "227f69aa-0fd7-4559-fba8-ee70f3359cf7"
      },
      "execution_count": null,
      "outputs": [
        {
          "output_type": "execute_result",
          "data": {
            "application/vnd.google.colaboratory.intrinsic+json": {
              "type": "string"
            },
            "text/plain": [
              "'LIFE IS 42'"
            ]
          },
          "metadata": {},
          "execution_count": 1
        }
      ]
    },
    {
      "cell_type": "markdown",
      "source": [
        "2. 위의 변수를 전부 소문자로 출력해보세요."
      ],
      "metadata": {
        "id": "M3MS-3ZrKe4s"
      }
    },
    {
      "cell_type": "code",
      "source": [
        "answer = 'life is 42'\n",
        "answer.lower()"
      ],
      "metadata": {
        "id": "JelyDpObQaPW",
        "colab": {
          "base_uri": "https://localhost:8080/",
          "height": 35
        },
        "outputId": "2f6704af-6e70-47bd-fa89-c5a00e9c79fd"
      },
      "execution_count": null,
      "outputs": [
        {
          "output_type": "execute_result",
          "data": {
            "application/vnd.google.colaboratory.intrinsic+json": {
              "type": "string"
            },
            "text/plain": [
              "'life is 42'"
            ]
          },
          "metadata": {},
          "execution_count": 2
        }
      ]
    },
    {
      "cell_type": "markdown",
      "source": [
        "3. 이번에는 capitalize 메소드를 사용하여 answer 변수에 들어있는 문장 앞 글자만 대문자가 되게 출력해보세요."
      ],
      "metadata": {
        "id": "EURA4o6cQbP_"
      }
    },
    {
      "cell_type": "code",
      "source": [
        "answer = 'life is 42'\n",
        "answer.capitalize()"
      ],
      "metadata": {
        "id": "E9ulYKM3RPbr",
        "colab": {
          "base_uri": "https://localhost:8080/",
          "height": 35
        },
        "outputId": "e027f9b4-37db-4a67-a449-ef82ecf203e5"
      },
      "execution_count": null,
      "outputs": [
        {
          "output_type": "execute_result",
          "data": {
            "application/vnd.google.colaboratory.intrinsic+json": {
              "type": "string"
            },
            "text/plain": [
              "'Life is 42'"
            ]
          },
          "metadata": {},
          "execution_count": 3
        }
      ]
    },
    {
      "cell_type": "markdown",
      "source": [
        "4. startswith, endswith 메소드를 사용하여 answer 변수의 첫 글자, 혹은 끝글자가 42로 시작하는지 확인해주세요."
      ],
      "metadata": {
        "id": "gucU43J4Ro30"
      }
    },
    {
      "cell_type": "code",
      "source": [
        "answer = 'life is 42'\n",
        "i = answer.startswith ('42')\n",
        "r = answer.endswith('42')\n",
        "if i is answer:\n",
        "  startswith = '42'\n",
        "  print(bool)\n",
        "if r is answer:\n",
        "  endswith = '42'\n",
        "  print(bool)\n",
        "print (i)\n",
        "print (r)\n"
      ],
      "metadata": {
        "id": "noIXGQdWRw38",
        "colab": {
          "base_uri": "https://localhost:8080/"
        },
        "outputId": "ce5290ab-24d0-4e87-e08a-e51d10d42d09"
      },
      "execution_count": null,
      "outputs": [
        {
          "output_type": "stream",
          "name": "stdout",
          "text": [
            "False\n",
            "True\n"
          ]
        }
      ]
    },
    {
      "cell_type": "markdown",
      "source": [
        "## 확인!\n",
        "조건문을 만들지 않아도 startswith, endswith의 결과값은 bool로 출력됩니다."
      ],
      "metadata": {
        "id": "rQ6IVkyJUHL_"
      }
    },
    {
      "cell_type": "code",
      "source": [
        "answer.startswith ('42')"
      ],
      "metadata": {
        "id": "CDTkrGXaRy7l",
        "colab": {
          "base_uri": "https://localhost:8080/"
        },
        "outputId": "f789de68-973e-4f46-aaec-3078714add72"
      },
      "execution_count": null,
      "outputs": [
        {
          "output_type": "execute_result",
          "data": {
            "text/plain": [
              "False"
            ]
          },
          "metadata": {},
          "execution_count": 7
        }
      ]
    },
    {
      "cell_type": "code",
      "source": [
        "answer.endswith('42')"
      ],
      "metadata": {
        "colab": {
          "base_uri": "https://localhost:8080/"
        },
        "id": "Xt-kwkJMUEt7",
        "outputId": "5c4f4bf2-923a-4664-b628-fe79774b7f7f"
      },
      "execution_count": null,
      "outputs": [
        {
          "output_type": "execute_result",
          "data": {
            "text/plain": [
              "True"
            ]
          },
          "metadata": {},
          "execution_count": 8
        }
      ]
    },
    {
      "cell_type": "markdown",
      "source": [
        "5. split 메소드를 사용하여 date 변수를 연도, 월, 일로 구분해 dates라는 리스트에 저장해주세요.\n",
        "~~~\n",
        "date = \"2021-12-21\"\n",
        "~~~"
      ],
      "metadata": {
        "id": "tZnTvzicSJN0"
      }
    },
    {
      "cell_type": "code",
      "source": [
        "date = \"2021-12-21\"\n",
        "\n",
        "dates = date.split('-', maxsplit=4)\n",
        "print (dates)"
      ],
      "metadata": {
        "id": "M7ZJv8uDST22",
        "colab": {
          "base_uri": "https://localhost:8080/"
        },
        "outputId": "db787aeb-ddfa-466f-8160-9f663b17f272"
      },
      "execution_count": null,
      "outputs": [
        {
          "output_type": "stream",
          "name": "stdout",
          "text": [
            "['2021', '12', '21']\n"
          ]
        }
      ]
    },
    {
      "cell_type": "markdown",
      "source": [
        "6. strip 메소드를 사용하여 date 변수의 공백을 제거해주세요.\n",
        "~~~\n",
        "date = \"      2021-12-21     \"\n",
        "~~~"
      ],
      "metadata": {
        "id": "XzL9tS50SlDL"
      }
    },
    {
      "cell_type": "code",
      "source": [
        "date = \"      2021-12-21     \"\n",
        "date.strip()"
      ],
      "metadata": {
        "colab": {
          "base_uri": "https://localhost:8080/",
          "height": 35
        },
        "id": "x0ujCXC3DlZb",
        "outputId": "c811d8d3-6134-49d6-916e-1c6330887110"
      },
      "execution_count": null,
      "outputs": [
        {
          "output_type": "execute_result",
          "data": {
            "application/vnd.google.colaboratory.intrinsic+json": {
              "type": "string"
            },
            "text/plain": [
              "'2021-12-21'"
            ]
          },
          "metadata": {},
          "execution_count": 23
        }
      ]
    },
    {
      "cell_type": "markdown",
      "source": [
        "7. date변수의 오른쪽 공백만 제거해보세요."
      ],
      "metadata": {
        "id": "8CW9MObQaAES"
      }
    },
    {
      "cell_type": "code",
      "source": [
        "date = \"      2021-12-21     \"\n",
        "date.rstrip()"
      ],
      "metadata": {
        "id": "QrqdUXcLSyNj",
        "colab": {
          "base_uri": "https://localhost:8080/",
          "height": 35
        },
        "outputId": "29cc9bc9-4202-4172-9426-3511f4cdbded"
      },
      "execution_count": null,
      "outputs": [
        {
          "output_type": "execute_result",
          "data": {
            "application/vnd.google.colaboratory.intrinsic+json": {
              "type": "string"
            },
            "text/plain": [
              "'      2021-12-21'"
            ]
          },
          "metadata": {},
          "execution_count": 35
        }
      ]
    },
    {
      "cell_type": "markdown",
      "source": [
        "8. date변수의 왼쪽 공백만 제거해보세요."
      ],
      "metadata": {
        "id": "BFRW3gT1aEG2"
      }
    },
    {
      "cell_type": "code",
      "source": [
        "date = \"      2021-12-21     \"\n",
        "date.lstrip()"
      ],
      "metadata": {
        "id": "aCS81eyIaHhP"
      },
      "execution_count": null,
      "outputs": []
    },
    {
      "cell_type": "markdown",
      "source": [
        "# 20211221"
      ],
      "metadata": {
        "id": "Qb_ADGEOMLxb"
      }
    },
    {
      "cell_type": "markdown",
      "source": [
        "- 리스트\n",
        "\n",
        "1. 아래의 뮤지션 5명(팀)을 myPlaylist라는 변수에 리스트로 저장후 출력해보세요.\n",
        "\n",
        "~~~\n",
        "'나플라', '이센스', '제이콜', '나스', '찬스더래퍼'\n",
        "~~~"
      ],
      "metadata": {
        "id": "7I6k2iFoYHbg"
      }
    },
    {
      "cell_type": "code",
      "source": [
        "myPlaylist= ['나플라', '이센스', '제이콜', '나스', '찬스더래퍼']\n",
        "\n",
        "print(type(myPlaylist))"
      ],
      "metadata": {
        "id": "WWHCB78taWxO",
        "colab": {
          "base_uri": "https://localhost:8080/"
        },
        "outputId": "be73b040-35f0-4549-f291-83cac276dc61"
      },
      "execution_count": null,
      "outputs": [
        {
          "output_type": "stream",
          "name": "stdout",
          "text": [
            "<class 'list'>\n"
          ]
        }
      ]
    },
    {
      "cell_type": "code",
      "source": [
        "isinstance(myPlaylist,list) # 우와 성희님 대단쓰!!!! "
      ],
      "metadata": {
        "id": "vdZ64YPAdIzW",
        "outputId": "967288cc-c73a-4008-c566-100def58babe",
        "colab": {
          "base_uri": "https://localhost:8080/"
        }
      },
      "execution_count": null,
      "outputs": [
        {
          "output_type": "execute_result",
          "data": {
            "text/plain": [
              "True"
            ]
          },
          "metadata": {},
          "execution_count": 71
        }
      ]
    },
    {
      "cell_type": "markdown",
      "source": [
        "2. myPlaylist에 '블랙핑크'를 추가한 후 출력해주세요."
      ],
      "metadata": {
        "id": "DeZtifn2Y6Df"
      }
    },
    {
      "cell_type": "code",
      "source": [
        "myPlaylist = ['나플라', '이센스', '제이콜', '나스', '찬스더래퍼']\n",
        "myPlaylist.append('블랙핑크')\n",
        "myPlaylist"
      ],
      "metadata": {
        "id": "RoBgsEAtY3tV",
        "colab": {
          "base_uri": "https://localhost:8080/"
        },
        "outputId": "cadb5b22-6c03-486e-830a-3290e5cc48d2"
      },
      "execution_count": null,
      "outputs": [
        {
          "output_type": "execute_result",
          "data": {
            "text/plain": [
              "['나플라', '이센스', '제이콜', '나스', '찬스더래퍼', '블랙핑크']"
            ]
          },
          "metadata": {},
          "execution_count": 45
        }
      ]
    },
    {
      "cell_type": "markdown",
      "source": [
        "3. myPlaylist의 '이센스'와 '제이콜' 사이에 '더콰이엇'을 추가한 후 출력해주세요. (insert 메소드 사용)"
      ],
      "metadata": {
        "id": "NuQqmbO1ZO-j"
      }
    },
    {
      "cell_type": "code",
      "source": [
        "myPlaylist = ['나플라', '이센스', '제이콜', '나스', '찬스더래퍼']\n",
        "myPlaylist.insert(2,str('더콰이엇'))\n",
        "print(myPlaylist)"
      ],
      "metadata": {
        "colab": {
          "base_uri": "https://localhost:8080/"
        },
        "id": "uvGoU9PaX9IM",
        "outputId": "22c8990b-00a6-4c90-f039-528b2444f57f"
      },
      "execution_count": null,
      "outputs": [
        {
          "output_type": "stream",
          "name": "stdout",
          "text": [
            "['나플라', '이센스', '더콰이엇', '제이콜', '나스', '찬스더래퍼']\n"
          ]
        }
      ]
    },
    {
      "cell_type": "markdown",
      "source": [
        "4. myPlaylist애서 '찬스더래퍼'의 위치를 찾아 삭제한 후 출력해주세요."
      ],
      "metadata": {
        "id": "B-1_C24faBg7"
      }
    },
    {
      "cell_type": "code",
      "source": [
        "myPlaylist= ['나플라', '이센스', '제이콜', '나스', '찬스더래퍼']\n",
        "index = myPlaylist.index('찬스더래퍼')\n",
        "print(index)\n",
        "\n",
        "del myPlaylist[4]\n",
        "print(myPlaylist)"
      ],
      "metadata": {
        "id": "8XcfMmxIZqX5",
        "colab": {
          "base_uri": "https://localhost:8080/"
        },
        "outputId": "125414e3-652b-4604-c7e0-ea37111215cc"
      },
      "execution_count": null,
      "outputs": [
        {
          "output_type": "stream",
          "name": "stdout",
          "text": [
            "4\n",
            "['나플라', '이센스', '제이콜', '나스']\n"
          ]
        }
      ]
    },
    {
      "cell_type": "markdown",
      "source": [
        "5. myPlaylist애서 '제이콜', '나스'의 위치를 찾아 삭제한 후 출력해주세요."
      ],
      "metadata": {
        "id": "a8Y8m1_BavST"
      }
    },
    {
      "cell_type": "code",
      "source": [
        "myPlaylist= ['나플라', '이센스', '제이콜', '나스', '찬스더래퍼']\n",
        "index = myPlaylist.index('제이콜')\n",
        "index1 = myPlaylist.index('나스')\n",
        "print(index,index1)\n",
        "\n",
        "del myPlaylist [2:3]\n",
        "print(myPlaylist)"
      ],
      "metadata": {
        "id": "JFVYr2MGaJrY",
        "colab": {
          "base_uri": "https://localhost:8080/"
        },
        "outputId": "cb07a916-150e-449b-e3bf-250afdf6c344"
      },
      "execution_count": null,
      "outputs": [
        {
          "output_type": "stream",
          "name": "stdout",
          "text": [
            "2 3\n",
            "['나플라', '이센스', '나스', '찬스더래퍼']\n"
          ]
        }
      ]
    },
    {
      "cell_type": "markdown",
      "source": [
        "### 확인!\n",
        "- '나스'가 남아있어요!\n",
        "- 슬라이싱을 하실 때는 [시작점:끝점+1] 지점을 선택해주셔 합니다."
      ],
      "metadata": {
        "id": "saTNzkPFghOB"
      }
    },
    {
      "cell_type": "code",
      "source": [
        "myPlaylist= ['나플라', '이센스', '제이콜', '나스', '찬스더래퍼']\n",
        "del myPlaylist [2:4]\n",
        "print(myPlaylist)"
      ],
      "metadata": {
        "colab": {
          "base_uri": "https://localhost:8080/"
        },
        "id": "ScAKVgFDgkV6",
        "outputId": "0cd0077f-8950-45f8-c7ef-10f0616762d5"
      },
      "execution_count": null,
      "outputs": [
        {
          "output_type": "stream",
          "name": "stdout",
          "text": [
            "['나플라', '이센스', '찬스더래퍼']\n"
          ]
        }
      ]
    },
    {
      "cell_type": "markdown",
      "source": [
        "6. myPlaylist에 아래의 리스트를 합한 Favorites 라는 리스트를 만들어 출력하세요.\n",
        "\n",
        "~~~\n",
        "myPlaylist1 = ['세븐틴', 'EXO', 'NCT']\n",
        "~~~"
      ],
      "metadata": {
        "id": "rx06LoBxdMxx"
      }
    },
    {
      "cell_type": "code",
      "source": [
        "myPlaylist= ['나플라', '이센스', '제이콜', '나스', '찬스더래퍼']\n",
        "myPlaylist1 = ['세븐틴', 'EXO', 'NCT']\n",
        "Favorites = myPlaylist + myPlaylist1\n",
        "print(Favorites)"
      ],
      "metadata": {
        "id": "ZmjI9icCa4ns",
        "colab": {
          "base_uri": "https://localhost:8080/"
        },
        "outputId": "1df1e1ef-aa04-4db6-f594-153b13cae9c8"
      },
      "execution_count": null,
      "outputs": [
        {
          "output_type": "stream",
          "name": "stdout",
          "text": [
            "['나플라', '이센스', '제이콜', '나스', '찬스더래퍼', '세븐틴', 'EXO', 'NCT']\n"
          ]
        }
      ]
    },
    {
      "cell_type": "markdown",
      "source": [
        "# 20211222"
      ],
      "metadata": {
        "id": "xJ7gatYMbiuW"
      }
    },
    {
      "cell_type": "markdown",
      "source": [
        "1. 아래의 numbers 리스트에서 최소값과 최대값을 찾아 출력해주세요.\n",
        "```\n",
        "numbers = [13, 12, 23, 54, 115, 56, 17]\n",
        "```"
      ],
      "metadata": {
        "id": "AAOGxmBxbQK8"
      }
    },
    {
      "cell_type": "code",
      "source": [
        "numbers =[13, 12, 23, 54, 115, 56, 17]\n",
        "print(min(numbers))"
      ],
      "metadata": {
        "id": "xezYHjBYbcEo",
        "colab": {
          "base_uri": "https://localhost:8080/"
        },
        "outputId": "41a9216f-9c99-4edb-e228-b18c7a0ffa88"
      },
      "execution_count": null,
      "outputs": [
        {
          "output_type": "stream",
          "name": "stdout",
          "text": [
            "12\n"
          ]
        }
      ]
    },
    {
      "cell_type": "code",
      "source": [
        "numbers =[13, 12, 23, 54, 115, 56, 17]\n",
        "print(max(numbers))"
      ],
      "metadata": {
        "id": "LF2jR8ijbmYD",
        "colab": {
          "base_uri": "https://localhost:8080/"
        },
        "outputId": "149ec807-2294-40d1-c906-7117bc8d4ca7"
      },
      "execution_count": null,
      "outputs": [
        {
          "output_type": "stream",
          "name": "stdout",
          "text": [
            "115\n"
          ]
        }
      ]
    },
    {
      "cell_type": "markdown",
      "source": [
        "2. numbers 리스트를 오름차순으로 정렬한 새 리스트를 만들어 numAscending 라는 변수명으로 저장해주세요."
      ],
      "metadata": {
        "id": "7rl1SwT2b8m5"
      }
    },
    {
      "cell_type": "code",
      "source": [
        "numbers =[13, 12, 23, 54, 115, 56, 17]\n",
        "numbers.sort()\n",
        "print(numbers)\n",
        "numAscending = numbers\n",
        "print(numAscending)"
      ],
      "metadata": {
        "id": "5swa6k6ebpWU",
        "colab": {
          "base_uri": "https://localhost:8080/"
        },
        "outputId": "2b1d4974-4cc0-4250-e534-6e04bdf57471"
      },
      "execution_count": null,
      "outputs": [
        {
          "output_type": "stream",
          "name": "stdout",
          "text": [
            "[12, 13, 17, 23, 54, 56, 115]\n",
            "[12, 13, 17, 23, 54, 56, 115]\n"
          ]
        }
      ]
    },
    {
      "cell_type": "markdown",
      "source": [
        "3. numbers의 전체 원소 개수를 찾아 출력하세요."
      ],
      "metadata": {
        "id": "5eqrFK7Gcny2"
      }
    },
    {
      "cell_type": "code",
      "source": [
        "len(numbers)"
      ],
      "metadata": {
        "id": "1BVY3diGcKa6",
        "colab": {
          "base_uri": "https://localhost:8080/"
        },
        "outputId": "a57bce61-b1f6-42a4-dc73-ec5c1e9b5f6c"
      },
      "execution_count": null,
      "outputs": [
        {
          "output_type": "execute_result",
          "data": {
            "text/plain": [
              "7"
            ]
          },
          "metadata": {},
          "execution_count": 20
        }
      ]
    },
    {
      "cell_type": "markdown",
      "source": [
        "4. numbers에 있는 원소 전체의 평균값을 구하여 소수점 둘째자리까지 출력하세요."
      ],
      "metadata": {
        "id": "sWoCxuADctEW"
      }
    },
    {
      "cell_type": "code",
      "source": [
        "numbers =[13, 12, 23, 54, 115, 56, 17]\n",
        "mean = sum(numbers)/len(numbers)\n",
        "print(mean)\n",
        "round(mean, 2)"
      ],
      "metadata": {
        "id": "eWluWW4bcPMZ",
        "colab": {
          "base_uri": "https://localhost:8080/"
        },
        "outputId": "742ab3fd-6279-4ab5-ad0c-644d9664442f"
      },
      "execution_count": null,
      "outputs": [
        {
          "output_type": "stream",
          "name": "stdout",
          "text": [
            "41.42857142857143\n"
          ]
        },
        {
          "output_type": "execute_result",
          "data": {
            "text/plain": [
              "41.43"
            ]
          },
          "metadata": {},
          "execution_count": 48
        }
      ]
    },
    {
      "cell_type": "code",
      "source": [
        ""
      ],
      "metadata": {
        "id": "qViNTnz2K2ob"
      },
      "execution_count": null,
      "outputs": []
    },
    {
      "cell_type": "markdown",
      "source": [
        "# 20211223"
      ],
      "metadata": {
        "id": "70gVCjId05S0"
      }
    },
    {
      "cell_type": "markdown",
      "source": [
        "1. 아래의 리스트 a에서 리스트 슬라이싱을 활용하여 짝수만 출력해보세요. \n",
        "~~~\n",
        "a = [1, 2, 3, 4, 5, 6, 7, 8, 9, 10]\n",
        "~~~"
      ],
      "metadata": {
        "id": "URFt7TvX1Idf"
      }
    },
    {
      "cell_type": "code",
      "source": [
        "a = [1, 2, 3, 4, 5, 6, 7, 8, 9, 10]\n",
        "a[ 1 : 10 : 2 ]"
      ],
      "metadata": {
        "id": "6zlLpY2m1YOf",
        "colab": {
          "base_uri": "https://localhost:8080/"
        },
        "outputId": "a664c2b8-ba25-4c38-d062-5716cc094290"
      },
      "execution_count": null,
      "outputs": [
        {
          "output_type": "execute_result",
          "data": {
            "text/plain": [
              "[2, 4, 6, 8, 10]"
            ]
          },
          "metadata": {},
          "execution_count": 6
        }
      ]
    },
    {
      "cell_type": "code",
      "source": [
        ""
      ],
      "metadata": {
        "id": "X5DcC10Wcy1F"
      },
      "execution_count": null,
      "outputs": []
    },
    {
      "cell_type": "markdown",
      "source": [
        "2. 리스트 a에서 리스트 슬라이싱을 활용하여 홀수만 출력해보세요"
      ],
      "metadata": {
        "id": "BxiGgGlR1eeB"
      }
    },
    {
      "cell_type": "code",
      "source": [
        "a = [1, 2, 3, 4, 5, 6, 7, 8, 9, 10]\n",
        "a[ 0 : 10 : 2 ]"
      ],
      "metadata": {
        "id": "4fOMfjuM1We1"
      },
      "execution_count": null,
      "outputs": []
    },
    {
      "cell_type": "markdown",
      "source": [
        "3. 슬라이싱을 사용해서 리스트 a의 숫자를 역순으로 출력해보세요."
      ],
      "metadata": {
        "id": "BeAY2oVc1yLh"
      }
    },
    {
      "cell_type": "code",
      "source": [
        "a = [1, 2, 3, 4, 5, 6, 7, 8, 9, 10]\n",
        "a[::-1]"
      ],
      "metadata": {
        "id": "fcNSAS-U1hdE",
        "colab": {
          "base_uri": "https://localhost:8080/"
        },
        "outputId": "44df2b91-5fc0-43c1-bf34-76c5996c4eb4"
      },
      "execution_count": null,
      "outputs": [
        {
          "output_type": "execute_result",
          "data": {
            "text/plain": [
              "[10, 9, 8, 7, 6, 5, 4, 3, 2, 1]"
            ]
          },
          "metadata": {},
          "execution_count": 7
        }
      ]
    },
    {
      "cell_type": "markdown",
      "source": [
        "4. join 메서드를 활용하여 아래의 리스트 str_list를 아래와 같이 출력하세요."
      ],
      "metadata": {
        "id": "g4Rfa4AG2DSU"
      }
    },
    {
      "cell_type": "markdown",
      "source": [
        "Input: \n",
        "\n",
        "~~~\n",
        "str_list = ['We', 'are', 'learning', 'python']\n",
        "~~~"
      ],
      "metadata": {
        "id": "cXuhF7B128wc"
      }
    },
    {
      "cell_type": "markdown",
      "source": [
        "Output:\n",
        "~~~\n",
        "We are learning python\n",
        "~~~"
      ],
      "metadata": {
        "id": "B3nObUO23Ksx"
      }
    },
    {
      "cell_type": "code",
      "source": [
        "str_list = ['We', 'are', 'learning', 'python']\n",
        "join_str = \" \".join(str_list) \n",
        "print(join_str)"
      ],
      "metadata": {
        "id": "3M1dli1F15wk",
        "colab": {
          "base_uri": "https://localhost:8080/"
        },
        "outputId": "4b247144-0298-4060-a01d-682a7298673c"
      },
      "execution_count": null,
      "outputs": [
        {
          "output_type": "stream",
          "name": "stdout",
          "text": [
            "We are learning python\n"
          ]
        }
      ]
    },
    {
      "cell_type": "markdown",
      "source": [
        "5. 리스트 a에 있는 숫자들을 아래와 같이 출력하세요.\n",
        "~~~\n",
        "1 2 3 4 5 6 7 8 9 10\n",
        "~~~"
      ],
      "metadata": {
        "id": "OtpOgJYd6AM3"
      }
    },
    {
      "cell_type": "code",
      "source": [
        "a = [1, 2, 3, 4, 5, 6, 7, 8, 9, 10]\n",
        "print(\" \".join(map(str, a)))"
      ],
      "metadata": {
        "id": "gypb7-Rg2Jhh",
        "colab": {
          "base_uri": "https://localhost:8080/"
        },
        "outputId": "a6c377ca-1860-47e8-89b1-21ea6ec1a712"
      },
      "execution_count": null,
      "outputs": [
        {
          "output_type": "stream",
          "name": "stdout",
          "text": [
            "1 2 3 4 5 6 7 8 9 10\n"
          ]
        }
      ]
    },
    {
      "cell_type": "markdown",
      "source": [
        "6. 아래의 내용을 '/'로 분리하여 fruits라는 리스트에 저장해주세요."
      ],
      "metadata": {
        "id": "E2Ues_JC3iGF"
      }
    },
    {
      "cell_type": "markdown",
      "source": [
        "\"사과/딸기/포도/배/바나나\""
      ],
      "metadata": {
        "id": "LVG6PsxU3xpM"
      }
    },
    {
      "cell_type": "code",
      "source": [
        "fruits = \"사과/딸기/포도/배/바나나\"\n",
        "print(list(fruits.split('/')))"
      ],
      "metadata": {
        "id": "FZL3FwVy2ekN",
        "colab": {
          "base_uri": "https://localhost:8080/"
        },
        "outputId": "2c2f693e-7050-44d6-f316-cff9f7bfb5b2"
      },
      "execution_count": null,
      "outputs": [
        {
          "output_type": "stream",
          "name": "stdout",
          "text": [
            "['사과', '딸기', '포도', '배', '바나나']\n"
          ]
        }
      ]
    },
    {
      "cell_type": "markdown",
      "source": [
        "# 20211224"
      ],
      "metadata": {
        "id": "YhH2yb_XwrgN"
      }
    },
    {
      "cell_type": "markdown",
      "source": [
        "- 아래 내용은 한번씩 따라치며 이해해두시면 좋은 표현입니다!"
      ],
      "metadata": {
        "id": "EgjuPul4xAUH"
      }
    },
    {
      "cell_type": "markdown",
      "source": [
        "- 참고 : 전개연산자 \n",
        "- 함수를 실행하는 위치가 아닌 다른 위치에서도 가능"
      ],
      "metadata": {
        "id": "Z2aEaOQz3_f7"
      }
    },
    {
      "cell_type": "code",
      "source": [
        "# 전개연산자\n",
        "c = [10, 20]\n",
        "d = [1, 2]"
      ],
      "metadata": {
        "id": "4t2xN6HZ3_f7"
      },
      "execution_count": null,
      "outputs": []
    },
    {
      "cell_type": "code",
      "source": [
        "e = [*c, *d]\n",
        "e"
      ],
      "metadata": {
        "colab": {
          "base_uri": "https://localhost:8080/"
        },
        "id": "IXlsF8iIwzVV",
        "outputId": "6b9905e4-afe9-4d75-e6bf-a88b5fce2d69"
      },
      "execution_count": null,
      "outputs": [
        {
          "output_type": "execute_result",
          "data": {
            "text/plain": [
              "[10, 20, 1, 2]"
            ]
          },
          "metadata": {},
          "execution_count": 4
        }
      ]
    },
    {
      "cell_type": "code",
      "source": [
        "print(\"{} {}\".format(c[0], c[1]))"
      ],
      "metadata": {
        "colab": {
          "base_uri": "https://localhost:8080/"
        },
        "id": "FQ0XLp3ow1i2",
        "outputId": "ed16870d-8786-4d63-cbec-da5bb973f412"
      },
      "execution_count": null,
      "outputs": [
        {
          "output_type": "stream",
          "name": "stdout",
          "text": [
            "10 20\n"
          ]
        }
      ]
    },
    {
      "cell_type": "code",
      "source": [
        "print(\"{} {}\".format(*c))\n",
        "print(\"{} {} {} {}\".format(*e))\n",
        "print(\"{} {} {} {}\".format(*c, *d))"
      ],
      "metadata": {
        "colab": {
          "base_uri": "https://localhost:8080/"
        },
        "id": "j-prcQFTw9F2",
        "outputId": "df302be8-a82f-4179-fcd3-4c629870c6b1"
      },
      "execution_count": null,
      "outputs": [
        {
          "output_type": "stream",
          "name": "stdout",
          "text": [
            "10 20\n",
            "10 20 1 2\n",
            "10 20 1 2\n"
          ]
        }
      ]
    },
    {
      "cell_type": "markdown",
      "source": [
        "...."
      ],
      "metadata": {
        "id": "r0dm0CT76nhH"
      }
    },
    {
      "cell_type": "code",
      "source": [
        "a = [10,20]\n",
        "b = [1,2]\n",
        "e = [*a,*b]\n",
        "e"
      ],
      "metadata": {
        "colab": {
          "base_uri": "https://localhost:8080/"
        },
        "id": "_P_8Q1si6EjR",
        "outputId": "764e8161-22ea-4e05-dccc-6a1eaa931d09"
      },
      "execution_count": null,
      "outputs": [
        {
          "output_type": "execute_result",
          "data": {
            "text/plain": [
              "[10, 20, 1, 2]"
            ]
          },
          "metadata": {},
          "execution_count": 46
        }
      ]
    },
    {
      "cell_type": "code",
      "source": [
        "print('{} {}'.format(a[0],a[1]))"
      ],
      "metadata": {
        "colab": {
          "base_uri": "https://localhost:8080/"
        },
        "id": "otF6vPxo6Qrk",
        "outputId": "7b64a0c2-dd17-475b-9f08-fb5740ff9d7e"
      },
      "execution_count": null,
      "outputs": [
        {
          "output_type": "stream",
          "name": "stdout",
          "text": [
            "10 20\n"
          ]
        }
      ]
    },
    {
      "cell_type": "code",
      "source": [
        "print(\"{} {}\".format(*a))\n",
        "print(\"{} {} {} {}\".format(*e))\n",
        "print(\"{} {} {} {}\".format(*a, *b))"
      ],
      "metadata": {
        "colab": {
          "base_uri": "https://localhost:8080/"
        },
        "id": "LxN557V06fMB",
        "outputId": "e9e5f737-1443-42c9-c813-11a723256b81"
      },
      "execution_count": null,
      "outputs": [
        {
          "output_type": "stream",
          "name": "stdout",
          "text": [
            "10 20\n",
            "10 20 1 2\n",
            "10 20 1 2\n"
          ]
        }
      ]
    },
    {
      "cell_type": "markdown",
      "source": [
        "1. 다음과 같이 8개의 값이 저장된 myPlaylist 리스트가 있을 때, 전개식을 사용하여 처음 2개를 제외한 나머지 값을 christmas 변수에 바인딩해주세요."
      ],
      "metadata": {
        "id": "8BaqR7if17d6"
      }
    },
    {
      "cell_type": "markdown",
      "source": [
        "~~~\n",
        "myPlaylist = ['나플라', '이센스', '제이콜', '나스', '찬스더래퍼', '세븐틴', 'EXO', 'NCT']\n",
        "~~~"
      ],
      "metadata": {
        "id": "ez9Xh8hY3Uh5"
      }
    },
    {
      "cell_type": "code",
      "source": [
        "myPlaylist = ['나플라', '이센스', '제이콜', '나스', '찬스더래퍼', '세븐틴', 'EXO', 'NCT']\n",
        "christmas = myPlaylist[2:8]\n",
        "print(christmas)"
      ],
      "metadata": {
        "id": "96Nm8KXSw_qD",
        "colab": {
          "base_uri": "https://localhost:8080/"
        },
        "outputId": "f2a435be-8071-4647-a0bd-7f08d214ec3e"
      },
      "execution_count": null,
      "outputs": [
        {
          "output_type": "stream",
          "name": "stdout",
          "text": [
            "['제이콜', '나스', '찬스더래퍼', '세븐틴', 'EXO', 'NCT']\n"
          ]
        }
      ]
    },
    {
      "cell_type": "markdown",
      "source": [
        "## 확인!\n",
        "- 전개연산자를 활용하여 아래처럼 바인딩할 수도 있습니다"
      ],
      "metadata": {
        "id": "hexDxQE8Kt4f"
      }
    },
    {
      "cell_type": "code",
      "source": [
        "myPlaylist = ['나플라', '이센스', '제이콜', '나스', '찬스더래퍼', '세븐틴', 'EXO', 'NCT']\n",
        "_, _, *christmas = myPlaylist\n",
        "christmas"
      ],
      "metadata": {
        "colab": {
          "base_uri": "https://localhost:8080/"
        },
        "id": "9jQu3ky6KsRh",
        "outputId": "b4045292-c50e-4478-a9cb-3649710551fa"
      },
      "execution_count": null,
      "outputs": [
        {
          "output_type": "execute_result",
          "data": {
            "text/plain": [
              "['제이콜', '나스', '찬스더래퍼', '세븐틴', 'EXO', 'NCT']"
            ]
          },
          "metadata": {},
          "execution_count": 2
        }
      ]
    },
    {
      "cell_type": "markdown",
      "source": [
        "2. 이번에는 myPlaylist에서 맨 처음과 끝 값을 제외한 나머지 값들을 christmas1 변수에 바인딩해주세요."
      ],
      "metadata": {
        "id": "jx6AmHus4PKz"
      }
    },
    {
      "cell_type": "code",
      "source": [
        "myPlaylist = ['나플라', '이센스', '제이콜', '나스', '찬스더래퍼', '세븐틴', 'EXO', 'NCT']\n",
        "christmas1 = myPlaylist[1:7]\n",
        "print(christmas1)"
      ],
      "metadata": {
        "id": "u2KisxJN4faG",
        "colab": {
          "base_uri": "https://localhost:8080/"
        },
        "outputId": "4ded5527-fbcb-4883-91e5-3378e3062366"
      },
      "execution_count": null,
      "outputs": [
        {
          "output_type": "stream",
          "name": "stdout",
          "text": [
            "['이센스', '제이콜', '나스', '찬스더래퍼', '세븐틴', 'EXO']\n"
          ]
        }
      ]
    },
    {
      "cell_type": "markdown",
      "source": [
        "## 확인!"
      ],
      "metadata": {
        "id": "rKy5ZvUdL7lu"
      }
    },
    {
      "cell_type": "code",
      "source": [
        "_, *christmas1, _ = myPlaylist\n",
        "christmas1"
      ],
      "metadata": {
        "colab": {
          "base_uri": "https://localhost:8080/"
        },
        "id": "jHtKPaTQMKve",
        "outputId": "52ae3990-4691-4d09-ebae-0f6ac1bd80c6"
      },
      "execution_count": null,
      "outputs": [
        {
          "output_type": "execute_result",
          "data": {
            "text/plain": [
              "['이센스', '제이콜', '나스', '찬스더래퍼', '세븐틴', 'EXO']"
            ]
          },
          "metadata": {},
          "execution_count": 3
        }
      ]
    },
    {
      "cell_type": "markdown",
      "source": [
        "# 20211225"
      ],
      "metadata": {
        "id": "uOk-ptWChi78"
      }
    },
    {
      "cell_type": "markdown",
      "source": [
        "- 튜플\n",
        "1. tuples라는 이름의 비어있는 튜플을 만들고 타입을 출력해보세요."
      ],
      "metadata": {
        "id": "BTaLFPwJh0Yj"
      }
    },
    {
      "cell_type": "code",
      "source": [
        "tuples = ()\n",
        "type(tuples)\n"
      ],
      "metadata": {
        "id": "MLqn6LK337QD",
        "colab": {
          "base_uri": "https://localhost:8080/"
        },
        "outputId": "79a11ca0-1c1c-4ea3-9e1d-d340029252cc"
      },
      "execution_count": null,
      "outputs": [
        {
          "output_type": "execute_result",
          "data": {
            "text/plain": [
              "tuple"
            ]
          },
          "metadata": {},
          "execution_count": 64
        }
      ]
    },
    {
      "cell_type": "markdown",
      "source": [
        "2. 1이라는 숫자 하나가 들어있는 튜플을 alpha를 만든 후 타입을 함께 출력해주세요."
      ],
      "metadata": {
        "id": "jF7e7vC5maD2"
      }
    },
    {
      "cell_type": "code",
      "source": [
        "alpha = (1,)\n",
        "print(alpha)\n",
        "type(alpha)"
      ],
      "metadata": {
        "id": "2tatEcjLm6XT",
        "colab": {
          "base_uri": "https://localhost:8080/"
        },
        "outputId": "5dc26b40-9b99-43ad-d02f-a6567f2d5529"
      },
      "execution_count": null,
      "outputs": [
        {
          "output_type": "stream",
          "name": "stdout",
          "text": [
            "(1,)\n"
          ]
        },
        {
          "output_type": "execute_result",
          "data": {
            "text/plain": [
              "tuple"
            ]
          },
          "metadata": {},
          "execution_count": 57
        }
      ]
    },
    {
      "cell_type": "markdown",
      "source": [
        "하나의 데이터가 저장되는 경우, 값 뒤에 쉼표를 입력해만 합니다.\n",
        "- 아래는 잘못 만든 튜플의 예제입니다. type이 tuple이 아닌 int로 출력되는 것을 보실 수 있습니다."
      ],
      "metadata": {
        "id": "NJaq1IiombdP"
      }
    },
    {
      "cell_type": "code",
      "source": [
        "alpha = (1)\n",
        "alpha, type(alpha)"
      ],
      "metadata": {
        "colab": {
          "base_uri": "https://localhost:8080/"
        },
        "id": "2lMjGgbgh-y5",
        "outputId": "1fa83923-2ac1-466d-e2fd-66ec1d16c51a"
      },
      "execution_count": null,
      "outputs": [
        {
          "output_type": "execute_result",
          "data": {
            "text/plain": [
              "(1, int)"
            ]
          },
          "metadata": {},
          "execution_count": 5
        }
      ]
    },
    {
      "cell_type": "markdown",
      "source": [
        "3. 아래의 명령어를 실행해보시고 실행 가능하거나 안되는 이유를 적어주세요.\n",
        "\n",
        "~~~\n",
        "tuples = (1, 2, 3)\n",
        "tuples[0] = 'a'\n",
        "~~~\n",
        "\n",
        "참고.\n",
        "튜플은 () 없이도 만들어집니다. 아래 내용도 함께 확인해보시고 타입을 출력해보세요.\n",
        "~~~\n",
        "tuples = 1, 2, 3\n",
        "~~~\n"
      ],
      "metadata": {
        "id": "c31IBwbSyu3O"
      }
    },
    {
      "cell_type": "code",
      "source": [
        "tuples = 1, 2, 3\n",
        "type(tuples)"
      ],
      "metadata": {
        "id": "78uYqMp51lRl",
        "colab": {
          "base_uri": "https://localhost:8080/"
        },
        "outputId": "32355872-43c5-46de-ee9b-25b87cbd0991"
      },
      "execution_count": null,
      "outputs": [
        {
          "output_type": "execute_result",
          "data": {
            "text/plain": [
              "tuple"
            ]
          },
          "metadata": {},
          "execution_count": 82
        }
      ]
    },
    {
      "cell_type": "markdown",
      "source": [
        "- 아래 내용은 확인만 해 주세요!"
      ],
      "metadata": {
        "id": "cG-iMRXevnW3"
      }
    },
    {
      "cell_type": "code",
      "source": [
        "# 튜플은 한번 정해진 원소의 값을 변경할 수 없다.\n",
        "tuples = (1, 2, 3)\n",
        "tuples[0] = 'a'"
      ],
      "metadata": {
        "colab": {
          "base_uri": "https://localhost:8080/",
          "height": 184
        },
        "id": "ZUcGqRdHmeH6",
        "outputId": "808e1ddd-100a-4f9d-e01b-18ee90225d95"
      },
      "execution_count": null,
      "outputs": [
        {
          "output_type": "error",
          "ename": "TypeError",
          "evalue": "ignored",
          "traceback": [
            "\u001b[0;31m---------------------------------------------------------------------------\u001b[0m",
            "\u001b[0;31mTypeError\u001b[0m                                 Traceback (most recent call last)",
            "\u001b[0;32m<ipython-input-8-f59177cc2dec>\u001b[0m in \u001b[0;36m<module>\u001b[0;34m()\u001b[0m\n\u001b[1;32m      1\u001b[0m \u001b[0mtuples\u001b[0m \u001b[0;34m=\u001b[0m \u001b[0;34m(\u001b[0m\u001b[0;36m1\u001b[0m\u001b[0;34m,\u001b[0m \u001b[0;36m2\u001b[0m\u001b[0;34m,\u001b[0m \u001b[0;36m3\u001b[0m\u001b[0;34m)\u001b[0m\u001b[0;34m\u001b[0m\u001b[0;34m\u001b[0m\u001b[0m\n\u001b[0;32m----> 2\u001b[0;31m \u001b[0mtuples\u001b[0m\u001b[0;34m[\u001b[0m\u001b[0;36m0\u001b[0m\u001b[0;34m]\u001b[0m \u001b[0;34m=\u001b[0m \u001b[0;34m'a'\u001b[0m\u001b[0;34m\u001b[0m\u001b[0;34m\u001b[0m\u001b[0m\n\u001b[0m",
            "\u001b[0;31mTypeError\u001b[0m: 'tuple' object does not support item assignment"
          ]
        }
      ]
    },
    {
      "cell_type": "code",
      "source": [
        "# 튜플은 한번 정해진 원소의 값을 변경할 수 없다.\n",
        "tuples[4] = 'a'"
      ],
      "metadata": {
        "colab": {
          "base_uri": "https://localhost:8080/",
          "height": 184
        },
        "id": "L5O-a_zby89z",
        "outputId": "164daa51-0ea8-4ff6-ad35-a71bcf4cf217"
      },
      "execution_count": null,
      "outputs": [
        {
          "output_type": "error",
          "ename": "TypeError",
          "evalue": "ignored",
          "traceback": [
            "\u001b[0;31m---------------------------------------------------------------------------\u001b[0m",
            "\u001b[0;31mTypeError\u001b[0m                                 Traceback (most recent call last)",
            "\u001b[0;32m<ipython-input-9-9131c2b015d4>\u001b[0m in \u001b[0;36m<module>\u001b[0;34m()\u001b[0m\n\u001b[1;32m      1\u001b[0m \u001b[0;31m# 튜플은 한번 정해진 원소의 값을 변경할 수 없다.\u001b[0m\u001b[0;34m\u001b[0m\u001b[0;34m\u001b[0m\u001b[0;34m\u001b[0m\u001b[0m\n\u001b[0;32m----> 2\u001b[0;31m \u001b[0mtuples\u001b[0m\u001b[0;34m[\u001b[0m\u001b[0;36m4\u001b[0m\u001b[0;34m]\u001b[0m \u001b[0;34m=\u001b[0m \u001b[0;34m'a'\u001b[0m\u001b[0;34m\u001b[0m\u001b[0;34m\u001b[0m\u001b[0m\n\u001b[0m",
            "\u001b[0;31mTypeError\u001b[0m: 'tuple' object does not support item assignment"
          ]
        }
      ]
    },
    {
      "cell_type": "markdown",
      "source": [
        "3. 위와 같은 에러에도 불구하고 tuples의 0번째 자리에 'a'를 넣어야 한다면 어떻게 해결해야 할까요? "
      ],
      "metadata": {
        "id": "YBM9BFVIznFA"
      }
    },
    {
      "cell_type": "code",
      "source": [
        "tuples[0] = 'a'"
      ],
      "metadata": {
        "id": "DWzR0bADzC5y",
        "colab": {
          "base_uri": "https://localhost:8080/",
          "height": 172
        },
        "outputId": "3c814a6c-aab2-476e-c2ad-1125cf5bf770"
      },
      "execution_count": null,
      "outputs": [
        {
          "output_type": "error",
          "ename": "TypeError",
          "evalue": "ignored",
          "traceback": [
            "\u001b[0;31m---------------------------------------------------------------------------\u001b[0m",
            "\u001b[0;31mTypeError\u001b[0m                                 Traceback (most recent call last)",
            "\u001b[0;32m<ipython-input-39-e9704d58f01d>\u001b[0m in \u001b[0;36m<module>\u001b[0;34m()\u001b[0m\n\u001b[0;32m----> 1\u001b[0;31m \u001b[0mtuples\u001b[0m\u001b[0;34m[\u001b[0m\u001b[0;36m0\u001b[0m\u001b[0;34m]\u001b[0m \u001b[0;34m+=\u001b[0m \u001b[0;34m'a'\u001b[0m\u001b[0;34m\u001b[0m\u001b[0;34m\u001b[0m\u001b[0m\n\u001b[0m",
            "\u001b[0;31mTypeError\u001b[0m: unsupported operand type(s) for +=: 'int' and 'str'"
          ]
        }
      ]
    },
    {
      "cell_type": "markdown",
      "source": [
        "4. tuples의 타입을 리스트로 변경하여 tuples의 전체 원소와 타입을 출력해주세요. "
      ],
      "metadata": {
        "id": "MVghP0bL09q3"
      }
    },
    {
      "cell_type": "code",
      "source": [
        "list(tuples)\n",
        "print(tuples)\n",
        "type(tuples)"
      ],
      "metadata": {
        "id": "cZOHDv1lzzsu",
        "colab": {
          "base_uri": "https://localhost:8080/"
        },
        "outputId": "c67e902c-edff-4413-fe85-d38e047ac4c4"
      },
      "execution_count": null,
      "outputs": [
        {
          "output_type": "stream",
          "name": "stdout",
          "text": [
            "(1, 2, 3)\n"
          ]
        },
        {
          "output_type": "execute_result",
          "data": {
            "text/plain": [
              "tuple"
            ]
          },
          "metadata": {},
          "execution_count": 54
        }
      ]
    },
    {
      "cell_type": "markdown",
      "source": [
        "5. tuples에 있는 각각의 원소를 a, b, c라는 변수명에 각각 바인딩하시고 a, b, c의 타입을 확인해주세요. (언팩킹)"
      ],
      "metadata": {
        "id": "Co7_yWjM22r7"
      }
    },
    {
      "cell_type": "markdown",
      "source": [
        "~~~\n",
        "tuples = ('a', 2, 3)\n",
        "~~~"
      ],
      "metadata": {
        "id": "J2LArysA3Lrz"
      }
    },
    {
      "cell_type": "code",
      "source": [
        "tuples = ('a', 2, 3)\n",
        "a = tuples[:1]\n",
        "print(a)\n",
        "type(a)"
      ],
      "metadata": {
        "id": "eFk9o5Fq3O9S",
        "colab": {
          "base_uri": "https://localhost:8080/"
        },
        "outputId": "a5b2016a-c0f0-4f44-fd14-8c2439fc16d3"
      },
      "execution_count": null,
      "outputs": [
        {
          "output_type": "stream",
          "name": "stdout",
          "text": [
            "('a',)\n"
          ]
        },
        {
          "output_type": "execute_result",
          "data": {
            "text/plain": [
              "tuple"
            ]
          },
          "metadata": {},
          "execution_count": 60
        }
      ]
    },
    {
      "cell_type": "code",
      "source": [
        "b = tuples[1:2]\n",
        "print(b)\n",
        "type(b)"
      ],
      "metadata": {
        "id": "LFe1kzwi1MTi",
        "colab": {
          "base_uri": "https://localhost:8080/"
        },
        "outputId": "564bdba2-12f0-4cbe-f719-d98decf7fd98"
      },
      "execution_count": null,
      "outputs": [
        {
          "output_type": "stream",
          "name": "stdout",
          "text": [
            "(2,)\n"
          ]
        },
        {
          "output_type": "execute_result",
          "data": {
            "text/plain": [
              "tuple"
            ]
          },
          "metadata": {},
          "execution_count": 63
        }
      ]
    },
    {
      "cell_type": "code",
      "source": [
        "c = tuples[2:3]\n",
        "print(c)\n",
        "type(c)"
      ],
      "metadata": {
        "id": "RiP9ogTC3FSN",
        "colab": {
          "base_uri": "https://localhost:8080/"
        },
        "outputId": "194d57e4-36dd-40db-f77a-789f5b5ef6d2"
      },
      "execution_count": null,
      "outputs": [
        {
          "output_type": "stream",
          "name": "stdout",
          "text": [
            "(3,)\n"
          ]
        },
        {
          "output_type": "execute_result",
          "data": {
            "text/plain": [
              "tuple"
            ]
          },
          "metadata": {},
          "execution_count": 64
        }
      ]
    },
    {
      "cell_type": "markdown",
      "source": [
        "6. range메소드를 활용하여 101부터 201까지의 정수 중 짝수만 저장된 튜플 evens를 생성해주세요.\n"
      ],
      "metadata": {
        "id": "hdQU_HMK3vXg"
      }
    },
    {
      "cell_type": "code",
      "source": [
        "e = tuple(range(101,201))\n",
        "evens = e[1::2]\n",
        "print(evens)"
      ],
      "metadata": {
        "id": "1FHJ6C6I3XvY",
        "colab": {
          "base_uri": "https://localhost:8080/"
        },
        "outputId": "ad7912e4-4cb6-4d47-b52a-d0c0dabe0ef8"
      },
      "execution_count": null,
      "outputs": [
        {
          "output_type": "stream",
          "name": "stdout",
          "text": [
            "(102, 104, 106, 108, 110, 112, 114, 116, 118, 120, 122, 124, 126, 128, 130, 132, 134, 136, 138, 140, 142, 144, 146, 148, 150, 152, 154, 156, 158, 160, 162, 164, 166, 168, 170, 172, 174, 176, 178, 180, 182, 184, 186, 188, 190, 192, 194, 196, 198, 200)\n"
          ]
        }
      ]
    },
    {
      "cell_type": "markdown",
      "source": [
        "# 20211226"
      ],
      "metadata": {
        "id": "qxrI3_VY4b8_"
      }
    },
    {
      "cell_type": "markdown",
      "metadata": {
        "id": "d757e092"
      },
      "source": [
        "딕셔너리 Dictionary\n",
        "\n",
        "- 키 Key와 값 Value를 한 쌍으로 갖는 자료형\n",
        "- 키를 통해 값을 반환 받을 수 있음"
      ]
    },
    {
      "cell_type": "markdown",
      "source": [
        "1. scores라는 이름의 빈 딕셔너리를 만들고 출력 후 타입을 확인주세요."
      ],
      "metadata": {
        "id": "gKKYgampuoTO"
      }
    },
    {
      "cell_type": "code",
      "source": [
        "scores = {}\n",
        "type(scores)"
      ],
      "metadata": {
        "id": "w2bG7YWj3b-C",
        "colab": {
          "base_uri": "https://localhost:8080/"
        },
        "outputId": "4a272666-983b-4dc6-fde9-b836442e7819"
      },
      "execution_count": null,
      "outputs": [
        {
          "output_type": "execute_result",
          "data": {
            "text/plain": [
              "dict"
            ]
          },
          "metadata": {},
          "execution_count": 84
        }
      ]
    },
    {
      "cell_type": "markdown",
      "source": [
        "2. scores 딕셔너리 안에 아래와 같이 과목과 점수가 대응되도록 값을 넣고 출력해주세요.\n",
        "``` \n",
        "영어 | 95\n",
        "수학 | 100\n",
        "국어 | 90\n",
        "과학 | 97\n",
        "사회 | 99\n",
        "```   \n"
      ],
      "metadata": {
        "id": "_oeX70t65xXe"
      }
    },
    {
      "cell_type": "code",
      "source": [
        "scores = {'영어' : 95,\n",
        "'수학' : 100,\n",
        "'국어' : 90,\n",
        "'과학' : 97,\n",
        "'사회' : 99}"
      ],
      "metadata": {
        "id": "qeA8ExEN5vpd"
      },
      "execution_count": null,
      "outputs": []
    },
    {
      "cell_type": "code",
      "source": [
        "scores"
      ],
      "metadata": {
        "colab": {
          "base_uri": "https://localhost:8080/"
        },
        "id": "6wen2WU2CTKI",
        "outputId": "51e898ac-95ca-4c4f-be22-12b6e632b942"
      },
      "execution_count": null,
      "outputs": [
        {
          "output_type": "execute_result",
          "data": {
            "text/plain": [
              "{'과학': 97, '국어': 90, '사회': 99, '수학': 100, '영어': 95}"
            ]
          },
          "metadata": {},
          "execution_count": 2
        }
      ]
    },
    {
      "cell_type": "markdown",
      "source": [
        "3. scores 변수 안에 들어있는 과학 점수와 사회 점수만 따로 확인해보세요."
      ],
      "metadata": {
        "id": "ueZwpAS-66FF"
      }
    },
    {
      "cell_type": "code",
      "source": [
        "print(scores.get('사회'))"
      ],
      "metadata": {
        "id": "mL-M0BlT6uok",
        "colab": {
          "base_uri": "https://localhost:8080/"
        },
        "outputId": "37ec2c92-054e-4153-8284-3521eb76bafa"
      },
      "execution_count": null,
      "outputs": [
        {
          "output_type": "stream",
          "name": "stdout",
          "text": [
            "99\n"
          ]
        }
      ]
    },
    {
      "cell_type": "code",
      "source": [
        "print(scores.get('과학'))"
      ],
      "metadata": {
        "id": "cMLuS5GY7ENB"
      },
      "execution_count": null,
      "outputs": []
    },
    {
      "cell_type": "markdown",
      "source": [
        "4. scores 변수 안에서 과학 점수를 삭제 후 scores 변수를 출력해주세요."
      ],
      "metadata": {
        "id": "yDHUlV737NU9"
      }
    },
    {
      "cell_type": "code",
      "source": [
        "del scores['과학']"
      ],
      "metadata": {
        "id": "bH0c3i8s7HC7"
      },
      "execution_count": null,
      "outputs": []
    },
    {
      "cell_type": "code",
      "source": [
        "scores"
      ],
      "metadata": {
        "id": "nLSAwJkL7Wzt",
        "colab": {
          "base_uri": "https://localhost:8080/"
        },
        "outputId": "ff9bd917-6079-4224-b7f0-7795d80602eb"
      },
      "execution_count": null,
      "outputs": [
        {
          "output_type": "execute_result",
          "data": {
            "text/plain": [
              "{'국어': 90, '사회': 99, '수학': 100, '영어': 95}"
            ]
          },
          "metadata": {},
          "execution_count": 11
        }
      ]
    },
    {
      "cell_type": "markdown",
      "source": [
        "5. scores 변수 안에 물리 점수 90점을 추가 후 확인해주세요."
      ],
      "metadata": {
        "id": "gfj8y2rC-gSd"
      }
    },
    {
      "cell_type": "code",
      "source": [
        "scores = {'영어' : 95,\n",
        "'수학' : 100,\n",
        "'국어' : 90,\n",
        "'과학' : 97,\n",
        "'사회' : 99}\n",
        "scores.update({'물리':90})\n",
        "print(scores)"
      ],
      "metadata": {
        "id": "vkV10-307hdu",
        "colab": {
          "base_uri": "https://localhost:8080/"
        },
        "outputId": "79cc1705-bfba-46f9-ad77-073f323e6495"
      },
      "execution_count": null,
      "outputs": [
        {
          "output_type": "stream",
          "name": "stdout",
          "text": [
            "{'영어': 95, '수학': 100, '국어': 90, '과학': 97, '사회': 99, '물리': 90}\n"
          ]
        }
      ]
    },
    {
      "cell_type": "markdown",
      "source": [
        "6. scores 변수의 국어 과목 점수를 98점으로 변경해주세요."
      ],
      "metadata": {
        "id": "yxb35ram-vyx"
      }
    },
    {
      "cell_type": "code",
      "source": [
        "\n",
        "scores.update({'국어' :98})\n",
        "print(scores)"
      ],
      "metadata": {
        "id": "-KIJZjcB-2Ex",
        "colab": {
          "base_uri": "https://localhost:8080/"
        },
        "outputId": "4bedc22f-fc62-4a5d-d9e4-5674acb12409"
      },
      "execution_count": null,
      "outputs": [
        {
          "output_type": "stream",
          "name": "stdout",
          "text": [
            "{'영어': 95, '수학': 100, '국어': 98, '과학': 97, '사회': 99, '물리': 90}\n"
          ]
        }
      ]
    },
    {
      "cell_type": "markdown",
      "source": [
        "# 20211227"
      ],
      "metadata": {
        "id": "B-9DRF73Bnk5"
      }
    },
    {
      "cell_type": "markdown",
      "source": [
        "1. 아래의 표에서, 이름을 키값으로, (수학, 영어) 점수 리스트를 딕셔너리의 값으로 저장해주세요. 딕셔너리의 이름은 scores로 합니다.\n",
        "```\n",
        "이름\t수학\t영어\n",
        "김연지\t90\t100\n",
        "홍성희\t95\t97\n",
        "유정호\t98\t93\n",
        "```\n"
      ],
      "metadata": {
        "id": "hIUO6EQHBsl7"
      }
    },
    {
      "cell_type": "code",
      "source": [
        "\n",
        "scores = {'김연지': {\n",
        "    '수학': 90, \n",
        "    '영어' : 100},\n",
        "          '홍성희': {\n",
        "    '수학': 95, \n",
        "    '영어' : 97},\n",
        "          '유정호': {\n",
        "    '수학': 98, \n",
        "    '영어' : 93}\n",
        "    }\n",
        "print(scores)"
      ],
      "metadata": {
        "id": "O3v4H73tCyY6",
        "colab": {
          "base_uri": "https://localhost:8080/"
        },
        "outputId": "d1e3be34-2648-4688-c2c4-4575626310a4"
      },
      "execution_count": null,
      "outputs": [
        {
          "output_type": "stream",
          "name": "stdout",
          "text": [
            "{'김연지': {'수학': 90, '영어': 100}, '홍성희': {'수학': 95, '영어': 97}, '유정호': {'수학': 98, '영어': 93}}\n"
          ]
        }
      ]
    },
    {
      "cell_type": "markdown",
      "source": [
        "2. 아래 내용을 참조하셔서 scores 딕셔너리의 키값(이름)만, values값(수학, 영어점수들)만, 키:값 쌍을 각각 출력해보세요. "
      ],
      "metadata": {
        "id": "JCgYws5RDwlW"
      }
    },
    {
      "cell_type": "markdown",
      "metadata": {
        "id": "b5711c8d"
      },
      "source": [
        "- 키 Key 혹은 값 Value 모두 반환하기\n",
        "    - keys() : 딕셔녀리의 키만 dict_keys 객체로 반환\n",
        "    - values() : 딕셔녀리의 값만 dict_values 객체로 반환\n",
        "    - items() : 딕셔너리의 키, 값 쌍으로 dict_items 객체로 반환"
      ]
    },
    {
      "cell_type": "code",
      "source": [
        "print (scores['김연지'])"
      ],
      "metadata": {
        "id": "CsP4PogbD-ZL",
        "colab": {
          "base_uri": "https://localhost:8080/"
        },
        "outputId": "43ff71b6-264f-440a-c73d-fd758daa9a8b"
      },
      "execution_count": null,
      "outputs": [
        {
          "output_type": "stream",
          "name": "stdout",
          "text": [
            "{'수학': 90, '영어': 100}\n"
          ]
        }
      ]
    },
    {
      "cell_type": "code",
      "source": [
        "print (scores['홍성희'])"
      ],
      "metadata": {
        "id": "vNjwdahLEBa9",
        "colab": {
          "base_uri": "https://localhost:8080/"
        },
        "outputId": "58c4fff1-7b83-4c1d-dea8-92350dd2d024"
      },
      "execution_count": null,
      "outputs": [
        {
          "output_type": "stream",
          "name": "stdout",
          "text": [
            "{'수학': 95, '영어': 97}\n"
          ]
        }
      ]
    },
    {
      "cell_type": "code",
      "source": [
        "print(scores['유정호'])"
      ],
      "metadata": {
        "id": "Xz3dGVfDEDmG",
        "colab": {
          "base_uri": "https://localhost:8080/"
        },
        "outputId": "b59cdef8-ce2f-4ee7-818e-a31fad264f22"
      },
      "execution_count": null,
      "outputs": [
        {
          "output_type": "stream",
          "name": "stdout",
          "text": [
            "{'수학': 98, '영어': 93}\n"
          ]
        }
      ]
    },
    {
      "cell_type": "markdown",
      "source": [
        "3. 김연지의 수학점수, 홍성희의 영어점수를 찾아서 출력해주세요."
      ],
      "metadata": {
        "id": "BPoM9DNsDicX"
      }
    },
    {
      "cell_type": "code",
      "source": [
        "print (scores['김연지']['수학'])"
      ],
      "metadata": {
        "id": "sKEictdMDHvM",
        "colab": {
          "base_uri": "https://localhost:8080/"
        },
        "outputId": "87f5d3aa-7e8d-4a2e-b5ab-0c8a6169b7d7"
      },
      "execution_count": null,
      "outputs": [
        {
          "output_type": "stream",
          "name": "stdout",
          "text": [
            "90\n"
          ]
        }
      ]
    },
    {
      "cell_type": "code",
      "source": [
        "print (scores['홍성희']['영어'])"
      ],
      "metadata": {
        "id": "bcxxehRhDsbM",
        "colab": {
          "base_uri": "https://localhost:8080/"
        },
        "outputId": "fa4f8227-fdf1-4c0b-d11b-80cf4cca000a"
      },
      "execution_count": null,
      "outputs": [
        {
          "output_type": "stream",
          "name": "stdout",
          "text": [
            "97\n"
          ]
        }
      ]
    },
    {
      "cell_type": "markdown",
      "source": [
        "4. scores 딕셔너리를 활용하여 학생이름만으로 구성된 students 리스트를 생성해주세요."
      ],
      "metadata": {
        "id": "iPqSP2S-H6ii"
      }
    },
    {
      "cell_type": "code",
      "source": [
        "students = scores.keys()\n",
        "print(students)"
      ],
      "metadata": {
        "id": "UjjAUjCKDubc",
        "colab": {
          "base_uri": "https://localhost:8080/"
        },
        "outputId": "0d76eec8-f3c2-4159-d293-96c649565c81"
      },
      "execution_count": null,
      "outputs": [
        {
          "output_type": "stream",
          "name": "stdout",
          "text": [
            "dict_keys(['김연지', '홍성희', '유정호'])\n"
          ]
        }
      ]
    },
    {
      "cell_type": "markdown",
      "source": [
        "5. scores 딕셔너리에 다음 학생들의 정보가 담겨있는 newScore 딕셔너리를 추가해주세요.\n",
        "- 힌트: update 메소드 활용\n"
      ],
      "metadata": {
        "id": "usoy1llsIMza"
      }
    },
    {
      "cell_type": "code",
      "source": [
        "newScores = {'홍길동': {\n",
        "    '수학': 90, \n",
        "    '영어' : 90},\n",
        "          '나플라': {\n",
        "    '수학': 99, \n",
        "    '영어' : 100}}\n",
        "scores.update(newScores)\n",
        "scores"
      ],
      "metadata": {
        "id": "6OalK0ASILCe",
        "colab": {
          "base_uri": "https://localhost:8080/"
        },
        "outputId": "c63da639-5ea7-4de9-dc2c-9c59a2951195"
      },
      "execution_count": null,
      "outputs": [
        {
          "output_type": "execute_result",
          "data": {
            "text/plain": [
              "{'김연지': {'수학': 90, '영어': 100},\n",
              " '나플라': {'수학': 99, '영어': 100},\n",
              " '유정호': {'수학': 98, '영어': 93},\n",
              " '홍길동': {'수학': 90, '영어': 90},\n",
              " '홍성희': {'수학': 95, '영어': 97}}"
            ]
          },
          "metadata": {},
          "execution_count": 15
        }
      ]
    },
    {
      "cell_type": "markdown",
      "source": [
        "## 확인! \n",
        "- 아 제가 학생정보를 안 넣었군요! ㅠㅠ 죄송해요!"
      ],
      "metadata": {
        "id": "tTAe--jyMv3c"
      }
    },
    {
      "cell_type": "markdown",
      "source": [
        "# 20211228"
      ],
      "metadata": {
        "id": "sySfi32pgYSa"
      }
    },
    {
      "cell_type": "markdown",
      "metadata": {
        "id": "R4egrF43_Z0s"
      },
      "source": [
        "## Enumerate & Zip\n",
        "- Enumerate : enumerate(리스트변수명)\n",
        "  - List의 element를 추출할 때 번호를 붙여서 추출\n"
      ]
    },
    {
      "cell_type": "code",
      "metadata": {
        "colab": {
          "base_uri": "https://localhost:8080/"
        },
        "outputId": "09e24bc8-641a-4b1b-81e6-6b88aa7d9960",
        "id": "0C1VQCM-kW0g"
      },
      "source": [
        "# Enumerate\n",
        "result = enumerate(['사과', '바나나', '딸기'])\n",
        "result"
      ],
      "execution_count": null,
      "outputs": [
        {
          "output_type": "execute_result",
          "data": {
            "text/plain": [
              "<enumerate at 0x7f9b8b8ac140>"
            ]
          },
          "metadata": {},
          "execution_count": 47
        }
      ]
    },
    {
      "cell_type": "markdown",
      "source": [
        "- enumerate 메소드를 사용시에는 Enumerate 객체로 저장되기 때문에 list 등 다른 메소드로 감싸주셔야 합니다."
      ],
      "metadata": {
        "id": "gYSHrSL0r0qG"
      }
    },
    {
      "cell_type": "code",
      "metadata": {
        "colab": {
          "base_uri": "https://localhost:8080/"
        },
        "outputId": "913ceab1-fdab-447d-934b-be04fa9db82d",
        "id": "VCUa9niZkW0i"
      },
      "source": [
        "list(result)"
      ],
      "execution_count": null,
      "outputs": [
        {
          "output_type": "execute_result",
          "data": {
            "text/plain": [
              "[(0, '사과'), (1, '바나나'), (2, '딸기')]"
            ]
          },
          "metadata": {},
          "execution_count": 48
        }
      ]
    },
    {
      "cell_type": "code",
      "source": [
        "# Enumerate\n",
        "for i, v in enumerate(['사과', '바나나', '딸기']):\n",
        "# list의 있는 index와 값을 unpacking\n",
        "  print (i, v)"
      ],
      "metadata": {
        "colab": {
          "base_uri": "https://localhost:8080/"
        },
        "id": "wX_myVACsCQh",
        "outputId": "ecd3e29b-03f6-4f28-9db7-9fb0289e81b9"
      },
      "execution_count": null,
      "outputs": [
        {
          "output_type": "stream",
          "name": "stdout",
          "text": [
            "0 사과\n",
            "1 바나나\n",
            "2 딸기\n"
          ]
        }
      ]
    },
    {
      "cell_type": "markdown",
      "source": [
        "- Zip : zip(list, list)\n",
        "  - 두 개의 list의 값을 병렬적으로 추출함"
      ],
      "metadata": {
        "id": "Ilf2nD-7kMGz"
      }
    },
    {
      "cell_type": "markdown",
      "source": [
        "1. 아래 두 개의 리스트를 dict와 zip 메소드를 이용하여 하나의 딕셔너리로 변환해주세요. alist를 키로, blist를 값으로 하는 result 이름의 딕셔너리로 저장 후 출력해보세요.\n",
        "```\n",
        "alist = ['사과', '바나나', '딸기']\n",
        "blist = ['Apple', 'Banana', 'Strawberry']\n",
        "```"
      ],
      "metadata": {
        "id": "FDLJACP6sYIS"
      }
    },
    {
      "cell_type": "code",
      "source": [
        "result = enumerate(['사과', '바나나', '딸기'])\n",
        "result"
      ],
      "metadata": {
        "id": "RZBMI9Uxsw-w",
        "colab": {
          "base_uri": "https://localhost:8080/"
        },
        "outputId": "1d8dee2f-6569-4a23-f35a-a0fb226be412"
      },
      "execution_count": null,
      "outputs": [
        {
          "output_type": "execute_result",
          "data": {
            "text/plain": [
              "<enumerate at 0x7f3be53b5d20>"
            ]
          },
          "metadata": {},
          "execution_count": 2
        }
      ]
    },
    {
      "cell_type": "code",
      "source": [
        "alist = ['사과', '바나나', '딸기']\n",
        "blist = ['Apple', 'Banana', 'Strawberry']\n",
        "z = zip(alist, blist)\n",
        "print(list(z))"
      ],
      "metadata": {
        "id": "1bgNnd2asXB6",
        "colab": {
          "base_uri": "https://localhost:8080/"
        },
        "outputId": "db2654ed-faad-4911-83ab-22e12abe8274"
      },
      "execution_count": null,
      "outputs": [
        {
          "output_type": "stream",
          "name": "stdout",
          "text": [
            "[('사과', 'Apple'), ('바나나', 'Banana'), ('딸기', 'Strawberry')]\n"
          ]
        }
      ]
    },
    {
      "cell_type": "markdown",
      "metadata": {
        "id": "D2Iqd_JA6A-x"
      },
      "source": [
        "2. for문, zip, sum()을 함께 활용하여 아래 변수들을 활용해 [111, 222, 333]이라는 결과값을 출력하세요."
      ]
    },
    {
      "cell_type": "markdown",
      "source": [
        "```\n",
        "(1, 2, 3), (10, 20, 30), (100, 200, 300)\n",
        "```"
      ],
      "metadata": {
        "id": "gkl4jPx5tnZ9"
      }
    },
    {
      "cell_type": "code",
      "source": [
        "a= (1, 2, 3)\n",
        "b= (10, 20, 30)\n",
        "c= (100, 200, 300)\n",
        "list1 = []\n",
        "for a,b,c in zip(a,b,c):\n",
        "  list1.append(a + b + c)\n",
        "list1\n",
        "\n"
      ],
      "metadata": {
        "id": "FMt6v5vguR-w",
        "colab": {
          "base_uri": "https://localhost:8080/"
        },
        "outputId": "294ac76e-2214-4052-9203-724615d552a2"
      },
      "execution_count": null,
      "outputs": [
        {
          "output_type": "execute_result",
          "data": {
            "text/plain": [
              "[111, 222, 333]"
            ]
          },
          "metadata": {},
          "execution_count": 2
        }
      ]
    },
    {
      "cell_type": "markdown",
      "source": [
        "## 확인!"
      ],
      "metadata": {
        "id": "8pdxS4e5qTPv"
      }
    },
    {
      "cell_type": "code",
      "metadata": {
        "colab": {
          "base_uri": "https://localhost:8080/"
        },
        "id": "C2vfVQP7_rvF",
        "outputId": "b677d2c1-4fc9-40a8-c10c-f2d4ef598031"
      },
      "source": [
        "\n",
        "(1, 2, 3), (10, 20, 30), (100, 200, 300)\n",
        "list1 = []\n",
        "for x in zip((1, 2, 3), (10, 20, 30), (100, 200, 300)):\n",
        "  list1.append(sum(x))\n",
        "\n",
        "list1"
      ],
      "execution_count": null,
      "outputs": [
        {
          "output_type": "execute_result",
          "data": {
            "text/plain": [
              "[111, 222, 333]"
            ]
          },
          "metadata": {},
          "execution_count": 59
        }
      ]
    },
    {
      "cell_type": "code",
      "source": [
        "# List Comprehension + Zip\n",
        "print([sum(x) for x in zip((1, 2, 3), (10, 20, 30), (100, 200, 300))])"
      ],
      "metadata": {
        "colab": {
          "base_uri": "https://localhost:8080/"
        },
        "outputId": "65d4816e-cdaa-40f0-9e34-013e0e12e59c",
        "id": "5-Bt8vyaqLC_"
      },
      "execution_count": null,
      "outputs": [
        {
          "output_type": "stream",
          "name": "stdout",
          "text": [
            "[111, 222, 333]\n"
          ]
        }
      ]
    },
    {
      "cell_type": "markdown",
      "source": [
        "- 분기문\n",
        "\n",
        "1. 아래 출력결과를 예상해보시고 실제로 출력해보세요.\n",
        "```\n",
        "print(3 == 5)\n",
        "print(3 == '3')\n",
        "```"
      ],
      "metadata": {
        "id": "6TXJ0A5zwfO3"
      }
    },
    {
      "cell_type": "code",
      "source": [
        "print(3 == 5) #false\n",
        "print(3 == '3') #false"
      ],
      "metadata": {
        "id": "xZCCzBwIuOvG",
        "colab": {
          "base_uri": "https://localhost:8080/"
        },
        "outputId": "11a47f7d-6000-41ea-e904-3dd82bc3b554"
      },
      "execution_count": null,
      "outputs": [
        {
          "output_type": "stream",
          "name": "stdout",
          "text": [
            "False\n",
            "False\n"
          ]
        }
      ]
    },
    {
      "cell_type": "markdown",
      "source": [
        "2. 아래 출력결과를 예상해보시고 실제로 출력해보세요.\n",
        "```\n",
        "x = 4\n",
        "print(2 < x < 7)\n",
        "```"
      ],
      "metadata": {
        "id": "5UjSifeZ17Km"
      }
    },
    {
      "cell_type": "code",
      "source": [
        "x = 4\n",
        "print(2 < x < 7)"
      ],
      "metadata": {
        "id": "H17NkQqtz_ul",
        "colab": {
          "base_uri": "https://localhost:8080/"
        },
        "outputId": "faf04d88-eef5-4389-f544-d0571f368d83"
      },
      "execution_count": null,
      "outputs": [
        {
          "output_type": "stream",
          "name": "stdout",
          "text": [
            "True\n"
          ]
        }
      ]
    },
    {
      "cell_type": "markdown",
      "source": [
        "3. 아래 출력결과를 예상해보시고 실제로 출력해보세요. 주석으로 왜 이런 결과가 나오는지도 설명을 달아주세요.\n",
        "~~~\n",
        "if 9 < 5:\n",
        "    print(\"Hello World.\")\n",
        "else:\n",
        "    print(\"Good bye World.\")\n",
        "~~~"
      ],
      "metadata": {
        "id": "RMfPVKciMaDV"
      }
    },
    {
      "cell_type": "code",
      "source": [
        "if 9 < 5: #만약 9보다 5가 큰것이 참이면 \"Hello World.\"출력\n",
        " print(\"Hello World.\")\n",
        "else:#만약 9보다 5가 큰것이 거짓이면 \"Good bye World.\" 출력\n",
        " print(\"Good bye World.\")"
      ],
      "metadata": {
        "id": "jtQPgLL7Mmu7",
        "colab": {
          "base_uri": "https://localhost:8080/"
        },
        "outputId": "d8a7cd32-4f34-4138-f4ab-13fea294f946"
      },
      "execution_count": null,
      "outputs": [
        {
          "output_type": "stream",
          "name": "stdout",
          "text": [
            "Good bye World.\n"
          ]
        }
      ]
    },
    {
      "cell_type": "markdown",
      "source": [
        "4. 아래 출력결과를 예상해보시고 실제로 출력해보세요. 주석으로 왜 이런 결과가 나오는지도 설명을 달아주세요."
      ],
      "metadata": {
        "id": "lk4M39eLOEH8"
      }
    },
    {
      "cell_type": "code",
      "source": [
        "if True :#조건 : ture\n",
        "    print (\"1\") #1,과 2는 조건이 참이라서 나온 값입니다\n",
        "    print (\"2\")\n",
        "else :\n",
        "    print(\"3\")#조건이 거짓일때만 실행되기 때문에 3이 실행 안됩니다\n",
        "print(\"4\")#들여쓰기 안되어있어서 그냥 출력됩니다"
      ],
      "metadata": {
        "colab": {
          "base_uri": "https://localhost:8080/"
        },
        "id": "8HoaW3uHN_Gj",
        "outputId": "6eec1304-610b-4f13-e184-4642bc575c31"
      },
      "execution_count": null,
      "outputs": [
        {
          "output_type": "stream",
          "name": "stdout",
          "text": [
            "1\n",
            "2\n",
            "4\n"
          ]
        }
      ]
    },
    {
      "cell_type": "markdown",
      "source": [
        "5. input() 메소드를 사용하여 사용자로부터 하나의 숫자를 입력받고, 입력 받은 숫자에 100을 더해 출력하여 주세요."
      ],
      "metadata": {
        "id": "qblujGmu6fQY"
      }
    },
    {
      "cell_type": "code",
      "source": [
        "n = input()\n",
        "print(int(n) + 100)"
      ],
      "metadata": {
        "id": "0XrOuuiA51W4",
        "colab": {
          "base_uri": "https://localhost:8080/"
        },
        "outputId": "a49a9eb6-f211-4f81-b1cb-5d6a91e5b60d"
      },
      "execution_count": null,
      "outputs": [
        {
          "output_type": "stream",
          "name": "stdout",
          "text": [
            "12\n",
            "112\n"
          ]
        }
      ]
    },
    {
      "cell_type": "markdown",
      "source": [
        "6. input() 메소드를 사용하여 숫자를 입력받은 후 그 숫자가 10 이상인 경우에는 'OK'가, 10 미만인 경우에는 'TRY AGAIN'이 출력되도록 프로그래밍해주세요."
      ],
      "metadata": {
        "id": "aK2iVcZt5KaK"
      }
    },
    {
      "cell_type": "code",
      "source": [
        "n= int(input())\n",
        "if n >= 10:\n",
        "  print('OK')\n",
        "if n <= 10:\n",
        "  print('TRY AGAIN')\n"
      ],
      "metadata": {
        "id": "UbfL5a-c2Cd2",
        "colab": {
          "base_uri": "https://localhost:8080/"
        },
        "outputId": "e0612639-e146-4d6e-8f1e-ebefb3148658"
      },
      "execution_count": null,
      "outputs": [
        {
          "output_type": "stream",
          "name": "stdout",
          "text": [
            "11\n",
            "OK\n"
          ]
        }
      ]
    },
    {
      "cell_type": "code",
      "source": [
        "n= int(input())\n",
        "if n >= 10:\n",
        "  print('OK')\n",
        "if n <= 10:\n",
        "  print('TRY AGAIN')"
      ],
      "metadata": {
        "colab": {
          "base_uri": "https://localhost:8080/"
        },
        "id": "oOpAUzmfrZxP",
        "outputId": "c0908f99-fbb9-41ec-e6a9-1b2ca0ceb950"
      },
      "execution_count": null,
      "outputs": [
        {
          "output_type": "stream",
          "name": "stdout",
          "text": [
            "3\n",
            "TRY AGAIN\n"
          ]
        }
      ]
    },
    {
      "cell_type": "markdown",
      "source": [
        "7. while문과 input() 메소드를 사용하여 숫자를 입력받은 후 그 숫자가 10 이상인 경우에는 'OK'가, 10 미만인 경우에는 'TRY AGAIN'이 출력되고 다시 입력창이 뜨도록 프로그래밍해주세요.\n"
      ],
      "metadata": {
        "id": "l0L9ebxtMzLh"
      }
    },
    {
      "cell_type": "code",
      "source": [
        "n = int(input())\n",
        "while True :\n",
        "  if n >= 10:\n",
        "    True\n",
        "    \n",
        "    print('OK')\n",
        "  if n <= 10:\n",
        "    True\n",
        "    \n",
        "    print('TRY AGAIN')\n",
        "  break"
      ],
      "metadata": {
        "id": "1W_1qJb-MAlT",
        "colab": {
          "base_uri": "https://localhost:8080/"
        },
        "outputId": "5f13e2a1-46e1-461e-c6a5-2ffc43510c22"
      },
      "execution_count": null,
      "outputs": [
        {
          "output_type": "stream",
          "name": "stdout",
          "text": [
            "2\n",
            "TRY AGAIN\n"
          ]
        }
      ]
    },
    {
      "cell_type": "code",
      "source": [
        "n = int(input())\n",
        "while True :\n",
        "  if n >= 10:\n",
        "    True\n",
        "    \n",
        "    print('OK')\n",
        "  if n <= 10:\n",
        "    True\n",
        "    \n",
        "    print('TRY AGAIN')\n",
        "  break"
      ],
      "metadata": {
        "colab": {
          "base_uri": "https://localhost:8080/"
        },
        "id": "v7C6hYeLsE20",
        "outputId": "b6dd1523-cee9-4154-c517-c95b76428bcf"
      },
      "execution_count": null,
      "outputs": [
        {
          "output_type": "stream",
          "name": "stdout",
          "text": [
            "1\n",
            "TRY AGAIN\n"
          ]
        }
      ]
    },
    {
      "cell_type": "markdown",
      "source": [
        "## 확인!"
      ],
      "metadata": {
        "id": "TMx3vmORsWah"
      }
    },
    {
      "cell_type": "code",
      "source": [
        "while True:\n",
        "  a = int(input())\n",
        "  if a >= 10:\n",
        "    print('OK')\n",
        "    break\n",
        "  else:\n",
        "    print('TRY AGAIN')"
      ],
      "metadata": {
        "id": "C-NUz3XftP1k",
        "colab": {
          "base_uri": "https://localhost:8080/"
        },
        "outputId": "d426c5c5-6195-416e-a1ab-04d5bbf2e70f"
      },
      "execution_count": null,
      "outputs": [
        {
          "output_type": "stream",
          "name": "stdout",
          "text": [
            "1\n",
            "TRY AGAIN\n",
            "24\n",
            "OK\n"
          ]
        }
      ]
    },
    {
      "cell_type": "markdown",
      "source": [
        "# 20211229"
      ],
      "metadata": {
        "id": "LJXrR_ktONS4"
      }
    },
    {
      "cell_type": "markdown",
      "source": [
        "1. if문을 활용하여 사용자로부터 입력 받은 시간이 정각인지를 판별하도록 만들어보세요.\n",
        "```\n",
        ">> 현재시간:02:00\n",
        "정각입니다.\n",
        ">> 현재시간:03:10\n",
        "정각이 아닙니다\n",
        "```"
      ],
      "metadata": {
        "id": "lbRjMFBxRXmd"
      }
    },
    {
      "cell_type": "code",
      "source": [
        "h = input()\n",
        "m = input()\n",
        "\n",
        "if m == 00 :\n",
        "  print('정각입니다.')\n",
        "\n",
        "if m != 00 :\n",
        "  print('정각이 아닙니다.')\n",
        "\n",
        "print ('현재시간:'+ h +':' + m)\n"
      ],
      "metadata": {
        "id": "H3rm-vH1bmOg",
        "colab": {
          "base_uri": "https://localhost:8080/"
        },
        "outputId": "79c7c536-5b29-46cc-fd2d-9229e2d31b0a"
      },
      "execution_count": null,
      "outputs": [
        {
          "output_type": "stream",
          "name": "stdout",
          "text": [
            "12\n",
            "12\n",
            "정각이 아닙니다.\n",
            "현재시간:12:12\n"
          ]
        }
      ]
    },
    {
      "cell_type": "markdown",
      "source": [
        "2. 아래 두 개의 리스트를 fruits라는 하나의 딕셔너리로 변환해주세요. alist를 키로, blist를 값으로 하는 result 이름의 딕셔너리로 저장 후 출력해보세요.\n",
        "```\n",
        "alist = ['사과', '바나나', '딸기']\n",
        "blist = ['Apple', 'Banana', 'Strawberry']\n",
        "```"
      ],
      "metadata": {
        "id": "Hi0EhrAnVrD2"
      }
    },
    {
      "cell_type": "markdown",
      "source": [
        "# 새 섹션"
      ],
      "metadata": {
        "id": "Lgs6rrGs_4wk"
      }
    },
    {
      "cell_type": "code",
      "source": [
        "alist = ['사과', '바나나', '딸기']\n",
        "blist = ['Apple', 'Banana', 'Strawberry']"
      ],
      "metadata": {
        "id": "QMSWXzDfVrD3"
      },
      "execution_count": null,
      "outputs": []
    },
    {
      "cell_type": "code",
      "source": [
        "alist = ['사과', '바나나', '딸기']\n",
        "blist = ['Apple', 'Banana', 'Strawberry']\n",
        "result = zip(alist,blist)\n",
        "mydict = dict(result)\n",
        "print(mydict)\n"
      ],
      "metadata": {
        "colab": {
          "base_uri": "https://localhost:8080/"
        },
        "outputId": "a9982aac-56bd-41c9-81ea-9075c01d7e61",
        "id": "wNX39jjuVrD3"
      },
      "execution_count": null,
      "outputs": [
        {
          "output_type": "stream",
          "name": "stdout",
          "text": [
            "{'사과': 'Apple', '바나나': 'Banana', '딸기': 'Strawberry'}\n"
          ]
        }
      ]
    },
    {
      "cell_type": "markdown",
      "source": [
        "3. 한영사전 만들기\n",
        "- 사용자가 입력한 과일이 fruits 딕셔너리의 key값에 있을 경우 해당 key의 value 값을, 없을 경우 '사전에 없는 단어입니다'를 출력하도록 프로그래밍하세요.\n",
        "\n"
      ],
      "metadata": {
        "id": "9ctXiOPtVwx0"
      }
    },
    {
      "cell_type": "code",
      "source": [
        "n = input()\n",
        "if n == mydict :\n",
        "  print(blist)\n",
        "if n != mydict :\n",
        "  print('사전에 없는 단어입니다.')"
      ],
      "metadata": {
        "id": "fQCy8FXjVzL1",
        "outputId": "4082da30-0c85-4411-9932-f9217a4162c9",
        "colab": {
          "base_uri": "https://localhost:8080/"
        }
      },
      "execution_count": null,
      "outputs": [
        {
          "output_type": "stream",
          "name": "stdout",
          "text": [
            "dd\n",
            "사전에 없는 단어입니다.\n"
          ]
        }
      ]
    },
    {
      "cell_type": "markdown",
      "source": [
        "4. 한영사전 만들기 II\n",
        "- 사용자가 입력한 과일이 fruits 딕셔너리의 key값에 있을 경우 해당 key의 value 값을, 없을 경우 '사전에 없는 단어입니다'를 출력 후 다시 입력창이 뜨도록 프로그래밍해주세요."
      ],
      "metadata": {
        "id": "7ZgkzM1zZt_T"
      }
    },
    {
      "cell_type": "code",
      "source": [
        "\n",
        "# 과일 단어 입력: 덜기\n",
        "# 사전에 없는 단어입니다. 다른 과일을 입력해주세요.\n",
        "# 과일 단어 입력: 딸기\n",
        "# Strawberry"
      ],
      "metadata": {
        "id": "PkpTA6QnAhGJ"
      },
      "execution_count": null,
      "outputs": []
    },
    {
      "cell_type": "code",
      "source": [
        "\n",
        "fruits = {'사과': 'Apple', '바나나': 'Banana', '딸기': 'Strawberry'}\n",
        "i = input(\"과일단어 입력:\")\n",
        "while i:\n",
        "  if i in fruits:\n",
        "      print(fruits.values())\n",
        "      break\n",
        "\n",
        "  else :\n",
        "      print(\"사전에 없는 단어입니다. 다른 과일을 입력해주세요.\")\n",
        "      break;\n",
        "      continue\n",
        "\n",
        "\n"
      ],
      "metadata": {
        "id": "cx_nt9J6ZoYM"
      },
      "execution_count": null,
      "outputs": []
    },
    {
      "cell_type": "code",
      "source": [
        ""
      ],
      "metadata": {
        "id": "XUSruwr2Map8"
      },
      "execution_count": null,
      "outputs": []
    },
    {
      "cell_type": "markdown",
      "source": [
        "# 20211231 \n",
        "- 장고 공부해주세요!"
      ],
      "metadata": {
        "id": "cf8u-4gOL2Qe"
      }
    },
    {
      "cell_type": "markdown",
      "source": [
        "# 20220101"
      ],
      "metadata": {
        "id": "0YAVKmFSgtUr"
      }
    },
    {
      "cell_type": "markdown",
      "source": [
        "1. 사용자로부터 문자 한 개를 입력 받고, 소문자일 경우 대문자로, 대문자의 경우, 소문자로 변경해서 출력해주세요."
      ],
      "metadata": {
        "id": "MiQD1mTaMe_z"
      }
    },
    {
      "cell_type": "code",
      "source": [
        "a = 'SIGNIN'\n",
        "b = 'signout'\n",
        "print(b.upper())\n",
        "print(a.lower())"
      ],
      "metadata": {
        "id": "5tWIUqZ7L7SK",
        "colab": {
          "base_uri": "https://localhost:8080/"
        },
        "outputId": "8fe1dd9a-7381-4d8a-b955-e907f074e27e"
      },
      "execution_count": null,
      "outputs": [
        {
          "output_type": "stream",
          "name": "stdout",
          "text": [
            "SIGNOUT\n",
            "signin\n"
          ]
        }
      ]
    },
    {
      "cell_type": "markdown",
      "source": [
        "2. 학점계산기 - 다음 표에는 점수 구간에 해당하는 학점이 기재되어 있습니다. input() 메소드를 사용하여 사용자로부터 score를 입력받고 점수에 맞는 학점을 출력하도록 프로그래밍해 주세요.\n",
        "\n",
        "~~~\n",
        "점수\t   학점\n",
        "81~100\tA\n",
        "61~80 \tB\n",
        "41~60     C\n",
        "21~40\t D\n",
        "0~20\t  E \n",
        "~~~"
      ],
      "metadata": {
        "id": "LE0TDB2IM7Xq"
      }
    },
    {
      "cell_type": "code",
      "source": [
        "score = int(input())\n",
        "\n",
        "if score >= 81:\n",
        "    grade = \"A\" \n",
        "elif score >= 61:\n",
        "    grade = \"B\"\n",
        "elif score >= 41:\n",
        "    grade = \"C\"\n",
        "elif score >= 21:\n",
        "    grade = \"D\"\n",
        "else:\n",
        "    grade = \"F\"\n",
        "\n",
        "print(grade)"
      ],
      "metadata": {
        "id": "P_vA-i6GMnN1",
        "colab": {
          "base_uri": "https://localhost:8080/"
        },
        "outputId": "a052313f-1703-464e-fe48-9a84ffe55812"
      },
      "execution_count": null,
      "outputs": [
        {
          "output_type": "stream",
          "name": "stdout",
          "text": [
            "54\n",
            "C\n"
          ]
        }
      ]
    },
    {
      "cell_type": "markdown",
      "source": [
        "3. input() 메소드를 활용하여 사용자로부터 세 개의 숫자를 입력 받은 후 가장 큰 숫자를 출력하도록 프로그래밍해주세요.\n",
        "\n"
      ],
      "metadata": {
        "id": "7lg4knTqtbwH"
      }
    },
    {
      "cell_type": "code",
      "source": [
        "m= int(input())\n",
        "b= int(input())\n",
        "c= int(input())\n",
        "print(max(m,b,c))"
      ],
      "metadata": {
        "id": "yAgKbo7-b5HL",
        "colab": {
          "base_uri": "https://localhost:8080/"
        },
        "outputId": "e9436aec-4647-498f-8486-86288c300bd3"
      },
      "execution_count": null,
      "outputs": [
        {
          "output_type": "stream",
          "name": "stdout",
          "text": [
            "3\n",
            "2\n",
            "1\n",
            "3\n"
          ]
        }
      ]
    },
    {
      "cell_type": "markdown",
      "source": [
        "4. 원화 환전기\n",
        "- 아래 링크를 참조하여 사용자로부터 달러, 엔, 유로, 또는 위안 금액을 입력받은 후 이를 원으로 변환하는 프로그램을 만들어보세요.\n",
        "\n",
        "- 사용자는 1 달러, 100 엔, 10 유로, 113 위안처럼 금액과 통화명 사이에 공백을 넣어 입력하며 한글로 입력합니다. (힌트: 딕셔너리 사용)\n",
        "\n",
        "https://search.naver.com/search.naver?where=nexearch&sm=top_hty&fbm=0&ie=utf8&query=%ED%99%98%EC%9C%A8"
      ],
      "metadata": {
        "id": "Y5Bh6J6Bt5Ht"
      }
    },
    {
      "cell_type": "code",
      "source": [
        ""
      ],
      "metadata": {
        "id": "aYTjIMTutmAG"
      },
      "execution_count": null,
      "outputs": []
    },
    {
      "cell_type": "markdown",
      "source": [
        "5. 원화 환전기\n",
        "- 아래 링크를 참조하여 사용자로부터 달러, 엔, 유로, 또는 위안 금액을 입력받은 후 이를 원으로 변환하는 프로그램을 만들어보세요.\n",
        "\n",
        "- 사용자는 1 달러, 100 엔, 10 유로, 113 위안처럼 금액과 통화명 사이에 공백을 넣어 입력하며 한글 혹은 약어(USD, JPY)로 입력합니다. (힌트: if문 사용)\n",
        "\n",
        "https://search.naver.com/search.naver?where=nexearch&sm=top_hty&fbm=0&ie=utf8&query=%ED%99%98%EC%9C%A8"
      ],
      "metadata": {
        "id": "3X9nS6yvpg_C"
      }
    },
    {
      "cell_type": "markdown",
      "source": [
        "# 20220102"
      ],
      "metadata": {
        "id": "sqpSGzpqFkMy"
      }
    },
    {
      "cell_type": "code",
      "source": [
        ""
      ],
      "metadata": {
        "id": "h08XA8Rrpl_L"
      },
      "execution_count": null,
      "outputs": []
    },
    {
      "cell_type": "markdown",
      "source": [
        "1. 응답하라 1998\n",
        "- 휴대폰 번호 앞자리에 따라 통신사가 아래와 같이 구분되던 시절이 있었습니다. 사용자로부터 휴대전화 번호를 입력 받고, 통신사를 출력하는 프로그램을 작성해보세요. 입력받을 때 '-'기호는 넣거나 말거나 영향을 미치지 않습니다.\n",
        "\n",
        "~~~\n",
        "번호\t통신사\n",
        "011\tSKT\n",
        "016\tKT\n",
        "019\tLGU\n",
        "010\t알수없음\n"
      ],
      "metadata": {
        "id": "GXk85bC9FRT1"
      }
    },
    {
      "cell_type": "code",
      "source": [
        "n = input()\n",
        "num = n.split(' ')\n",
        "print(f\"당신은 {num} 사용자입니다.\")\n",
        "\n",
        "\n"
      ],
      "metadata": {
        "id": "34VPZT6Yt_Pm"
      },
      "execution_count": null,
      "outputs": []
    },
    {
      "cell_type": "markdown",
      "source": [
        "2. 아래의 for문을 풀어서 for문 없이 동일한 동작을 하는 코드를 작성해보세요.\n",
        "\n",
        "~~~\n",
        "for a in [\"A\", \"B\", \"C\"]:\n",
        "  b = a.lower()\n",
        "  print(\"변환:\", b)\n",
        "~~~"
      ],
      "metadata": {
        "id": "6NpUuxywv6EG"
      }
    },
    {
      "cell_type": "code",
      "source": [
        "for a in [\"A\", \"B\", \"C\"]:\n",
        "  b = a.lower()\n",
        "  print(\"변환:\", b)"
      ],
      "metadata": {
        "colab": {
          "base_uri": "https://localhost:8080/"
        },
        "id": "DWF5_xKYtqVa",
        "outputId": "ce8d7c94-b83a-495b-f1ba-8a3b6c53f585"
      },
      "execution_count": null,
      "outputs": [
        {
          "output_type": "stream",
          "name": "stdout",
          "text": [
            "변환: a\n",
            "변환: b\n",
            "변환: c\n"
          ]
        }
      ]
    },
    {
      "cell_type": "markdown",
      "source": [
        "## 확인!"
      ],
      "metadata": {
        "id": "eJJHE_gegoZC"
      }
    },
    {
      "cell_type": "code",
      "source": [
        "a = \"A\"\n",
        "b = a.lower()\n",
        "print(\"변환:\", b)\n",
        "a = \"B\"\n",
        "b = a.lower()\n",
        "print(\"변환:\", b)\n",
        "a = \"C\"\n",
        "b = a.lower()\n",
        "print(\"변환:\", b)"
      ],
      "metadata": {
        "colab": {
          "base_uri": "https://localhost:8080/"
        },
        "id": "B3VS99fWgp5p",
        "outputId": "94c0c100-fed9-49d0-8776-b4c161765376"
      },
      "execution_count": null,
      "outputs": [
        {
          "output_type": "stream",
          "name": "stdout",
          "text": [
            "변환: a\n",
            "변환: b\n",
            "변환: c\n"
          ]
        }
      ]
    },
    {
      "cell_type": "code",
      "source": [
        "var sum = 0, # 합계를 저장할 변수\n",
        "        i   = 1; # 카운터 변수\n",
        "while(i <= 10) {\n",
        "    sum += i;\n",
        "    i++;\n",
        "}\n"
      ],
      "metadata": {
        "id": "N_Dat7_fFaJ3",
        "colab": {
          "base_uri": "https://localhost:8080/",
          "height": 131
        },
        "outputId": "d5165b1a-a4b9-472d-c4ad-02c88d5254cd"
      },
      "execution_count": null,
      "outputs": [
        {
          "output_type": "error",
          "ename": "SyntaxError",
          "evalue": "ignored",
          "traceback": [
            "\u001b[0;36m  File \u001b[0;32m\"<ipython-input-2-eba92c0353db>\"\u001b[0;36m, line \u001b[0;32m1\u001b[0m\n\u001b[0;31m    var sum = 0, # 합계를 저장할 변수\u001b[0m\n\u001b[0m          ^\u001b[0m\n\u001b[0;31mSyntaxError\u001b[0m\u001b[0;31m:\u001b[0m invalid syntax\n"
          ]
        }
      ]
    },
    {
      "cell_type": "markdown",
      "source": [
        "3. 다음 코드를 for문으로 작성해 보세요.\n",
        "~~~\n",
        "a = 10\n",
        "print(a)\n",
        "a = 20\n",
        "print(a)\n",
        "a = 30\n",
        "print(a)"
      ],
      "metadata": {
        "id": "ZgHNyql-9YQa"
      }
    },
    {
      "cell_type": "code",
      "source": [
        "n = input()\n",
        "for a in n:\n",
        "  if a == 10 :\n",
        "    print(a)\n",
        "  if a == 20 :\n",
        "    print(a)\n",
        "  if a == 30 :\n",
        "    print(a)"
      ],
      "metadata": {
        "id": "xWsRDZTLwOPY"
      },
      "execution_count": null,
      "outputs": []
    },
    {
      "cell_type": "markdown",
      "source": [
        "4. 다음 코드를 for문으로 작성해주세요.\n",
        "```\n",
        "print('1번 끝')\n",
        "print(\"-------\")\n",
        "print('2번 끝')\n",
        "print(\"-------\")\n",
        "print('3번 끝')\n",
        "print(\"-------\")\n",
        "```"
      ],
      "metadata": {
        "id": "Kk-upVAS_3T6"
      }
    },
    {
      "cell_type": "code",
      "source": [
        "for continue:\n",
        "  \n",
        "print('1번 끝')\n",
        "print(\"-------\")\n",
        "print('2번 끝')\n",
        "print(\"-------\")\n",
        "print('3번 끝')\n",
        "print(\"-------\")"
      ],
      "metadata": {
        "id": "c_mqK2ZTr433"
      },
      "execution_count": null,
      "outputs": []
    },
    {
      "cell_type": "code",
      "source": [
        "연지선생님 \n",
        "제가.. 이번 연휴 내내 여수에 다녀오느라 다 풀지 못했습니다.\n",
        "1월 3일 문제 내주시는 것까지 하겠습니다. \n",
        "\n",
        "- 넵 알겠습니다! 푹 쉬고 오셨다니 다행이네요\n",
        "올 한해도 화이팅입니다!!!!"
      ],
      "metadata": {
        "id": "p_OP_jph9nq1"
      },
      "execution_count": null,
      "outputs": []
    },
    {
      "cell_type": "code",
      "source": [
        ""
      ],
      "metadata": {
        "id": "iTOZLSwlhhQg"
      },
      "execution_count": null,
      "outputs": []
    },
    {
      "cell_type": "markdown",
      "source": [
        "# 20220103\n",
        "\n",
        "1. 신년세일\n",
        "- 연지상회에서는 아래 리스트에 있는 물품들을 20% 할인된 가격으로 판매하려고 합니다. 반복문을 활용하여 각각의 할인가격이 출력되도록 프로그래밍해주세요.\n",
        "\n",
        "~~~\n",
        "연필  |  500원\n",
        "공책  | 1200원\n",
        "신발  | 58000원\n",
        "~~~\n"
      ],
      "metadata": {
        "id": "Ya8kHqgtm4Hg"
      }
    },
    {
      "cell_type": "code",
      "source": [
        ""
      ],
      "metadata": {
        "id": "FHmshvIdASHm"
      },
      "execution_count": null,
      "outputs": []
    },
    {
      "cell_type": "code",
      "source": [
        ""
      ],
      "metadata": {
        "id": "EuPcnPxUneJa"
      },
      "execution_count": null,
      "outputs": []
    },
    {
      "cell_type": "markdown",
      "source": [
        "2. 반복문과 조건문을 사용하여 아래의 리스트에서 음수만을 출력하세요.\n",
        "~~~\n",
        "list1 = [-2, 1, 4, -88, 12, -12]\n",
        "~~~"
      ],
      "metadata": {
        "id": "Pu5wc896pG6H"
      }
    },
    {
      "cell_type": "code",
      "source": [
        "list1 = [-2, 1, 4, -88, 12, -12]"
      ],
      "metadata": {
        "id": "cn8jC43-pRPo"
      },
      "execution_count": null,
      "outputs": []
    },
    {
      "cell_type": "code",
      "source": [
        ""
      ],
      "metadata": {
        "id": "Sd-_EIGzpWiR"
      },
      "execution_count": null,
      "outputs": []
    },
    {
      "cell_type": "markdown",
      "source": [
        "3. 반복문과 조건문을 사용하여 아래 리스트에서 3의 배수만을 출력하세요.\n",
        "~~~\n",
        "list1 = [3, 33, 100, 23, 81, 44]\n",
        "~~~"
      ],
      "metadata": {
        "id": "hdoBUIX8pqrI"
      }
    },
    {
      "cell_type": "code",
      "source": [
        "list1 = [3, 33, 100, 23, 81, 44]"
      ],
      "metadata": {
        "id": "99h9aX2Ep6hg"
      },
      "execution_count": null,
      "outputs": []
    },
    {
      "cell_type": "code",
      "source": [
        ""
      ],
      "metadata": {
        "id": "iYrWmXKVp-MG"
      },
      "execution_count": null,
      "outputs": []
    },
    {
      "cell_type": "markdown",
      "source": [
        "4. 반복문과 조건문을 사용하여 아래 리스트에서 50미만의 3의 배수만을 출력하세요.\n",
        "\n",
        "~~~\n",
        "list1 = [3, 33, 100, 23, 81, 44]\n",
        "~~~\n"
      ],
      "metadata": {
        "id": "tQyOTLtXqFlq"
      }
    },
    {
      "cell_type": "code",
      "source": [
        ""
      ],
      "metadata": {
        "id": "kFVJhaR9qPJr"
      },
      "execution_count": null,
      "outputs": []
    },
    {
      "cell_type": "markdown",
      "source": [
        "5. 아래 리스트의 각 동물이름의 첫 글자를 대문자로 변경해서 출력해보세요.\n",
        "~~~\n",
        "list1 = ['dog', 'cat', 'rabbit']\n",
        "~~~"
      ],
      "metadata": {
        "id": "X7YimfETqio1"
      }
    },
    {
      "cell_type": "code",
      "source": [
        ""
      ],
      "metadata": {
        "id": "-GA8UL2xq371"
      },
      "execution_count": null,
      "outputs": []
    },
    {
      "cell_type": "code",
      "source": [
        ""
      ],
      "metadata": {
        "id": "VyvFpa6UrD7Z"
      },
      "execution_count": null,
      "outputs": []
    },
    {
      "cell_type": "code",
      "source": [
        ""
      ],
      "metadata": {
        "id": "zXbAJbjLrRcg"
      },
      "execution_count": null,
      "outputs": []
    },
    {
      "cell_type": "markdown",
      "source": [
        "6. 아래의 파일목록에서 확장자가 exe이거나 py인 파일만을 찾아 출력해보세요.\n",
        "```\n",
        "files = ['manage.py', 'run.exe', 'urls.py', 'run.bat']\n",
        "    ```"
      ],
      "metadata": {
        "id": "8HkRPIrCrc5h"
      }
    },
    {
      "cell_type": "code",
      "source": [
        ""
      ],
      "metadata": {
        "id": "aJLnD9Ieruqd"
      },
      "execution_count": null,
      "outputs": []
    },
    {
      "cell_type": "code",
      "source": [
        ""
      ],
      "metadata": {
        "id": "A_FRxS6vmT9J"
      },
      "execution_count": null,
      "outputs": []
    }
  ]
}